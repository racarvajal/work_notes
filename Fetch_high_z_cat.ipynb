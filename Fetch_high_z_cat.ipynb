{
 "cells": [
  {
   "cell_type": "markdown",
   "metadata": {},
   "source": [
    "# Code to gather data from $z > 5.5$ QSOs.\n",
    "\n",
    "We want to obtain data from several surveys and catalogs in order to  \n",
    "manipulate them and try to obtain meaningful correlations."
   ]
  },
  {
   "cell_type": "markdown",
   "metadata": {},
   "source": [
    "First, we import the packages to be used"
   ]
  },
  {
   "cell_type": "markdown",
   "metadata": {},
   "source": [
    "To get the first line working, you need  \n",
    "to run the following lines:\n",
    "\n",
    "```bash\n",
    " conda install nodejs\n",
    " pip install ipympl\n",
    " pip install --upgrade jupyterlab\n",
    " jupyter labextension install @jupyter-widgets/jupyterlab-manager\n",
    " jupyter labextension install jupyter-matplotlib\n",
    " jupyter nbextension enable --py widgetsnbextension\n",
    " ```"
   ]
  },
  {
   "cell_type": "code",
   "execution_count": 1,
   "metadata": {},
   "outputs": [],
   "source": [
    "%matplotlib inline\n",
    "# Static plots\n",
    "#%matplotlib ipympl\n",
    "# Interactive plots\n",
    "import numpy as np\n",
    "# import matplotlib.cm as cm\n",
    "# import matplotlib.pyplot as plt\n",
    "# import matplotlib.colors as mcolors\n",
    "# import matplotlib.patheffects as mpe\n",
    "# import matplotlib.patheffects as path_effects\n",
    "# from matplotlib.ticker import FormatStrFormatter\n",
    "# from matplotlib.patches import Polygon\n",
    "from astropy.io import fits\n",
    "from astropy.table import Table\n",
    "from astropy.table import Column\n",
    "from astropy.table import MaskedColumn\n",
    "from astropy.table import hstack\n",
    "from astropy.table import vstack\n",
    "from astropy.table import join\n",
    "from astropy.wcs import WCS\n",
    "from astropy import units as u\n",
    "# from astropy.visualization import hist\n",
    "from astropy.coordinates import SkyCoord\n",
    "from astroquery.simbad import Simbad\n",
    "from astroquery.ned import Ned\n",
    "import getpass\n",
    "import progressbar"
   ]
  },
  {
   "cell_type": "markdown",
   "metadata": {},
   "source": [
    "One function, to derive luminosity distances"
   ]
  },
  {
   "cell_type": "code",
   "execution_count": 2,
   "metadata": {},
   "outputs": [],
   "source": [
    "def luminosity_distance(z_i, H0=70., WM=0.3, WV=0.7):\n",
    "    z_i   = np.array([z_i], dtype='float64').flatten()\n",
    "    c     = 299792.458 # velocity of light in km/sec\n",
    "    h     = H0 / 100.\n",
    "    WR    = 4.165E-5 / (h * h)   # includes 3 massless neutrino species, T0 = 2.72528\n",
    "    WK    = 1 - WM - WR - WV\n",
    "    azs   = 1.0 / (1 + z_i)\n",
    "    DTT   = 0.0\n",
    "    DCMR  = 0.0\n",
    "    # do integral over a=1/(1+z) from az to 1 in n steps, midpoint rule\n",
    "    n     = 1000  # number of points in integrals\n",
    "    DL_Mpcs = np.zeros_like(z_i)\n",
    "    for count, az in enumerate(azs):\n",
    "        a     = az + (1 - az) * (np.arange(0, n) + 0.5) / n\n",
    "        adot  = np.sqrt(WK + (WM / a) + (WR / (a * a)) + (WV * a * a))\n",
    "        for i in range(n):\n",
    "            # a    = az + (1 - az) * (i + 0.5) / n\n",
    "            # adot = math.sqrt(WK + (WM / a) + (WR / (a * a)) + (WV * a * a))\n",
    "            DTT  = DTT + 1. / adot[i]\n",
    "            DCMR = DCMR + 1. / (a[i] * adot[i])\n",
    "        DTT   = (1. - az) * DTT / n\n",
    "        DCMR  = (1. - az) * DCMR / n\n",
    "        # tangential comoving distance\n",
    "        ratio = 1.00\n",
    "        x     = np.sqrt(abs(WK)) * DCMR\n",
    "        if x > 0.1:\n",
    "            if WK > 0:\n",
    "                ratio =  0.5 * (np.exp(x) - np.exp(-x)) / x \n",
    "            else:\n",
    "                ratio = np.sin(x) / x\n",
    "        else:\n",
    "            y = x * x\n",
    "        if WK < 0: y = -y\n",
    "        ratio  = 1. + y / 6. + y * y / 120.\n",
    "        DCMT   = ratio * DCMR\n",
    "        DA     = az * DCMT\n",
    "        DL     = DA / (az * az)\n",
    "        DL_Mpc = (c / H0) * DL\n",
    "        DL_Mpcs[count] = DL_Mpc\n",
    "    return DL_Mpcs"
   ]
  },
  {
   "cell_type": "markdown",
   "metadata": {},
   "source": [
    "Define the spectral index $\\alpha$ from different sources  \n",
    "to be used in the luminosity calculations (K-correction)"
   ]
  },
  {
   "cell_type": "code",
   "execution_count": 3,
   "metadata": {},
   "outputs": [],
   "source": [
    "alpha_first = 0.5  # From FIRST data (Bornancini+2010)\n",
    "alpha_RG    = 1.0  # For radio galaxies (Verkhodanov & Khabibullina, 2010)\n",
    "alpha_alex  = 0.8  # Star-forming galaxies (Alexander+2003)\n",
    "alpha_smol  = 0.7  # Mean value from VLA-COSMOS 3GHz sample (Smolčić et al. 2017)\n",
    "alpha_butl  = 0.75  # From Butler et al., 2018"
   ]
  },
  {
   "cell_type": "markdown",
   "metadata": {},
   "source": [
    "Choose one of the spectral indexes"
   ]
  },
  {
   "cell_type": "code",
   "execution_count": 4,
   "metadata": {},
   "outputs": [],
   "source": [
    "alpha_used  = alpha_butl"
   ]
  },
  {
   "cell_type": "markdown",
   "metadata": {},
   "source": [
    "---"
   ]
  },
  {
   "cell_type": "markdown",
   "metadata": {},
   "source": [
    "### Reading data"
   ]
  },
  {
   "cell_type": "markdown",
   "metadata": {},
   "source": [
    "Next step, reading our data.  \n",
    "Most of the data files have been created using Topcat"
   ]
  },
  {
   "cell_type": "code",
   "execution_count": 5,
   "metadata": {},
   "outputs": [],
   "source": [
    "machine  = getpass.getuser()\n",
    "# cat_path = '/home/' + machine + '/Documentos/Data/'\n",
    "cat_path = ''  # relative path to the same directory"
   ]
  },
  {
   "cell_type": "markdown",
   "metadata": {},
   "source": [
    "Read data from FIRST+MILLIQUAS catalogs cross-matched.  \n",
    "\n",
    "**MILLIQUAS + FIRST (SDSS)**   \n",
    "\n",
    "Redshift values have been retrieved from the column `pipeline_redshift` in SDSS DR12  \n",
    "The procedure to obtain these values is explained in **Bolton+2012**  \n",
    "\n",
    "We also select sources with have explicitely data in both SDSS Quasar Catalog and  \n",
    "in the FIRST survey (`first_match_flag = 1`).  \n",
    "\n",
    "In order to get only the best redshift values, we select sources with  \n",
    "`pipeline_redshift_flag = 0`.\n",
    "\n",
    "Thus, we can use 9161 objects from the catalog."
   ]
  },
  {
   "cell_type": "code",
   "execution_count": 6,
   "metadata": {},
   "outputs": [],
   "source": [
    "#hdu_list = fits.open(cat_path + 'tables_matches_milli_sdss_apr.fits');\n",
    "#sdss_milli  = Table(hdu_list[1].data);\n",
    "#hdu_list.close();\n",
    "\n",
    "sdss_milli = Table.read(cat_path + 'tables_matches_milli_sdss_apr.fits')\n",
    "\n",
    "L_14GHz_filter = np.array((sdss_milli['L_14GHz'] > 0.0) * (sdss_milli['first_offset'] < 1.0)) ;  # sdss + milliquasar"
   ]
  },
  {
   "cell_type": "markdown",
   "metadata": {},
   "source": [
    "We load data from the VLA-COSMOS 3 GHz Large Project\n",
    "**Smolčić et al. 2017**\n",
    "\n",
    "We can, also, separate sources which have an AGN X-ray counterpart\n",
    "with the flag `cosm_xray_flag`"
   ]
  },
  {
   "cell_type": "code",
   "execution_count": 7,
   "metadata": {},
   "outputs": [],
   "source": [
    "# hdu_cosmos          = fits.open(cat_path + 'vla_xmmcosmos_smolcic.fits')\n",
    "# cosmos_data         = Table(hdu_cosmos[1].data)\n",
    "# hdu_cosmos.close()\n",
    "\n",
    "cosmos_data         = Table.read(cat_path + 'vla_xmmcosmos_smolcic.fits')\n",
    "\n",
    "x_ray_flag          = cosmos_data['cosm_xray_flag']\n",
    "redshift_cosmos     = cosmos_data['cosm_z']\n",
    "redshift_cosmos[~np.isfinite(redshift_cosmos)] = 0.0  # Repair NaN values\n",
    "int_14GHz_cosmos    = cosmos_data['cosm_lum_14ghz']  # Using their own spectral indices\n",
    "cosmos_3GHz_flux    = cosmos_data['cosm_f_3ghz']  # mJy\n",
    "cosmos_3GHz_flux_e  = cosmos_data['cosm_f_3ghz_err']\n",
    "cosmos_3GHz_flux_e[~np.isfinite(cosmos_3GHz_flux_e)] = 0.0  # Repair NaN values\n",
    "cosmos_14GHz_flux   = cosmos_3GHz_flux_e * (3/1.4)**alpha_used\n",
    "cosmos_14GHz_flux[~np.isfinite(cosmos_14GHz_flux)] = 0.0  # Repair NaN values\n",
    "cosmos_14GHz_flux_e = np.abs(cosmos_14GHz_flux) * cosmos_3GHz_flux_e / cosmos_3GHz_flux\n",
    "lum_dist_cosmos     = cosmos_data['D_lum']  # in m\n",
    "lum_dist_cosmos[~np.isfinite(lum_dist_cosmos)] = 0.0  # Repair NaN values\n",
    "\n",
    "redshift_cosmos_x   = cosmos_data['cosm_z'][(cosmos_data['cosm_z'] > 0) * (cosmos_data['cosm_xray_flag'] == 'T')]\n",
    "int_14GHz_cosmos_x  = cosmos_data['cosm_lum_14ghz'][(cosmos_data['cosm_z'] > 0) * (cosmos_data['cosm_xray_flag'] == 'T')]"
   ]
  },
  {
   "cell_type": "markdown",
   "metadata": {},
   "source": [
    "We want, also, to add $z > 6$ QSOs from the list in  \n",
    "Table 3 in the review of **Inayoshi, Visbal, and Haiman, 2020**.  \n",
    "Six of them have $z > 7$\n",
    "\n",
    "Not all of them have $1.4$ GHz measurements. Others have  \n",
    "measurements in different frequencies which can be translated  \n",
    "into the desired frequency using, for instance, the relation  \n",
    "from **Butler et al., 2018**:\n",
    "\n",
    "$$S_{a} = S_{b} \\times (\\frac{\\nu_{b}}{\\nu_{a}})^{\\alpha}$$  \n",
    "\n",
    "We load the data from these sources. Fluxes from different frequencies than $1.4$ GHz are translated to the needed value."
   ]
  },
  {
   "cell_type": "code",
   "execution_count": 8,
   "metadata": {},
   "outputs": [],
   "source": [
    "high_z_ra        = np.char.replace(np.loadtxt(cat_path + 'high_z_qso_props.csv', usecols=[1],  dtype='str', delimiter=';'), ',', '.').astype(np.float)\n",
    "high_z_dec       = np.char.replace(np.loadtxt(cat_path + 'high_z_qso_props.csv', usecols=[2],  dtype='str', delimiter=';'), ',', '.').astype(np.float)\n",
    "high_z_zs        = np.char.replace(np.loadtxt(cat_path + 'high_z_qso_props.csv', usecols=[3],  dtype='str', delimiter=';'), ',', '.').astype(np.float)\n",
    "high_z_zs_e      = np.char.replace(np.loadtxt(cat_path + 'high_z_qso_props.csv', usecols=[4],  dtype='str', delimiter=';'), ',', '.').astype(np.float)\n",
    "high_z_14GHz     = np.char.replace(np.loadtxt(cat_path + 'high_z_qso_props.csv', usecols=[6],  dtype='str', delimiter=';'), ',', '.').astype(np.float)\n",
    "high_z_14GHz_e   = np.char.replace(np.loadtxt(cat_path + 'high_z_qso_props.csv', usecols=[7],  dtype='str', delimiter=';'), ',', '.').astype(np.float)\n",
    "high_z_3GHz      = np.char.replace(np.loadtxt(cat_path + 'high_z_qso_props.csv', usecols=[8],  dtype='str', delimiter=';'), ',', '.').astype(np.float)\n",
    "high_z_3GHz_e    = np.char.replace(np.loadtxt(cat_path + 'high_z_qso_props.csv', usecols=[9],  dtype='str', delimiter=';'), ',', '.').astype(np.float)\n",
    "high_z_15GHz     = np.char.replace(np.loadtxt(cat_path + 'high_z_qso_props.csv', usecols=[10], dtype='str', delimiter=';'), ',', '.').astype(np.float)\n",
    "high_z_15GHz_e   = np.char.replace(np.loadtxt(cat_path + 'high_z_qso_props.csv', usecols=[11], dtype='str', delimiter=';'), ',', '.').astype(np.float)\n",
    "high_z_250GHz    = np.char.replace(np.loadtxt(cat_path + 'high_z_qso_props.csv', usecols=[12], dtype='str', delimiter=';'), ',', '.').astype(np.float)\n",
    "high_z_250GHz_e  = np.char.replace(np.loadtxt(cat_path + 'high_z_qso_props.csv', usecols=[13], dtype='str', delimiter=';'), ',', '.').astype(np.float)\n",
    "high_z_mass_1450 = np.char.replace(np.loadtxt(cat_path + 'high_z_qso_props.csv', usecols=[14], dtype='str', delimiter=';'), ',', '.').astype(np.float)\n",
    "high_z_names     = np.loadtxt('high_z_qso_props.csv', usecols=[0], dtype='str', delimiter=';')\n",
    "high_z_lum_d     = luminosity_distance(high_z_zs) * 3.086e22  # in m\n",
    "high_z_up_lim    = np.array([val == '<' for val in np.loadtxt('high_z_qso_props.csv', usecols=[5], dtype='str', delimiter=';')])"
   ]
  },
  {
   "cell_type": "markdown",
   "metadata": {},
   "source": [
    "Accumulate values into one array except 250GHz data.  \n",
    "Millimetre luminosities will be used separately since we cannot be completely  \n",
    "sure that they represent, fully, non-thermal emission (from AGN) and not dust."
   ]
  },
  {
   "cell_type": "code",
   "execution_count": 9,
   "metadata": {},
   "outputs": [],
   "source": [
    "high_z_14   = high_z_14GHz + high_z_3GHz + high_z_15GHz\n",
    "high_z_14_e = high_z_14GHz_e + high_z_3GHz_e + high_z_15GHz_e"
   ]
  },
  {
   "cell_type": "markdown",
   "metadata": {},
   "source": [
    "To complement the dataset, we also load four $z > 5.5$ sources which  \n",
    "come from the `radio` catalog in the `Heasarc` database.  \n",
    "We queried the objects which have $1.4$ GHz observations that  \n",
    "are within a $2.5$ arcsec of an object from the `SDSS QUASAR DR12`  \n",
    "catalog. We discard the sources that are already included in the `FIRST`  \n",
    "catalog, to avoid repetition."
   ]
  },
  {
   "cell_type": "markdown",
   "metadata": {},
   "source": [
    "To enlarge the size of the sample, we can also query  \n",
    "the same sample, but extending the redshift range to all positive  \n",
    "values. We can include, too, the exclusion of ***low quality*** redshift_values (or not)."
   ]
  },
  {
   "cell_type": "code",
   "execution_count": 10,
   "metadata": {},
   "outputs": [],
   "source": [
    "# hdu_radio_z_55       = fits.open(cat_path + 'radio_cat_sdss_z_55.fits');  # high redshift\n",
    "# hdu_radio_z_all_spec = fits.open(cat_path + 'radio_cat_sdss_z_all_spec.fits');  # all redshift, high z quality\n",
    "#hdu_radio_z_all_all  = fits.open(cat_path + 'radio_cat_sdss_z_all_all.fits');  # all redshift, all z quality\n",
    "# radio_sources        = Table(hdu_radio_z_55[1].data);\n",
    "# radio_sources        = Table(hdu_radio_z_all_spec[1].data);\n",
    "# hdu_radio_z_55.close();\n",
    "# hdu_radio_z_all_spec.close();\n",
    "# hdu_radio_z_all_all.close();\n",
    "\n",
    "# radio_sources        = Table.read(cat_path + 'radio_cat_sdss_z_55_spec.fits')       # high redshift\n",
    "radio_sources        = Table.read(cat_path + 'radio_cat_sdss_z_all_spec.fits')      # all redshift, high z quality\n",
    "# radio_sources        = Table.read(cat_path + 'radio_cat_sdss_z_all_all_spec.fits')  # all redshift, all z quality"
   ]
  },
  {
   "cell_type": "markdown",
   "metadata": {},
   "source": [
    "---"
   ]
  },
  {
   "cell_type": "markdown",
   "metadata": {},
   "source": [
    "### Calculate luminosities"
   ]
  },
  {
   "cell_type": "markdown",
   "metadata": {},
   "source": [
    "Calculate luminosities (in W/Hz) for different datasets  \n",
    "using the expression\n",
    "\n",
    "$$L_{1.4\\mathrm{GHz}} = 4 \\pi \\mathrm{d}^{2}_{L} f_{1.4\\mathrm{GHz}} (1 + z)^{\\alpha - 1}$$\n",
    "\n",
    "which comes from Alexander et al. 2003\n",
    "\n",
    "We can also obtain that luminosity from the flux in $3$ GHz as\n",
    "\n",
    "$$L_{1.4\\mathrm{GHz}} = 4 \\pi \\mathrm{d}^{2}_{L} {(\\frac{3}{1.4})}^{\\alpha} f_{3\\mathrm{GHz}} (1 + z)^{\\alpha - 1}$$\n",
    "\n",
    "This expression comes from Delhaize et al. 2017."
   ]
  },
  {
   "cell_type": "code",
   "execution_count": 11,
   "metadata": {},
   "outputs": [],
   "source": [
    "L_21cm           = 4 * np.pi * (sdss_milli['D_lum'][L_14GHz_filter])**2 * sdss_milli['flux_20_cm'][L_14GHz_filter] * 1e-3 * 1e-26 * (1 + sdss_milli['redshift'][L_14GHz_filter])**(alpha_used - 1)\n",
    "L_21cm_e         = np.abs(L_21cm) / sdss_milli['snr_20_cm'][L_14GHz_filter]"
   ]
  },
  {
   "cell_type": "code",
   "execution_count": 12,
   "metadata": {},
   "outputs": [],
   "source": [
    "L_21cm_radio     = 4 * np.pi * (radio_sources['D_lum'])**2 * radio_sources['radio_flux'] * 1e-3 * 1e-26 * (1 + radio_sources['sdss_z'])**(alpha_used - 1)\n",
    "L_21cm_radio_e   = np.abs(L_21cm_radio) * radio_sources['radio_flux_err'] / radio_sources['radio_flux']"
   ]
  },
  {
   "cell_type": "code",
   "execution_count": 13,
   "metadata": {},
   "outputs": [
    {
     "name": "stderr",
     "output_type": "stream",
     "text": [
      "/Users/rcarvajalp/.anaconda3/lib/python3.7/site-packages/ipykernel_launcher.py:2: RuntimeWarning: invalid value encountered in true_divide\n",
      "  \n"
     ]
    }
   ],
   "source": [
    "L_14GHz_cosmos   = 4 * np.pi * (lum_dist_cosmos)**2 * cosmos_14GHz_flux * 1e-3 * 1e-26 * (1 + redshift_cosmos)**(alpha_used - 1)\n",
    "L_14GHz_cosmos_e = np.abs(L_14GHz_cosmos) * cosmos_14GHz_flux_e / cosmos_14GHz_flux;\n",
    "L_14GHz_cosmos_e[~np.isfinite(L_14GHz_cosmos_e)] = 0.0  # Repair (make zero) error values"
   ]
  },
  {
   "cell_type": "code",
   "execution_count": 14,
   "metadata": {},
   "outputs": [],
   "source": [
    "high_z_lum_14    = 4 * np.pi * high_z_lum_d**2 * high_z_14GHz  * 1e-6 * 1e-26 * (1 + high_z_zs)**(alpha_used - 1)\n",
    "high_z_lum_3     = 4 * np.pi * high_z_lum_d**2 * high_z_3GHz   * 1e-6 * 1e-26 * (1 + high_z_zs)**(alpha_used - 1) * (3/1.4)**alpha_used\n",
    "high_z_lum_15    = 4 * np.pi * high_z_lum_d**2 * high_z_15GHz  * 1e-6 * 1e-26 * (1 + high_z_zs)**(alpha_used - 1) * (1.5/1.4)**alpha_used\n",
    "high_z_lum_250   = 4 * np.pi * high_z_lum_d**2 * high_z_250GHz * 1e-6 * 1e-26 * (1 + high_z_zs)**(alpha_used - 1) * (250/1.4)**(alpha_used)"
   ]
  },
  {
   "cell_type": "markdown",
   "metadata": {},
   "source": [
    "Mix all luminosities (different bands) to obtain single value (adding zeroes).  \n",
    "Millimetre luminosities will be used separately since we cannot be completely  \n",
    "sure that they represent, fully, non-thermal emission (from AGN) and not dust."
   ]
  },
  {
   "cell_type": "code",
   "execution_count": 15,
   "metadata": {},
   "outputs": [],
   "source": [
    "high_z_lum_14GHz   = high_z_lum_14 + high_z_lum_3 + high_z_lum_15"
   ]
  },
  {
   "cell_type": "markdown",
   "metadata": {},
   "source": [
    "We can also determine error values for these luminosities"
   ]
  },
  {
   "cell_type": "code",
   "execution_count": 16,
   "metadata": {},
   "outputs": [],
   "source": [
    "high_z_lum_14GHz_e  = np.zeros_like(high_z_lum_14GHz)\n",
    "high_z_lum_250GHz_e = np.zeros_like(high_z_lum_250)\n",
    "for counter, element in enumerate(high_z_lum_14GHz):\n",
    "    if element == 0: continue\n",
    "    high_z_lum_14GHz_e[counter] = np.abs(element) * high_z_14_e[counter] / high_z_14[counter]\n",
    "for counter, element in enumerate(high_z_lum_250):\n",
    "    if element == 0: continue\n",
    "    high_z_lum_250GHz_e[counter] = np.abs(element) * high_z_250GHz_e[counter] / high_z_250GHz[counter]"
   ]
  },
  {
   "cell_type": "markdown",
   "metadata": {},
   "source": [
    "Create a filter to plot, when needed, only the sources which  \n",
    "have mm data but not radio observations."
   ]
  },
  {
   "cell_type": "code",
   "execution_count": 17,
   "metadata": {},
   "outputs": [],
   "source": [
    "filter_250GHz = np.array((high_z_lum_250 > 0) * (high_z_lum_14GHz == 0))"
   ]
  },
  {
   "cell_type": "markdown",
   "metadata": {},
   "source": [
    "Now, we can use the points we are interested in. Our sample from **Inayoshi et al., 2020** and the  \n",
    "sources from **SDSS+FIRST** with $z>5.5$."
   ]
  },
  {
   "cell_type": "markdown",
   "metadata": {},
   "source": [
    "Another option to display the data is, instead of showing redshift in the  \n",
    "horizontal axis, have the mass of the observed objects.\n",
    "\n",
    "**Inayoshi et al., 2020** use the rest-frame UV magnitude $\\mathrm{M}_{1450}$  \n",
    "to calculate the mass as:\n",
    "\n",
    "$$M = 10^{[-(\\mathrm{M}_{1450} + 3.459) / 2.5]} [\\mathrm{M}_{\\odot}]$$\n",
    "\n",
    "which yields, on average, the published virial mass estimates for those available."
   ]
  },
  {
   "cell_type": "markdown",
   "metadata": {},
   "source": [
    "Create formal arrays from catalogs to merge them"
   ]
  },
  {
   "cell_type": "markdown",
   "metadata": {},
   "source": [
    "Arrays from `SDSS+FIRST`"
   ]
  },
  {
   "cell_type": "code",
   "execution_count": 18,
   "metadata": {},
   "outputs": [],
   "source": [
    "#limit_z_sdss          = 5.5\n",
    "limit_z_sdss          = 0.0\n",
    "filter_sdss_z         = np.array(sdss_milli['redshift'][L_14GHz_filter] > limit_z_sdss)"
   ]
  },
  {
   "cell_type": "code",
   "execution_count": 19,
   "metadata": {},
   "outputs": [],
   "source": [
    "upper_sdss_L          = L_21cm[filter_sdss_z]\n",
    "upper_sdss_L_e        = L_21cm_e[filter_sdss_z]\n",
    "upper_sdss_u_lim      = np.zeros_like(upper_sdss_L, dtype=np.bool)\n",
    "upper_sdss            = sdss_milli[np.array(sdss_milli['redshift'] > limit_z_sdss) * L_14GHz_filter]\n",
    "upper_sdss_ra         = upper_sdss['sdss_ra']\n",
    "upper_sdss_dec        = upper_sdss['sdss_dec']\n",
    "upper_sdss_z          = upper_sdss['redshift']\n",
    "upper_sdss_z_e        = upper_sdss['redshift_err']\n",
    "upper_sdss_f_20cm     = upper_sdss['flux_20_cm']  # mJy\n",
    "upper_sdss_f_20cm_e   = upper_sdss['flux_20_cm'] / upper_sdss['snr_20_cm']  # mJy\n",
    "upper_sdss_f_250GHz   = np.zeros_like(upper_sdss_L)\n",
    "upper_sdss_f_250GHz_e = np.zeros_like(upper_sdss_L)\n",
    "upper_sdss_L_250GHz   = np.zeros_like(upper_sdss_L)\n",
    "upper_sdss_L_250GHz_e = np.zeros_like(upper_sdss_L)\n",
    "upper_sdss_mass_1450  = np.zeros_like(upper_sdss_L)"
   ]
  },
  {
   "cell_type": "markdown",
   "metadata": {},
   "source": [
    "Arrays from the `COSMOS` Field"
   ]
  },
  {
   "cell_type": "code",
   "execution_count": 20,
   "metadata": {},
   "outputs": [],
   "source": [
    "# upper_cosmos_L          = int_14GHz_cosmos[np.array(cosmos_data['cosm_z'] > limit_z_sdss)]  # Calculated by them\n",
    "upper_cosmos_L          = L_14GHz_cosmos[np.array(redshift_cosmos > limit_z_sdss)]  # Calculated with our spectral index\n",
    "upper_cosmos_L_e        = L_14GHz_cosmos_e[np.array(redshift_cosmos > limit_z_sdss)]\n",
    "upper_cosmos_u_lim      = np.zeros_like(upper_cosmos_L, dtype=np.bool)\n",
    "upper_cosmos            = cosmos_data[np.array(redshift_cosmos > limit_z_sdss)]\n",
    "upper_cosmos_ra         = upper_cosmos['cosm_ra']\n",
    "upper_cosmos_dec        = upper_cosmos['cosm_dec']\n",
    "upper_cosmos_z          = upper_cosmos['cosm_z']\n",
    "upper_cosmos_z_e        = np.zeros_like(upper_cosmos_L)\n",
    "upper_cosmos_f_20cm     = cosmos_14GHz_flux[np.array(redshift_cosmos > limit_z_sdss)]  # mJy\n",
    "upper_cosmos_f_20cm_e   = cosmos_14GHz_flux_e[np.array(redshift_cosmos > limit_z_sdss)]  # mJy\n",
    "upper_cosmos_f_250GHz   = np.zeros_like(upper_cosmos_L)\n",
    "upper_cosmos_f_250GHz_e = np.zeros_like(upper_cosmos_L)\n",
    "upper_cosmos_L_250GHz   = np.zeros_like(upper_cosmos_L)\n",
    "upper_cosmos_L_250GHz_e = np.zeros_like(upper_cosmos_L)\n",
    "upper_cosmos_mass_1450  = np.zeros_like(upper_cosmos_L)"
   ]
  },
  {
   "cell_type": "markdown",
   "metadata": {},
   "source": [
    "Arrays from `radio`catalog (`Heasarc`)"
   ]
  },
  {
   "cell_type": "code",
   "execution_count": 21,
   "metadata": {},
   "outputs": [],
   "source": [
    "radio_sdss_ra         = radio_sources['sdss_ra']\n",
    "radio_sdss_dec        = radio_sources['sdss_dec']\n",
    "radio_sdss_u_lim      = np.zeros_like(L_21cm_radio, dtype=np.bool)\n",
    "radio_sdss_z          = radio_sources['sdss_z']\n",
    "radio_sdss_z_e        = radio_sources['sdss_z_err']\n",
    "radio_sdss_f_20cm     = radio_sources['radio_flux']\n",
    "radio_sdss_f_20cm_e   = radio_sources['radio_flux_err']\n",
    "radio_sdss_f_250GHz   = np.zeros_like(L_21cm_radio)\n",
    "radio_sdss_f_250GHz_e = np.zeros_like(L_21cm_radio)\n",
    "radio_sdss_L_250GHz   = np.zeros_like(L_21cm_radio)\n",
    "radio_sdss_L_250GHz_e = np.zeros_like(L_21cm_radio)\n",
    "radio_sdss_mass_1450  = np.zeros_like(L_21cm_radio)"
   ]
  },
  {
   "cell_type": "markdown",
   "metadata": {},
   "source": [
    "Merging `SDSS+FIRST` and `radio`"
   ]
  },
  {
   "cell_type": "code",
   "execution_count": 22,
   "metadata": {},
   "outputs": [],
   "source": [
    "radio_large_sample_ra         = np.append(upper_sdss_ra,         radio_sdss_ra)          # deg\n",
    "radio_large_sample_dec        = np.append(upper_sdss_dec,        radio_sdss_dec)         # deg\n",
    "radio_large_sample_L          = np.append(upper_sdss_L,          L_21cm_radio)           # W/Hz\n",
    "radio_large_sample_L_e        = np.append(upper_sdss_L_e,        L_21cm_radio_e)         # W/Hz\n",
    "radio_large_sample_u_lim      = np.append(upper_sdss_u_lim,      radio_sdss_u_lim)\n",
    "radio_large_sample_L_250GHz   = np.append(upper_sdss_L_250GHz,   radio_sdss_L_250GHz)    # W/Hz\n",
    "radio_large_sample_L_250GHz_e = np.append(upper_sdss_L_250GHz_e, radio_sdss_L_250GHz_e)  # W/Hz\n",
    "radio_large_sample_f_20cm     = np.append(upper_sdss_f_20cm,     radio_sdss_f_20cm)      # mJy\n",
    "radio_large_sample_f_20cm_e   = np.append(upper_sdss_f_20cm_e,   radio_sdss_f_20cm_e)    # mJy\n",
    "radio_large_sample_f_250GHz   = np.append(upper_sdss_f_250GHz,   radio_sdss_f_250GHz)    # mJy\n",
    "radio_large_sample_f_250GHz_e = np.append(upper_sdss_f_250GHz_e, radio_sdss_f_250GHz_e)  # mJy\n",
    "radio_large_sample_z          = np.append(upper_sdss_z,          radio_sdss_z)\n",
    "radio_large_sample_z_e        = np.append(upper_sdss_z_e,        radio_sdss_z_e)\n",
    "radio_large_sample_mass_1450  = np.append(upper_sdss_mass_1450,  radio_sdss_mass_1450)   # M_sun"
   ]
  },
  {
   "cell_type": "markdown",
   "metadata": {},
   "source": [
    "Merging `SDSS+FIRST`+`radio` and the catalog from **Inayoshi et al., 2020**"
   ]
  },
  {
   "cell_type": "code",
   "execution_count": 23,
   "metadata": {},
   "outputs": [],
   "source": [
    "medium_sample_ra        = np.append(radio_large_sample_ra,         high_z_ra[np.array(high_z_lum_14GHz>0)])               # deg\n",
    "medium_sample_dec       = np.append(radio_large_sample_dec,        high_z_dec[np.array(high_z_lum_14GHz>0)])              # deg\n",
    "medium_sample_L         = np.append(radio_large_sample_L,          high_z_lum_14GHz[np.array(high_z_lum_14GHz>0)])        # W/Hz\n",
    "medium_sample_L_e       = np.append(radio_large_sample_L_e,        high_z_lum_14GHz_e[np.array(high_z_lum_14GHz>0)])      # W/Hz\n",
    "medium_sample_u_lim     = np.append(radio_large_sample_u_lim,      high_z_up_lim[np.array(high_z_lum_14GHz>0)])\n",
    "medium_sample_L_250     = np.append(radio_large_sample_L_250GHz,   high_z_lum_250[np.array(high_z_lum_14GHz>0)])          # W/Hz\n",
    "medium_sample_L_250_e   = np.append(radio_large_sample_L_250GHz_e, high_z_lum_250GHz_e[np.array(high_z_lum_14GHz>0)])     # W/Hz\n",
    "medium_sample_f20cm     = np.append(radio_large_sample_f_20cm,     high_z_14[np.array(high_z_lum_14GHz>0)] * 1e-3)        # mJy\n",
    "medium_sample_f20cm_e   = np.append(radio_large_sample_f_20cm_e,   high_z_14_e[np.array(high_z_lum_14GHz>0)] * 1e-3)      # mJy\n",
    "medium_sample_f250GHz   = np.append(radio_large_sample_f_250GHz,   high_z_250GHz[np.array(high_z_lum_14GHz>0)] * 1e-3)    # mJy\n",
    "medium_sample_f250GHz_e = np.append(radio_large_sample_f_250GHz_e, high_z_250GHz_e[np.array(high_z_lum_14GHz>0)] * 1e-3)  # mJy\n",
    "medium_sample_z         = np.append(radio_large_sample_z,          high_z_zs[np.array(high_z_lum_14GHz>0)])\n",
    "medium_sample_z_e       = np.append(radio_large_sample_z_e,        high_z_zs_e[np.array(high_z_lum_14GHz>0)])\n",
    "medium_sample_mass_1450 = np.append(radio_large_sample_mass_1450,  high_z_mass_1450[np.array(high_z_lum_14GHz>0)])        # M_sun"
   ]
  },
  {
   "cell_type": "markdown",
   "metadata": {},
   "source": [
    "Merging `SDSS+FIRST`+`radio`+**Inayoshi et al., 2020** and `COSMOS` data"
   ]
  },
  {
   "cell_type": "code",
   "execution_count": 24,
   "metadata": {},
   "outputs": [],
   "source": [
    "large_sample_ra        = np.append(medium_sample_ra,        upper_cosmos_ra)          # deg\n",
    "large_sample_dec       = np.append(medium_sample_dec,       upper_cosmos_dec)         # deg\n",
    "large_sample_L         = np.append(medium_sample_L,         upper_cosmos_L)           # W/Hz\n",
    "large_sample_L_e       = np.append(medium_sample_L_e,       upper_cosmos_L_e)         # W/Hz\n",
    "large_sample_u_lim     = np.append(medium_sample_u_lim,     upper_cosmos_u_lim)\n",
    "large_sample_L_250     = np.append(medium_sample_L_250,     upper_cosmos_L_250GHz)    # W/Hz\n",
    "large_sample_L_250_e   = np.append(medium_sample_L_250_e,   upper_cosmos_L_250GHz_e)  # W/Hz\n",
    "large_sample_f20cm     = np.append(medium_sample_f20cm,     upper_cosmos_f_20cm)      # mJy\n",
    "large_sample_f20cm_e   = np.append(medium_sample_f20cm_e,   upper_cosmos_f_20cm_e)    # mJy\n",
    "large_sample_f250GHz   = np.append(medium_sample_f250GHz,   upper_cosmos_f_250GHz)    # mJy\n",
    "large_sample_f250GHz_e = np.append(medium_sample_f250GHz_e, upper_cosmos_f_250GHz_e)  # mJy\n",
    "large_sample_z         = np.append(medium_sample_z,         upper_cosmos_z)\n",
    "large_sample_z_e       = np.append(medium_sample_z_e,       upper_cosmos_z_e)\n",
    "large_sample_mass_1450 = np.append(medium_sample_mass_1450, upper_cosmos_mass_1450)   # M_sun"
   ]
  },
  {
   "cell_type": "markdown",
   "metadata": {},
   "source": [
    "At this point, we also want to obtain more properties from the selected  \n",
    "sources (**Inayoshi et al., 2020** + **SDSS+FIRST**). We will use `astroquery` to  \n",
    "obtain information from `simbad`."
   ]
  },
  {
   "cell_type": "markdown",
   "metadata": {},
   "source": [
    "First, we obtain the names and coordinates of our sources to query them."
   ]
  },
  {
   "cell_type": "code",
   "execution_count": 25,
   "metadata": {},
   "outputs": [],
   "source": [
    "names_radio_sdss    = np.append(radio_sources['sdss_name'], upper_sdss['name'])\n",
    "medium_sample_names = np.append(names_radio_sdss, upper_cosmos['cosm_name'])\n",
    "large_sample_names  = np.append(medium_sample_names, high_z_names[np.array(high_z_lum_14GHz>0)])\n",
    "large_sample_coords = SkyCoord(ra=large_sample_ra, dec=large_sample_dec, unit=(u.deg, u.deg))"
   ]
  },
  {
   "cell_type": "markdown",
   "metadata": {},
   "source": [
    "Now, we correct/change the names for those which can be looked up in `Simbad` and `Ned`."
   ]
  },
  {
   "cell_type": "code",
   "execution_count": 26,
   "metadata": {},
   "outputs": [],
   "source": [
    "old_to_replace = ['SDSS J125507.61+463126.5', 'SDSS J160558.86+474300.1', 'SDSS J111036.32+481752.3', 'SDSS J163033.89+401209.6']\n",
    "new_to_replace = ['NVSS J125507+463128', '2MASS J16055893+4742596', 'NVSS J111036+481753', 'SDSS J163033.90+401209.6']\n",
    "\n",
    "for old, new in zip(old_to_replace, new_to_replace):\n",
    "    index = np.where(large_sample_names == old)\n",
    "    large_sample_names[index] = new"
   ]
  },
  {
   "cell_type": "markdown",
   "metadata": {},
   "source": [
    "Then, we can query the database to obtain the desired data.  In this point,  \n",
    "we also add more columns to be queried."
   ]
  },
  {
   "cell_type": "code",
   "execution_count": 27,
   "metadata": {},
   "outputs": [],
   "source": [
    "query_simbad_flag               = False\n",
    "load_simbad_flag                = False\n",
    "create_simbad_inayoshi_flag     = False\n",
    "read_simbad_inayoshi_flag       = True\n",
    "query_ned_names_flag            = True\n",
    "query_ned_photometry_flag       = True\n",
    "order_ned_photometry_flag       = True\n",
    "create_simbad_inayoshi_ned_flag = True"
   ]
  },
  {
   "cell_type": "code",
   "execution_count": 28,
   "metadata": {},
   "outputs": [],
   "source": [
    "if query_simbad_flag:\n",
    "    customSimbad   = Simbad()\n",
    "    initial_fields = customSimbad.get_votable_fields()\n",
    "\n",
    "    if 'coordinates' in initial_fields:\n",
    "        customSimbad.remove_votable_fields('coordinates')\n",
    "        customSimbad.add_votable_fields('ra(d)', 'dec(d)')\n",
    "    if 'z_value' not in initial_fields:\n",
    "        customSimbad.add_votable_fields('z_value')\n",
    "    for band in ['B','V','R','I','J','K']:\n",
    "        if f'fluxdata({band})' not in initial_fields:\n",
    "            customSimbad.add_votable_fields(f'flux({band})', f'flux_error({band})')"
   ]
  },
  {
   "cell_type": "markdown",
   "metadata": {},
   "source": [
    "All sources but those from `COSMOS` catalog have meaningful (for `simbad`) names.  \n",
    "Thus, separate queries will be executed. And, to standardize results, queries  \n",
    "will only be based on coordinates (not names)."
   ]
  },
  {
   "cell_type": "code",
   "execution_count": 29,
   "metadata": {},
   "outputs": [],
   "source": [
    "if query_simbad_flag:\n",
    "    limit_set            = int(np.floor(np.shape(medium_sample_L)[0]/3))"
   ]
  },
  {
   "cell_type": "code",
   "execution_count": 30,
   "metadata": {},
   "outputs": [],
   "source": [
    "if query_simbad_flag:\n",
    "    result_table_simbad  = Table()"
   ]
  },
  {
   "cell_type": "code",
   "execution_count": 31,
   "metadata": {},
   "outputs": [],
   "source": [
    "# result_table = customSimbad.query_objects(large_sample_names)\n",
    "# customSimbad.TIMEOUT = 240\n",
    "\n",
    "# result_table_job_a   = customSimbad.query_objects(large_sample_names[:limit_set])\n",
    "\n",
    "# result_table_job_b   = customSimbad.query_objects(large_sample_names[limit_set:(limit_set*2)])\n",
    "\n",
    "# result_table_job_c   = customSimbad.query_objects(large_sample_names[(limit_set*2):(limit_set*3)])"
   ]
  },
  {
   "cell_type": "code",
   "execution_count": 32,
   "metadata": {},
   "outputs": [],
   "source": [
    "if query_simbad_flag:\n",
    "    query_error = 0\n",
    "    final_error = 0"
   ]
  },
  {
   "cell_type": "code",
   "execution_count": 33,
   "metadata": {},
   "outputs": [],
   "source": [
    "if query_simbad_flag:\n",
    "    with progressbar.ProgressBar(min_value=0, max_value=(limit_set - 1)) as bar:\n",
    "        for index, coord in enumerate(large_sample_coords[:limit_set]):\n",
    "            temp_table      = Table()\n",
    "            try:\n",
    "                temp_table      = customSimbad.query_region(coord, radius=2.0*u.arcsec)\n",
    "                if len(temp_table) == 0:\n",
    "                    temp_table      = Table(names=('RA_d', 'DEC_d'), dtype=(result_table_simbad['RA_d'].info.dtype, result_table_simbad['DEC_d'].info.dtype))\n",
    "                    temp_table.add_row((coord.ra.deg, coord.dec.deg))\n",
    "                temp_table.meta['description'] = 'Simbad_q'\n",
    "            except:\n",
    "                temp_table      = Table(names=('RA_d', 'DEC_d'), dtype=(result_table_simbad['RA_d'].info.dtype, result_table_simbad['DEC_d'].info.dtype))\n",
    "                temp_table.add_row((coord.ra.deg, coord.dec.deg))\n",
    "                temp_table.meta['description'] = 'Simbad_q'\n",
    "                #print(f'Error with element {(index)} of the sample')\n",
    "                query_error += 1\n",
    "            try:\n",
    "                if temp_table['RA_d'].unit != 'deg':\n",
    "                    replacement_col     = MaskedColumn(temp_table['RA_d'].data, dtype=result_table_simbad['RA_d'].dtype, unit=result_table_simbad['RA_d'].unit, format=result_table_simbad['RA_d'].format, description=result_table_simbad['RA_d'].description)\n",
    "                    temp_table['RA_d']  = replacement_col\n",
    "                result_table_simbad = vstack([result_table_simbad, temp_table[0]])\n",
    "            except:\n",
    "                print(f'Error with element {(index)} of the sample')\n",
    "                final_error += 1\n",
    "            bar.update(index)"
   ]
  },
  {
   "cell_type": "code",
   "execution_count": 34,
   "metadata": {},
   "outputs": [],
   "source": [
    "if query_simbad_flag:\n",
    "    with progressbar.ProgressBar(min_value=limit_set, max_value=(limit_set*2 - 1)) as bar:\n",
    "        for index, coord in enumerate(large_sample_coords[limit_set:(limit_set*2)]):\n",
    "            temp_table      = Table()\n",
    "            try:\n",
    "                temp_table      = customSimbad.query_region(coord, radius=2.0*u.arcsec)\n",
    "                if len(temp_table) == 0:\n",
    "                    temp_table      = Table(names=('RA_d', 'DEC_d'), dtype=(result_table_simbad['RA_d'].info.dtype, result_table_simbad['DEC_d'].info.dtype))\n",
    "                    temp_table.add_row((coord.ra.deg, coord.dec.deg))\n",
    "                temp_table.meta['description'] = 'Simbad_q'\n",
    "            except:\n",
    "                temp_table      = Table(names=('RA_d', 'DEC_d'), dtype=(result_table_simbad['RA_d'].info.dtype, result_table_simbad['DEC_d'].info.dtype))\n",
    "                temp_table.add_row((coord.ra.deg, coord.dec.deg))\n",
    "                temp_table.meta['description'] = 'Simbad_q'\n",
    "                #print(f'Error with element {(index + limit_set)} of the sample')\n",
    "                query_error += 1\n",
    "            try:\n",
    "                if temp_table['RA_d'].unit != 'deg':\n",
    "                    replacement_col     = MaskedColumn(temp_table['RA_d'].data, dtype=result_table_simbad['RA_d'].dtype, unit=result_table_simbad['RA_d'].unit, format=result_table_simbad['RA_d'].format, description=result_table_simbad['RA_d'].description)\n",
    "                    temp_table['RA_d']  = replacement_col\n",
    "                result_table_simbad = vstack([result_table_simbad, temp_table[0]])\n",
    "            except:\n",
    "                print(f'Error with element {(index + limit_set)} of the sample')\n",
    "                final_error += 1\n",
    "            bar.update(index + limit_set)"
   ]
  },
  {
   "cell_type": "code",
   "execution_count": 35,
   "metadata": {},
   "outputs": [],
   "source": [
    "if query_simbad_flag:\n",
    "    with progressbar.ProgressBar(min_value=(limit_set*2), max_value=(limit_set*3)) as bar:\n",
    "        for index, coord in enumerate(large_sample_coords[(limit_set*2):(limit_set*3 + 1)]):\n",
    "            temp_table      = Table()\n",
    "            try:\n",
    "                temp_table      = customSimbad.query_region(coord, radius=2.0*u.arcsec)\n",
    "                if len(temp_table) == 0:\n",
    "                    temp_table      = Table(names=('RA_d', 'DEC_d'), dtype=(result_table_simbad['RA_d'].info.dtype, result_table_simbad['DEC_d'].info.dtype))\n",
    "                    temp_table.add_row((coord.ra.deg, coord.dec.deg))\n",
    "                temp_table.meta['description'] = 'Simbad_q'\n",
    "            except:\n",
    "                temp_table      = Table(names=('RA_d', 'DEC_d'), dtype=(result_table_simbad['RA_d'].info.dtype, result_table_simbad['DEC_d'].info.dtype))\n",
    "                temp_table.add_row((coord.ra.deg, coord.dec.deg))\n",
    "                temp_table.meta['description'] = 'Simbad_q'\n",
    "                # print(f'Error with element {(index + limit_set*2)} of the sample')\n",
    "                query_error += 1\n",
    "            try:\n",
    "                if temp_table['RA_d'].unit != 'deg':\n",
    "                    replacement_col     = MaskedColumn(temp_table['RA_d'].data, dtype=result_table_simbad['RA_d'].dtype, unit=result_table_simbad['RA_d'].unit, format=result_table_simbad['RA_d'].format, description=result_table_simbad['RA_d'].description)\n",
    "                    temp_table['RA_d']  = replacement_col\n",
    "                result_table_simbad = vstack([result_table_simbad, temp_table[0]])\n",
    "            except:\n",
    "                print(f'Error with element {(index + limit_set*2)} of the sample')\n",
    "                final_error += 1\n",
    "            bar.update(index + limit_set*2)"
   ]
  },
  {
   "cell_type": "markdown",
   "metadata": {},
   "source": [
    "Query for `COSMOS`"
   ]
  },
  {
   "cell_type": "code",
   "execution_count": 36,
   "metadata": {},
   "outputs": [],
   "source": [
    "if query_simbad_flag:\n",
    "    limit_set_cosmos = int(np.floor(np.shape(upper_cosmos_L)[0]/3))"
   ]
  },
  {
   "cell_type": "code",
   "execution_count": 37,
   "metadata": {},
   "outputs": [],
   "source": [
    "if query_simbad_flag:\n",
    "    with progressbar.ProgressBar(min_value=(limit_set*3 + 1), max_value=(limit_set*3 + limit_set_cosmos)) as bar:\n",
    "        for index, coord in enumerate(large_sample_coords[(limit_set*3 + 1):(limit_set*3 + 1 + limit_set_cosmos)]):\n",
    "            temp_table      = Table()\n",
    "            try:\n",
    "                temp_table      = customSimbad.query_region(coord, radius=3.0*u.arcsec)\n",
    "                if len(temp_table) == 0:\n",
    "                    temp_table      = Table(names=('RA_d', 'DEC_d'), dtype=(result_table_simbad['RA_d'].info.dtype, result_table_simbad['DEC_d'].info.dtype))\n",
    "                    temp_table.add_row((coord.ra.deg, coord.dec.deg))\n",
    "                temp_table.meta['description'] = 'Simbad_q'\n",
    "            except:\n",
    "                # print(f'Error with element {(index + limit_set*3 + 1)} of the sample')\n",
    "                temp_table      = Table(names=('RA_d', 'DEC_d'), dtype=(result_table_simbad['RA_d'].info.dtype, result_table_simbad['DEC_d'].info.dtype))\n",
    "                temp_table.add_row((coord.ra.deg, coord.dec.deg))\n",
    "                temp_table.meta['description'] = 'Simbad_q'\n",
    "                query_error += 1\n",
    "            try:\n",
    "                if temp_table['RA_d'].unit != 'deg':\n",
    "                    replacement_col     = MaskedColumn(temp_table['RA_d'].data, dtype=result_table_simbad['RA_d'].dtype, unit=result_table_simbad['RA_d'].unit, format=result_table_simbad['RA_d'].format, description=result_table_simbad['RA_d'].description)\n",
    "                    temp_table['RA_d']  = replacement_col\n",
    "                result_table_simbad = vstack([result_table_simbad, temp_table[0]])\n",
    "            except:\n",
    "                print(f'Error with element {(index + limit_set*3 + 1)} of the sample')\n",
    "                temp_table      = Table(names=('RA_d', 'DEC_d'), dtype=(result_table_simbad['RA_d'].info.dtype, result_table_simbad['DEC_d'].info.dtype))\n",
    "                temp_table.add_row((coord.ra.deg, coord.dec.deg))\n",
    "                temp_table.meta['description'] = 'Simbad query for radio objects'\n",
    "                result_table_simbad = vstack([result_table_simbad, temp_table[0]])\n",
    "                final_error += 1\n",
    "            bar.update(index + limit_set*3 + 1)"
   ]
  },
  {
   "cell_type": "code",
   "execution_count": 38,
   "metadata": {},
   "outputs": [],
   "source": [
    "if query_simbad_flag:\n",
    "    with progressbar.ProgressBar(min_value=(limit_set*3 + 1 + limit_set_cosmos), max_value=(limit_set*3 + limit_set_cosmos*2)) as bar:\n",
    "        for index, coord in enumerate(large_sample_coords[(limit_set*3 + 1 + limit_set_cosmos):(limit_set*3 + 1 + limit_set_cosmos*2)]):\n",
    "            temp_table      = Table()\n",
    "            try:\n",
    "                temp_table      = customSimbad.query_region(coord, radius=3.0*u.arcsec)\n",
    "                if len(temp_table) == 0:\n",
    "                    temp_table      = Table(names=('RA_d', 'DEC_d'), dtype=(result_table_simbad['RA_d'].info.dtype, result_table_simbad['DEC_d'].info.dtype))\n",
    "                    temp_table.add_row((coord.ra.deg, coord.dec.deg))\n",
    "                temp_table.meta['description'] = 'Simbad_q'\n",
    "            except:\n",
    "                temp_table      = Table(names=('RA_d', 'DEC_d'), dtype=(result_table_simbad['RA_d'].info.dtype, result_table_simbad['DEC_d'].info.dtype))\n",
    "                temp_table.add_row((coord.ra.deg, coord.dec.deg))\n",
    "                temp_table.meta['description'] = 'Simbad_q'\n",
    "                # print(f'Error with element {(index + limit_set*3 + 1 + limit_set_cosmos)} of the sample')\n",
    "                query_error += 1\n",
    "            try:\n",
    "                if temp_table['RA_d'].unit != 'deg':\n",
    "                    replacement_col     = MaskedColumn(temp_table['RA_d'].data, dtype=result_table_simbad['RA_d'].dtype, unit=result_table_simbad['RA_d'].unit, format=result_table_simbad['RA_d'].format, description=result_table_simbad['RA_d'].description)\n",
    "                    temp_table['RA_d']  = replacement_col\n",
    "                result_table_simbad = vstack([result_table_simbad, temp_table[0]])\n",
    "            except:\n",
    "                print(f'Error with element {(index + limit_set*3 + 1 + limit_set_cosmos)} of the sample')\n",
    "                temp_table      = Table(names=('RA_d', 'DEC_d'), dtype=(result_table_simbad['RA_d'].info.dtype, result_table_simbad['DEC_d'].info.dtype))\n",
    "                temp_table.add_row((coord.ra.deg, coord.dec.deg))\n",
    "                temp_table.meta['description'] = 'Simbad query for radio objects'\n",
    "                result_table_simbad = vstack([result_table_simbad, temp_table[0]])\n",
    "                final_error += 1\n",
    "            bar.update(index + limit_set*3 + 1 + limit_set_cosmos)"
   ]
  },
  {
   "cell_type": "code",
   "execution_count": 39,
   "metadata": {},
   "outputs": [],
   "source": [
    "if query_simbad_flag:\n",
    "    with progressbar.ProgressBar(min_value=(limit_set*3 + 1 + limit_set_cosmos*2), max_value=np.shape(large_sample_coords)[0]) as bar:\n",
    "        for index, coord in enumerate(large_sample_coords[(limit_set*3 + 1 + limit_set_cosmos*2):]):\n",
    "            temp_table      = Table()\n",
    "            try:\n",
    "                temp_table      = customSimbad.query_region(coord, radius=3.0*u.arcsec)\n",
    "                if len(temp_table) == 0:\n",
    "                    temp_table      = Table(names=('RA_d', 'DEC_d'), dtype=(result_table_simbad['RA_d'].info.dtype, result_table_simbad['DEC_d'].info.dtype))\n",
    "                    temp_table.add_row((coord.ra.deg, coord.dec.deg))\n",
    "                temp_table.meta['description'] = 'Simbad_q'\n",
    "            except:\n",
    "                temp_table      = Table(names=('RA_d', 'DEC_d'), dtype=(result_table_simbad['RA_d'].info.dtype, result_table_simbad['DEC_d'].info.dtype))\n",
    "                temp_table.add_row((coord.ra.deg, coord.dec.deg))\n",
    "                temp_table.meta['description'] = 'Simbad_q'\n",
    "                # print(f'Error with element {(index + limit_set*3 + 1 + limit_set_cosmos*2)} of the sample')\n",
    "                query_error += 1\n",
    "            try:\n",
    "                if temp_table['RA_d'].unit != 'deg':\n",
    "                    replacement_col     = MaskedColumn(temp_table['RA_d'].data, dtype=result_table_simbad['RA_d'].dtype, unit=result_table_simbad['RA_d'].unit, format=result_table_simbad['RA_d'].format, description=result_table_simbad['RA_d'].description)\n",
    "                    temp_table['RA_d']  = replacement_col\n",
    "                result_table_simbad = vstack([result_table_simbad, temp_table[0]])\n",
    "            except:\n",
    "                print(f'Error with element {(index + limit_set*3 + 1 + limit_set_cosmos*2)} of the sample')\n",
    "                temp_table      = Table(names=('RA_d', 'DEC_d'), dtype=(result_table_simbad['RA_d'].info.dtype, result_table_simbad['DEC_d'].info.dtype))\n",
    "                temp_table.add_row((coord.ra.deg, coord.dec.deg))\n",
    "                temp_table.meta['description'] = 'Simbad query for radio objects'\n",
    "                result_table_simbad = vstack([result_table_simbad, temp_table[0]])\n",
    "                final_error += 1\n",
    "            bar.update(index + limit_set*3 + 1 + limit_set_cosmos*2)"
   ]
  },
  {
   "cell_type": "markdown",
   "metadata": {},
   "source": [
    "We save the query to a file for future executions."
   ]
  },
  {
   "cell_type": "code",
   "execution_count": 40,
   "metadata": {},
   "outputs": [],
   "source": [
    "if query_simbad_flag:\n",
    "    result_table_simbad.info"
   ]
  },
  {
   "cell_type": "code",
   "execution_count": 41,
   "metadata": {},
   "outputs": [],
   "source": [
    "if query_simbad_flag:\n",
    "    result_table_simbad.write('large_cat_simbad_query.csv', format='ascii.csv', overwrite=True, serialize_method='data_mask')"
   ]
  },
  {
   "cell_type": "markdown",
   "metadata": {},
   "source": [
    "Steps to create a copy of table to save it as `fits` file."
   ]
  },
  {
   "cell_type": "code",
   "execution_count": 42,
   "metadata": {},
   "outputs": [],
   "source": [
    "if query_simbad_flag:\n",
    "    copy_simbad_to_write = result_table_simbad\n",
    "    str_id = copy_simbad_to_write['MAIN_ID'].astype('str')\n",
    "    copy_simbad_to_write.replace_column('MAIN_ID', str_id)"
   ]
  },
  {
   "cell_type": "code",
   "execution_count": 43,
   "metadata": {},
   "outputs": [],
   "source": [
    "if query_simbad_flag:\n",
    "    copy_simbad_to_write.info"
   ]
  },
  {
   "cell_type": "code",
   "execution_count": 44,
   "metadata": {},
   "outputs": [],
   "source": [
    "if query_simbad_flag:\n",
    "    copy_simbad_to_write.write('large_cat_simbad_query.fits', format='fits', overwrite=True, serialize_method='data_mask')"
   ]
  },
  {
   "cell_type": "markdown",
   "metadata": {},
   "source": [
    "To save running time, we can load the data from a file."
   ]
  },
  {
   "cell_type": "code",
   "execution_count": 45,
   "metadata": {},
   "outputs": [],
   "source": [
    "#if load_simbad_flag:\n",
    "#    result_table_simbad = Table.read(cat_path + 'large_cat_simbad_query.csv', format='ascii.csv')"
   ]
  },
  {
   "cell_type": "code",
   "execution_count": 46,
   "metadata": {},
   "outputs": [],
   "source": [
    "if load_simbad_flag:\n",
    "    result_table_simbad     = Table.read(cat_path + 'large_cat_simbad_query.fits');"
   ]
  },
  {
   "cell_type": "code",
   "execution_count": 47,
   "metadata": {},
   "outputs": [],
   "source": [
    "# result_table_simbad.info"
   ]
  },
  {
   "cell_type": "markdown",
   "metadata": {},
   "source": [
    "From this point, we merge the data from the query to `simbad` with the  \n",
    "values from this notebook (**Inayoshi et al., 2020** and **SDSS+FIRST**).  \n",
    "In order to do this, we convert the data into `astropy` columns, and then  \n",
    "into `astropy` tables. They will be ready to be exported."
   ]
  },
  {
   "cell_type": "code",
   "execution_count": 48,
   "metadata": {},
   "outputs": [],
   "source": [
    "if create_simbad_inayoshi_flag:\n",
    "    column_cat_name     = MaskedColumn(large_sample_names, name='CAT_NAME', dtype='str', description='Name used in this catalog', mask=np.array(large_sample_names == ''))\n",
    "    column_z_own        = MaskedColumn(large_sample_z, name='Z_OWN', unit='', description='Redshift from Inayoshi+2020 or SDSS+FIRST', fill_value=np.nan, mask=np.array(large_sample_z == 0))\n",
    "    column_z_own_err    = MaskedColumn(large_sample_z_e, name='Z_OWN_ERR', unit='', description='Redshift error from Inayoshi+2020 or SDSS+FIRST', fill_value=np.nan, mask=np.array(large_sample_z_e == 0))\n",
    "    column_L_14GHz      = MaskedColumn(large_sample_L, name='L_20CM', unit='W/Hz', description='Luminosity in 1.4 GHz', fill_value=np.nan, mask=np.array(large_sample_L == 0))\n",
    "    column_L_14GHz_err  = MaskedColumn(large_sample_L_e, name='L_20CM_ERR', unit='W/Hz', description='Luminosity error in 1.4 GHz', fill_value=np.nan, mask=np.array(large_sample_L_e == 0))\n",
    "    column_L_14GHz_up   = MaskedColumn(large_sample_u_lim, name='L_20CM_UP_LIM', dtype='bool', description='True if L_20CM is upper limit')\n",
    "    column_L_250GHz     = MaskedColumn(large_sample_L_250, name='L_250GHZ', unit='W/Hz', description='Luminosity in 250 GHz', fill_value=np.nan, mask=np.array(large_sample_L_250 == 0))\n",
    "    column_L_250GHz_err = MaskedColumn(large_sample_L_250_e, name='L_250GHZ_ERR', unit='W/Hz', description='Luminosity error in 250 GHz', fill_value=np.nan, mask=np.array(large_sample_L_250_e == 0))\n",
    "    column_f_20cm       = MaskedColumn(large_sample_f20cm, name='F_20CM', unit='mJy', description='Flux in 20 cm', fill_value=np.nan, mask=np.array(large_sample_f20cm == 0))\n",
    "    column_f_20cm_err   = MaskedColumn(large_sample_f20cm_e, name='F_20CM_ERR', unit='mJy', description='Flux error in 20 cm', fill_value=np.nan, mask=np.array(large_sample_f20cm_e == 0))\n",
    "    column_f_250GHz     = MaskedColumn(large_sample_f250GHz, name='F_250GHZ', unit='mJy', description='Flux in 250 GHz', fill_value=np.nan, mask=np.array(large_sample_f250GHz == 0))\n",
    "    column_f_250GHz_err = MaskedColumn(large_sample_f250GHz_e, name='F_250GHZ_ERR', unit='mJy', description='Flux error in 250 GHz', fill_value=np.nan, mask=np.array(large_sample_f250GHz_e == 0))\n",
    "    column_mass_1450    = MaskedColumn(large_sample_mass_1450, name='MASS_1450', unit='Msun', description='Mass from mag_1450 (UV)', fill_value=np.nan, mask=np.array(large_sample_mass_1450 == 0))"
   ]
  },
  {
   "cell_type": "code",
   "execution_count": 49,
   "metadata": {},
   "outputs": [],
   "source": [
    "if create_simbad_inayoshi_flag:\n",
    "    result_table_simbad.add_columns([column_cat_name, column_z_own, column_z_own_err, column_L_14GHz, column_L_14GHz_err, column_L_14GHz_up, column_L_250GHz, column_L_250GHz_err, column_f_20cm, column_f_20cm_err, column_f_250GHz, column_f_250GHz_err, column_mass_1450])"
   ]
  },
  {
   "cell_type": "code",
   "execution_count": 50,
   "metadata": {},
   "outputs": [],
   "source": [
    "#str_id = result_table['MAIN_ID'].astype('str')\n",
    "#result_table.replace_column('MAIN_ID', str_id)"
   ]
  },
  {
   "cell_type": "code",
   "execution_count": 51,
   "metadata": {},
   "outputs": [],
   "source": [
    "# copy_table = result_table_simbad.filled(fill_value=np.nan)"
   ]
  },
  {
   "cell_type": "markdown",
   "metadata": {},
   "source": [
    "We write the table into a file. It can be `.fits`, `.votable`, etc."
   ]
  },
  {
   "cell_type": "code",
   "execution_count": 52,
   "metadata": {},
   "outputs": [],
   "source": [
    "#copy_table.write('high_z_qsos.ecsv', format='ascii.ecsv', overwrite=True, serialize_method='data_mask')"
   ]
  },
  {
   "cell_type": "code",
   "execution_count": 53,
   "metadata": {},
   "outputs": [
    {
     "name": "stderr",
     "output_type": "stream",
     "text": [
      "WARNING: VerifyWarning: Keyword name 'description' is greater than 8 characters or contains characters not allowed by the FITS standard; a HIERARCH card will be created. [astropy.io.fits.card]\n"
     ]
    }
   ],
   "source": [
    "if create_simbad_inayoshi_flag:\n",
    "    result_table_simbad.write('large_cat_simbad_query_inayoshi.fits', format='fits', overwrite=True, serialize_method='data_mask')"
   ]
  },
  {
   "cell_type": "code",
   "execution_count": 54,
   "metadata": {},
   "outputs": [],
   "source": [
    "if create_simbad_inayoshi_flag:\n",
    "    result_table_simbad.write('large_cat_simbad_query_inayoshi.csv', format='ascii.csv', overwrite=True, serialize_method='data_mask')"
   ]
  },
  {
   "cell_type": "markdown",
   "metadata": {},
   "source": [
    "To save running time, we can load the data from a file."
   ]
  },
  {
   "cell_type": "code",
   "execution_count": 55,
   "metadata": {},
   "outputs": [],
   "source": [
    "#if read_simbad_inayoshi_flag:\n",
    "#    result_table_simbad = Table.read(cat_path + 'large_cat_simbad_query_inayoshi.csv', format='ascii.csv')"
   ]
  },
  {
   "cell_type": "code",
   "execution_count": 55,
   "metadata": {},
   "outputs": [],
   "source": [
    "if read_simbad_inayoshi_flag:\n",
    "    result_table_simbad = Table.read(cat_path + 'large_cat_simbad_query_inayoshi.fits');"
   ]
  },
  {
   "cell_type": "code",
   "execution_count": 56,
   "metadata": {},
   "outputs": [
    {
     "data": {
      "text/plain": [
       "<Table length=18023>\n",
       "     name      dtype    unit   format                    description                   n_bad\n",
       "------------- ------- ------- -------- ----------------------------------------------- -----\n",
       "      MAIN_ID bytes41                                    Main identifier for an object   606\n",
       "         RA_d float64     deg {:11.8f}                                 Right ascension     0\n",
       "        DEC_d float64     deg {:12.8f}                                     Declination     0\n",
       "      Z_VALUE float64         {:16.7f}                                        Redshift  1644\n",
       "       FLUX_B float32     mag                                              Magnitude B  8961\n",
       " FLUX_ERROR_B float32         {:12.3f}                                      flux error 11228\n",
       "       FLUX_V float32     mag                                              Magnitude V  8857\n",
       " FLUX_ERROR_V float32         {:12.3f}                                      flux error 11189\n",
       "       FLUX_R float32     mag                                              Magnitude R 12483\n",
       " FLUX_ERROR_R float32         {:12.3f}                                      flux error 12782\n",
       "       FLUX_I float32     mag                                              Magnitude I 12167\n",
       " FLUX_ERROR_I float32         {:12.3f}                                      flux error 12862\n",
       "       FLUX_J float32     mag                                              Magnitude J 11448\n",
       " FLUX_ERROR_J float32         {:12.3f}                                      flux error 11500\n",
       "       FLUX_K float32     mag                                              Magnitude K  9921\n",
       " FLUX_ERROR_K float32         {:12.3f}                                      flux error 10033\n",
       "     CAT_NAME   str34                                        Name used in this catalog     0\n",
       "        Z_OWN float64                        Redshift from Inayoshi+2020 or SDSS+FIRST     0\n",
       "    Z_OWN_ERR float64                  Redshift error from Inayoshi+2020 or SDSS+FIRST  9373\n",
       "       L_20CM float64  W / Hz                                    Luminosity in 1.4 GHz    66\n",
       "   L_20CM_ERR float64  W / Hz                              Luminosity error in 1.4 GHz    66\n",
       "L_20CM_UP_LIM    bool                                    True if L_20CM is upper limit     0\n",
       "     L_250GHZ float64  W / Hz                                    Luminosity in 250 GHz 18010\n",
       " L_250GHZ_ERR float64  W / Hz                              Luminosity error in 250 GHz 18010\n",
       "       F_20CM float64     mJy                                            Flux in 20 cm    66\n",
       "   F_20CM_ERR float64     mJy                                      Flux error in 20 cm    66\n",
       "     F_250GHZ float64     mJy                                          Flux in 250 GHz 18010\n",
       " F_250GHZ_ERR float64     mJy                                    Flux error in 250 GHz 18010\n",
       "    MASS_1450 float64 solMass                                  Mass from mag_1450 (UV) 18006"
      ]
     },
     "execution_count": 56,
     "metadata": {},
     "output_type": "execute_result"
    }
   ],
   "source": [
    "result_table_simbad.info"
   ]
  },
  {
   "cell_type": "markdown",
   "metadata": {},
   "source": [
    "Query the objects of the table in other catalogs and services."
   ]
  },
  {
   "cell_type": "code",
   "execution_count": 57,
   "metadata": {},
   "outputs": [],
   "source": [
    "#from astroquery.heasarc import Heasarc\n",
    "#Heasarc.query_mission_cols(mission='radio')\n",
    "#tabb = Heasarc.query(large_sample_names, mission='radio', timeout=90)"
   ]
  },
  {
   "cell_type": "code",
   "execution_count": 58,
   "metadata": {},
   "outputs": [],
   "source": [
    "customNed        = Ned()\n",
    "fields_to_remove = ['No.', 'Photometry Measurement', 'Uncertainty', 'Units', 'Frequency', 'Significance', 'Published frequency', 'Frequency Mode', 'Coordinates Targeted', 'Spatial Mode', 'Qualifiers', 'Comments']"
   ]
  },
  {
   "cell_type": "markdown",
   "metadata": {},
   "source": [
    "Querying sources with name in `Ned`."
   ]
  },
  {
   "cell_type": "code",
   "execution_count": 59,
   "metadata": {},
   "outputs": [],
   "source": [
    "# empty_counter = 0\n",
    "# res_tab       = {}\n",
    "# for name in large_sample_names:\n",
    "#     try:\n",
    "#         res_tab[name] = customNed.get_table(name, output_table_format=1)\n",
    "#         res_tab[name].remove_columns(fields_to_remove)\n",
    "#     except:\n",
    "#         res_tab[name] = Table()\n",
    "#         empty_counter += 1"
   ]
  },
  {
   "cell_type": "markdown",
   "metadata": {},
   "source": [
    "As before, we can do it with coordinates.  \n",
    "\n",
    "First, we query the coordinates. If we found something,  \n",
    "we use the name of the source to obtain it photometry."
   ]
  },
  {
   "cell_type": "code",
   "execution_count": 60,
   "metadata": {},
   "outputs": [],
   "source": [
    "coords_simbad_inayoshi = SkyCoord(result_table_simbad['RA_d'], result_table_simbad['DEC_d'], unit=u.deg)"
   ]
  },
  {
   "cell_type": "code",
   "execution_count": 61,
   "metadata": {},
   "outputs": [],
   "source": [
    "empty_tab_name_counter  = 0\n",
    "empty_tab_photo_counter = 0\n",
    "error_tab_name_counter  = 0\n",
    "error_tab_photo_counter = 0\n",
    "ned_tables              = {}\n",
    "ned_info                = {}\n",
    "ned_names               = []\n",
    "#ned_names               = np.array([''  for x in np.arange(np.shape(large_sample_names)[0])])"
   ]
  },
  {
   "cell_type": "code",
   "execution_count": 62,
   "metadata": {},
   "outputs": [
    {
     "name": "stderr",
     "output_type": "stream",
     "text": [
      "100% (18023 of 18023) |##################| Elapsed Time: 0:09:40 Time:  0:09:40\n"
     ]
    }
   ],
   "source": [
    "if query_ned_names_flag:\n",
    "    with progressbar.ProgressBar(min_value=0, max_value=np.shape(coords_simbad_inayoshi)[0]) as bar:\n",
    "        for index, coord in enumerate(coords_simbad_inayoshi):\n",
    "            try:\n",
    "                init_table            = customNed.query_region(coords_simbad_inayoshi[index], radius=3.0*u.arcsec)\n",
    "                if len(init_table) == 0:\n",
    "                    init_table        = Table(names=('Object Name', 'RA', 'DEC'), dtype=('str', 'float', 'float'), masked=True)\n",
    "                    init_table.add_row(('No Name', coords_simbad_inayoshi[index].ra.deg, coords_simbad_inayoshi[index].dec.deg), mask=[True, False, False])\n",
    "                    ned_info[index]   = init_table\n",
    "                    ned_names.append('No Name')\n",
    "                    empty_tab_name_counter += 1\n",
    "                    continue\n",
    "                init_table.remove_columns(['Magnitude and Filter', 'Positions', 'Diameter Points'])\n",
    "                ned_info[index]   = init_table\n",
    "                used_source_idx   = np.nanargmin(init_table['Separation'])  # Index of element with lowest separation from coords\n",
    "                init_name         = init_table['Object Name'][used_source_idx]\n",
    "                # ned_names[index]  = init_name\n",
    "                ned_names.append(init_name)\n",
    "            except:\n",
    "                init_table        = Table(names=('Object Name', 'RA', 'DEC'), dtype=('str', 'float', 'float'), masked=True)\n",
    "                init_table.add_row(('No Name', coords_simbad_inayoshi[index].ra.deg, coords_simbad_inayoshi[index].dec.deg), mask=[True, False, False])\n",
    "                ned_info[index]   = init_table\n",
    "                ned_names.append('No Name')\n",
    "                error_tab_name_counter += 1\n",
    "            bar.update(index)"
   ]
  },
  {
   "cell_type": "code",
   "execution_count": 63,
   "metadata": {},
   "outputs": [],
   "source": [
    "ned_names = np.array(ned_names)"
   ]
  },
  {
   "cell_type": "code",
   "execution_count": 64,
   "metadata": {},
   "outputs": [],
   "source": [
    "ned_redshifts = []\n",
    "for key in ned_info:\n",
    "    ned_redshifts.append(ned_info[index]['Redshift'])\n",
    "ned_redshifts = np.array(ned_redshifts)"
   ]
  },
  {
   "cell_type": "code",
   "execution_count": 65,
   "metadata": {},
   "outputs": [],
   "source": [
    "counter_count = 0\n",
    "indices_non   = []\n",
    "for index, name in enumerate(ned_names):\n",
    "    if name != 'No Name':\n",
    "        counter_count += 1\n",
    "for index, name in enumerate(ned_names):\n",
    "    if name == 'No Name':\n",
    "        indices_non.append(index)"
   ]
  },
  {
   "cell_type": "code",
   "execution_count": 66,
   "metadata": {},
   "outputs": [
    {
     "name": "stderr",
     "output_type": "stream",
     "text": [
      "100% (18023 of 18023) |##################| Elapsed Time: 0:07:45 Time:  0:07:45\n"
     ]
    }
   ],
   "source": [
    "if query_ned_photometry_flag:\n",
    "    with progressbar.ProgressBar(min_value=0, max_value=np.shape(ned_names)[0]) as bar:\n",
    "        for index, name in enumerate(ned_names):\n",
    "            try:\n",
    "                if name == 'No Name':\n",
    "                    phot_table        = Table(names=('Observed Passband',), dtype=('str',), masked=True)\n",
    "                    phot_table.add_row(('No Passband',), mask=(True,))\n",
    "                    ned_tables[index] = phot_table\n",
    "                    empty_tab_photo_counter += 1\n",
    "                    continue\n",
    "                phot_table            = customNed.get_table(name, table='photometry', output_table_format=3)\n",
    "                phot_table.remove_columns(fields_to_remove)\n",
    "                ned_tables[index]     = phot_table\n",
    "            except:\n",
    "                phot_table            = Table(names=('Observed Passband',), dtype=('str',), masked=True)\n",
    "                phot_table.add_row(('No Passband',), mask=(True,))\n",
    "                ned_tables[index]     = phot_table\n",
    "                error_tab_photo_counter += 1\n",
    "            bar.update(index)"
   ]
  },
  {
   "cell_type": "code",
   "execution_count": 67,
   "metadata": {},
   "outputs": [
    {
     "data": {
      "text/plain": [
       "['Observed Passband',\n",
       " 'Flux Density',\n",
       " 'Upper limit of uncertainty',\n",
       " 'Lower limit of uncertainty',\n",
       " 'Upper limit of Flux Density',\n",
       " 'Lower limit of Flux Density',\n",
       " 'NED Uncertainty',\n",
       " 'NED Units',\n",
       " 'Refcode']"
      ]
     },
     "execution_count": 67,
     "metadata": {},
     "output_type": "execute_result"
    }
   ],
   "source": [
    "ned_tables[12223].colnames"
   ]
  },
  {
   "cell_type": "code",
   "execution_count": 68,
   "metadata": {},
   "outputs": [],
   "source": [
    "# empty_counter = 0\n",
    "# res_tab       = {}\n",
    "# for name in large_sample_names:\n",
    "#     try:\n",
    "#         res_tab[name] = customNed.query_region(large_sample_coords, radius=3.0*u.arcsec)[0]\n",
    "#         res_tab[name].remove_columns(fields_to_remove)\n",
    "#     except:\n",
    "#         res_tab[name] = Table()\n",
    "#         empty_counter += 1"
   ]
  },
  {
   "cell_type": "code",
   "execution_count": 71,
   "metadata": {},
   "outputs": [],
   "source": [
    "if order_ned_photometry_flag:\n",
    "    limit_set_ned = int(np.floor(np.shape(ned_names)[0]/4))"
   ]
  },
  {
   "cell_type": "code",
   "execution_count": 69,
   "metadata": {},
   "outputs": [
    {
     "name": "stderr",
     "output_type": "stream",
     "text": [
      "100% (18023 of 18023) |##################| Elapsed Time: 0:56:45 Time:  0:56:45\n"
     ]
    }
   ],
   "source": [
    "if order_ned_photometry_flag:\n",
    "    temp_table_ned_photo             = Table()\n",
    "    chunk_size                       = 300  # Number of elements to calculate before dumping results to external table\n",
    "    with progressbar.ProgressBar(min_value=0, max_value=np.shape(ned_names)[0]) as bar:\n",
    "        for index, source_name in enumerate(ned_names):  # Some names will be. 'No Name'\n",
    "            band_names_str           = []\n",
    "            column_names_str         = []\n",
    "            measure_names            = ned_tables[index].colnames[1:]\n",
    "            # init_table = Table(names=('MAIN_ID',), dtype=('str',), masked=True)\n",
    "            cord_str                 = coords_simbad_inayoshi[index].to_string('decimal')\n",
    "            init_table               = Table(data=np.array([cord_str, source_name]), names=('COORD', 'MAIN_ID'), dtype=('str', 'str'), masked=True)\n",
    "            if source_name == 'No Name':\n",
    "                # init_table = Table(('No Name',), names=('MAIN_ID',), dtype=('str',), masked=True)\n",
    "                # init_table.add_row(('No Name',), mask=(True,)) # Mask values in the last step instead\n",
    "                if index == 0 or (index % chunk_size == 1 and index > 1):\n",
    "                    init_table_large     = Table(init_table)\n",
    "                    bar.update(index)\n",
    "                    continue\n",
    "                init_table_large     = vstack([init_table_large, init_table])\n",
    "                if index % chunk_size == 0 and index > 0:\n",
    "                    temp_table_ned_photo = vstack([temp_table_ned_photo, init_table_large])\n",
    "                    # result_table_simbad_copy = join(result_table_simbad_copy, init_table_large, keys='COORD', join_type='outer')\n",
    "                bar.update(index)\n",
    "                continue\n",
    "            if len(measure_names) == 0:\n",
    "                # init_table = Table(('No Name',), names=('MAIN_ID',), dtype=('str',), masked=True)\n",
    "                # init_table.add_row((source_name,), mask=(True,))\n",
    "                if index == 0 or (index % chunk_size == 1 and index > 1):\n",
    "                    init_table_large     = Table(init_table)\n",
    "                    bar.update(index)\n",
    "                    continue\n",
    "                init_table_large     = vstack([init_table_large, init_table])\n",
    "                if index % chunk_size == 0 and index > 0:\n",
    "                    temp_table_ned_photo = vstack([temp_table_ned_photo, init_table_large])\n",
    "                    # result_table_simbad_copy = join(result_table_simbad_copy, init_table_large, keys='COORD', join_type='outer')\n",
    "                bar.update(index)\n",
    "                continue\n",
    "            # init_table = Table((str(source_name),), names=('MAIN_ID',), dtype=('str',), masked=True)\n",
    "            # init_table.add_row((str(source_name),))\n",
    "            for row in ned_tables[index]:\n",
    "                band_name_str        = str(row['Observed Passband'].decode('utf-8'))\n",
    "                if str(band_name_str) not in band_names_str:\n",
    "                    band_names_str.append(str(band_name_str))\n",
    "                    column_name_flux = 'Flux Density ' + band_name_str\n",
    "                    column_name_err  = 'NED Uncertainty ' + band_name_str\n",
    "                    if column_name_flux not in column_names_str:\n",
    "                        column_names_str.append(column_name_flux)\n",
    "                        column_flux  = MaskedColumn(row['Flux Density'], name=column_name_flux, unit=ned_tables[index]['Flux Density'].unit, dtype='float')\n",
    "                        column_err   = MaskedColumn(row['NED Uncertainty'], name=column_name_err, dtype='str')\n",
    "                        init_table.add_columns((column_flux, column_err))\n",
    "            #init_table.remove_column('MAIN_ID')\n",
    "            if index == 0 or (index % chunk_size == 1 and index > 1):\n",
    "                init_table_large     = Table(init_table)\n",
    "                bar.update(index)\n",
    "                continue\n",
    "            init_table_large         = vstack([init_table_large, init_table])\n",
    "            if index % chunk_size == 0 and index > 0:\n",
    "                temp_table_ned_photo = vstack([temp_table_ned_photo, init_table_large])\n",
    "                # result_table_simbad_copy = join(result_table_simbad_copy, init_table_large, keys='COORD', join_type='outer')\n",
    "            bar.update(index)\n",
    "    temp_table_ned_photo = vstack([temp_table_ned_photo, init_table_large])\n",
    "    # result_table_simbad_copy = join(result_table_simbad_copy, init_table_large, keys='COORD', join_type='outer')\n",
    "    #result_table_simbad_copy         = Table(result_table_simbad)\n",
    "    #result_table_simbad_copy.add_column(coords_simbad_inayoshi.to_string('decimal'), name='COORD')"
   ]
  },
  {
   "cell_type": "code",
   "execution_count": 70,
   "metadata": {},
   "outputs": [
    {
     "data": {
      "text/plain": [
       "1852"
      ]
     },
     "execution_count": 70,
     "metadata": {},
     "output_type": "execute_result"
    }
   ],
   "source": [
    "len(temp_table_ned_photo.colnames)"
   ]
  },
  {
   "cell_type": "code",
   "execution_count": 71,
   "metadata": {},
   "outputs": [
    {
     "data": {
      "text/plain": [
       "17979"
      ]
     },
     "execution_count": 71,
     "metadata": {},
     "output_type": "execute_result"
    }
   ],
   "source": [
    "len(np.unique(coords_simbad_inayoshi.to_string('hmsdms'), return_index=True)[1])"
   ]
  },
  {
   "cell_type": "code",
   "execution_count": 89,
   "metadata": {},
   "outputs": [
    {
     "data": {
      "text/plain": [
       "18023"
      ]
     },
     "execution_count": 89,
     "metadata": {},
     "output_type": "execute_result"
    }
   ],
   "source": [
    "len(coords_simbad_inayoshi.to_string('hmsdms'))"
   ]
  },
  {
   "cell_type": "code",
   "execution_count": 78,
   "metadata": {},
   "outputs": [],
   "source": [
    "aaa, bbb, ccc, ddd = np.unique(temp_table_ned_photo['COORD'], return_index=True, return_inverse=True, return_counts=True)"
   ]
  },
  {
   "cell_type": "code",
   "execution_count": 88,
   "metadata": {},
   "outputs": [
    {
     "data": {
      "text/plain": [
       "(array([    0,     1,     2, ..., 17976, 17977, 17978]),)"
      ]
     },
     "execution_count": 88,
     "metadata": {},
     "output_type": "execute_result"
    }
   ],
   "source": [
    "np.where(ddd == 1)"
   ]
  },
  {
   "cell_type": "code",
   "execution_count": 86,
   "metadata": {},
   "outputs": [
    {
     "data": {
      "text/plain": [
       "(array([1934]),)"
      ]
     },
     "execution_count": 86,
     "metadata": {},
     "output_type": "execute_result"
    }
   ],
   "source": [
    "np.where(temp_table_ned_photo['COORD'] == temp_table_ned_photo[1934]['COORD'])"
   ]
  },
  {
   "cell_type": "code",
   "execution_count": 85,
   "metadata": {},
   "outputs": [
    {
     "data": {
      "text/plain": [
       "'199.505 8.9605'"
      ]
     },
     "execution_count": 85,
     "metadata": {},
     "output_type": "execute_result"
    }
   ],
   "source": [
    "temp_table_ned_photo[1934]['COORD']"
   ]
  },
  {
   "cell_type": "code",
   "execution_count": 73,
   "metadata": {},
   "outputs": [
    {
     "data": {
      "text/html": [
       "&lt;MaskedColumn name=&apos;COORD&apos; dtype=&apos;str30&apos; length=17979&gt;\n",
       "<table>\n",
       "<tr><td>0.00532383 -2.03326</td></tr>\n",
       "<tr><td>0.1126 3.121</td></tr>\n",
       "<tr><td>0.128255 1.87252</td></tr>\n",
       "<tr><td>0.13136 -8.69582</td></tr>\n",
       "<tr><td>0.182201 0.333873</td></tr>\n",
       "<tr><td>0.210845 -10.3655</td></tr>\n",
       "<tr><td>0.214856 0.200727</td></tr>\n",
       "<tr><td>0.216824 -4.29527</td></tr>\n",
       "<tr><td>0.229011 1.02873</td></tr>\n",
       "<tr><td>0.247222 7.15</td></tr>\n",
       "<tr><td>0.284773 12.7329</td></tr>\n",
       "<tr><td>0.29665 -0.336548</td></tr>\n",
       "<tr><td>...</td></tr>\n",
       "<tr><td>9.10474 1.75418</td></tr>\n",
       "<tr><td>9.11244 0.217686</td></tr>\n",
       "<tr><td>9.27624 -5.01984</td></tr>\n",
       "<tr><td>9.34476 15.1688</td></tr>\n",
       "<tr><td>9.40664 -4.99404</td></tr>\n",
       "<tr><td>9.47076 8.66281</td></tr>\n",
       "<tr><td>9.50638 0.673469</td></tr>\n",
       "<tr><td>9.5662 11.6921</td></tr>\n",
       "<tr><td>9.64606 -4.59978</td></tr>\n",
       "<tr><td>9.68326 3.18914</td></tr>\n",
       "<tr><td>9.70201 7.84988</td></tr>\n",
       "<tr><td>9.84662 -0.247982</td></tr>\n",
       "</table>"
      ],
      "text/plain": [
       "<MaskedColumn name='COORD' dtype='str30' length=17979>\n",
       "0.00532383 -2.03326\n",
       "       0.1126 3.121\n",
       "   0.128255 1.87252\n",
       "   0.13136 -8.69582\n",
       "  0.182201 0.333873\n",
       "  0.210845 -10.3655\n",
       "  0.214856 0.200727\n",
       "  0.216824 -4.29527\n",
       "   0.229011 1.02873\n",
       "      0.247222 7.15\n",
       "   0.284773 12.7329\n",
       "  0.29665 -0.336548\n",
       "                ...\n",
       "    9.10474 1.75418\n",
       "   9.11244 0.217686\n",
       "   9.27624 -5.01984\n",
       "    9.34476 15.1688\n",
       "   9.40664 -4.99404\n",
       "    9.47076 8.66281\n",
       "   9.50638 0.673469\n",
       "     9.5662 11.6921\n",
       "   9.64606 -4.59978\n",
       "    9.68326 3.18914\n",
       "    9.70201 7.84988\n",
       "  9.84662 -0.247982"
      ]
     },
     "execution_count": 73,
     "metadata": {},
     "output_type": "execute_result"
    }
   ],
   "source": [
    "temp_table_ned_photo['COORD'][np.unique(temp_table_ned_photo['COORD'], return_index=True)[1]]"
   ]
  },
  {
   "cell_type": "code",
   "execution_count": 158,
   "metadata": {},
   "outputs": [],
   "source": [
    "indices = np.array(ned_names == 'No Name')"
   ]
  },
  {
   "cell_type": "code",
   "execution_count": 183,
   "metadata": {},
   "outputs": [],
   "source": [
    "aaa = np.array(np.unique(coords_simbad_inayoshi.to_string('decimal', precision=10), return_index=True)[1])"
   ]
  },
  {
   "cell_type": "code",
   "execution_count": 178,
   "metadata": {},
   "outputs": [],
   "source": [
    "bbb = np.array(np.unique(test_copy_simbad['MAIN_ID'], return_index=True)[1])"
   ]
  },
  {
   "cell_type": "code",
   "execution_count": 184,
   "metadata": {},
   "outputs": [
    {
     "data": {
      "text/plain": [
       "17979"
      ]
     },
     "execution_count": 184,
     "metadata": {},
     "output_type": "execute_result"
    }
   ],
   "source": [
    "len(aaa)"
   ]
  },
  {
   "cell_type": "code",
   "execution_count": 177,
   "metadata": {},
   "outputs": [
    {
     "data": {
      "text/plain": [
       "18023"
      ]
     },
     "execution_count": 177,
     "metadata": {},
     "output_type": "execute_result"
    }
   ],
   "source": [
    "len(np.unique(np.arange(18023)))"
   ]
  },
  {
   "cell_type": "code",
   "execution_count": 188,
   "metadata": {},
   "outputs": [],
   "source": [
    "coords_list = np.array(coords_simbad_inayoshi.to_string('decimal', precision=15))"
   ]
  },
  {
   "cell_type": "code",
   "execution_count": 186,
   "metadata": {},
   "outputs": [
    {
     "data": {
      "text/plain": [
       "array(['0.890486368971400 12.271402401646000',\n",
       "       '1.583852646067900 12.394228118483101',\n",
       "       '10.457596145485100 5.117498616294700',\n",
       "       '11.934366786710200 3.852404365627400',\n",
       "       '12.283999493272500 -5.527044373625600',\n",
       "       '149.430010000000010 1.830740000000000',\n",
       "       '149.483587999999997 2.318789000000000',\n",
       "       '149.656838999999991 1.607648000000000',\n",
       "       '149.666831000000002 1.796849000000000',\n",
       "       '149.679290000000009 2.250490000000000',\n",
       "       '149.721973999999989 1.670438000000000',\n",
       "       '149.751955000000009 1.892047000000000',\n",
       "       '149.865170000000006 1.968580000000000',\n",
       "       '149.873057999999986 2.377983000000000',\n",
       "       '149.893570000000011 1.792930000000000',\n",
       "       '149.904669000000013 2.863645000000000',\n",
       "       '150.135257999999993 1.944202000000000',\n",
       "       '150.148514000000006 2.881495000000000',\n",
       "       '150.223264000000000 1.801835000000000',\n",
       "       '150.288458999999989 1.682514000000000',\n",
       "       '150.346552000000003 1.671323000000000',\n",
       "       '150.383342999999996 2.449567000000000',\n",
       "       '150.399811999999997 2.220957000000000',\n",
       "       '150.475268000000000 1.935272000000000',\n",
       "       '150.686027999999993 2.577152000000000',\n",
       "       '150.782120999999989 2.539348000000000',\n",
       "       '150.814697999999993 2.258262000000000',\n",
       "       '150.817647999999991 1.639718000000000',\n",
       "       '156.197187000000014 -1.609367000000000',\n",
       "       '20.972648039503898 10.887670988079300',\n",
       "       '232.707920000000001 10.824999999999999',\n",
       "       '248.991408239061286 19.075192318987700',\n",
       "       '28.909652000000001 2.655304000000000',\n",
       "       '28.940980000000000 3.731484000000000',\n",
       "       '319.429055000000005 6.190659000000000',\n",
       "       '331.244256432119300 7.044153026512200',\n",
       "       '334.498271196720111 6.073989178832800',\n",
       "       '337.030646124452574 -2.354753956171200',\n",
       "       '337.074869021276697 -2.055711307165300',\n",
       "       '343.469092885448219 4.631728795751500',\n",
       "       '350.853838653524122 3.545037316483900',\n",
       "       '355.201094000000012 -2.012952000000000',\n",
       "       '355.876777000000004 7.099493000000000',\n",
       "       '44.658448999999997 4.151353000000000'], dtype='<U39')"
      ]
     },
     "execution_count": 186,
     "metadata": {},
     "output_type": "execute_result"
    }
   ],
   "source": [
    "np.unique(coords_list[indices])"
   ]
  },
  {
   "cell_type": "code",
   "execution_count": 172,
   "metadata": {},
   "outputs": [
    {
     "data": {
      "text/plain": [
       "17979"
      ]
     },
     "execution_count": 172,
     "metadata": {},
     "output_type": "execute_result"
    }
   ],
   "source": [
    "len(np.unique(coords_list))"
   ]
  },
  {
   "cell_type": "code",
   "execution_count": 149,
   "metadata": {},
   "outputs": [
    {
     "data": {
      "text/plain": [
       "18023"
      ]
     },
     "execution_count": 149,
     "metadata": {},
     "output_type": "execute_result"
    }
   ],
   "source": [
    "len(coords_simbad_inayoshi)"
   ]
  },
  {
   "cell_type": "code",
   "execution_count": 143,
   "metadata": {},
   "outputs": [
    {
     "data": {
      "text/plain": [
       "18023"
      ]
     },
     "execution_count": 143,
     "metadata": {},
     "output_type": "execute_result"
    }
   ],
   "source": [
    "len(result_table_simbad)"
   ]
  },
  {
   "cell_type": "code",
   "execution_count": 117,
   "metadata": {},
   "outputs": [],
   "source": [
    "test_copy_simbad = Table(result_table_simbad)"
   ]
  },
  {
   "cell_type": "code",
   "execution_count": 128,
   "metadata": {},
   "outputs": [],
   "source": [
    "coord_col = MaskedColumn(coords_simbad_inayoshi.to_string('decimal'), name='COORD', dtype='str')"
   ]
  },
  {
   "cell_type": "code",
   "execution_count": 129,
   "metadata": {},
   "outputs": [],
   "source": [
    "test_copy_simbad.add_column(coord_col)"
   ]
  },
  {
   "cell_type": "code",
   "execution_count": 133,
   "metadata": {},
   "outputs": [],
   "source": [
    "test_copy_ned    = Table(temp_table_ned_photo)\n",
    "test_copy_ned.remove_column('MAIN_ID')"
   ]
  },
  {
   "cell_type": "code",
   "execution_count": 134,
   "metadata": {},
   "outputs": [],
   "source": [
    "test_copy_stack  = join(test_copy_simbad, test_copy_ned, keys='COORD', join_type='outer')"
   ]
  },
  {
   "cell_type": "code",
   "execution_count": 142,
   "metadata": {},
   "outputs": [
    {
     "data": {
      "text/plain": [
       "18141"
      ]
     },
     "execution_count": 142,
     "metadata": {},
     "output_type": "execute_result"
    }
   ],
   "source": [
    "len(test_copy_stack)"
   ]
  },
  {
   "cell_type": "code",
   "execution_count": 195,
   "metadata": {},
   "outputs": [
    {
     "ename": "KeyError",
     "evalue": "'TTYPE1000'",
     "output_type": "error",
     "traceback": [
      "\u001b[0;31m---------------------------------------------------------------------------\u001b[0m",
      "\u001b[0;31mKeyError\u001b[0m                                  Traceback (most recent call last)",
      "\u001b[0;32m<ipython-input-195-02ee3beed9cb>\u001b[0m in \u001b[0;36m<module>\u001b[0;34m\u001b[0m\n\u001b[0;32m----> 1\u001b[0;31m \u001b[0mtest_copy_stack\u001b[0m\u001b[0;34m[\u001b[0m\u001b[0;36m999\u001b[0m\u001b[0;34m]\u001b[0m\u001b[0;34m.\u001b[0m\u001b[0mmeta\u001b[0m\u001b[0;34m[\u001b[0m\u001b[0;34m'TTYPE1000'\u001b[0m\u001b[0;34m]\u001b[0m\u001b[0;34m\u001b[0m\u001b[0;34m\u001b[0m\u001b[0m\n\u001b[0m",
      "\u001b[0;31mKeyError\u001b[0m: 'TTYPE1000'"
     ]
    }
   ],
   "source": [
    "test_copy_stack[999].meta['TTYPE1000']"
   ]
  },
  {
   "cell_type": "code",
   "execution_count": null,
   "metadata": {},
   "outputs": [],
   "source": [
    "test_copy_stack.info"
   ]
  },
  {
   "cell_type": "code",
   "execution_count": 197,
   "metadata": {},
   "outputs": [
    {
     "ename": "ValueError",
     "evalue": "Unable to create dataset (object header message is too large)",
     "output_type": "error",
     "traceback": [
      "\u001b[0;31m---------------------------------------------------------------------------\u001b[0m",
      "\u001b[0;31mValueError\u001b[0m                                Traceback (most recent call last)",
      "\u001b[0;32m<ipython-input-197-5817fd3d69e3>\u001b[0m in \u001b[0;36m<module>\u001b[0;34m\u001b[0m\n\u001b[1;32m      1\u001b[0m \u001b[0;32mif\u001b[0m \u001b[0mcreate_simbad_inayoshi_ned_flag\u001b[0m\u001b[0;34m:\u001b[0m\u001b[0;34m\u001b[0m\u001b[0;34m\u001b[0m\u001b[0m\n\u001b[0;32m----> 2\u001b[0;31m     \u001b[0mtest_copy_stack\u001b[0m\u001b[0;34m.\u001b[0m\u001b[0mwrite\u001b[0m\u001b[0;34m(\u001b[0m\u001b[0;34m'large_cat_simbad_inayoshi_ned.hdf5'\u001b[0m\u001b[0;34m,\u001b[0m \u001b[0mformat\u001b[0m\u001b[0;34m=\u001b[0m\u001b[0;34m'hdf5'\u001b[0m\u001b[0;34m,\u001b[0m \u001b[0moverwrite\u001b[0m\u001b[0;34m=\u001b[0m\u001b[0;32mTrue\u001b[0m\u001b[0;34m,\u001b[0m \u001b[0mserialize_method\u001b[0m\u001b[0;34m=\u001b[0m\u001b[0;34m'data_mask'\u001b[0m\u001b[0;34m,\u001b[0m \u001b[0mserialize_meta\u001b[0m\u001b[0;34m=\u001b[0m\u001b[0;32mTrue\u001b[0m\u001b[0;34m)\u001b[0m\u001b[0;34m\u001b[0m\u001b[0;34m\u001b[0m\u001b[0m\n\u001b[0m",
      "\u001b[0;32m~/.anaconda3/lib/python3.7/site-packages/astropy/table/connect.py\u001b[0m in \u001b[0;36m__call__\u001b[0;34m(self, serialize_method, *args, **kwargs)\u001b[0m\n\u001b[1;32m    111\u001b[0m         \u001b[0minstance\u001b[0m \u001b[0;34m=\u001b[0m \u001b[0mself\u001b[0m\u001b[0;34m.\u001b[0m\u001b[0m_instance\u001b[0m\u001b[0;34m\u001b[0m\u001b[0;34m\u001b[0m\u001b[0m\n\u001b[1;32m    112\u001b[0m         \u001b[0;32mwith\u001b[0m \u001b[0mserialize_method_as\u001b[0m\u001b[0;34m(\u001b[0m\u001b[0minstance\u001b[0m\u001b[0;34m,\u001b[0m \u001b[0mserialize_method\u001b[0m\u001b[0;34m)\u001b[0m\u001b[0;34m:\u001b[0m\u001b[0;34m\u001b[0m\u001b[0;34m\u001b[0m\u001b[0m\n\u001b[0;32m--> 113\u001b[0;31m             \u001b[0mregistry\u001b[0m\u001b[0;34m.\u001b[0m\u001b[0mwrite\u001b[0m\u001b[0;34m(\u001b[0m\u001b[0minstance\u001b[0m\u001b[0;34m,\u001b[0m \u001b[0;34m*\u001b[0m\u001b[0margs\u001b[0m\u001b[0;34m,\u001b[0m \u001b[0;34m**\u001b[0m\u001b[0mkwargs\u001b[0m\u001b[0;34m)\u001b[0m\u001b[0;34m\u001b[0m\u001b[0;34m\u001b[0m\u001b[0m\n\u001b[0m",
      "\u001b[0;32m~/.anaconda3/lib/python3.7/site-packages/astropy/io/registry.py\u001b[0m in \u001b[0;36mwrite\u001b[0;34m(data, format, *args, **kwargs)\u001b[0m\n\u001b[1;32m    564\u001b[0m \u001b[0;34m\u001b[0m\u001b[0m\n\u001b[1;32m    565\u001b[0m     \u001b[0mwriter\u001b[0m \u001b[0;34m=\u001b[0m \u001b[0mget_writer\u001b[0m\u001b[0;34m(\u001b[0m\u001b[0mformat\u001b[0m\u001b[0;34m,\u001b[0m \u001b[0mdata\u001b[0m\u001b[0;34m.\u001b[0m\u001b[0m__class__\u001b[0m\u001b[0;34m)\u001b[0m\u001b[0;34m\u001b[0m\u001b[0;34m\u001b[0m\u001b[0m\n\u001b[0;32m--> 566\u001b[0;31m     \u001b[0mwriter\u001b[0m\u001b[0;34m(\u001b[0m\u001b[0mdata\u001b[0m\u001b[0;34m,\u001b[0m \u001b[0;34m*\u001b[0m\u001b[0margs\u001b[0m\u001b[0;34m,\u001b[0m \u001b[0;34m**\u001b[0m\u001b[0mkwargs\u001b[0m\u001b[0;34m)\u001b[0m\u001b[0;34m\u001b[0m\u001b[0;34m\u001b[0m\u001b[0m\n\u001b[0m\u001b[1;32m    567\u001b[0m \u001b[0;34m\u001b[0m\u001b[0m\n\u001b[1;32m    568\u001b[0m \u001b[0;34m\u001b[0m\u001b[0m\n",
      "\u001b[0;32m~/.anaconda3/lib/python3.7/site-packages/astropy/io/misc/hdf5.py\u001b[0m in \u001b[0;36mwrite_table_hdf5\u001b[0;34m(table, output, path, compression, append, overwrite, serialize_meta)\u001b[0m\n\u001b[1;32m    304\u001b[0m                                     \u001b[0mcompression\u001b[0m\u001b[0;34m=\u001b[0m\u001b[0mcompression\u001b[0m\u001b[0;34m,\u001b[0m \u001b[0mappend\u001b[0m\u001b[0;34m=\u001b[0m\u001b[0mappend\u001b[0m\u001b[0;34m,\u001b[0m\u001b[0;34m\u001b[0m\u001b[0;34m\u001b[0m\u001b[0m\n\u001b[1;32m    305\u001b[0m                                     \u001b[0moverwrite\u001b[0m\u001b[0;34m=\u001b[0m\u001b[0moverwrite\u001b[0m\u001b[0;34m,\u001b[0m\u001b[0;34m\u001b[0m\u001b[0;34m\u001b[0m\u001b[0m\n\u001b[0;32m--> 306\u001b[0;31m                                     serialize_meta=serialize_meta)\n\u001b[0m\u001b[1;32m    307\u001b[0m         \u001b[0;32mfinally\u001b[0m\u001b[0;34m:\u001b[0m\u001b[0;34m\u001b[0m\u001b[0;34m\u001b[0m\u001b[0m\n\u001b[1;32m    308\u001b[0m             \u001b[0mf\u001b[0m\u001b[0;34m.\u001b[0m\u001b[0mclose\u001b[0m\u001b[0;34m(\u001b[0m\u001b[0;34m)\u001b[0m\u001b[0;34m\u001b[0m\u001b[0;34m\u001b[0m\u001b[0m\n",
      "\u001b[0;32m~/.anaconda3/lib/python3.7/site-packages/astropy/io/misc/hdf5.py\u001b[0m in \u001b[0;36mwrite_table_hdf5\u001b[0;34m(table, output, path, compression, append, overwrite, serialize_meta)\u001b[0m\n\u001b[1;32m    352\u001b[0m                                            compression=compression)\n\u001b[1;32m    353\u001b[0m     \u001b[0;32melse\u001b[0m\u001b[0;34m:\u001b[0m\u001b[0;34m\u001b[0m\u001b[0;34m\u001b[0m\u001b[0m\n\u001b[0;32m--> 354\u001b[0;31m         \u001b[0mdset\u001b[0m \u001b[0;34m=\u001b[0m \u001b[0moutput_group\u001b[0m\u001b[0;34m.\u001b[0m\u001b[0mcreate_dataset\u001b[0m\u001b[0;34m(\u001b[0m\u001b[0mname\u001b[0m\u001b[0;34m,\u001b[0m \u001b[0mdata\u001b[0m\u001b[0;34m=\u001b[0m\u001b[0mtable\u001b[0m\u001b[0;34m.\u001b[0m\u001b[0mas_array\u001b[0m\u001b[0;34m(\u001b[0m\u001b[0;34m)\u001b[0m\u001b[0;34m)\u001b[0m\u001b[0;34m\u001b[0m\u001b[0;34m\u001b[0m\u001b[0m\n\u001b[0m\u001b[1;32m    355\u001b[0m \u001b[0;34m\u001b[0m\u001b[0m\n\u001b[1;32m    356\u001b[0m     \u001b[0;32mif\u001b[0m \u001b[0mserialize_meta\u001b[0m\u001b[0;34m:\u001b[0m\u001b[0;34m\u001b[0m\u001b[0;34m\u001b[0m\u001b[0m\n",
      "\u001b[0;32m~/.anaconda3/lib/python3.7/site-packages/h5py/_hl/group.py\u001b[0m in \u001b[0;36mcreate_dataset\u001b[0;34m(self, name, shape, dtype, data, **kwds)\u001b[0m\n\u001b[1;32m    134\u001b[0m \u001b[0;34m\u001b[0m\u001b[0m\n\u001b[1;32m    135\u001b[0m         \u001b[0;32mwith\u001b[0m \u001b[0mphil\u001b[0m\u001b[0;34m:\u001b[0m\u001b[0;34m\u001b[0m\u001b[0;34m\u001b[0m\u001b[0m\n\u001b[0;32m--> 136\u001b[0;31m             \u001b[0mdsid\u001b[0m \u001b[0;34m=\u001b[0m \u001b[0mdataset\u001b[0m\u001b[0;34m.\u001b[0m\u001b[0mmake_new_dset\u001b[0m\u001b[0;34m(\u001b[0m\u001b[0mself\u001b[0m\u001b[0;34m,\u001b[0m \u001b[0mshape\u001b[0m\u001b[0;34m,\u001b[0m \u001b[0mdtype\u001b[0m\u001b[0;34m,\u001b[0m \u001b[0mdata\u001b[0m\u001b[0;34m,\u001b[0m \u001b[0;34m**\u001b[0m\u001b[0mkwds\u001b[0m\u001b[0;34m)\u001b[0m\u001b[0;34m\u001b[0m\u001b[0;34m\u001b[0m\u001b[0m\n\u001b[0m\u001b[1;32m    137\u001b[0m             \u001b[0mdset\u001b[0m \u001b[0;34m=\u001b[0m \u001b[0mdataset\u001b[0m\u001b[0;34m.\u001b[0m\u001b[0mDataset\u001b[0m\u001b[0;34m(\u001b[0m\u001b[0mdsid\u001b[0m\u001b[0;34m)\u001b[0m\u001b[0;34m\u001b[0m\u001b[0;34m\u001b[0m\u001b[0m\n\u001b[1;32m    138\u001b[0m             \u001b[0;32mif\u001b[0m \u001b[0mname\u001b[0m \u001b[0;32mis\u001b[0m \u001b[0;32mnot\u001b[0m \u001b[0;32mNone\u001b[0m\u001b[0;34m:\u001b[0m\u001b[0;34m\u001b[0m\u001b[0;34m\u001b[0m\u001b[0m\n",
      "\u001b[0;32m~/.anaconda3/lib/python3.7/site-packages/h5py/_hl/dataset.py\u001b[0m in \u001b[0;36mmake_new_dset\u001b[0;34m(parent, shape, dtype, data, chunks, compression, shuffle, fletcher32, maxshape, compression_opts, fillvalue, scaleoffset, track_times, external, track_order, dcpl)\u001b[0m\n\u001b[1;32m    165\u001b[0m \u001b[0;34m\u001b[0m\u001b[0m\n\u001b[1;32m    166\u001b[0m \u001b[0;34m\u001b[0m\u001b[0m\n\u001b[0;32m--> 167\u001b[0;31m     \u001b[0mdset_id\u001b[0m \u001b[0;34m=\u001b[0m \u001b[0mh5d\u001b[0m\u001b[0;34m.\u001b[0m\u001b[0mcreate\u001b[0m\u001b[0;34m(\u001b[0m\u001b[0mparent\u001b[0m\u001b[0;34m.\u001b[0m\u001b[0mid\u001b[0m\u001b[0;34m,\u001b[0m \u001b[0;32mNone\u001b[0m\u001b[0;34m,\u001b[0m \u001b[0mtid\u001b[0m\u001b[0;34m,\u001b[0m \u001b[0msid\u001b[0m\u001b[0;34m,\u001b[0m \u001b[0mdcpl\u001b[0m\u001b[0;34m=\u001b[0m\u001b[0mdcpl\u001b[0m\u001b[0;34m)\u001b[0m\u001b[0;34m\u001b[0m\u001b[0;34m\u001b[0m\u001b[0m\n\u001b[0m\u001b[1;32m    168\u001b[0m \u001b[0;34m\u001b[0m\u001b[0m\n\u001b[1;32m    169\u001b[0m     \u001b[0;32mif\u001b[0m \u001b[0;34m(\u001b[0m\u001b[0mdata\u001b[0m \u001b[0;32mis\u001b[0m \u001b[0;32mnot\u001b[0m \u001b[0;32mNone\u001b[0m\u001b[0;34m)\u001b[0m \u001b[0;32mand\u001b[0m \u001b[0;34m(\u001b[0m\u001b[0;32mnot\u001b[0m \u001b[0misinstance\u001b[0m\u001b[0;34m(\u001b[0m\u001b[0mdata\u001b[0m\u001b[0;34m,\u001b[0m \u001b[0mEmpty\u001b[0m\u001b[0;34m)\u001b[0m\u001b[0;34m)\u001b[0m\u001b[0;34m:\u001b[0m\u001b[0;34m\u001b[0m\u001b[0;34m\u001b[0m\u001b[0m\n",
      "\u001b[0;32mh5py/_objects.pyx\u001b[0m in \u001b[0;36mh5py._objects.with_phil.wrapper\u001b[0;34m()\u001b[0m\n",
      "\u001b[0;32mh5py/_objects.pyx\u001b[0m in \u001b[0;36mh5py._objects.with_phil.wrapper\u001b[0;34m()\u001b[0m\n",
      "\u001b[0;32mh5py/h5d.pyx\u001b[0m in \u001b[0;36mh5py.h5d.create\u001b[0;34m()\u001b[0m\n",
      "\u001b[0;31mValueError\u001b[0m: Unable to create dataset (object header message is too large)"
     ]
    }
   ],
   "source": [
    "if create_simbad_inayoshi_ned_flag:\n",
    "    test_copy_stack.write('large_cat_simbad_inayoshi_ned.hdf5', format='hdf5', overwrite=True, serialize_method='data_mask', serialize_meta=True)"
   ]
  },
  {
   "cell_type": "code",
   "execution_count": null,
   "metadata": {},
   "outputs": [],
   "source": [
    "if create_simbad_inayoshi_ned_flag:\n",
    "    test_copy_stack.write('large_cat_simbad_inayoshi_ned.fits', format='fits', overwrite=True, serialize_method='data_mask')"
   ]
  },
  {
   "cell_type": "code",
   "execution_count": 135,
   "metadata": {},
   "outputs": [
    {
     "data": {
      "text/plain": [
       "1880"
      ]
     },
     "execution_count": 135,
     "metadata": {},
     "output_type": "execute_result"
    }
   ],
   "source": [
    "len(np.unique(test_copy_stack.colnames))"
   ]
  },
  {
   "cell_type": "code",
   "execution_count": 136,
   "metadata": {},
   "outputs": [
    {
     "data": {
      "text/plain": [
       "['MAIN_ID',\n",
       " 'RA_d',\n",
       " 'DEC_d',\n",
       " 'Z_VALUE',\n",
       " 'FLUX_B',\n",
       " 'FLUX_ERROR_B',\n",
       " 'FLUX_V',\n",
       " 'FLUX_ERROR_V',\n",
       " 'FLUX_R',\n",
       " 'FLUX_ERROR_R',\n",
       " 'FLUX_I',\n",
       " 'FLUX_ERROR_I',\n",
       " 'FLUX_J',\n",
       " 'FLUX_ERROR_J',\n",
       " 'FLUX_K',\n",
       " 'FLUX_ERROR_K',\n",
       " 'CAT_NAME',\n",
       " 'Z_OWN',\n",
       " 'Z_OWN_ERR',\n",
       " 'L_20CM',\n",
       " 'L_20CM_ERR',\n",
       " 'L_20CM_UP_LIM',\n",
       " 'L_250GHZ',\n",
       " 'L_250GHZ_ERR',\n",
       " 'F_20CM',\n",
       " 'F_20CM_ERR',\n",
       " 'F_250GHZ',\n",
       " 'F_250GHZ_ERR',\n",
       " 'MASS_1450',\n",
       " 'COORD',\n",
       " 'Flux Density u (SDSS PSF) AB',\n",
       " 'NED Uncertainty u (SDSS PSF) AB',\n",
       " 'Flux Density g (SDSS PSF) AB',\n",
       " 'NED Uncertainty g (SDSS PSF) AB',\n",
       " 'Flux Density r (SDSS PSF) AB',\n",
       " 'NED Uncertainty r (SDSS PSF) AB',\n",
       " 'Flux Density i (SDSS PSF) AB',\n",
       " 'NED Uncertainty i (SDSS PSF) AB',\n",
       " 'Flux Density z (SDSS PSF) AB',\n",
       " 'NED Uncertainty z (SDSS PSF) AB',\n",
       " 'Flux Density W1 (WISE)',\n",
       " 'NED Uncertainty W1 (WISE)',\n",
       " 'Flux Density W2 (WISE)',\n",
       " 'NED Uncertainty W2 (WISE)',\n",
       " 'Flux Density W3 (WISE)',\n",
       " 'NED Uncertainty W3 (WISE)',\n",
       " 'Flux Density W4 (WISE)',\n",
       " 'NED Uncertainty W4 (WISE)',\n",
       " 'Flux Density 1700 A (SDSS)',\n",
       " 'NED Uncertainty 1700 A (SDSS)',\n",
       " 'Flux Density NUV (GALEX) AB',\n",
       " 'NED Uncertainty NUV (GALEX) AB',\n",
       " 'Flux Density u (SDSS Model) AB',\n",
       " 'NED Uncertainty u (SDSS Model) AB',\n",
       " 'Flux Density u (SDSS CModel) AB',\n",
       " 'NED Uncertainty u (SDSS CModel) AB',\n",
       " 'Flux Density u (SDSS Petrosian)AB',\n",
       " 'NED Uncertainty u (SDSS Petrosian)AB',\n",
       " 'Flux Density g (SDSS Model) AB',\n",
       " 'NED Uncertainty g (SDSS Model) AB',\n",
       " 'Flux Density g (SDSS CModel) AB',\n",
       " 'NED Uncertainty g (SDSS CModel) AB',\n",
       " 'Flux Density g (SDSS Petrosian)AB',\n",
       " 'NED Uncertainty g (SDSS Petrosian)AB',\n",
       " 'Flux Density r (SDSS Model) AB',\n",
       " 'NED Uncertainty r (SDSS Model) AB',\n",
       " 'Flux Density r (SDSS CModel) AB',\n",
       " 'NED Uncertainty r (SDSS CModel) AB',\n",
       " 'Flux Density r (SDSS Petrosian)AB',\n",
       " 'NED Uncertainty r (SDSS Petrosian)AB',\n",
       " 'Flux Density i (SDSS Model) AB',\n",
       " 'NED Uncertainty i (SDSS Model) AB',\n",
       " 'Flux Density i (SDSS CModel) AB',\n",
       " 'NED Uncertainty i (SDSS CModel) AB',\n",
       " 'Flux Density i (SDSS Petrosian)AB',\n",
       " 'NED Uncertainty i (SDSS Petrosian)AB',\n",
       " 'Flux Density z (SDSS Model) AB',\n",
       " 'NED Uncertainty z (SDSS Model) AB',\n",
       " 'Flux Density z (SDSS CModel) AB',\n",
       " 'NED Uncertainty z (SDSS CModel) AB',\n",
       " 'Flux Density z (SDSS Petrosian)AB',\n",
       " 'NED Uncertainty z (SDSS Petrosian)AB',\n",
       " 'Flux Density J (2MASS/CTIO)',\n",
       " 'NED Uncertainty J (2MASS/CTIO)',\n",
       " 'Flux Density H (2MASS/CTIO)',\n",
       " 'NED Uncertainty H (2MASS/CTIO)',\n",
       " 'Flux Density K_s (2MASS/CTIO)',\n",
       " 'NED Uncertainty K_s (2MASS/CTIO)',\n",
       " 'Flux Density 8.4 GHz (EVLA)',\n",
       " 'NED Uncertainty 8.4 GHz (EVLA)',\n",
       " 'Flux Density 4.9 GHz (EVLA)',\n",
       " 'NED Uncertainty 4.9 GHz (EVLA)',\n",
       " 'Flux Density 1.4GHz',\n",
       " 'NED Uncertainty 1.4GHz',\n",
       " 'Flux Density FUV (GALEX) AB',\n",
       " 'NED Uncertainty FUV (GALEX) AB',\n",
       " 'Flux Density 3000 A',\n",
       " 'NED Uncertainty 3000 A',\n",
       " 'Flux Density NUV (GALEX)',\n",
       " 'NED Uncertainty NUV (GALEX)',\n",
       " 'Flux Density 4.85 GHz',\n",
       " 'NED Uncertainty 4.85 GHz',\n",
       " 'Flux Density 0.2-2 keV (ROSAT)',\n",
       " 'NED Uncertainty 0.2-2 keV (ROSAT)',\n",
       " 'Flux Density 0.1-2.4 keV (ROSAT)',\n",
       " 'NED Uncertainty 0.1-2.4 keV (ROSAT)',\n",
       " 'Flux Density 3.4 microns (WISE)',\n",
       " 'NED Uncertainty 3.4 microns (WISE)',\n",
       " 'Flux Density 4.6 microns (WISE)',\n",
       " 'NED Uncertainty 4.6 microns (WISE)',\n",
       " 'Flux Density 12 microns (WISE)',\n",
       " 'NED Uncertainty 12 microns (WISE)',\n",
       " 'Flux Density 22 microns (WISE)',\n",
       " 'NED Uncertainty 22 microns (WISE)',\n",
       " 'Flux Density 10.45 GHz Effelsberg',\n",
       " 'NED Uncertainty 10.45 GHz Effelsberg',\n",
       " 'Flux Density 8.4 GHz (VLA)',\n",
       " 'NED Uncertainty 8.4 GHz (VLA)',\n",
       " 'Flux Density 4.85 GHz Effelsberg',\n",
       " 'NED Uncertainty 4.85 GHz Effelsberg',\n",
       " 'Flux Density 2.64 GHz Effelsberg',\n",
       " 'NED Uncertainty 2.64 GHz Effelsberg',\n",
       " 'Flux Density 0.5-8 keV (Chandra)',\n",
       " 'NED Uncertainty 0.5-8 keV (Chandra)',\n",
       " 'Flux Density 20 GHz (ATCA)',\n",
       " 'NED Uncertainty 20 GHz (ATCA)',\n",
       " 'Flux Density b_J',\n",
       " 'NED Uncertainty b_J',\n",
       " 'Flux Density 365 MHz (Texas)',\n",
       " 'NED Uncertainty 365 MHz (Texas)',\n",
       " 'Flux Density 8.6 GHz (VLBA)',\n",
       " 'NED Uncertainty 8.6 GHz (VLBA)',\n",
       " 'Flux Density 2.3 GHz (VLBA)',\n",
       " 'NED Uncertainty 2.3 GHz (VLBA)',\n",
       " 'Flux Density 24 microns (MIPS)',\n",
       " 'NED Uncertainty 24 microns (MIPS)',\n",
       " 'Flux Density 8.4 GHz',\n",
       " 'NED Uncertainty 8.4 GHz',\n",
       " 'Flux Density B (USNO)',\n",
       " 'NED Uncertainty B (USNO)',\n",
       " 'Flux Density R (USNO)',\n",
       " 'NED Uncertainty R (USNO)',\n",
       " 'Flux Density 74 MHz (VLA)',\n",
       " 'NED Uncertainty 74 MHz (VLA)',\n",
       " 'Flux Density 3.6 microns (IRAC)',\n",
       " 'NED Uncertainty 3.6 microns (IRAC)',\n",
       " 'Flux Density 4.5 microns (IRAC)',\n",
       " 'NED Uncertainty 4.5 microns (IRAC)',\n",
       " 'Flux Density 5.8 microns (IRAC)',\n",
       " 'NED Uncertainty 5.8 microns (IRAC)',\n",
       " 'Flux Density 8.0 microns (IRAC)',\n",
       " 'NED Uncertainty 8.0 microns (IRAC)',\n",
       " 'Flux Density u* (CFHT) AB',\n",
       " 'NED Uncertainty u* (CFHT) AB',\n",
       " \"Flux Density g' (CFHT) AB\",\n",
       " \"NED Uncertainty g' (CFHT) AB\",\n",
       " \"Flux Density r' (CFHT) AB\",\n",
       " \"NED Uncertainty r' (CFHT) AB\",\n",
       " \"Flux Density i' (CFHT) AB\",\n",
       " \"NED Uncertainty i' (CFHT) AB\",\n",
       " \"Flux Density z' (CFHT) AB\",\n",
       " \"NED Uncertainty z' (CFHT) AB\",\n",
       " 'Flux Density 3.6 microns IRAC AB',\n",
       " 'NED Uncertainty 3.6 microns IRAC AB',\n",
       " 'Flux Density 4.5 microns IRAC AB',\n",
       " 'NED Uncertainty 4.5 microns IRAC AB',\n",
       " 'Flux Density 5.8 microns IRAC AB',\n",
       " 'NED Uncertainty 5.8 microns IRAC AB',\n",
       " 'Flux Density 8.0 microns IRAC AB',\n",
       " 'NED Uncertainty 8.0 microns IRAC AB',\n",
       " 'Flux Density 610 MHz (GMRT)',\n",
       " 'NED Uncertainty 610 MHz (GMRT)',\n",
       " 'Flux Density 240 MHz (GMRT)',\n",
       " 'NED Uncertainty 240 MHz (GMRT)',\n",
       " 'Flux Density 31 GHz (GBT)',\n",
       " 'NED Uncertainty 31 GHz (GBT)',\n",
       " 'Flux Density 0.5-2 keV (XMM)',\n",
       " 'NED Uncertainty 0.5-2 keV (XMM)',\n",
       " \"Flux Density g' (CFHT)\",\n",
       " \"NED Uncertainty g' (CFHT)\",\n",
       " 'Flux Density 2-10 keV (XMM)',\n",
       " 'NED Uncertainty 2-10 keV (XMM)',\n",
       " 'Flux Density 2700 MHz',\n",
       " 'NED Uncertainty 2700 MHz',\n",
       " 'Flux Density 1.40 GHz',\n",
       " 'NED Uncertainty 1.40 GHz',\n",
       " 'Flux Density 408 MHz',\n",
       " 'NED Uncertainty 408 MHz',\n",
       " 'Flux Density R (CTIO)',\n",
       " 'NED Uncertainty R (CTIO)',\n",
       " \"Flux Density z' (CTIO)\",\n",
       " \"NED Uncertainty z' (CTIO)\",\n",
       " 'Flux Density K_s (LCO)',\n",
       " 'NED Uncertainty K_s (LCO)',\n",
       " 'Flux Density U (ESO/WFI) AB',\n",
       " 'NED Uncertainty U (ESO/WFI) AB',\n",
       " 'Flux Density B (CFHT/CFH12K) AB',\n",
       " 'NED Uncertainty B (CFHT/CFH12K) AB',\n",
       " 'Flux Density V (CFHT/CFH12K) AB',\n",
       " 'NED Uncertainty V (CFHT/CFH12K) AB',\n",
       " 'Flux Density R (CFHT/CFH12K) AB',\n",
       " 'NED Uncertainty R (CFHT/CFH12K) AB',\n",
       " 'Flux Density I (CFHT/CFH12K) AB',\n",
       " 'NED Uncertainty I (CFHT/CFH12K) AB',\n",
       " 'Flux Density 1.4 GHz (VLA)',\n",
       " 'NED Uncertainty 1.4 GHz (VLA)',\n",
       " 'Flux Density u (2QZ Equatorial)',\n",
       " 'NED Uncertainty u (2QZ Equatorial)',\n",
       " 'Flux Density b_J (2QZ Equatorial)',\n",
       " 'NED Uncertainty b_J (2QZ Equatorial)',\n",
       " 'Flux Density r (2QZ Equatorial)',\n",
       " 'NED Uncertainty r (2QZ Equatorial)',\n",
       " 'Flux Density 43.34 GHz (VLA)',\n",
       " 'NED Uncertainty 43.34 GHz (VLA)',\n",
       " 'Flux Density 22.46 GHz (VLA)',\n",
       " 'NED Uncertainty 22.46 GHz (VLA)',\n",
       " 'Flux Density 8.46 GHz (VLA)',\n",
       " 'NED Uncertainty 8.46 GHz (VLA)',\n",
       " 'Flux Density 5000 MHz',\n",
       " 'NED Uncertainty 5000 MHz',\n",
       " 'Flux Density 4.86 GHz (VLA)',\n",
       " 'NED Uncertainty 4.86 GHz (VLA)',\n",
       " 'Flux Density 178 MHz',\n",
       " 'NED Uncertainty 178 MHz',\n",
       " 'Flux Density R',\n",
       " 'NED Uncertainty R',\n",
       " 'Flux Density 15 GHz (OVRO)',\n",
       " 'NED Uncertainty 15 GHz (OVRO)',\n",
       " 'Flux Density R Johnson (Palomar)',\n",
       " 'NED Uncertainty R Johnson (Palomar)',\n",
       " 'Flux Density 90 GHz (GBT)',\n",
       " 'NED Uncertainty 90 GHz (GBT)',\n",
       " 'Flux Density Photographic IIIa-J',\n",
       " 'NED Uncertainty Photographic IIIa-J',\n",
       " 'Flux Density FUV (GALEX)',\n",
       " 'NED Uncertainty FUV (GALEX)',\n",
       " 'Flux Density 31 GHz (OVRO)',\n",
       " 'NED Uncertainty 31 GHz (OVRO)',\n",
       " 'Flux Density 1410 MHz',\n",
       " 'NED Uncertainty 1410 MHz',\n",
       " 'Flux Density 635 MHz',\n",
       " 'NED Uncertainty 635 MHz',\n",
       " 'Flux Density 160 MHz',\n",
       " 'NED Uncertainty 160 MHz',\n",
       " 'Flux Density 80 MHz',\n",
       " 'NED Uncertainty 80 MHz',\n",
       " 'Flux Density U',\n",
       " 'NED Uncertainty U',\n",
       " 'Flux Density B',\n",
       " 'NED Uncertainty B',\n",
       " 'Flux Density V',\n",
       " 'NED Uncertainty V',\n",
       " 'Flux Density 14.9 GHz',\n",
       " 'NED Uncertainty 14.9 GHz',\n",
       " 'Flux Density 8.48 GHz',\n",
       " 'NED Uncertainty 8.48 GHz',\n",
       " 'Flux Density 4.89 GHz',\n",
       " 'NED Uncertainty 4.89 GHz',\n",
       " 'Flux Density 1.49 GHz',\n",
       " 'NED Uncertainty 1.49 GHz',\n",
       " 'Flux Density 8.6 GHz (VLA)',\n",
       " 'NED Uncertainty 8.6 GHz (VLA)',\n",
       " 'Flux Density U (Kitt Peak)',\n",
       " 'NED Uncertainty U (Kitt Peak)',\n",
       " 'Flux Density B (NTT)',\n",
       " 'NED Uncertainty B (NTT)',\n",
       " 'Flux Density B (Kitt Peak)',\n",
       " 'NED Uncertainty B (Kitt Peak)',\n",
       " 'Flux Density B (CIDA)',\n",
       " 'NED Uncertainty B (CIDA)',\n",
       " 'Flux Density V (CIDA)',\n",
       " 'NED Uncertainty V (CIDA)',\n",
       " 'Flux Density V (Kitt Peak)',\n",
       " 'NED Uncertainty V (Kitt Peak)',\n",
       " 'Flux Density R (CIDA)',\n",
       " 'NED Uncertainty R (CIDA)',\n",
       " 'Flux Density K_s (NTT)',\n",
       " 'NED Uncertainty K_s (NTT)',\n",
       " 'Flux Density 6.7 microns (IRS)',\n",
       " 'NED Uncertainty 6.7 microns (IRS)',\n",
       " 'Flux Density 8400 MHz',\n",
       " 'NED Uncertainty 8400 MHz',\n",
       " 'Flux Density 4.9 GHz (Effelsberg)',\n",
       " 'NED Uncertainty 4.9 GHz (Effelsberg)',\n",
       " 'Flux Density 751.50 MHz (GBT)',\n",
       " 'NED Uncertainty 751.50 MHz (GBT)',\n",
       " 'Flux Density 8 GHz (GBI)',\n",
       " 'NED Uncertainty 8 GHz (GBI)',\n",
       " 'Flux Density 2 GHz (GBI)',\n",
       " 'NED Uncertainty 2 GHz (GBI)',\n",
       " 'Flux Density [Mg II] 2800 (SDSS)',\n",
       " 'NED Uncertainty [Mg II] 2800 (SDSS)',\n",
       " 'Flux Density [Fe II] 4570 (SDSS)',\n",
       " 'NED Uncertainty [Fe II] 4570 (SDSS)',\n",
       " 'Flux Density H{beta} (SDSS)',\n",
       " 'NED Uncertainty H{beta} (SDSS)',\n",
       " 'Flux Density [O III] 5007 (SDSS)',\n",
       " 'NED Uncertainty [O III] 5007 (SDSS)',\n",
       " 'Flux Density Y (UKIDSS)',\n",
       " 'NED Uncertainty Y (UKIDSS)',\n",
       " 'Flux Density J (UKIDSS)',\n",
       " 'NED Uncertainty J (UKIDSS)',\n",
       " 'Flux Density H (UKIDSS)',\n",
       " 'NED Uncertainty H (UKIDSS)',\n",
       " 'Flux Density K (UKIDSS)',\n",
       " 'NED Uncertainty K (UKIDSS)',\n",
       " 'Flux Density J (2MASS)',\n",
       " 'NED Uncertainty J (2MASS)',\n",
       " 'Flux Density H (2MASS)',\n",
       " 'NED Uncertainty H (2MASS)',\n",
       " 'Flux Density K_s (2MASS)',\n",
       " 'NED Uncertainty K_s (2MASS)',\n",
       " 'Flux Density 250 GHz (MAMBO)',\n",
       " 'NED Uncertainty 250 GHz (MAMBO)',\n",
       " 'Flux Density 601.71 MHz (GMRT)',\n",
       " 'NED Uncertainty 601.71 MHz (GMRT)',\n",
       " 'Flux Density 3.9 GHz (RATAN)',\n",
       " 'NED Uncertainty 3.9 GHz (RATAN)',\n",
       " 'Flux Density [O II] 3727 (VLT)',\n",
       " 'NED Uncertainty [O II] 3727 (VLT)',\n",
       " 'Flux Density H{beta} (VLT)',\n",
       " 'NED Uncertainty H{beta} (VLT)',\n",
       " 'Flux Density [O III] 4960 (VLT)',\n",
       " 'NED Uncertainty [O III] 4960 (VLT)',\n",
       " 'Flux Density [O III] 5008 (VLT)',\n",
       " 'NED Uncertainty [O III] 5008 (VLT)',\n",
       " 'Flux Density [N II] 6549 (VLT)',\n",
       " 'NED Uncertainty [N II] 6549 (VLT)',\n",
       " 'Flux Density H{alpha} (VLT)',\n",
       " 'NED Uncertainty H{alpha} (VLT)',\n",
       " 'Flux Density [N II] 6585 (VLT)',\n",
       " 'NED Uncertainty [N II] 6585 (VLT)',\n",
       " 'Flux Density J (KPNO)',\n",
       " 'NED Uncertainty J (KPNO)',\n",
       " 'Flux Density H (KPNO)',\n",
       " 'NED Uncertainty H (KPNO)',\n",
       " 'Flux Density K_s (KPNO)',\n",
       " 'NED Uncertainty K_s (KPNO)',\n",
       " 'Flux Density u (IIIa-J + UG1)',\n",
       " 'NED Uncertainty u (IIIa-J + UG1)',\n",
       " 'Flux Density Photographic b',\n",
       " 'NED Uncertainty Photographic b',\n",
       " 'Flux Density 599.07 MHz (GMRT)',\n",
       " 'NED Uncertainty 599.07 MHz (GMRT)',\n",
       " 'Flux Density 450 microns (JCMT)',\n",
       " 'NED Uncertainty 450 microns (JCMT)',\n",
       " 'Flux Density 850 microns (JCMT)',\n",
       " 'NED Uncertainty 850 microns (JCMT)',\n",
       " 'Flux Density 32 GHz (MPIfR)',\n",
       " 'NED Uncertainty 32 GHz (MPIfR)',\n",
       " 'Flux Density 10.45 GHz (MPIfR)',\n",
       " 'NED Uncertainty 10.45 GHz (MPIfR)',\n",
       " 'Flux Density 4.85 GHz (MPIfR)',\n",
       " 'NED Uncertainty 4.85 GHz (MPIfR)',\n",
       " 'Flux Density B (103a-O)',\n",
       " 'NED Uncertainty B (103a-O)',\n",
       " 'Flux Density 229 GHz (IRAM)',\n",
       " 'NED Uncertainty 229 GHz (IRAM)',\n",
       " 'Flux Density 94 GHz (WMAP)',\n",
       " 'NED Uncertainty 94 GHz (WMAP)',\n",
       " 'Flux Density 86 GHz (IRAM)',\n",
       " 'NED Uncertainty 86 GHz (IRAM)',\n",
       " 'Flux Density V (WMAP)',\n",
       " 'NED Uncertainty V (WMAP)',\n",
       " 'Flux Density 61 GHz (WMAP)',\n",
       " 'NED Uncertainty 61 GHz (WMAP)',\n",
       " 'Flux Density 41 GHz (WMAP)',\n",
       " 'NED Uncertainty 41 GHz (WMAP)',\n",
       " 'Flux Density Q (WMAP)',\n",
       " 'NED Uncertainty Q (WMAP)',\n",
       " 'Flux Density 33 GHz (WMAP)',\n",
       " 'NED Uncertainty 33 GHz (WMAP)',\n",
       " 'Flux Density Ka (WMAP)',\n",
       " 'NED Uncertainty Ka (WMAP)',\n",
       " 'Flux Density 23 GHz (WMAP)',\n",
       " 'NED Uncertainty 23 GHz (WMAP)',\n",
       " 'Flux Density K (WMAP)',\n",
       " 'NED Uncertainty K (WMAP)',\n",
       " 'Flux Density i (SDSS) AB',\n",
       " 'NED Uncertainty i (SDSS) AB',\n",
       " 'Flux Density i (HST/F775W) AB',\n",
       " 'NED Uncertainty i (HST/F775W) AB',\n",
       " 'Flux Density 1.25 mm (IRAM)',\n",
       " 'NED Uncertainty 1.25 mm (IRAM)',\n",
       " 'Flux Density 10.6 GHz Effelsberg',\n",
       " 'NED Uncertainty 10.6 GHz Effelsberg',\n",
       " 'Flux Density 1425 MHz (VLBA)',\n",
       " 'NED Uncertainty 1425 MHz (VLBA)',\n",
       " 'Flux Density 0.1-100 GeV (Fermi)',\n",
       " 'NED Uncertainty 0.1-100 GeV (Fermi)',\n",
       " 'Flux Density 1.4 GHz (VLBI)',\n",
       " 'NED Uncertainty 1.4 GHz (VLBI)',\n",
       " 'Flux Density 0.3-3.5 keV (EO IPC)',\n",
       " 'NED Uncertainty 0.3-3.5 keV (EO IPC)',\n",
       " 'Flux Density K_s (Magellan)',\n",
       " 'NED Uncertainty K_s (Magellan)',\n",
       " 'Flux Density Y (UKIRT)',\n",
       " 'NED Uncertainty Y (UKIRT)',\n",
       " 'Flux Density J (UKIRT)',\n",
       " 'NED Uncertainty J (UKIRT)',\n",
       " 'Flux Density H (UKIRT)',\n",
       " 'NED Uncertainty H (UKIRT)',\n",
       " 'Flux Density K (UKIRT)',\n",
       " 'NED Uncertainty K (UKIRT)',\n",
       " 'Flux Density G (AB)',\n",
       " 'NED Uncertainty G (AB)',\n",
       " 'Flux Density 100 MeV-100 GeV LAT',\n",
       " 'NED Uncertainty 100 MeV-100 GeV LAT',\n",
       " 'Flux Density 4775 MHz (NRAO)',\n",
       " 'NED Uncertainty 4775 MHz (NRAO)',\n",
       " 'Flux Density 0.3-8 keV (Chandra)',\n",
       " 'NED Uncertainty 0.3-8 keV (Chandra)',\n",
       " 'Flux Density J (2MASS/FLWO)',\n",
       " 'NED Uncertainty J (2MASS/FLWO)',\n",
       " 'Flux Density H (2MASS/FLWO)',\n",
       " 'NED Uncertainty H (2MASS/FLWO)',\n",
       " 'Flux Density K_s (2MASS/FLWO)',\n",
       " 'NED Uncertainty K_s (2MASS/FLWO)',\n",
       " 'Flux Density [O III] (SDSS)',\n",
       " 'NED Uncertainty [O III] (SDSS)',\n",
       " 'Flux Density H{alpha} (SDSS)',\n",
       " 'NED Uncertainty H{alpha} (SDSS)',\n",
       " 'Flux Density J',\n",
       " 'NED Uncertainty J',\n",
       " 'Flux Density J_14arcsec (2MASS)',\n",
       " 'NED Uncertainty J_14arcsec (2MASS)',\n",
       " 'Flux Density H',\n",
       " 'NED Uncertainty H',\n",
       " 'Flux Density H_14arcsec (2MASS)',\n",
       " 'NED Uncertainty H_14arcsec (2MASS)',\n",
       " 'Flux Density K_s',\n",
       " 'NED Uncertainty K_s',\n",
       " 'Flux Density K_s_14arcsec (2MASS)',\n",
       " 'NED Uncertainty K_s_14arcsec (2MASS)',\n",
       " 'Flux Density 4.99 GHz (VLBA)',\n",
       " 'NED Uncertainty 4.99 GHz (VLBA)',\n",
       " 'Flux Density B (LCO)',\n",
       " 'NED Uncertainty B (LCO)',\n",
       " 'Flux Density R (LCO)',\n",
       " 'NED Uncertainty R (LCO)',\n",
       " 'Flux Density 2-10 keV (Chandra)',\n",
       " 'NED Uncertainty 2-10 keV (Chandra)',\n",
       " 'Flux Density 2 keV (Chandra)',\n",
       " 'NED Uncertainty 2 keV (Chandra)',\n",
       " 'Flux Density 0.5-2 keV (Chandra)',\n",
       " 'NED Uncertainty 0.5-2 keV (Chandra)',\n",
       " 'Flux Density 24.0 microns (MIPS)',\n",
       " 'NED Uncertainty 24.0 microns (MIPS)',\n",
       " 'Flux Density 0.15-3.5 keV (IPC)',\n",
       " 'NED Uncertainty 0.15-3.5 keV (IPC)',\n",
       " 'Flux Density 100 microns Herschel',\n",
       " 'NED Uncertainty 100 microns Herschel',\n",
       " 'Flux Density 170 microns Herschel',\n",
       " 'NED Uncertainty 170 microns Herschel',\n",
       " 'Flux Density 250 microns (SPIRE)',\n",
       " 'NED Uncertainty 250 microns (SPIRE)',\n",
       " 'Flux Density 250 microns Herschel',\n",
       " 'NED Uncertainty 250 microns Herschel',\n",
       " 'Flux Density 350 microns Herschel',\n",
       " 'NED Uncertainty 350 microns Herschel',\n",
       " 'Flux Density 350 microns (SPIRE)',\n",
       " 'NED Uncertainty 350 microns (SPIRE)',\n",
       " 'Flux Density 500 microns (SPIRE)',\n",
       " 'NED Uncertainty 500 microns (SPIRE)',\n",
       " 'Flux Density 500 microns Herschel',\n",
       " 'NED Uncertainty 500 microns Herschel',\n",
       " 'Flux Density 375 GHz',\n",
       " 'NED Uncertainty 375 GHz',\n",
       " 'Flux Density 270 GHz',\n",
       " 'NED Uncertainty 270 GHz',\n",
       " 'Flux Density 230 GHz',\n",
       " 'NED Uncertainty 230 GHz',\n",
       " 'Flux Density 1.3 mm (PdBI)',\n",
       " 'NED Uncertainty 1.3 mm (PdBI)',\n",
       " 'Flux Density 2 mm (PdBI)',\n",
       " 'NED Uncertainty 2 mm (PdBI)',\n",
       " 'Flux Density 150 GHz',\n",
       " 'NED Uncertainty 150 GHz',\n",
       " 'Flux Density 3 mm (PdBI)',\n",
       " 'NED Uncertainty 3 mm (PdBI)',\n",
       " 'Flux Density 90000 MHz',\n",
       " 'NED Uncertainty 90000 MHz',\n",
       " 'Flux Density 90 GHz (NRAO)',\n",
       " 'NED Uncertainty 90 GHz (NRAO)',\n",
       " 'Flux Density 89600 MHz',\n",
       " 'NED Uncertainty 89600 MHz',\n",
       " 'Flux Density 86 GHz (VLBI)',\n",
       " 'NED Uncertainty 86 GHz (VLBI)',\n",
       " 'Flux Density 37 GHz',\n",
       " 'NED Uncertainty 37 GHz',\n",
       " 'Flux Density 33 GHz (VSA)',\n",
       " 'NED Uncertainty 33 GHz (VSA)',\n",
       " 'Flux Density 31400 MHz',\n",
       " 'NED Uncertainty 31400 MHz',\n",
       " 'Flux Density 22 GHz',\n",
       " 'NED Uncertainty 22 GHz',\n",
       " 'Flux Density 22000 MHz',\n",
       " 'NED Uncertainty 22000 MHz',\n",
       " 'Flux Density 16.1 GHz (AMI)',\n",
       " 'NED Uncertainty 16.1 GHz (AMI)',\n",
       " 'Flux Density 15 GHz (VLBA)',\n",
       " 'NED Uncertainty 15 GHz (VLBA)',\n",
       " 'Flux Density 15064 MHz',\n",
       " 'NED Uncertainty 15064 MHz',\n",
       " 'Flux Density 15.0 GHz (VLBI)',\n",
       " 'NED Uncertainty 15.0 GHz (VLBI)',\n",
       " 'Flux Density 10.7 GHz (NRAO)',\n",
       " 'NED Uncertainty 10.7 GHz (NRAO)',\n",
       " 'Flux Density 10695 MHz',\n",
       " 'NED Uncertainty 10695 MHz',\n",
       " 'Flux Density 8870 MHz',\n",
       " 'NED Uncertainty 8870 MHz',\n",
       " 'Flux Density 8085 MHz',\n",
       " 'NED Uncertainty 8085 MHz',\n",
       " 'Flux Density 5009 MHz',\n",
       " 'NED Uncertainty 5009 MHz',\n",
       " 'Flux Density 5 GHz (VLBA)',\n",
       " 'NED Uncertainty 5 GHz (VLBA)',\n",
       " 'Flux Density 5 GHz',\n",
       " 'NED Uncertainty 5 GHz',\n",
       " 'Flux Density 5 GHz (VLA)',\n",
       " 'NED Uncertainty 5 GHz (VLA)',\n",
       " 'Flux Density 4885 MHz',\n",
       " 'NED Uncertainty 4885 MHz',\n",
       " 'Flux Density 4585 MHz',\n",
       " 'NED Uncertainty 4585 MHz',\n",
       " 'Flux Density 2695 MHz',\n",
       " 'NED Uncertainty 2695 MHz',\n",
       " 'Flux Density 1484 MHz',\n",
       " 'NED Uncertainty 1484 MHz',\n",
       " 'Flux Density 1400 MHz',\n",
       " 'NED Uncertainty 1400 MHz',\n",
       " 'Flux Density 1379 MHz',\n",
       " 'NED Uncertainty 1379 MHz',\n",
       " 'Flux Density 750 MHz',\n",
       " 'NED Uncertainty 750 MHz',\n",
       " 'Flux Density 430 MHz',\n",
       " 'NED Uncertainty 430 MHz',\n",
       " 'Flux Density 332 MHz (GMRT)',\n",
       " 'NED Uncertainty 332 MHz (GMRT)',\n",
       " 'Flux Density 318 MHz',\n",
       " 'NED Uncertainty 318 MHz',\n",
       " 'Flux Density 151 MHz (VLBI)',\n",
       " 'NED Uncertainty 151 MHz (VLBI)',\n",
       " 'Flux Density 8.4 GHz (VLBI)',\n",
       " 'NED Uncertainty 8.4 GHz (VLBI)',\n",
       " 'Flux Density 8.4 GHz (VLBA)',\n",
       " 'NED Uncertainty 8.4 GHz (VLBA)',\n",
       " 'Flux Density 2.3 GHz (VLBI)',\n",
       " 'NED Uncertainty 2.3 GHz (VLBI)',\n",
       " 'Flux Density 2.2 GHz (VLBA)',\n",
       " 'NED Uncertainty 2.2 GHz (VLBA)',\n",
       " 'Flux Density 2-10 keV (Swift)',\n",
       " 'NED Uncertainty 2-10 keV (Swift)',\n",
       " 'Flux Density 0.2-10 keV (Swift)',\n",
       " 'NED Uncertainty 0.2-10 keV (Swift)',\n",
       " 'Flux Density 0.1-2.4 keV (Fermi)',\n",
       " 'NED Uncertainty 0.1-2.4 keV (Fermi)',\n",
       " 'Flux Density 1 keV (Chandra)',\n",
       " 'NED Uncertainty 1 keV (Chandra)',\n",
       " 'Flux Density 3 mm (VLBI)',\n",
       " 'NED Uncertainty 3 mm (VLBI)',\n",
       " 'Flux Density W (WMAP)',\n",
       " 'NED Uncertainty W (WMAP)',\n",
       " 'Flux Density 90 GHz',\n",
       " 'NED Uncertainty 90 GHz',\n",
       " 'Flux Density 77 GHz (MRT)',\n",
       " 'NED Uncertainty 77 GHz (MRT)',\n",
       " 'Flux Density 43 GHz (VLBA)',\n",
       " 'NED Uncertainty 43 GHz (VLBA)',\n",
       " 'Flux Density 37 GHz (MRO)',\n",
       " 'NED Uncertainty 37 GHz (MRO)',\n",
       " 'Flux Density 37 GHz (SEST)',\n",
       " 'NED Uncertainty 37 GHz (SEST)',\n",
       " 'Flux Density 24 GHz (VLBA)',\n",
       " 'NED Uncertainty 24 GHz (VLBA)',\n",
       " 'Flux Density 22 GHz (VLBA)',\n",
       " 'NED Uncertainty 22 GHz (VLBA)',\n",
       " 'Flux Density 22185 MHz',\n",
       " 'NED Uncertainty 22185 MHz',\n",
       " 'Flux Density 15.1 GHz (VLBA)',\n",
       " 'NED Uncertainty 15.1 GHz (VLBA)',\n",
       " 'Flux Density 14 GHz',\n",
       " 'NED Uncertainty 14 GHz',\n",
       " 'Flux Density 8.6 GHz (ATCA)',\n",
       " 'NED Uncertainty 8.6 GHz (ATCA)',\n",
       " 'Flux Density 8.1 GHz (VLBA)',\n",
       " 'NED Uncertainty 8.1 GHz (VLBA)',\n",
       " 'Flux Density 8 GHz',\n",
       " 'NED Uncertainty 8 GHz',\n",
       " 'Flux Density 4.8 GHz (ATCA)',\n",
       " 'NED Uncertainty 4.8 GHz (ATCA)',\n",
       " 'Flux Density 4.8 GHz (RATAN-600)',\n",
       " 'NED Uncertainty 4.8 GHz (RATAN-600)',\n",
       " 'Flux Density 2.5 GHz (ATCA)',\n",
       " 'NED Uncertainty 2.5 GHz (ATCA)',\n",
       " 'Flux Density 1.4 GHz (ATCA)',\n",
       " 'NED Uncertainty 1.4 GHz (ATCA)',\n",
       " 'Flux Density 968 MHz',\n",
       " 'NED Uncertainty 968 MHz',\n",
       " 'Flux Density 960 MHz',\n",
       " 'NED Uncertainty 960 MHz',\n",
       " 'Flux Density 468 MHz',\n",
       " 'NED Uncertainty 468 MHz',\n",
       " 'Flux Density 365 MHz',\n",
       " 'NED Uncertainty 365 MHz',\n",
       " 'Flux Density 327 MHz',\n",
       " 'NED Uncertainty 327 MHz',\n",
       " 'Flux Density 145 MHz (PAPER)',\n",
       " 'NED Uncertainty 145 MHz (PAPER)',\n",
       " 'Flux Density CCD grism r_4',\n",
       " 'NED Uncertainty CCD grism r_4',\n",
       " 'Flux Density J (UKIRT/UFTI)',\n",
       " 'NED Uncertainty J (UKIRT/UFTI)',\n",
       " 'Flux Density H (UKIRT/UFTI)',\n",
       " 'NED Uncertainty H (UKIRT/UFTI)',\n",
       " 'Flux Density K (UKIRT/UFTI)',\n",
       " 'NED Uncertainty K (UKIRT/UFTI)',\n",
       " 'Flux Density 103a-O (POSS-I O)',\n",
       " 'NED Uncertainty 103a-O (POSS-I O)',\n",
       " 'Flux Density 103a-E (POSS-I E)',\n",
       " 'NED Uncertainty 103a-E (POSS-I E)',\n",
       " 'Flux Density 5-10 keV (XMM)',\n",
       " 'NED Uncertainty 5-10 keV (XMM)',\n",
       " 'Flux Density i (CFHT) AB',\n",
       " 'NED Uncertainty i (CFHT) AB',\n",
       " 'Flux Density 70 microns (MIPS)',\n",
       " 'NED Uncertainty 70 microns (MIPS)',\n",
       " 'Flux Density 160 microns (MIPS)',\n",
       " 'NED Uncertainty 160 microns (MIPS)',\n",
       " 'Flux Density 15-150 keV (Swift)',\n",
       " 'NED Uncertainty 15-150 keV (Swift)',\n",
       " 'Flux Density 3-9 keV (BeppoSAX)',\n",
       " 'NED Uncertainty 3-9 keV (BeppoSAX)',\n",
       " 'Flux Density 40-100 keV INTEGRAL',\n",
       " 'NED Uncertainty 40-100 keV INTEGRAL',\n",
       " 'Flux Density 20-100 keV INTEGRAL',\n",
       " 'NED Uncertainty 20-100 keV INTEGRAL',\n",
       " 'Flux Density 20-60 keV (INTEGRAL)',\n",
       " 'NED Uncertainty 20-60 keV (INTEGRAL)',\n",
       " 'Flux Density 17-60 keV (INTEGRAL)',\n",
       " 'NED Uncertainty 17-60 keV (INTEGRAL)',\n",
       " 'Flux Density 20-40 keV (INTEGRAL)',\n",
       " 'NED Uncertainty 20-40 keV (INTEGRAL)',\n",
       " 'Flux Density 0.1-2.4 keV (Swift)',\n",
       " 'NED Uncertainty 0.1-2.4 keV (Swift)',\n",
       " 'Flux Density 8.6 GHz (VLBI)',\n",
       " 'NED Uncertainty 8.6 GHz (VLBI)',\n",
       " 'Flux Density 22 MHz (DRAO)',\n",
       " 'NED Uncertainty 22 MHz (DRAO)',\n",
       " 'Flux Density 7.6 cm (RATAN)',\n",
       " 'NED Uncertainty 7.6 cm (RATAN)',\n",
       " 'Flux Density 31 cm (RATAN)',\n",
       " 'NED Uncertainty 31 cm (RATAN)',\n",
       " 'Flux Density 4.9 GHz (VLA)',\n",
       " 'NED Uncertainty 4.9 GHz (VLA)',\n",
       " 'Flux Density 43.2 GHz (VLBA)',\n",
       " 'NED Uncertainty 43.2 GHz (VLBA)',\n",
       " 'Flux Density 22.2 GHz (VLBA)',\n",
       " 'NED Uncertainty 22.2 GHz (VLBA)',\n",
       " 'Flux Density 22.2 GHz (VLA)',\n",
       " 'NED Uncertainty 22.2 GHz (VLA)',\n",
       " 'Flux Density 15.3 GHz (VLA)',\n",
       " 'NED Uncertainty 15.3 GHz (VLA)',\n",
       " 'Flux Density 14.96 GHz (VLA)',\n",
       " 'NED Uncertainty 14.96 GHz (VLA)',\n",
       " 'Flux Density 8.485 GHz (VLA)',\n",
       " 'NED Uncertainty 8.485 GHz (VLA)',\n",
       " 'Flux Density 8.1 GHz (VLA)',\n",
       " 'NED Uncertainty 8.1 GHz (VLA)',\n",
       " 'Flux Density 8.085 GHz (VLA)',\n",
       " 'NED Uncertainty 8.085 GHz (VLA)',\n",
       " 'Flux Density 4.985 GHz (VLA)',\n",
       " 'NED Uncertainty 4.985 GHz (VLA)',\n",
       " 'Flux Density 4.535 GHz (VLA)',\n",
       " 'NED Uncertainty 4.535 GHz (VLA)',\n",
       " 'Flux Density 4.5 GHz (VLA)',\n",
       " 'NED Uncertainty 4.5 GHz (VLA)',\n",
       " 'Flux Density 1.7 GHz (VLA)',\n",
       " 'NED Uncertainty 1.7 GHz (VLA)',\n",
       " 'Flux Density 1.665 GHz (VLA)',\n",
       " 'NED Uncertainty 1.665 GHz (VLA)',\n",
       " 'Flux Density 1.365 GHz (VLA)',\n",
       " 'NED Uncertainty 1.365 GHz (VLA)',\n",
       " 'Flux Density 5 GHz (VLBI)',\n",
       " 'NED Uncertainty 5 GHz (VLBI)',\n",
       " 'Flux Density 8.35 GHz Effelsberg',\n",
       " 'NED Uncertainty 8.35 GHz Effelsberg',\n",
       " 'Flux Density 762.84 MHz (GBT)',\n",
       " 'NED Uncertainty 762.84 MHz (GBT)',\n",
       " 'Flux Density R (JKT)',\n",
       " 'NED Uncertainty R (JKT)',\n",
       " 'Flux Density I (JKT)',\n",
       " 'NED Uncertainty I (JKT)',\n",
       " 'Flux Density 22.5 GHz (VLA)',\n",
       " 'NED Uncertainty 22.5 GHz (VLA)',\n",
       " 'Flux Density 15.3 GHz (VLBA)',\n",
       " 'NED Uncertainty 15.3 GHz (VLBA)',\n",
       " 'Flux Density 15.0 GHz (VLA)',\n",
       " 'NED Uncertainty 15.0 GHz (VLA)',\n",
       " 'Flux Density 8.5 GHz (VLA)',\n",
       " 'NED Uncertainty 8.5 GHz (VLA)',\n",
       " 'Flux Density 1.6 GHz (VLBI)',\n",
       " 'NED Uncertainty 1.6 GHz (VLBI)',\n",
       " 'Flux Density V (Johnson)',\n",
       " 'NED Uncertainty V (Johnson)',\n",
       " 'Flux Density K (RGO)',\n",
       " 'NED Uncertainty K (RGO)',\n",
       " 'Flux Density 962 microns (UKIRT)',\n",
       " 'NED Uncertainty 962 microns (UKIRT)',\n",
       " 'Flux Density 11.200 GHz (VLA)',\n",
       " 'NED Uncertainty 11.200 GHz (VLA)',\n",
       " 'Flux Density 8.465 GHz (VLA)',\n",
       " 'NED Uncertainty 8.465 GHz (VLA)',\n",
       " 'Flux Density 7.700 GHz (VLA)',\n",
       " 'NED Uncertainty 7.700 GHz (VLA)',\n",
       " 'Flux Density 3.900 GHz (VLA)',\n",
       " 'NED Uncertainty 3.900 GHz (VLA)',\n",
       " 'Flux Density 2.300 GHz (VLA)',\n",
       " 'NED Uncertainty 2.300 GHz (VLA)',\n",
       " 'Flux Density 1.66 GHz (VLA)',\n",
       " 'NED Uncertainty 1.66 GHz (VLA)',\n",
       " 'Flux Density 1.36 GHz (VLA)',\n",
       " 'NED Uncertainty 1.36 GHz (VLA)',\n",
       " 'Flux Density 1.335 GHz (VLA)',\n",
       " 'NED Uncertainty 1.335 GHz (VLA)',\n",
       " 'Flux Density 0.960 GHz (VLA)',\n",
       " 'NED Uncertainty 0.960 GHz (VLA)',\n",
       " 'Flux Density 0.608 GHz (WSRT)',\n",
       " 'NED Uncertainty 0.608 GHz (WSRT)',\n",
       " 'Flux Density 0.333 GHz (VLA)',\n",
       " 'NED Uncertainty 0.333 GHz (VLA)',\n",
       " 'Flux Density 0.302 GHz (VLA)',\n",
       " 'NED Uncertainty 0.302 GHz (VLA)',\n",
       " 'Flux Density Z (UKIRT/UFTI)',\n",
       " 'NED Uncertainty Z (UKIRT/UFTI)',\n",
       " 'Flux Density J (UKIRT/IRCAM)',\n",
       " 'NED Uncertainty J (UKIRT/IRCAM)',\n",
       " 'Flux Density H (UKIRT/IRCAM)',\n",
       " 'NED Uncertainty H (UKIRT/IRCAM)',\n",
       " 'Flux Density K (UKIRT/IRCAM)',\n",
       " 'NED Uncertainty K (UKIRT/IRCAM)',\n",
       " 'Flux Density F702W (HST/WFPC2)',\n",
       " 'NED Uncertainty F702W (HST/WFPC2)',\n",
       " 'Flux Density 22 GHz (VERA)',\n",
       " 'NED Uncertainty 22 GHz (VERA)',\n",
       " 'Flux Density EGRET (0.1-5 GeV)',\n",
       " 'NED Uncertainty EGRET (0.1-5 GeV)',\n",
       " 'Flux Density 2650 MHz',\n",
       " 'NED Uncertainty 2650 MHz',\n",
       " 'Flux Density 3-10 keV (INTEGRAL)',\n",
       " 'NED Uncertainty 3-10 keV (INTEGRAL)',\n",
       " 'Flux Density 2-10 keV (ASCA)',\n",
       " 'NED Uncertainty 2-10 keV (ASCA)',\n",
       " 'Flux Density 2-10 keV (Suzaku)',\n",
       " 'NED Uncertainty 2-10 keV (Suzaku)',\n",
       " 'Flux Density 0.3-10 keV (Swift)',\n",
       " 'NED Uncertainty 0.3-10 keV (Swift)',\n",
       " 'Flux Density 0.7-7 keV (ASCA)',\n",
       " 'NED Uncertainty 0.7-7 keV (ASCA)',\n",
       " 'Flux Density 0.5-4.5 keV (XMM)',\n",
       " 'NED Uncertainty 0.5-4.5 keV (XMM)',\n",
       " 'Flux Density 0.7-2 keV (ASCA)',\n",
       " 'NED Uncertainty 0.7-2 keV (ASCA)',\n",
       " 'Flux Density 0.5-2 keV (Suzaku)',\n",
       " 'NED Uncertainty 0.5-2 keV (Suzaku)',\n",
       " 'Flux Density B (NOT)',\n",
       " 'NED Uncertainty B (NOT)',\n",
       " 'Flux Density V (NOT)',\n",
       " 'NED Uncertainty V (NOT)',\n",
       " 'Flux Density R (NOT)',\n",
       " 'NED Uncertainty R (NOT)',\n",
       " 'Flux Density I (NOT)',\n",
       " 'NED Uncertainty I (NOT)',\n",
       " 'Flux Density 43.1 GHz (VLBA)',\n",
       " 'NED Uncertainty 43.1 GHz (VLBA)',\n",
       " 'Flux Density 42.00 GHz Effelsberg',\n",
       " 'NED Uncertainty 42.00 GHz Effelsberg',\n",
       " 'Flux Density 24.4 GHz (VLBA)',\n",
       " 'NED Uncertainty 24.4 GHz (VLBA)',\n",
       " 'Flux Density 23.05 GHz Effelsberg',\n",
       " 'NED Uncertainty 23.05 GHz Effelsberg',\n",
       " 'Flux Density 14.60 GHz Effelsberg',\n",
       " 'NED Uncertainty 14.60 GHz Effelsberg',\n",
       " 'Flux Density 8.3 GHz (VLBA)',\n",
       " 'NED Uncertainty 8.3 GHz (VLBA)',\n",
       " 'Flux Density 5 GHz (EVN)',\n",
       " 'NED Uncertainty 5 GHz (EVN)',\n",
       " 'Flux Density 606 MHz',\n",
       " 'NED Uncertainty 606 MHz',\n",
       " 'Flux Density 0.3-10 keV (XMM)',\n",
       " 'NED Uncertainty 0.3-10 keV (XMM)',\n",
       " 'Flux Density H{beta}',\n",
       " 'NED Uncertainty H{beta}',\n",
       " 'Flux Density [O III] 5007',\n",
       " 'NED Uncertainty [O III] 5007',\n",
       " 'Flux Density H{alpha}',\n",
       " 'NED Uncertainty H{alpha}',\n",
       " 'Flux Density 1.42 GHz (MERLIN)',\n",
       " 'NED Uncertainty 1.42 GHz (MERLIN)',\n",
       " 'Flux Density 143 GHz (Planck)',\n",
       " 'NED Uncertainty 143 GHz (Planck)',\n",
       " 'Flux Density 100 GHz (Planck)',\n",
       " 'NED Uncertainty 100 GHz (Planck)',\n",
       " 'Flux Density 70 GHz (Planck)',\n",
       " 'NED Uncertainty 70 GHz (Planck)',\n",
       " 'Flux Density 44 GHz (Planck)',\n",
       " 'NED Uncertainty 44 GHz (Planck)',\n",
       " 'Flux Density 30 GHz (Planck)',\n",
       " 'NED Uncertainty 30 GHz (Planck)',\n",
       " 'Flux Density 38 GHz (ATCA)',\n",
       " 'NED Uncertainty 38 GHz (ATCA)',\n",
       " 'Flux Density 17 GHz (ATCA)',\n",
       " 'NED Uncertainty 17 GHz (ATCA)',\n",
       " 'Flux Density 9.0 GHz (ATCA)',\n",
       " 'NED Uncertainty 9.0 GHz (ATCA)',\n",
       " 'Flux Density 5.5 GHz (ATCA)',\n",
       " 'NED Uncertainty 5.5 GHz (ATCA)',\n",
       " 'Flux Density 2-4.5 keV (XMM)',\n",
       " 'NED Uncertainty 2-4.5 keV (XMM)',\n",
       " 'Flux Density R (Johnson)',\n",
       " 'NED Uncertainty R (Johnson)',\n",
       " 'Flux Density H{alpha} line (VLT)',\n",
       " 'NED Uncertainty H{alpha} line (VLT)',\n",
       " 'Flux Density i (SDSS)',\n",
       " 'NED Uncertainty i (SDSS)',\n",
       " 'Flux Density Mg II 2800 (SDSS)',\n",
       " 'NED Uncertainty Mg II 2800 (SDSS)',\n",
       " 'Flux Density 0.5-10 keV (Swift)',\n",
       " 'NED Uncertainty 0.5-10 keV (Swift)',\n",
       " 'Flux Density 0.5-2 keV (Swift)',\n",
       " 'NED Uncertainty 0.5-2 keV (Swift)',\n",
       " 'Flux Density 12 microns (IRAS)',\n",
       " 'NED Uncertainty 12 microns (IRAS)',\n",
       " 'Flux Density 25 microns (IRAS)',\n",
       " 'NED Uncertainty 25 microns (IRAS)',\n",
       " 'Flux Density 60 microns (IRAS)',\n",
       " 'NED Uncertainty 60 microns (IRAS)',\n",
       " 'Flux Density 100 microns (IRAS)',\n",
       " 'NED Uncertainty 100 microns (IRAS)',\n",
       " 'Flux Density 4830 MHz (NRAO)',\n",
       " 'NED Uncertainty 4830 MHz (NRAO)',\n",
       " 'Flux Density 41.5 GHz (GBT)',\n",
       " 'NED Uncertainty 41.5 GHz (GBT)',\n",
       " 'Flux Density 327 MHz (VLBA)',\n",
       " 'NED Uncertainty 327 MHz (VLBA)',\n",
       " 'Flux Density 1.2 mm (MAMBO)',\n",
       " 'NED Uncertainty 1.2 mm (MAMBO)',\n",
       " 'Flux Density 1.4 GHz (VLBA)',\n",
       " 'NED Uncertainty 1.4 GHz (VLBA)',\n",
       " 'Flux Density 1381 MHz (WSRT)',\n",
       " 'NED Uncertainty 1381 MHz (WSRT)',\n",
       " 'Flux Density I (HST)',\n",
       " 'NED Uncertainty I (HST)',\n",
       " 'Flux Density 151 MHz',\n",
       " 'NED Uncertainty 151 MHz',\n",
       " 'Flux Density 2-10 keV (BeppoSAX)',\n",
       " 'NED Uncertainty 2-10 keV (BeppoSAX)',\n",
       " 'Flux Density 4-8 keV (BeppoSAX)',\n",
       " 'NED Uncertainty 4-8 keV (BeppoSAX)',\n",
       " 'Flux Density 1 keV',\n",
       " 'NED Uncertainty 1 keV',\n",
       " 'Flux Density 7.7 microns (IRS)',\n",
       " 'NED Uncertainty 7.7 microns (IRS)',\n",
       " 'Flux Density 11.3 microns (IRS)',\n",
       " 'NED Uncertainty 11.3 microns (IRS)',\n",
       " 'Flux Density 70 microns',\n",
       " 'NED Uncertainty 70 microns',\n",
       " 'Flux Density 160 microns',\n",
       " 'NED Uncertainty 160 microns',\n",
       " 'Flux Density 450 microns (SCUBA)',\n",
       " 'NED Uncertainty 450 microns (SCUBA)',\n",
       " 'Flux Density 850 microns (SCUBA)',\n",
       " 'NED Uncertainty 850 microns (SCUBA)',\n",
       " 'Flux Density 1.25 mm (MAMBO)',\n",
       " 'NED Uncertainty 1.25 mm (MAMBO)',\n",
       " 'Flux Density CO(2-1) line (PdBI)',\n",
       " 'NED Uncertainty CO(2-1) line (PdBI)',\n",
       " 'Flux Density 14900 MHz',\n",
       " 'NED Uncertainty 14900 MHz',\n",
       " 'Flux Density 10700 MHz',\n",
       " 'NED Uncertainty 10700 MHz',\n",
       " 'Flux Density 1400 MHz (NRAO)',\n",
       " 'NED Uncertainty 1400 MHz (NRAO)',\n",
       " 'Flux Density 750 MHz (NRAO)',\n",
       " 'NED Uncertainty 750 MHz (NRAO)',\n",
       " 'Flux Density 86 MHz',\n",
       " 'NED Uncertainty 86 MHz',\n",
       " 'Flux Density 38 MHz',\n",
       " 'NED Uncertainty 38 MHz',\n",
       " 'Flux Density 26.3 MHz',\n",
       " 'NED Uncertainty 26.3 MHz',\n",
       " 'Flux Density 22.25 MHz',\n",
       " 'NED Uncertainty 22.25 MHz',\n",
       " 'Flux Density 6.4 keV Fe K{alpha}',\n",
       " 'NED Uncertainty 6.4 keV Fe K{alpha}',\n",
       " 'Flux Density 0.5-10 keV (ASCA)',\n",
       " 'NED Uncertainty 0.5-10 keV (ASCA)',\n",
       " 'Flux Density 4 keV (Einstein)',\n",
       " 'NED Uncertainty 4 keV (Einstein)',\n",
       " 'Flux Density 2 keV',\n",
       " 'NED Uncertainty 2 keV',\n",
       " 'Flux Density 0.3-3.5 keV Einstein',\n",
       " 'NED Uncertainty 0.3-3.5 keV Einstein',\n",
       " 'Flux Density 0.2-2 keV (Swift)',\n",
       " 'NED Uncertainty 0.2-2 keV (Swift)',\n",
       " 'Flux Density 1 keV (ROSAT)',\n",
       " 'NED Uncertainty 1 keV (ROSAT)',\n",
       " 'Flux Density 1 keV (Einstein)',\n",
       " 'NED Uncertainty 1 keV (Einstein)',\n",
       " 'Flux Density 1000 A (FUSE)',\n",
       " 'NED Uncertainty 1000 A (FUSE)',\n",
       " 'Flux Density 1030 A (FUSE)',\n",
       " 'NED Uncertainty 1030 A (FUSE)',\n",
       " 'Flux Density 1031 A (FUSE)',\n",
       " 'NED Uncertainty 1031 A (FUSE)',\n",
       " 'Flux Density Ly{alpha}',\n",
       " 'NED Uncertainty Ly{alpha}',\n",
       " 'Flux Density N V 1240',\n",
       " 'NED Uncertainty N V 1240',\n",
       " 'Flux Density O I 1304 (HST)',\n",
       " 'NED Uncertainty O I 1304 (HST)',\n",
       " 'Flux Density Si IV + O IV]',\n",
       " 'NED Uncertainty Si IV + O IV]',\n",
       " 'Flux Density C IV 1549',\n",
       " 'NED Uncertainty C IV 1549',\n",
       " 'Flux Density C IV 1549 (HST)',\n",
       " 'NED Uncertainty C IV 1549 (HST)',\n",
       " 'Flux Density 1549 A',\n",
       " 'NED Uncertainty 1549 A',\n",
       " 'Flux Density Si III] 1892',\n",
       " 'NED Uncertainty Si III] 1892',\n",
       " 'Flux Density C III] 1909',\n",
       " 'NED Uncertainty C III] 1909',\n",
       " 'Flux Density UVW2 (XMM-OM)',\n",
       " 'NED Uncertainty UVW2 (XMM-OM)',\n",
       " 'Flux Density 2500 A',\n",
       " 'NED Uncertainty 2500 A',\n",
       " 'Flux Density Mg II',\n",
       " 'NED Uncertainty Mg II',\n",
       " 'Flux Density UVW1 (XMM-OM)',\n",
       " 'NED Uncertainty UVW1 (XMM-OM)',\n",
       " 'Flux Density B (Johnson)',\n",
       " 'NED Uncertainty B (Johnson)',\n",
       " 'Flux Density B Johnson (FLWO)',\n",
       " 'NED Uncertainty B Johnson (FLWO)',\n",
       " 'Flux Density B (XMM-OM)',\n",
       " 'NED Uncertainty B (XMM-OM)',\n",
       " 'Flux Density 4861 A',\n",
       " 'NED Uncertainty 4861 A',\n",
       " 'Flux Density V (HST/WFPC2)',\n",
       " 'NED Uncertainty V (HST/WFPC2)',\n",
       " 'Flux Density V Johnson (FLWO)',\n",
       " 'NED Uncertainty V Johnson (FLWO)',\n",
       " 'Flux Density Na I + He I',\n",
       " 'NED Uncertainty Na I + He I',\n",
       " 'Flux Density F606W (HST) AB',\n",
       " 'NED Uncertainty F606W (HST) AB',\n",
       " 'Flux Density R Johnson (FLWO)',\n",
       " 'NED Uncertainty R Johnson (FLWO)',\n",
       " 'Flux Density O I 8446 (KPNO)',\n",
       " 'NED Uncertainty O I 8446 (KPNO)',\n",
       " 'Flux Density I Johnson (FLWO)',\n",
       " 'NED Uncertainty I Johnson (FLWO)',\n",
       " 'Flux Density I (Johnson)',\n",
       " 'NED Uncertainty I (Johnson)',\n",
       " 'Flux Density O I 11287 (KPNO)',\n",
       " 'NED Uncertainty O I 11287 (KPNO)',\n",
       " 'Flux Density H (GeminiN)',\n",
       " 'NED Uncertainty H (GeminiN)',\n",
       " 'Flux Density K',\n",
       " 'NED Uncertainty K',\n",
       " 'Flux Density N34',\n",
       " 'NED Uncertainty N34',\n",
       " 'Flux Density 3.7 microns',\n",
       " 'NED Uncertainty 3.7 microns',\n",
       " \"Flux Density L'\",\n",
       " \"NED Uncertainty L'\",\n",
       " 'Flux Density 4.8 microns (ISO)',\n",
       " 'NED Uncertainty 4.8 microns (ISO)',\n",
       " 'Flux Density 6 microns (Spitzer)',\n",
       " 'NED Uncertainty 6 microns (Spitzer)',\n",
       " 'Flux Density PAH 6.2 microns IRS',\n",
       " 'NED Uncertainty PAH 6.2 microns IRS',\n",
       " 'Flux Density 7.3 microns (ISO)',\n",
       " 'NED Uncertainty 7.3 microns (ISO)',\n",
       " 'Flux Density PAH 7.7 microns IRS',\n",
       " 'NED Uncertainty PAH 7.7 microns IRS',\n",
       " 'Flux Density N',\n",
       " 'NED Uncertainty N',\n",
       " 'Flux Density 12.0 microns (ISO)',\n",
       " 'NED Uncertainty 12.0 microns (ISO)',\n",
       " 'Flux Density [Ne II] (IRS)',\n",
       " 'NED Uncertainty [Ne II] (IRS)',\n",
       " 'Flux Density [Ne V] (IRS)',\n",
       " 'NED Uncertainty [Ne V] (IRS)',\n",
       " 'Flux Density 15 microns (Spitzer)',\n",
       " 'NED Uncertainty 15 microns (Spitzer)',\n",
       " 'Flux Density 20 microns (Spitzer)',\n",
       " 'NED Uncertainty 20 microns (Spitzer)',\n",
       " ...]"
      ]
     },
     "execution_count": 136,
     "metadata": {},
     "output_type": "execute_result"
    }
   ],
   "source": [
    "test_copy_stack.colnames"
   ]
  },
  {
   "cell_type": "code",
   "execution_count": 84,
   "metadata": {},
   "outputs": [
    {
     "data": {
      "text/plain": [
       "'SDSS J001117.36-104530.9'"
      ]
     },
     "execution_count": 84,
     "metadata": {},
     "output_type": "execute_result"
    }
   ],
   "source": [
    "temp_table_ned_photo[0]['MAIN_ID']"
   ]
  },
  {
   "cell_type": "code",
   "execution_count": 105,
   "metadata": {},
   "outputs": [
    {
     "data": {
      "text/html": [
       "&lt;MaskedColumn name=&apos;MAIN_ID&apos; dtype=&apos;str30&apos; length=22&gt;\n",
       "<table>\n",
       "<tr><td>SSTSL2 J095858.88+025619.8</td></tr>\n",
       "<tr><td>SSTSL2 J100157.28+025622.0</td></tr>\n",
       "<tr><td>WISEA J100001.35+025620.7</td></tr>\n",
       "<tr><td>SSTSL2 J100314.18+025623.5</td></tr>\n",
       "<tr><td>WISEA J100135.66+025624.0</td></tr>\n",
       "<tr><td>WISEA J100020.35+025623.5</td></tr>\n",
       "<tr><td>SSTSL2 J095809.15+025627.9</td></tr>\n",
       "<tr><td>WISEA J100214.46+025630.3</td></tr>\n",
       "<tr><td>SSTSL2 J095847.47+025632.9</td></tr>\n",
       "<tr><td>WISEA J100148.25+025632.8</td></tr>\n",
       "<tr><td>SSTSL2 J095841.57+025632.9</td></tr>\n",
       "<tr><td>WISEA J100245.86+025633.5</td></tr>\n",
       "<tr><td>WISEA J100238.91+025635.1</td></tr>\n",
       "<tr><td>SSTSL2 J100006.13+025638.1</td></tr>\n",
       "<tr><td>WISEA J095932.49+025638.7</td></tr>\n",
       "<tr><td>WISEA J095841.24+025639.9</td></tr>\n",
       "<tr><td>WISEA J095938.48+025640.4</td></tr>\n",
       "<tr><td>WISEA J100046.88+025639.9</td></tr>\n",
       "<tr><td>WISEA J100026.13+025647.9</td></tr>\n",
       "<tr><td>WISEA J100144.18+025712.6</td></tr>\n",
       "<tr><td>WISEA J095945.80+025924.0</td></tr>\n",
       "<tr><td>COSMOSVLA327 J100138.60+030105</td></tr>\n",
       "</table>"
      ],
      "text/plain": [
       "<MaskedColumn name='MAIN_ID' dtype='str30' length=22>\n",
       "    SSTSL2 J095858.88+025619.8\n",
       "    SSTSL2 J100157.28+025622.0\n",
       "     WISEA J100001.35+025620.7\n",
       "    SSTSL2 J100314.18+025623.5\n",
       "     WISEA J100135.66+025624.0\n",
       "     WISEA J100020.35+025623.5\n",
       "    SSTSL2 J095809.15+025627.9\n",
       "     WISEA J100214.46+025630.3\n",
       "    SSTSL2 J095847.47+025632.9\n",
       "     WISEA J100148.25+025632.8\n",
       "    SSTSL2 J095841.57+025632.9\n",
       "     WISEA J100245.86+025633.5\n",
       "     WISEA J100238.91+025635.1\n",
       "    SSTSL2 J100006.13+025638.1\n",
       "     WISEA J095932.49+025638.7\n",
       "     WISEA J095841.24+025639.9\n",
       "     WISEA J095938.48+025640.4\n",
       "     WISEA J100046.88+025639.9\n",
       "     WISEA J100026.13+025647.9\n",
       "     WISEA J100144.18+025712.6\n",
       "     WISEA J095945.80+025924.0\n",
       "COSMOSVLA327 J100138.60+030105"
      ]
     },
     "execution_count": 105,
     "metadata": {},
     "output_type": "execute_result"
    }
   ],
   "source": [
    "init_table_large['MAIN_ID']"
   ]
  },
  {
   "cell_type": "code",
   "execution_count": null,
   "metadata": {},
   "outputs": [],
   "source": [
    "for row in ned_tables[index]:\n",
    "    print(row['Flux Density'])"
   ]
  },
  {
   "cell_type": "code",
   "execution_count": null,
   "metadata": {},
   "outputs": [],
   "source": [
    "# result_table_copy['MAIN_ID', '1.4_GHz_(VLA)_Flux_Density', '1.4GHz_Flux_Density'].show_in_browser(jsviewer=True)\n",
    "# result_table_copy['MAIN_ID', 'CAT_NAME', '1.4_GHz_(VLA)_Flux_Density', '1.4GHz_Flux_Density'].show_in_browser(jsviewer=True)\n",
    "# result_table_copy['1.4*'].show_in_browser(jsviewer=True)"
   ]
  },
  {
   "cell_type": "code",
   "execution_count": null,
   "metadata": {},
   "outputs": [],
   "source": [
    "# result_table_copy.info"
   ]
  },
  {
   "cell_type": "code",
   "execution_count": null,
   "metadata": {},
   "outputs": [],
   "source": [
    "result_table_copy['1.4_GHz_(VLA)_Flux_Density', '1.4GHz_Flux_Density'].info(['attributes', 'stats'])"
   ]
  },
  {
   "cell_type": "code",
   "execution_count": null,
   "metadata": {},
   "outputs": [],
   "source": [
    "# for name in large_sample_names:\n",
    "#     print(name)"
   ]
  },
  {
   "cell_type": "markdown",
   "metadata": {},
   "source": [
    "IDs to be changed for use in NED\n",
    "\n",
    "OLD                          NEW\n",
    "\n",
    "SDSS J125507.61+463126.5     NVSS J125507+463128  \n",
    "SDSS J160558.86+474300.1     2MASS J16055893+4742596  \n",
    "SDSS J111036.32+481752.3     NVSS J111036+481753  \n",
    "SDSS J163033.89+401209.6     SDSS J163033.90+401209.6"
   ]
  },
  {
   "cell_type": "code",
   "execution_count": null,
   "metadata": {},
   "outputs": [],
   "source": [
    "52 - empty_counter"
   ]
  },
  {
   "cell_type": "code",
   "execution_count": null,
   "metadata": {},
   "outputs": [],
   "source": [
    "result_table_copy.write('high_z_qsos_large.csv', format='ascii.csv', overwrite=True, serialize_method='data_mask')"
   ]
  },
  {
   "cell_type": "code",
   "execution_count": null,
   "metadata": {},
   "outputs": [],
   "source": [
    "data_z_L14 = np.array([result_table_copy['Z_OWN'], result_table_copy['Z_OWN_ERR'], result_table_copy['L_20CM'], result_table_copy['L_20CM_ERR'], result_table_copy['L_20CM_UP_LIM']])"
   ]
  },
  {
   "cell_type": "code",
   "execution_count": null,
   "metadata": {},
   "outputs": [],
   "source": [
    "data_z_L14 = np.array([column_z_own, column_z_own_err, column_L_14GHz, column_L_14GHz_err, column_L_14GHz_up])"
   ]
  },
  {
   "cell_type": "code",
   "execution_count": null,
   "metadata": {},
   "outputs": [],
   "source": [
    "np.shape(data_z_L14)"
   ]
  },
  {
   "cell_type": "code",
   "execution_count": null,
   "metadata": {},
   "outputs": [],
   "source": [
    "z_range        = np.arange(0, 10.2, 0.25)  # array to be used in other instances\n",
    "lum_dist_range = luminosity_distance(z_range)* 3.086e22  # in m"
   ]
  },
  {
   "cell_type": "code",
   "execution_count": null,
   "metadata": {},
   "outputs": [],
   "source": [
    "lum_FIRST   = 4 * np.pi * lum_dist_range**2 * 1e-3  * 1e-26 * (1 + z_range)**(alpha_used - 1)\n",
    "lum_50uJy   = 4 * np.pi * lum_dist_range**2 * 50e-6 * 1e-26 * (1 + z_range)**(alpha_used - 1)\n",
    "lum_20uJy   = 4 * np.pi * lum_dist_range**2 * 20e-6 * 1e-26 * (1 + z_range)**(alpha_used - 1)\n",
    "lum_10uJy   = 4 * np.pi * lum_dist_range**2 * 10e-6 * 1e-26 * (1 + z_range)**(alpha_used - 1)\n",
    "lum_1uJy    = 4 * np.pi * lum_dist_range**2 * 1e-6  * 1e-26 * (1 + z_range)**(alpha_used - 1)"
   ]
  },
  {
   "cell_type": "code",
   "execution_count": null,
   "metadata": {},
   "outputs": [],
   "source": [
    "import matplotlib.pyplot as plt\n",
    "import matplotlib.cm as cm\n",
    "import matplotlib.patheffects as mpe\n",
    "import matplotlib.patheffects as path_effects"
   ]
  },
  {
   "cell_type": "code",
   "execution_count": null,
   "metadata": {},
   "outputs": [],
   "source": [
    "cmap        = cm.get_cmap('inferno')\n",
    "dark_color  = cmap(0.4)  # RGBA color code\n",
    "light_color = cmap(0.6)  # RGBA color code\n",
    "colors      = [cmap(0.15), cmap(0.30), cmap(0.45), cmap(0.60), cmap(0.75), cmap(0.90)]\n",
    "colors_8    = [cmap(0.12), cmap(0.24), cmap(0.35), cmap(0.48), cmap(0.6), cmap(0.72), cmap(0.84), cmap(0.96)]"
   ]
  },
  {
   "cell_type": "code",
   "execution_count": null,
   "metadata": {},
   "outputs": [],
   "source": [
    "pe1 = [mpe.Stroke(linewidth=3, foreground='black'),\n",
    "       mpe.Stroke(foreground='white', alpha=1),\n",
    "       mpe.Normal()]\n",
    "\n",
    "alp_str     = r'$\\alpha$'"
   ]
  },
  {
   "cell_type": "code",
   "execution_count": null,
   "metadata": {},
   "outputs": [],
   "source": [
    "fig = plt.figure(figsize=(10,7))\n",
    "ax1 = fig.add_subplot(111)\n",
    "\n",
    "ax1.errorbar(data_z_L14[0, :], data_z_L14[2,:], xerr=data_z_L14[1, :], yerr=data_z_L14[3, :], marker='P', ls='', color=colors[3], markersize=10, zorder=7, alpha=0.75, uplims=data_z_L14[4, :], elinewidth=2, mec='k', label='Radio QSO')\n",
    "\n",
    "#ax1.errorbar(high_z_zs[filter_250GHz], lum_250_new_alpha_rescale[filter_250GHz], yerr=lum_250_new_alpha_rescale_e[filter_250GHz], marker='P', ls='', color=colors[4], markersize=10, zorder=7, alpha=0.65, uplims=high_z_up_lim[filter_250GHz], elinewidth=2, mec='k', label='mm QSO')\n",
    "\n",
    "ax1.plot(z_range, lum_1uJy, label='1 $\\mu$Jy', color=colors[0], path_effects=pe1)\n",
    "# ax1.plot(z_range, lum_10uJy, label='10 $\\mu$Jy', color=colors[1], path_effects=pe1)\n",
    "ax1.plot(z_range, lum_20uJy, label='20 $\\mu$Jy', color=colors[1], path_effects=pe1)\n",
    "ax1.plot(z_range, lum_50uJy, label='50 $\\mu$Jy', color=colors[3], path_effects=pe1)\n",
    "ax1.plot(z_range, lum_FIRST, label='FIRST', color=colors[5], path_effects=pe1)\n",
    "#ax1.plot(z_range, SFR_3000, label='3000M_sun/yr', color=colors[2], path_effects=pe1)\n",
    "#ax1.fill_between(z_range, SFR_3000 - SFR_3000_e, SFR_3000 + SFR_3000_e, color=colors[2], fc=colors[2], alpha=0.3, zorder=6)\n",
    "#gradient_fill(z_range, max_pow_sfr_fix + 3 * max_pow_sfr_fix_e, fill_color=colors[4], color=colors[4], label='SFR - fixed M', zorder=5, ax=ax1)\n",
    "#ax1.plot(z_range, max_pow_sfr_fix, '-', color=colors[4], alpha=0.45)\n",
    "#gradient_fill(z_range, max_pow_sfr + 3 * max_pow_sfr_e, fill_color=colors[3], color=colors[3], label='SFR - evolv. M', zorder=5, ax=ax1)\n",
    "#ax1.plot(z_range, max_pow_sfr, '-', color=colors[3], alpha=0.45)\n",
    "ax1.set_xlabel('$z$', size=14)\n",
    "ax1.set_ylabel('$\\mathrm{L}_{1.4 \\mathrm{GHz}} [\\mathrm{W/Hz}]$', size=14)\n",
    "ax1.set_yscale('log')\n",
    "ax1.set_ylim((1e23, 1e29))\n",
    "ax1.set_xlim(left=-0.001, right=10)\n",
    "#ax1.set_xlim(left=5.5, right=8)\n",
    "ax1.legend(loc=1, title=f'{alp_str}={alpha_used}', ncol=2, labelspacing=0.5, borderpad=0.5, columnspacing=0.5, handletextpad=0.5)\n",
    "\n",
    "\n",
    "ax2 = ax1.twinx()\n",
    "ax2.set_ylabel('$\\mathrm{SFR}\\, [\\mathrm{M}_{\\odot} \\mathrm{yr}^{-1}]$', size=14)\n",
    "ax2.set_ylim((1e23 * 5.9e-22, 1e29 * 5.9e-22))\n",
    "ax2.set_yscale('log')\n",
    "ax2.figure.canvas.draw()\n",
    "\n",
    "#plt.setp(ax2.get_yticklabels(), visible=False)\n",
    "ax1.tick_params(which='both',top=True, right=False, direction='in')\n",
    "ax2.tick_params(which='both',top=True, right=True, direction='in', labelright=True)\n",
    "\n",
    "ax1.tick_params(axis='both', which='major', labelsize=14)\n",
    "ax2.tick_params(axis='both', which='major', labelsize=14)\n",
    "fig.tight_layout(w_pad=0.01)"
   ]
  },
  {
   "cell_type": "code",
   "execution_count": null,
   "metadata": {},
   "outputs": [],
   "source": []
  },
  {
   "cell_type": "code",
   "execution_count": null,
   "metadata": {},
   "outputs": [],
   "source": [
    "from sklearn.cluster import KMeans\n",
    "from sklearn.cluster import SpectralClustering\n",
    "from sklearn.cluster import OPTICS\n",
    "np.random.seed(5)"
   ]
  },
  {
   "cell_type": "code",
   "execution_count": null,
   "metadata": {},
   "outputs": [],
   "source": [
    "estimator = KMeans(n_clusters=6)  # Best suited for straight boundaries\n",
    "estimator.fit(data_z_L14[[0, 2], :].T)"
   ]
  },
  {
   "cell_type": "code",
   "execution_count": null,
   "metadata": {},
   "outputs": [],
   "source": [
    "# model_test = SpectralClustering(n_clusters=5, affinity='nearest_neighbors', assign_labels='kmeans')\n",
    "model_test = OPTICS(min_samples=2)"
   ]
  },
  {
   "cell_type": "code",
   "execution_count": null,
   "metadata": {},
   "outputs": [],
   "source": [
    "model = SpectralClustering(n_clusters=2, affinity='nearest_neighbors', assign_labels='kmeans')"
   ]
  },
  {
   "cell_type": "code",
   "execution_count": null,
   "metadata": {},
   "outputs": [],
   "source": [
    "labels_km = estimator.labels_\n",
    "labels_sc = model.fit_predict(data_z_L14[[0, 2], :].T)"
   ]
  },
  {
   "cell_type": "code",
   "execution_count": null,
   "metadata": {},
   "outputs": [],
   "source": [
    "np.sum(~np.isfinite(data_z_L14[2, :]))"
   ]
  },
  {
   "cell_type": "code",
   "execution_count": null,
   "metadata": {},
   "outputs": [],
   "source": [
    "labels_test = model_test.fit_predict(data_z_L14[[0, 2], :].T)"
   ]
  },
  {
   "cell_type": "code",
   "execution_count": null,
   "metadata": {},
   "outputs": [],
   "source": [
    "labels_test"
   ]
  },
  {
   "cell_type": "code",
   "execution_count": null,
   "metadata": {},
   "outputs": [],
   "source": [
    "np.shape(data_z_L14[[0, 2], :].T)"
   ]
  },
  {
   "cell_type": "code",
   "execution_count": null,
   "metadata": {},
   "outputs": [],
   "source": [
    "data_z_L14[0, :]"
   ]
  },
  {
   "cell_type": "code",
   "execution_count": null,
   "metadata": {},
   "outputs": [],
   "source": [
    "fig = plt.figure(figsize=(8,5))\n",
    "ax1 = fig.add_subplot(1,1,1)\n",
    "\n",
    "ax1.scatter(data_z_L14[0, :], data_z_L14[2, :], c=labels_km, edgecolor='k', s=50, cmap='inferno')\n",
    "ax1.set_yscale('log')\n",
    "ax1.set_ylim((1e23, 1e29))"
   ]
  },
  {
   "cell_type": "code",
   "execution_count": null,
   "metadata": {},
   "outputs": [],
   "source": [
    "fig = plt.figure(figsize=(8,5))\n",
    "ax1 = fig.add_subplot(1,1,1)\n",
    "\n",
    "ax1.scatter(data_z_L14[0, :], data_z_L14[2, :], c='k', edgecolor='k', s=50, cmap='inferno')\n",
    "ax1.set_yscale('log')\n",
    "ax1.set_ylim((1e23, 1e29))"
   ]
  },
  {
   "cell_type": "code",
   "execution_count": null,
   "metadata": {},
   "outputs": [],
   "source": [
    "fig = plt.figure(figsize=(8,5))\n",
    "ax1 = fig.add_subplot(1,1,1)\n",
    "\n",
    "ax1.scatter(large_sample_z, large_sample_L, c=labels_test, edgecolor='k', s=50, cmap='inferno')\n",
    "ax1.set_yscale('log')"
   ]
  },
  {
   "cell_type": "code",
   "execution_count": null,
   "metadata": {},
   "outputs": [],
   "source": []
  }
 ],
 "metadata": {
  "kernelspec": {
   "display_name": "Python 3",
   "language": "python",
   "name": "python3"
  },
  "language_info": {
   "codemirror_mode": {
    "name": "ipython",
    "version": 3
   },
   "file_extension": ".py",
   "mimetype": "text/x-python",
   "name": "python",
   "nbconvert_exporter": "python",
   "pygments_lexer": "ipython3",
   "version": "3.7.7"
  }
 },
 "nbformat": 4,
 "nbformat_minor": 4
}
