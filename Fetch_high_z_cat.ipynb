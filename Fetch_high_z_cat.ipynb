{
 "cells": [
  {
   "cell_type": "markdown",
   "metadata": {},
   "source": [
    "# Code to gather data from $z > 5.5$ QSOs.\n",
    "\n",
    "We want to obtain data from several surveys and catalogs in order to  \n",
    "manipulate them and try to obtain meaningful correlations."
   ]
  },
  {
   "cell_type": "markdown",
   "metadata": {},
   "source": [
    "First, we import the packages to be used"
   ]
  },
  {
   "cell_type": "markdown",
   "metadata": {},
   "source": [
    "To get the first line working, you need  \n",
    "to run the following lines:\n",
    "\n",
    "```bash\n",
    " conda install nodejs\n",
    " pip install ipympl\n",
    " pip install --upgrade jupyterlab\n",
    " jupyter labextension install @jupyter-widgets/jupyterlab-manager\n",
    " jupyter labextension install jupyter-matplotlib\n",
    " jupyter nbextension enable --py widgetsnbextension\n",
    " ```"
   ]
  },
  {
   "cell_type": "code",
   "execution_count": 1,
   "metadata": {},
   "outputs": [],
   "source": [
    "%matplotlib inline\n",
    "# Static plots\n",
    "#%matplotlib ipympl\n",
    "# Interactive plots\n",
    "import numpy as np\n",
    "# import matplotlib.cm as cm\n",
    "# import matplotlib.pyplot as plt\n",
    "# import matplotlib.colors as mcolors\n",
    "# import matplotlib.patheffects as mpe\n",
    "# import matplotlib.patheffects as path_effects\n",
    "# from matplotlib.ticker import FormatStrFormatter\n",
    "# from matplotlib.patches import Polygon\n",
    "from astropy.io import fits\n",
    "from astropy.table import Table\n",
    "from astropy.table import Column\n",
    "from astropy.table import MaskedColumn\n",
    "from astropy.table import hstack\n",
    "from astropy.table import vstack\n",
    "from astropy.table import join\n",
    "from astropy.wcs import WCS\n",
    "from astropy import units as u\n",
    "from astropy.cosmology import FlatLambdaCDM\n",
    "from astropy.coordinates import SkyCoord\n",
    "from astroquery.simbad import Simbad\n",
    "from astroquery.ned import Ned\n",
    "import getpass\n",
    "import progressbar\n",
    "import pandas as pd\n",
    "import re"
   ]
  },
  {
   "cell_type": "markdown",
   "metadata": {},
   "source": [
    "Define the spectral index $\\alpha$ from different sources  \n",
    "to be used in the luminosity calculations (K-correction)"
   ]
  },
  {
   "cell_type": "code",
   "execution_count": 2,
   "metadata": {},
   "outputs": [],
   "source": [
    "alpha_first = 0.5  # From FIRST data (Bornancini+2010)\n",
    "alpha_RG    = 1.0  # For radio galaxies (Verkhodanov & Khabibullina, 2010)\n",
    "alpha_alex  = 0.8  # Star-forming galaxies (Alexander+2003)\n",
    "alpha_smol  = 0.7  # Mean value from VLA-COSMOS 3GHz sample (Smolčić et al. 2017)\n",
    "alpha_butl  = 0.75  # From Butler et al., 2018"
   ]
  },
  {
   "cell_type": "markdown",
   "metadata": {},
   "source": [
    "Choose one of the spectral indexes"
   ]
  },
  {
   "cell_type": "code",
   "execution_count": 3,
   "metadata": {},
   "outputs": [],
   "source": [
    "alpha_used  = alpha_butl"
   ]
  },
  {
   "cell_type": "markdown",
   "metadata": {},
   "source": [
    "We define the cosmological properties to calculate luminosity distances and other quantities."
   ]
  },
  {
   "cell_type": "code",
   "execution_count": 4,
   "metadata": {},
   "outputs": [],
   "source": [
    "cosmo       = FlatLambdaCDM(H0=70, Om0=0.3)"
   ]
  },
  {
   "cell_type": "code",
   "execution_count": 5,
   "metadata": {},
   "outputs": [],
   "source": [
    "def lum_from_flux(flux, redshift):  # Flux in mJy\n",
    "    lum_distance = cosmo.luminosity_distance(redshift).to(u.m).value  # in m\n",
    "    luminosity   = 4 * np.pi * lum_distance**2 * flux * 1e-3  * 1e-26 * (1 + redshift)**(alpha_used - 1)  # in W/Hz\n",
    "    return luminosity"
   ]
  },
  {
   "cell_type": "markdown",
   "metadata": {},
   "source": [
    "One function, to derive luminosity distances"
   ]
  },
  {
   "cell_type": "code",
   "execution_count": 6,
   "metadata": {},
   "outputs": [],
   "source": [
    "def luminosity_distance(z_i, H0=70., WM=0.3, WV=0.7):\n",
    "    z_i   = np.array([z_i], dtype='float64').flatten()\n",
    "    c     = 299792.458 # velocity of light in km/sec\n",
    "    h     = H0 / 100.\n",
    "    WR    = 4.165E-5 / (h * h)   # includes 3 massless neutrino species, T0 = 2.72528\n",
    "    WK    = 1 - WM - WR - WV\n",
    "    azs   = 1.0 / (1 + z_i)\n",
    "    DTT   = 0.0\n",
    "    DCMR  = 0.0\n",
    "    # do integral over a=1/(1+z) from az to 1 in n steps, midpoint rule\n",
    "    n     = 1000  # number of points in integrals\n",
    "    DL_Mpcs = np.zeros_like(z_i)\n",
    "    for count, az in enumerate(azs):\n",
    "        a     = az + (1 - az) * (np.arange(0, n) + 0.5) / n\n",
    "        adot  = np.sqrt(WK + (WM / a) + (WR / (a * a)) + (WV * a * a))\n",
    "        for i in range(n):\n",
    "            # a    = az + (1 - az) * (i + 0.5) / n\n",
    "            # adot = math.sqrt(WK + (WM / a) + (WR / (a * a)) + (WV * a * a))\n",
    "            DTT  = DTT + 1. / adot[i]\n",
    "            DCMR = DCMR + 1. / (a[i] * adot[i])\n",
    "        DTT   = (1. - az) * DTT / n\n",
    "        DCMR  = (1. - az) * DCMR / n\n",
    "        # tangential comoving distance\n",
    "        ratio = 1.00\n",
    "        x     = np.sqrt(abs(WK)) * DCMR\n",
    "        if x > 0.1:\n",
    "            if WK > 0:\n",
    "                ratio =  0.5 * (np.exp(x) - np.exp(-x)) / x \n",
    "            else:\n",
    "                ratio = np.sin(x) / x\n",
    "        else:\n",
    "            y = x * x\n",
    "        if WK < 0: y = -y\n",
    "        ratio  = 1. + y / 6. + y * y / 120.\n",
    "        DCMT   = ratio * DCMR\n",
    "        DA     = az * DCMT\n",
    "        DL     = DA / (az * az)\n",
    "        DL_Mpc = (c / H0) * DL\n",
    "        DL_Mpcs[count] = DL_Mpc\n",
    "    return DL_Mpcs"
   ]
  },
  {
   "cell_type": "markdown",
   "metadata": {},
   "source": [
    "---"
   ]
  },
  {
   "cell_type": "markdown",
   "metadata": {},
   "source": [
    "### Reading data"
   ]
  },
  {
   "cell_type": "markdown",
   "metadata": {},
   "source": [
    "Next step, reading our data.  \n",
    "Most of the data files have been created using Topcat"
   ]
  },
  {
   "cell_type": "code",
   "execution_count": 7,
   "metadata": {},
   "outputs": [],
   "source": [
    "machine  = getpass.getuser()\n",
    "# cat_path = '/home/' + machine + '/Documentos/Data/'\n",
    "cat_path = ''  # relative path to the same directory"
   ]
  },
  {
   "cell_type": "markdown",
   "metadata": {},
   "source": [
    "Read data from FIRST+MILLIQUAS catalogs cross-matched.  \n",
    "\n",
    "**MILLIQUAS + FIRST (SDSS)**   \n",
    "\n",
    "Redshift values have been retrieved from the column `pipeline_redshift` in SDSS DR12  \n",
    "The procedure to obtain these values is explained in **Bolton+2012**  \n",
    "\n",
    "We also select sources with have explicitely data in both SDSS Quasar Catalog and  \n",
    "in the FIRST survey (`first_match_flag = 1`).  \n",
    "\n",
    "In order to get only the best redshift values, we select sources with  \n",
    "`pipeline_redshift_flag = 0`.\n",
    "\n",
    "Thus, we can use 9161 objects from the catalog."
   ]
  },
  {
   "cell_type": "code",
   "execution_count": 8,
   "metadata": {},
   "outputs": [],
   "source": [
    "#hdu_list = fits.open(cat_path + 'tables_matches_milli_sdss_apr.fits');\n",
    "#sdss_milli  = Table(hdu_list[1].data);\n",
    "#hdu_list.close();\n",
    "\n",
    "# sdss_milli = Table.read(cat_path + 'tables_matches_milli_sdss_apr.fits')\n",
    "sdss_milli = Table.read(cat_path + 'milliquas_sdssquasar_jun2020.fits')\n",
    "\n",
    "L_14GHz_filter = np.array((sdss_milli['flux_20_cm'] > 0.0) * (sdss_milli['first_offset'] < 1.0)) ;  # sdss + milliquasar"
   ]
  },
  {
   "cell_type": "markdown",
   "metadata": {},
   "source": [
    "We load data from the VLA-COSMOS 3 GHz Large Project\n",
    "**Smolčić et al. 2017**\n",
    "\n",
    "We can, also, separate sources which have an AGN X-ray counterpart\n",
    "with the flag `cosm_xray_flag`"
   ]
  },
  {
   "cell_type": "code",
   "execution_count": 9,
   "metadata": {},
   "outputs": [],
   "source": [
    "# hdu_cosmos          = fits.open(cat_path + 'vla_xmmcosmos_smolcic.fits')\n",
    "# cosmos_data         = Table(hdu_cosmos[1].data)\n",
    "# hdu_cosmos.close()\n",
    "\n",
    "# cosmos_data         = Table.read(cat_path + 'vla_xmmcosmos_smolcic.fits')\n",
    "cosmos_data         = Table.read(cat_path + 'vlacosxoid_vlacos3gh_cosmos_jun2020.fits')\n",
    "\n",
    "x_ray_flag          = cosmos_data['cosm_xray_flag']\n",
    "redshift_cosmos     = cosmos_data['cosm_z']\n",
    "redshift_cosmos[~np.isfinite(redshift_cosmos)] = 0.0  # Repair NaN values\n",
    "int_14GHz_cosmos    = cosmos_data['cosm_lum_14ghz']   # W/Hz Using their own spectral indices\n",
    "cosmos_3GHz_flux    = cosmos_data['cosm_f_3ghz']      # mJy\n",
    "cosmos_3GHz_flux_e  = cosmos_data['cosm_f_3ghz_err']\n",
    "cosmos_3GHz_flux_e[~np.isfinite(cosmos_3GHz_flux_e)] = 0.0  # Repair NaN values\n",
    "cosmos_14GHz_flux   = cosmos_3GHz_flux_e * (3/1.4)**alpha_used\n",
    "cosmos_14GHz_flux[~np.isfinite(cosmos_14GHz_flux)] = 0.0  # Repair NaN values\n",
    "cosmos_14GHz_flux_e = np.abs(cosmos_14GHz_flux) * cosmos_3GHz_flux_e / cosmos_3GHz_flux\n",
    "\n",
    "redshift_cosmos_x   = cosmos_data['cosm_z'][(cosmos_data['cosm_z'] > 0) * (cosmos_data['cosm_xray_flag'] == 'T')]\n",
    "int_14GHz_cosmos_x  = cosmos_data['cosm_lum_14ghz'][(cosmos_data['cosm_z'] > 0) * (cosmos_data['cosm_xray_flag'] == 'T')]"
   ]
  },
  {
   "cell_type": "markdown",
   "metadata": {},
   "source": [
    "We want, also, to add $z > 6$ QSOs from the list in  \n",
    "Table 3 in the review of **Inayoshi, Visbal, and Haiman, 2020**.  \n",
    "Six of them have $z > 7$\n",
    "\n",
    "Not all of them have $1.4$ GHz measurements. Others have  \n",
    "measurements in different frequencies which can be translated  \n",
    "into the desired frequency using, for instance, the relation  \n",
    "from **Butler et al., 2018**:\n",
    "\n",
    "$$S_{a} = S_{b} \\times (\\frac{\\nu_{b}}{\\nu_{a}})^{\\alpha}$$  \n",
    "\n",
    "We load the data from these sources. Fluxes from different frequencies than $1.4$ GHz are translated to the needed value."
   ]
  },
  {
   "cell_type": "code",
   "execution_count": 10,
   "metadata": {},
   "outputs": [],
   "source": [
    "high_z_ra         = np.char.replace(np.loadtxt(cat_path + 'high_z_qso_props.csv', usecols=[1],  dtype='str', delimiter=';'), ',', '.').astype(np.float)\n",
    "high_z_dec        = np.char.replace(np.loadtxt(cat_path + 'high_z_qso_props.csv', usecols=[2],  dtype='str', delimiter=';'), ',', '.').astype(np.float)\n",
    "high_z_zs         = np.char.replace(np.loadtxt(cat_path + 'high_z_qso_props.csv', usecols=[3],  dtype='str', delimiter=';'), ',', '.').astype(np.float)\n",
    "high_z_zs_e       = np.char.replace(np.loadtxt(cat_path + 'high_z_qso_props.csv', usecols=[4],  dtype='str', delimiter=';'), ',', '.').astype(np.float)\n",
    "high_z_f_14GHz    = np.char.replace(np.loadtxt(cat_path + 'high_z_qso_props.csv', usecols=[6],  dtype='str', delimiter=';'), ',', '.').astype(np.float)\n",
    "high_z_f_14GHz_e  = np.char.replace(np.loadtxt(cat_path + 'high_z_qso_props.csv', usecols=[7],  dtype='str', delimiter=';'), ',', '.').astype(np.float)\n",
    "high_z_f_3GHz     = np.char.replace(np.loadtxt(cat_path + 'high_z_qso_props.csv', usecols=[8],  dtype='str', delimiter=';'), ',', '.').astype(np.float)\n",
    "high_z_f_3GHz_e   = np.char.replace(np.loadtxt(cat_path + 'high_z_qso_props.csv', usecols=[9],  dtype='str', delimiter=';'), ',', '.').astype(np.float)\n",
    "high_z_f_15GHz    = np.char.replace(np.loadtxt(cat_path + 'high_z_qso_props.csv', usecols=[10], dtype='str', delimiter=';'), ',', '.').astype(np.float)\n",
    "high_z_f_15GHz_e  = np.char.replace(np.loadtxt(cat_path + 'high_z_qso_props.csv', usecols=[11], dtype='str', delimiter=';'), ',', '.').astype(np.float)\n",
    "high_z_f_250GHz   = np.char.replace(np.loadtxt(cat_path + 'high_z_qso_props.csv', usecols=[12], dtype='str', delimiter=';'), ',', '.').astype(np.float)\n",
    "high_z_f_250GHz_e = np.char.replace(np.loadtxt(cat_path + 'high_z_qso_props.csv', usecols=[13], dtype='str', delimiter=';'), ',', '.').astype(np.float)\n",
    "high_z_mass_1450  = np.char.replace(np.loadtxt(cat_path + 'high_z_qso_props.csv', usecols=[14], dtype='str', delimiter=';'), ',', '.').astype(np.float)\n",
    "high_z_f_6cm      = np.zeros_like(high_z_zs)  # Keep empty\n",
    "high_z_f_6cm_e    = np.zeros_like(high_z_zs)  # Keep empty\n",
    "high_z_xmm_flux   = np.zeros_like(high_z_zs)\n",
    "high_z_xmm_flux_e = np.zeros_like(high_z_zs)\n",
    "high_z_names      = np.loadtxt(cat_path + 'high_z_qso_props.csv', usecols=[0], dtype='str', delimiter=';')\n",
    "high_z_lum_d      = luminosity_distance(high_z_zs) * 3.086e22  # in m\n",
    "high_z_up_lim     = np.array([val == '<' for val in np.loadtxt(cat_path + 'high_z_qso_props.csv', usecols=[5], dtype='str', delimiter=';')])\n",
    "high_z_origin_flg = np.full_like(high_z_zs, fill_value=4, dtype=np.int)  # Flag to know origin of sources (0: SDSS, 1: COSMOS, 2: RADIO, 3: Stripe82, 4:Inayoshi)"
   ]
  },
  {
   "cell_type": "markdown",
   "metadata": {},
   "source": [
    "Accumulate values into one array except 250GHz data.  \n",
    "Millimetre luminosities will be used separately since we cannot be completely  \n",
    "sure that they represent, fully, non-thermal emission (from AGN) and not dust."
   ]
  },
  {
   "cell_type": "code",
   "execution_count": 11,
   "metadata": {},
   "outputs": [],
   "source": [
    "# high_z_14   = high_z_14GHz + high_z_3GHz + high_z_15GHz\n",
    "# high_z_14_e = high_z_14GHz_e + high_z_3GHz_e + high_z_15GHz_e"
   ]
  },
  {
   "cell_type": "markdown",
   "metadata": {},
   "source": [
    "To complement the dataset, we also load four $z > 5.5$ sources which  \n",
    "come from the `radio` catalog in the `Heasarc` database.  \n",
    "We queried the objects which have $1.4$ GHz observations that  \n",
    "are within a $2.5$ arcsec of an object from the `SDSS QUASAR DR12`  \n",
    "catalog. We discard the sources that are already included in the `FIRST`  \n",
    "catalog, to avoid repetition."
   ]
  },
  {
   "cell_type": "markdown",
   "metadata": {},
   "source": [
    "To enlarge the size of the sample, we can also query  \n",
    "the same sample, but extending the redshift range to all positive  \n",
    "values. We can include, too, the exclusion of ***low quality*** redshift_values (or not)."
   ]
  },
  {
   "cell_type": "code",
   "execution_count": 12,
   "metadata": {},
   "outputs": [],
   "source": [
    "# radio_sources        = Table.read(cat_path + 'radio_cat_sdss_z_55_spec.fits')       # high redshift\n",
    "# radio_sources        = Table.read(cat_path + 'radio_cat_sdss_z_all_spec.fits')      # all redshift, high z quality\n",
    "radio_sources        = Table.read(cat_path + 'radio_sdssquasar_jun2020.fits')      # all redshift, high z quality\n",
    "# radio_sources        = Table.read(cat_path + 'radio_cat_sdss_z_all_all_spec.fits')  # all redshift, all z quality"
   ]
  },
  {
   "cell_type": "markdown",
   "metadata": {},
   "source": [
    "We also include sources from the field `Stripe82` with `VLA` observations.  \n",
    "The data has been obtained from **Hodge et al., 2011** (`VLASS821P4`; VLA SDSS Stripe 82 Survey 1.4-GHz Source Catalog).  \n",
    "These sources have been crossmatched with the `SDSSQUASAR` catalog to obtain their redshift value."
   ]
  },
  {
   "cell_type": "code",
   "execution_count": 13,
   "metadata": {},
   "outputs": [],
   "source": [
    "stripe82_sources     = Table.read(cat_path + 'vlass821p4_sdssquasar_jun2020.fits')"
   ]
  },
  {
   "cell_type": "markdown",
   "metadata": {},
   "source": [
    "---"
   ]
  },
  {
   "cell_type": "markdown",
   "metadata": {},
   "source": [
    "### Calculate luminosities"
   ]
  },
  {
   "cell_type": "markdown",
   "metadata": {},
   "source": [
    "Calculate luminosities (in W/Hz) for different datasets  \n",
    "using the expression\n",
    "\n",
    "$$L_{1.4\\mathrm{GHz}} = 4 \\pi \\mathrm{d}^{2}_{L} f_{1.4\\mathrm{GHz}} (1 + z)^{\\alpha - 1}$$\n",
    "\n",
    "which comes from Alexander et al. 2003\n",
    "\n",
    "We can also obtain that luminosity from the flux in $3$ GHz as\n",
    "\n",
    "$$L_{1.4\\mathrm{GHz}} = 4 \\pi \\mathrm{d}^{2}_{L} {(\\frac{3}{1.4})}^{\\alpha} f_{3\\mathrm{GHz}} (1 + z)^{\\alpha - 1}$$\n",
    "\n",
    "This expression comes from Delhaize et al. 2017."
   ]
  },
  {
   "cell_type": "code",
   "execution_count": 14,
   "metadata": {},
   "outputs": [],
   "source": [
    "L_21cm           = lum_from_flux(sdss_milli['flux_20_cm'][L_14GHz_filter], sdss_milli['redshift'][L_14GHz_filter])\n",
    "L_21cm_e         = np.abs(L_21cm) / sdss_milli['snr_20_cm'][L_14GHz_filter]"
   ]
  },
  {
   "cell_type": "code",
   "execution_count": 15,
   "metadata": {},
   "outputs": [],
   "source": [
    "L_21cm_radio     = lum_from_flux(radio_sources['radio_20cm_flux'], radio_sources['sdss_z'])\n",
    "L_21cm_radio_e   = np.abs(L_21cm_radio) * radio_sources['radio_20cm_flux_err'] / radio_sources['radio_20cm_flux']"
   ]
  },
  {
   "cell_type": "code",
   "execution_count": 16,
   "metadata": {},
   "outputs": [
    {
     "name": "stderr",
     "output_type": "stream",
     "text": [
      "/Users/rcarvajal/.miniconda3/lib/python3.7/site-packages/ipykernel_launcher.py:4: RuntimeWarning: invalid value encountered in true_divide\n",
      "  after removing the cwd from sys.path.\n"
     ]
    }
   ],
   "source": [
    "# L_14GHz_cosmos   = 4 * np.pi * (lum_dist_cosmos)**2 * cosmos_14GHz_flux * 1e-3 * 1e-26 * (1 + redshift_cosmos)**(alpha_used - 1)\n",
    "L_14GHz_cosmos   = lum_from_flux(cosmos_14GHz_flux, redshift_cosmos)\n",
    "# L_14GHz_cosmos_e = np.abs(L_14GHz_cosmos) * cosmos_14GHz_flux_e / cosmos_14GHz_flux;\n",
    "L_14GHz_cosmos_e = np.abs(int_14GHz_cosmos) * cosmos_14GHz_flux_e / cosmos_14GHz_flux\n",
    "L_14GHz_cosmos_e[~np.isfinite(L_14GHz_cosmos_e)] = 0.0  # Repair (make zero) error values"
   ]
  },
  {
   "cell_type": "code",
   "execution_count": 17,
   "metadata": {},
   "outputs": [],
   "source": [
    "L_14GHz_strp82   = lum_from_flux(stripe82_sources['strp82_20cm_flux'], stripe82_sources['sdss_z'])\n",
    "L_14GHz_strp82_e = np.abs(L_14GHz_strp82) * stripe82_sources['strp82_20cm_flux_err'] / stripe82_sources['strp82_20cm_flux'];\n",
    "L_14GHz_strp82_e[~np.isfinite(L_14GHz_strp82_e)] = 0.0  # Repair (make zero) error values"
   ]
  },
  {
   "cell_type": "markdown",
   "metadata": {},
   "source": [
    "Obtaining 1.4 GHz luminosities from 1.4, 3, 1.5 and 250 GHz fluxes."
   ]
  },
  {
   "cell_type": "code",
   "execution_count": 18,
   "metadata": {},
   "outputs": [],
   "source": [
    "# high_z_lum_14    = lum_from_flux(high_z_14GHz  * 1e3, high_z_zs)\n",
    "# high_z_lum_3     = lum_from_flux(high_z_3GHz   * 1e3, high_z_zs) * (3/1.4)**alpha_used\n",
    "# high_z_lum_15    = lum_from_flux(high_z_15GHz  * 1e3, high_z_zs) * (1.5/1.4)**alpha_used\n",
    "# high_z_lum_250   = lum_from_flux(high_z_250GHz * 1e3, high_z_zs) * (250/1.4)**(alpha_used)"
   ]
  },
  {
   "cell_type": "markdown",
   "metadata": {},
   "source": [
    "We want to calculate their respective luminosities, without a transformation of frequency."
   ]
  },
  {
   "cell_type": "code",
   "execution_count": 19,
   "metadata": {},
   "outputs": [],
   "source": [
    "high_z_lum_14GHz  = lum_from_flux(high_z_f_14GHz  * 1e3, high_z_zs)  # 1.4 GHz\n",
    "high_z_lum_3GHz   = lum_from_flux(high_z_f_3GHz   * 1e3, high_z_zs)  # 3 GHz\n",
    "high_z_lum_15GHz  = lum_from_flux(high_z_f_15GHz  * 1e3, high_z_zs)  # 1.5 GHz\n",
    "high_z_lum_250GHz = lum_from_flux(high_z_f_250GHz * 1e3, high_z_zs)  # 250 GHz"
   ]
  },
  {
   "cell_type": "markdown",
   "metadata": {},
   "source": [
    "Mix all luminosities (different bands) to obtain single value (adding zeroes).  \n",
    "Millimetre luminosities will be used separately since we cannot be completely  \n",
    "sure that they represent, fully, non-thermal emission (from AGN) and not dust."
   ]
  },
  {
   "cell_type": "code",
   "execution_count": 20,
   "metadata": {},
   "outputs": [],
   "source": [
    "# high_z_lum_14GHz   = high_z_lum_14 + high_z_lum_3 + high_z_lum_15"
   ]
  },
  {
   "cell_type": "markdown",
   "metadata": {},
   "source": [
    "Previous step is not completely needed since we will combine values  \n",
    "in a much more future step."
   ]
  },
  {
   "cell_type": "markdown",
   "metadata": {},
   "source": [
    "We can also determine error values for these luminosities"
   ]
  },
  {
   "cell_type": "code",
   "execution_count": 21,
   "metadata": {},
   "outputs": [],
   "source": [
    "high_z_lum_14GHz_e  = np.zeros_like(high_z_lum_14GHz)\n",
    "high_z_lum_3GHz_e   = np.zeros_like(high_z_lum_3GHz)\n",
    "high_z_lum_15GHz_e  = np.zeros_like(high_z_lum_15GHz)\n",
    "high_z_lum_250GHz_e = np.zeros_like(high_z_lum_250GHz)\n",
    "for counter, element in enumerate(high_z_lum_14GHz):\n",
    "    if element == 0: continue\n",
    "    high_z_lum_14GHz_e[counter] = np.abs(element) * high_z_f_14GHz_e[counter] / high_z_f_14GHz[counter]\n",
    "for counter, element in enumerate(high_z_lum_3GHz):\n",
    "    if element == 0: continue\n",
    "    high_z_lum_3GHz_e[counter] = np.abs(element) * high_z_f_3GHz_e[counter] / high_z_f_3GHz[counter]\n",
    "for counter, element in enumerate(high_z_lum_15GHz):\n",
    "    if element == 0: continue\n",
    "    high_z_lum_15GHz_e[counter] = np.abs(element) * high_z_f_15GHz_e[counter] / high_z_f_15GHz[counter]\n",
    "for counter, element in enumerate(high_z_lum_250GHz):\n",
    "    if element == 0: continue\n",
    "    high_z_lum_250GHz_e[counter] = np.abs(element) * high_z_f_250GHz_e[counter] / high_z_f_250GHz[counter]"
   ]
  },
  {
   "cell_type": "markdown",
   "metadata": {},
   "source": [
    "Create a filter to plot, when needed, only the sources which  \n",
    "have mm data but not radio observations."
   ]
  },
  {
   "cell_type": "code",
   "execution_count": 22,
   "metadata": {},
   "outputs": [],
   "source": [
    "filter_250GHz = np.array((high_z_lum_250GHz > 0) * (high_z_lum_14GHz == 0))"
   ]
  },
  {
   "cell_type": "markdown",
   "metadata": {},
   "source": [
    "Now, we can use the points we are interested in. Our sample from **Inayoshi et al., 2020** and the  \n",
    "sources from **SDSS+FIRST** with $z>5.5$."
   ]
  },
  {
   "cell_type": "markdown",
   "metadata": {},
   "source": [
    "Another option to display the data is, instead of showing redshift in the  \n",
    "horizontal axis, have the mass of the observed objects.\n",
    "\n",
    "**Inayoshi et al., 2020** use the rest-frame UV magnitude $\\mathrm{M}_{1450}$  \n",
    "to calculate the mass as:\n",
    "\n",
    "$$M = 10^{[-(\\mathrm{M}_{1450} + 3.459) / 2.5]} [\\mathrm{M}_{\\odot}]$$\n",
    "\n",
    "which yields, on average, the published virial mass estimates for those available."
   ]
  },
  {
   "cell_type": "markdown",
   "metadata": {},
   "source": [
    "Create formal arrays from catalogs to merge them"
   ]
  },
  {
   "cell_type": "markdown",
   "metadata": {},
   "source": [
    "Arrays from `SDSS+FIRST`"
   ]
  },
  {
   "cell_type": "code",
   "execution_count": 23,
   "metadata": {},
   "outputs": [],
   "source": [
    "#limit_z_sdss          = 5.5\n",
    "limit_z_sdss          = 0.0\n",
    "filter_sdss_z         = np.array(sdss_milli['redshift'][L_14GHz_filter] > limit_z_sdss)\n",
    "xmm_freq              = 1.47e18  # Hz. Frequency for 0.2-12 keV observations"
   ]
  },
  {
   "cell_type": "code",
   "execution_count": 24,
   "metadata": {},
   "outputs": [],
   "source": [
    "upper_sdss_L          = L_21cm[filter_sdss_z]\n",
    "upper_sdss_L_e        = L_21cm_e[filter_sdss_z]\n",
    "upper_sdss_u_lim      = np.zeros_like(upper_sdss_L, dtype=np.bool)\n",
    "upper_sdss            = sdss_milli[np.array(sdss_milli['redshift'] > limit_z_sdss) * L_14GHz_filter]\n",
    "upper_sdss_ra         = upper_sdss['sdss_ra']\n",
    "upper_sdss_dec        = upper_sdss['sdss_dec']\n",
    "upper_sdss_z          = upper_sdss['redshift']\n",
    "upper_sdss_z_e        = upper_sdss['redshift_err']\n",
    "upper_sdss_f_20cm     = upper_sdss['flux_20_cm']  # mJy\n",
    "upper_sdss_f_20cm_e   = upper_sdss['flux_20_cm'] / upper_sdss['snr_20_cm']  # mJy\n",
    "upper_sdss_f_6cm      = np.zeros_like(upper_sdss_L)\n",
    "upper_sdss_f_6cm_e    = np.zeros_like(upper_sdss_L)\n",
    "upper_sdss_L_6cm      = np.zeros_like(upper_sdss_L)\n",
    "upper_sdss_L_6cm_e    = np.zeros_like(upper_sdss_L)\n",
    "upper_sdss_f_3GHz     = np.zeros_like(upper_sdss_L)\n",
    "upper_sdss_f_3GHz_e   = np.zeros_like(upper_sdss_L)\n",
    "upper_sdss_L_3GHz     = np.zeros_like(upper_sdss_L)\n",
    "upper_sdss_L_3GHz_e   = np.zeros_like(upper_sdss_L)\n",
    "upper_sdss_f_15GHz    = np.zeros_like(upper_sdss_L)  # 1.5 GHz\n",
    "upper_sdss_f_15GHz_e  = np.zeros_like(upper_sdss_L)\n",
    "upper_sdss_L_15GHz    = np.zeros_like(upper_sdss_L)\n",
    "upper_sdss_L_15GHz_e  = np.zeros_like(upper_sdss_L)\n",
    "upper_sdss_f_250GHz   = np.zeros_like(upper_sdss_L)\n",
    "upper_sdss_f_250GHz_e = np.zeros_like(upper_sdss_L)\n",
    "upper_sdss_L_250GHz   = np.zeros_like(upper_sdss_L)\n",
    "upper_sdss_L_250GHz_e = np.zeros_like(upper_sdss_L)\n",
    "upper_sdss_xmm_flux   = upper_sdss['xmm_flux'] / xmm_freq * 1e23 * 1e3     # in erg cm-2 s-1. Need to convert to mJy\n",
    "upper_sdss_xmm_flux_e = upper_sdss['xmm_flux_err'] / xmm_freq * 1e23 * 1e3 # in erg cm-2 s-1. Need to convert to mJy\n",
    "upper_sdss_mass_1450  = np.zeros_like(upper_sdss_L)\n",
    "upper_sdss_origin_flg = np.zeros_like(upper_sdss_L, dtype=np.int)  # Flag to know origin of sources (0: SDSS, 1: COSMOS, 2: RADIO, 3: Stripe82, 4:Inayoshi)"
   ]
  },
  {
   "cell_type": "markdown",
   "metadata": {},
   "source": [
    "Arrays from the `COSMOS` Field"
   ]
  },
  {
   "cell_type": "code",
   "execution_count": 25,
   "metadata": {},
   "outputs": [],
   "source": [
    "# upper_cosmos_L          = int_14GHz_cosmos[np.array(cosmos_data['cosm_z'] > limit_z_sdss)]  # Calculated by them\n",
    "upper_cosmos_L          = L_14GHz_cosmos[np.array(redshift_cosmos > limit_z_sdss)]  # Calculated with our spectral index\n",
    "upper_cosmos_L_e        = L_14GHz_cosmos_e[np.array(redshift_cosmos > limit_z_sdss)]\n",
    "upper_cosmos_u_lim      = np.zeros_like(upper_cosmos_L, dtype=np.bool)\n",
    "upper_cosmos            = cosmos_data[np.array(redshift_cosmos > limit_z_sdss)]\n",
    "upper_cosmos_ra         = upper_cosmos['cosm_ra']\n",
    "upper_cosmos_dec        = upper_cosmos['cosm_dec']\n",
    "upper_cosmos_z          = upper_cosmos['cosm_z']\n",
    "upper_cosmos_z_e        = np.zeros_like(upper_cosmos_L)\n",
    "upper_cosmos_f_20cm     = cosmos_14GHz_flux[np.array(redshift_cosmos > limit_z_sdss)]  # mJy\n",
    "upper_cosmos_f_20cm_e   = cosmos_14GHz_flux_e[np.array(redshift_cosmos > limit_z_sdss)]  # mJy\n",
    "upper_cosmos_f_3GHz     = upper_cosmos['cosm_f_3ghz']\n",
    "upper_cosmos_f_3GHz_e   = upper_cosmos['cosm_f_3ghz_err']\n",
    "upper_cosmos_L_3GHz     = upper_cosmos['cosm_lum_3ghz']  # W/Hz\n",
    "upper_cosmos_L_3GHz_e   = np.abs(upper_cosmos_L_3GHz) * upper_cosmos_f_3GHz_e / upper_cosmos_f_3GHz\n",
    "upper_cosmos_f_6cm      = np.zeros_like(upper_cosmos_L)\n",
    "upper_cosmos_f_6cm_e    = np.zeros_like(upper_cosmos_L)\n",
    "upper_cosmos_L_6cm      = np.zeros_like(upper_cosmos_L)\n",
    "upper_cosmos_L_6cm_e    = np.zeros_like(upper_cosmos_L)\n",
    "upper_cosmos_f_15GHz    = np.zeros_like(upper_cosmos_L)  # 1.5 GHz\n",
    "upper_cosmos_f_15GHz_e  = np.zeros_like(upper_cosmos_L)\n",
    "upper_cosmos_L_15GHz    = np.zeros_like(upper_cosmos_L)\n",
    "upper_cosmos_L_15GHz_e  = np.zeros_like(upper_cosmos_L)\n",
    "upper_cosmos_f_250GHz   = np.zeros_like(upper_cosmos_L)\n",
    "upper_cosmos_f_250GHz_e = np.zeros_like(upper_cosmos_L)\n",
    "upper_cosmos_L_250GHz   = np.zeros_like(upper_cosmos_L)\n",
    "upper_cosmos_L_250GHz_e = np.zeros_like(upper_cosmos_L)\n",
    "upper_cosmos_xmm_flux   = np.zeros_like(upper_cosmos_L)          # in erg cm-2 s-1. Need to convert to mJy\n",
    "upper_cosmos_xmm_flux_e = np.zeros_like(upper_cosmos_L)          # in erg cm-2 s-1. Need to convert to mJy\n",
    "upper_cosmos_mass_1450  = np.zeros_like(upper_cosmos_L)\n",
    "upper_cosmos_origin_flg = np.ones_like(upper_cosmos_L, dtype=np.int)  # Flag to know origin of sources (0: SDSS, 1: COSMOS, 2: RADIO, 3: Stripe82, 4:Inayoshi)"
   ]
  },
  {
   "cell_type": "markdown",
   "metadata": {},
   "source": [
    "Arrays from `radio`catalog (`Heasarc`)"
   ]
  },
  {
   "cell_type": "code",
   "execution_count": 26,
   "metadata": {},
   "outputs": [],
   "source": [
    "radio_sdss_ra         = radio_sources['sdss_ra']\n",
    "radio_sdss_dec        = radio_sources['sdss_dec']\n",
    "radio_sdss_u_lim      = np.zeros_like(L_21cm_radio, dtype=np.bool)\n",
    "radio_sdss_z          = radio_sources['sdss_z']\n",
    "radio_sdss_z_e        = radio_sources['sdss_z_err']\n",
    "radio_sdss_f_20cm     = radio_sources['radio_20cm_flux']\n",
    "radio_sdss_f_20cm_e   = radio_sources['radio_20cm_flux_err']\n",
    "radio_sdss_f_6cm      = radio_sources['radio_6cm_flux']        # mJy\n",
    "radio_sdss_f_6cm_e    = radio_sources['radio_6cm_flux_err']        # mJy\n",
    "radio_sdss_L_6cm      = lum_from_flux(radio_sdss_f_6cm, radio_sdss_z)  # W/Hz\n",
    "radio_sdss_L_6cm_e    = np.abs(radio_sdss_L_6cm) * radio_sdss_f_6cm_e / radio_sdss_f_6cm\n",
    "radio_sdss_f_3GHz     = np.zeros_like(L_21cm_radio)\n",
    "radio_sdss_f_3GHz_e   = np.zeros_like(L_21cm_radio)\n",
    "radio_sdss_L_3GHz     = np.zeros_like(L_21cm_radio)\n",
    "radio_sdss_L_3GHz_e   = np.zeros_like(L_21cm_radio)\n",
    "radio_sdss_f_15GHz    = np.zeros_like(L_21cm_radio)\n",
    "radio_sdss_f_15GHz_e  = np.zeros_like(L_21cm_radio)\n",
    "radio_sdss_L_15GHz    = np.zeros_like(L_21cm_radio)\n",
    "radio_sdss_L_15GHz_e  = np.zeros_like(L_21cm_radio)\n",
    "radio_sdss_f_250GHz   = np.zeros_like(L_21cm_radio)\n",
    "radio_sdss_f_250GHz_e = np.zeros_like(L_21cm_radio)\n",
    "radio_sdss_L_250GHz   = np.zeros_like(L_21cm_radio)\n",
    "radio_sdss_L_250GHz_e = np.zeros_like(L_21cm_radio)\n",
    "radio_sdss_xmm_flux   = radio_sources['xmm_flux'] / xmm_freq * 1e23 * 1e3      # in erg cm-2 s-1. Need to convert to mJy\n",
    "radio_sdss_xmm_flux_e = radio_sources['xmm_flux_err'] / xmm_freq * 1e23 * 1e3  # in erg cm-2 s-1. Need to convert to mJy\n",
    "radio_sdss_mass_1450  = np.zeros_like(L_21cm_radio)\n",
    "radio_sdss_origin_flg = np.full_like(L_21cm_radio, fill_value=2, dtype=np.int)  # Flag to know origin of sources (0: SDSS, 1: COSMOS, 2: RADIO, 3: Stripe82, 4:Inayoshi)"
   ]
  },
  {
   "cell_type": "markdown",
   "metadata": {},
   "source": [
    "Arrays from `vlass821p4` catalog."
   ]
  },
  {
   "cell_type": "code",
   "execution_count": 27,
   "metadata": {},
   "outputs": [],
   "source": [
    "strp82_ra            = stripe82_sources['sdss_ra']               # in degree\n",
    "strp82_dec           = stripe82_sources['sdss_dec']              # in degree\n",
    "strp82_u_lim         = np.zeros_like(strp82_ra, dtype=np.bool)\n",
    "strp82_z             = stripe82_sources['sdss_z']\n",
    "strp82_z_e           = stripe82_sources['sdss_z_err']\n",
    "strp82_20cm_flux     = stripe82_sources['strp82_20cm_flux']      # in mJy\n",
    "strp82_20cm_flux_e   = stripe82_sources['strp82_20cm_flux_err']  # in mJy\n",
    "strp82_f_3GHz        = np.zeros_like(strp82_z)\n",
    "strp82_f_3GHz_e      = np.zeros_like(strp82_z)\n",
    "strp82_L_3GHz        = np.zeros_like(strp82_z)  # W/Hz\n",
    "strp82_L_3GHz_e      = np.zeros_like(strp82_z)\n",
    "strp82_f_6cm         = np.zeros_like(strp82_z)\n",
    "strp82_f_6cm_e       = np.zeros_like(strp82_z)\n",
    "strp82_L_6cm         = np.zeros_like(strp82_z)\n",
    "strp82_L_6cm_e       = np.zeros_like(strp82_z)\n",
    "strp82_f_15GHz       = np.zeros_like(strp82_z)  # 1.5 GHz\n",
    "strp82_f_15GHz_e     = np.zeros_like(strp82_z)\n",
    "strp82_L_15GHz       = np.zeros_like(strp82_z)\n",
    "strp82_L_15GHz_e     = np.zeros_like(strp82_z)\n",
    "strp82_f_250GHz      = np.zeros_like(strp82_z)\n",
    "strp82_f_250GHz_e    = np.zeros_like(strp82_z)\n",
    "strp82_L_250GHz      = np.zeros_like(strp82_z)\n",
    "strp82_L_250GHz_e    = np.zeros_like(strp82_z)\n",
    "strp82_xmm_flux      = stripe82_sources['xmm_flux'] / xmm_freq * 1e23 * 1e3      # in erg cm-2 s-1. Need to convert to mJy\n",
    "strp82_xmm_flux_e    = stripe82_sources['xmm_flux_err'] / xmm_freq * 1e23 * 1e3  # in erg cm-2 s-1. Need to convert to mJy\n",
    "strp82_spec_index    = stripe82_sources['spec_index']\n",
    "strp82_mass_1450     = np.zeros_like(strp82_z)\n",
    "strp82_origin_flg    = np.full_like(strp82_z, fill_value=3, dtype=np.int)  # Flag to know origin of sources (0: SDSS, 1: COSMOS, 2: RADIO, 3: Stripe82, 4:Inayoshi)"
   ]
  },
  {
   "cell_type": "markdown",
   "metadata": {},
   "source": [
    "Merging `SDSS+FIRST` and `radio`"
   ]
  },
  {
   "cell_type": "code",
   "execution_count": 28,
   "metadata": {},
   "outputs": [],
   "source": [
    "radio_large_sample_ra         = np.append(upper_sdss_ra,         radio_sdss_ra)           # deg\n",
    "radio_large_sample_dec        = np.append(upper_sdss_dec,        radio_sdss_dec)          # deg\n",
    "radio_large_sample_L          = np.append(upper_sdss_L,          L_21cm_radio)            # W/Hz\n",
    "radio_large_sample_L_e        = np.append(upper_sdss_L_e,        L_21cm_radio_e)          # W/Hz\n",
    "radio_large_sample_u_lim      = np.append(upper_sdss_u_lim,      radio_sdss_u_lim)\n",
    "# radio_large_sample_L_250GHz   = np.append(upper_sdss_L_250GHz,   radio_sdss_L_250GHz)     # W/Hz\n",
    "# radio_large_sample_L_250GHz_e = np.append(upper_sdss_L_250GHz_e, radio_sdss_L_250GHz_e)   # W/Hz\n",
    "radio_large_sample_f_20cm     = np.append(upper_sdss_f_20cm,     radio_sdss_f_20cm)       # mJy\n",
    "radio_large_sample_f_20cm_e   = np.append(upper_sdss_f_20cm_e,   radio_sdss_f_20cm_e)     # mJy\n",
    "\n",
    "radio_large_sample_f_6cm      = np.append(upper_sdss_f_6cm,      radio_sdss_f_6cm)        # mJy\n",
    "radio_large_sample_f_6cm_e    = np.append(upper_sdss_f_6cm_e,    radio_sdss_f_6cm_e)      # mJy\n",
    "radio_large_sample_f_3GHz     = np.append(upper_sdss_f_3GHz,     radio_sdss_f_3GHz)       # mJy\n",
    "radio_large_sample_f_3GHz_e   = np.append(upper_sdss_f_3GHz_e,   radio_sdss_f_3GHz_e)     # mJy\n",
    "radio_large_sample_f_15GHz    = np.append(upper_sdss_f_15GHz,    radio_sdss_f_15GHz)      # mJy\n",
    "radio_large_sample_f_15GHz_e  = np.append(upper_sdss_f_15GHz_e,  radio_sdss_f_15GHz_e)    # mJy\n",
    "\n",
    "radio_large_sample_f_250GHz   = np.append(upper_sdss_f_250GHz,   radio_sdss_f_250GHz)     # mJy\n",
    "radio_large_sample_f_250GHz_e = np.append(upper_sdss_f_250GHz_e, radio_sdss_f_250GHz_e)   # mJy\n",
    "radio_large_sample_z          = np.append(upper_sdss_z,          radio_sdss_z)\n",
    "radio_large_sample_z_e        = np.append(upper_sdss_z_e,        radio_sdss_z_e)\n",
    "radio_large_sample_xmm_flux   = np.append(upper_sdss_xmm_flux,   radio_sdss_xmm_flux)     # in erg cm-2 s-1. Need to convert to mJy\n",
    "radio_large_sample_xmm_flux_e = np.append(upper_sdss_xmm_flux_e, radio_sdss_xmm_flux_e)   # in erg cm-2 s-1. Need to convert to mJy\n",
    "radio_large_sample_mass_1450  = np.append(upper_sdss_mass_1450,  radio_sdss_mass_1450)    # M_sun\n",
    "radio_large_sample_origin_flg = np.append(upper_sdss_origin_flg, radio_sdss_origin_flg)"
   ]
  },
  {
   "cell_type": "markdown",
   "metadata": {},
   "source": [
    "Merging `SDSS+FIRST`+`radio` and the catalog from **Inayoshi et al., 2020**"
   ]
  },
  {
   "cell_type": "code",
   "execution_count": 107,
   "metadata": {},
   "outputs": [],
   "source": [
    "medium_sample_ra         = np.append(radio_large_sample_ra,         high_z_ra[np.array(high_z_lum_14GHz>0)])               # deg\n",
    "medium_sample_dec        = np.append(radio_large_sample_dec,        high_z_dec[np.array(high_z_lum_14GHz>0)])              # deg\n",
    "medium_sample_L          = np.append(radio_large_sample_L,          high_z_lum_14GHz[np.array(high_z_lum_14GHz>0)])        # W/Hz\n",
    "medium_sample_L_e        = np.append(radio_large_sample_L_e,        high_z_lum_14GHz_e[np.array(high_z_lum_14GHz>0)])      # W/Hz\n",
    "medium_sample_u_lim      = np.append(radio_large_sample_u_lim,      high_z_up_lim[np.array(high_z_lum_14GHz>0)])\n",
    "# medium_sample_L_250      = np.append(radio_large_sample_L_250GHz,   high_z_lum_250[np.array(high_z_lum_14GHz>0)])          # W/Hz\n",
    "# medium_sample_L_250_e    = np.append(radio_large_sample_L_250GHz_e, high_z_lum_250GHz_e[np.array(high_z_lum_14GHz>0)])     # W/Hz\n",
    "medium_sample_f20cm      = np.append(radio_large_sample_f_20cm,     high_z_f_14GHz[np.array(high_z_lum_14GHz>0)] * 1e-3)        # mJy\n",
    "medium_sample_f20cm_e    = np.append(radio_large_sample_f_20cm_e,   high_z_f_14GHz_e[np.array(high_z_lum_14GHz>0)] * 1e-3)      # mJy\n",
    "\n",
    "medium_sample_f_6cm      = np.append(radio_large_sample_f_6cm,      high_z_f_6cm[np.array(high_z_lum_14GHz>0)])                                          # mJy\n",
    "medium_sample_f_6cm_e    = np.append(radio_large_sample_f_6cm_e,    high_z_f_6cm_e[np.array(high_z_lum_14GHz>0)])                                        # mJy\n",
    "medium_sample_f_3GHz     = np.append(radio_large_sample_f_3GHz,     high_z_f_3GHz[np.array(high_z_lum_14GHz>0)] * 1e-3)    # mJy\n",
    "medium_sample_f_3GHz_e   = np.append(radio_large_sample_f_3GHz_e,   high_z_f_3GHz_e[np.array(high_z_lum_14GHz>0)] * 1e-3)  # mJy\n",
    "medium_sample_f_15GHz    = np.append(radio_large_sample_f_15GHz,    high_z_f_15GHz[np.array(high_z_lum_14GHz>0)] * 1e-3)   # mJy\n",
    "medium_sample_f_15GHz_e  = np.append(radio_large_sample_f_15GHz_e,  high_z_f_15GHz_e[np.array(high_z_lum_14GHz>0)] * 1e-3) # mJy\n",
    "\n",
    "medium_sample_f250GHz    = np.append(radio_large_sample_f_250GHz,   high_z_f_250GHz[np.array(high_z_lum_14GHz>0)] * 1e-3)    # mJy\n",
    "medium_sample_f250GHz_e  = np.append(radio_large_sample_f_250GHz_e, high_z_f_250GHz_e[np.array(high_z_lum_14GHz>0)] * 1e-3)  # mJy\n",
    "medium_sample_z          = np.append(radio_large_sample_z,          high_z_zs[np.array(high_z_lum_14GHz>0)])\n",
    "medium_sample_z_e        = np.append(radio_large_sample_z_e,        high_z_zs_e[np.array(high_z_lum_14GHz>0)])\n",
    "medium_sample_xmm_flux   = np.append(radio_large_sample_xmm_flux,   high_z_xmm_flux[np.array(high_z_lum_14GHz>0)])         # in erg cm-2 s-1. Need to convert to mJy\n",
    "medium_sample_xmm_flux_e = np.append(radio_large_sample_xmm_flux_e, high_z_xmm_flux_e[np.array(high_z_lum_14GHz>0)])       # in erg cm-2 s-1. Need to convert to mJy\n",
    "medium_sample_mass_1450  = np.append(radio_large_sample_mass_1450,  high_z_mass_1450[np.array(high_z_lum_14GHz>0)])        # M_sun\n",
    "medium_sample_origin_flg = np.append(radio_large_sample_origin_flg, high_z_origin_flg[np.array(high_z_lum_14GHz>0)])"
   ]
  },
  {
   "cell_type": "markdown",
   "metadata": {},
   "source": [
    "Merging `SDSS+FIRST`+`radio`+**Inayoshi et al., 2020** and `VLASS821P4` data"
   ]
  },
  {
   "cell_type": "code",
   "execution_count": 108,
   "metadata": {},
   "outputs": [],
   "source": [
    "medium82_sample_ra         = np.append(medium_sample_ra,         strp82_ra)          # deg\n",
    "medium82_sample_dec        = np.append(medium_sample_dec,        strp82_dec)         # deg\n",
    "medium82_sample_L          = np.append(medium_sample_L,          L_14GHz_strp82)           # W/Hz\n",
    "medium82_sample_L_e        = np.append(medium_sample_L_e,        L_14GHz_strp82_e)         # W/Hz\n",
    "medium82_sample_u_lim      = np.append(medium_sample_u_lim,      strp82_u_lim)\n",
    "# medium82_sample_L_250      = np.append(medium_sample_L_250,      strp82_L_250GHz)    # W/Hz\n",
    "# medium82_sample_L_250_e    = np.append(medium_sample_L_250_e,    strp82_L_250GHz_e)  # W/Hz\n",
    "medium82_sample_f20cm      = np.append(medium_sample_f20cm,      strp82_20cm_flux)      # mJy\n",
    "medium82_sample_f20cm_e    = np.append(medium_sample_f20cm_e,    strp82_20cm_flux_e)    # mJy\n",
    "\n",
    "medium82_sample_f_6cm      = np.append(medium_sample_f_6cm,      strp82_f_6cm)       # mJy\n",
    "medium82_sample_f_6cm_e    = np.append(medium_sample_f_6cm_e,    strp82_f_6cm_e)     # mJy\n",
    "medium82_sample_f_3GHz     = np.append(medium_sample_f_3GHz,     strp82_f_3GHz)      # mJy\n",
    "medium82_sample_f_3GHz_e   = np.append(medium_sample_f_3GHz_e,   strp82_f_3GHz_e)    # mJy\n",
    "medium82_sample_f_15GHz    = np.append(medium_sample_f_15GHz,    strp82_f_15GHz)     # mJy\n",
    "medium82_sample_f_15GHz_e  = np.append(medium_sample_f_15GHz_e,  strp82_f_15GHz_e)   # mJy\n",
    "\n",
    "medium82_sample_f250GHz    = np.append(medium_sample_f250GHz,    strp82_f_250GHz)    # mJy\n",
    "medium82_sample_f250GHz_e  = np.append(medium_sample_f250GHz_e,  strp82_f_250GHz_e)  # mJy\n",
    "medium82_sample_z          = np.append(medium_sample_z,          strp82_z)\n",
    "medium82_sample_z_e        = np.append(medium_sample_z_e,        strp82_z_e)\n",
    "medium82_sample_xmm_flux   = np.append(medium_sample_xmm_flux,   strp82_xmm_flux)    # in erg cm-2 s-1. Need to convert to mJy\n",
    "medium82_sample_xmm_flux_e = np.append(medium_sample_xmm_flux_e, strp82_xmm_flux_e)  # in erg cm-2 s-1. Need to convert to mJy\n",
    "medium82_sample_mass_1450  = np.append(medium_sample_mass_1450,  strp82_mass_1450)   # M_sun\n",
    "medium82_sample_origin_flg = np.append(medium_sample_origin_flg, strp82_origin_flg)"
   ]
  },
  {
   "cell_type": "markdown",
   "metadata": {},
   "source": [
    "Merging `SDSS+FIRST`+`radio`+**Inayoshi et al., 2020**+`VLASS821P4` and `COSMOS` data"
   ]
  },
  {
   "cell_type": "code",
   "execution_count": 109,
   "metadata": {},
   "outputs": [],
   "source": [
    "large_sample_ra         = np.append(medium82_sample_ra,         upper_cosmos_ra)          # deg\n",
    "large_sample_dec        = np.append(medium82_sample_dec,        upper_cosmos_dec)         # deg\n",
    "large_sample_L          = np.append(medium82_sample_L,          upper_cosmos_L)           # W/Hz\n",
    "large_sample_L_e        = np.append(medium82_sample_L_e,        upper_cosmos_L_e)         # W/Hz\n",
    "large_sample_u_lim      = np.append(medium82_sample_u_lim,      upper_cosmos_u_lim)\n",
    "# large_sample_L_250      = np.append(medium82_sample_L_250,      upper_cosmos_L_250GHz)    # W/Hz\n",
    "# large_sample_L_250_e    = np.append(medium82_sample_L_250_e,    upper_cosmos_L_250GHz_e)  # W/Hz\n",
    "large_sample_f20cm      = np.append(medium82_sample_f20cm,      upper_cosmos_f_20cm)      # mJy\n",
    "large_sample_f20cm_e    = np.append(medium82_sample_f20cm_e,    upper_cosmos_f_20cm_e)    # mJy\n",
    "\n",
    "large_sample_f_6cm      = np.append(medium82_sample_f_6cm,      upper_cosmos_f_6cm)       # mJy\n",
    "large_sample_f_6cm_e    = np.append(medium82_sample_f_6cm_e,    upper_cosmos_f_6cm_e)     # mJy\n",
    "large_sample_f_3GHz     = np.append(medium82_sample_f_3GHz,     upper_cosmos_f_3GHz)      # mJy\n",
    "large_sample_f_3GHz_e   = np.append(medium82_sample_f_3GHz_e,   upper_cosmos_f_3GHz_e)    # mJy\n",
    "large_sample_f_15GHz    = np.append(medium82_sample_f_15GHz,    upper_cosmos_f_15GHz)     # mJy\n",
    "large_sample_f_15GHz_e  = np.append(medium82_sample_f_15GHz_e,  upper_cosmos_f_15GHz_e)   # mJy\n",
    "\n",
    "large_sample_f250GHz    = np.append(medium82_sample_f250GHz,    upper_cosmos_f_250GHz)    # mJy\n",
    "large_sample_f250GHz_e  = np.append(medium82_sample_f250GHz_e,  upper_cosmos_f_250GHz_e)  # mJy\n",
    "large_sample_z          = np.append(medium82_sample_z,          upper_cosmos_z)\n",
    "large_sample_z_e        = np.append(medium82_sample_z_e,        upper_cosmos_z_e)\n",
    "large_sample_xmm_flux   = np.append(medium82_sample_xmm_flux,   upper_cosmos_xmm_flux)    # in erg cm-2 s-1. Need to convert to mJy\n",
    "large_sample_xmm_flux_e = np.append(medium82_sample_xmm_flux_e, upper_cosmos_xmm_flux_e)  # in erg cm-2 s-1. Need to convert to mJy\n",
    "large_sample_mass_1450  = np.append(medium82_sample_mass_1450,  upper_cosmos_mass_1450)   # M_sun\n",
    "large_sample_origin_flg = np.append(medium82_sample_origin_flg, upper_cosmos_origin_flg)"
   ]
  },
  {
   "cell_type": "markdown",
   "metadata": {},
   "source": [
    "At this point, we also want to obtain more properties from the selected  \n",
    "sources (**Inayoshi et al., 2020** + **SDSS+FIRST**). We will use `astroquery` to  \n",
    "obtain information from `simbad`."
   ]
  },
  {
   "cell_type": "code",
   "execution_count": 32,
   "metadata": {},
   "outputs": [
    {
     "data": {
      "text/plain": [
       "(18168,)"
      ]
     },
     "execution_count": 32,
     "metadata": {},
     "output_type": "execute_result"
    }
   ],
   "source": [
    "np.shape(large_sample_z)"
   ]
  },
  {
   "cell_type": "markdown",
   "metadata": {},
   "source": [
    "First, we obtain the names and coordinates of our sources to query them."
   ]
  },
  {
   "cell_type": "code",
   "execution_count": 33,
   "metadata": {},
   "outputs": [],
   "source": [
    "names_radio_sdss    = np.append(radio_sources['sdss_name'], upper_sdss['name'])\n",
    "medium_sample_names = np.append(names_radio_sdss, upper_cosmos['cosm_name'])\n",
    "large_sample_names  = np.append(medium_sample_names, high_z_names[np.array(high_z_lum_14GHz>0)])\n",
    "large_sample_coords = SkyCoord(ra=large_sample_ra, dec=large_sample_dec, unit=(u.deg, u.deg))"
   ]
  },
  {
   "cell_type": "code",
   "execution_count": 71,
   "metadata": {},
   "outputs": [
    {
     "data": {
      "text/plain": [
       "(9006,)"
      ]
     },
     "execution_count": 71,
     "metadata": {},
     "output_type": "execute_result"
    }
   ],
   "source": [
    "np.shape(names_radio_sdss)"
   ]
  },
  {
   "cell_type": "markdown",
   "metadata": {},
   "source": [
    "Now, we correct/change the names for those which can be looked up in `Simbad` and `Ned`."
   ]
  },
  {
   "cell_type": "code",
   "execution_count": 34,
   "metadata": {},
   "outputs": [],
   "source": [
    "old_to_replace = ['SDSS J125507.61+463126.5', 'SDSS J160558.86+474300.1', 'SDSS J111036.32+481752.3', 'SDSS J163033.89+401209.6']\n",
    "new_to_replace = ['NVSS J125507+463128', '2MASS J16055893+4742596', 'NVSS J111036+481753', 'SDSS J163033.90+401209.6']\n",
    "\n",
    "for old, new in zip(old_to_replace, new_to_replace):\n",
    "    index = np.where(large_sample_names == old)\n",
    "    large_sample_names[index] = new"
   ]
  },
  {
   "cell_type": "markdown",
   "metadata": {},
   "source": [
    "Then, we can query the database to obtain the desired data.  In this point,  \n",
    "we also add more columns to be queried."
   ]
  },
  {
   "cell_type": "code",
   "execution_count": 74,
   "metadata": {},
   "outputs": [],
   "source": [
    "query_simbad_flag               = False\n",
    "load_simbad_flag                = False\n",
    "create_simbad_inayoshi_flag     = False\n",
    "read_simbad_inayoshi_flag       = False\n",
    "query_ned_names_flag            = False\n",
    "query_ned_photometry_flag       = False\n",
    "create_phot_bands_list_flag     = False\n",
    "load_phot_bands_list_flag       = False\n",
    "order_ned_photometry_flag       = False\n",
    "create_simbad_inayoshi_ned_flag = False\n",
    "read_simbad_inayoshi_ned_flag   = False"
   ]
  },
  {
   "cell_type": "code",
   "execution_count": 36,
   "metadata": {},
   "outputs": [],
   "source": [
    "if query_simbad_flag:\n",
    "    customSimbad   = Simbad()\n",
    "    initial_fields = customSimbad.get_votable_fields()\n",
    "\n",
    "    if 'coordinates' in initial_fields:\n",
    "        customSimbad.remove_votable_fields('coordinates')\n",
    "        customSimbad.add_votable_fields('ra(d)', 'dec(d)')\n",
    "    if 'z_value' not in initial_fields:\n",
    "        customSimbad.add_votable_fields('z_value')\n",
    "    for band in ['B','V','R','I','J','K']:\n",
    "        if f'fluxdata({band})' not in initial_fields:\n",
    "            customSimbad.add_votable_fields(f'flux({band})', f'flux_error({band})')"
   ]
  },
  {
   "cell_type": "markdown",
   "metadata": {},
   "source": [
    "All sources but those from `COSMOS` catalog have meaningful (for `simbad`) names.  \n",
    "Thus, separate queries will be executed. And, to standardize results, queries  \n",
    "will only be based on coordinates (not names)."
   ]
  },
  {
   "cell_type": "code",
   "execution_count": 41,
   "metadata": {},
   "outputs": [],
   "source": [
    "if query_simbad_flag:\n",
    "    limit_set            = int(np.floor(np.shape(medium_sample_L)[0]/3))"
   ]
  },
  {
   "cell_type": "code",
   "execution_count": 42,
   "metadata": {},
   "outputs": [],
   "source": [
    "if query_simbad_flag:\n",
    "    result_table_simbad  = Table()"
   ]
  },
  {
   "cell_type": "code",
   "execution_count": 43,
   "metadata": {},
   "outputs": [],
   "source": [
    "# result_table = customSimbad.query_objects(large_sample_names)\n",
    "# customSimbad.TIMEOUT = 240\n",
    "\n",
    "# result_table_job_a   = customSimbad.query_objects(large_sample_names[:limit_set])\n",
    "\n",
    "# result_table_job_b   = customSimbad.query_objects(large_sample_names[limit_set:(limit_set*2)])\n",
    "\n",
    "# result_table_job_c   = customSimbad.query_objects(large_sample_names[(limit_set*2):(limit_set*3)])"
   ]
  },
  {
   "cell_type": "code",
   "execution_count": 44,
   "metadata": {},
   "outputs": [],
   "source": [
    "if query_simbad_flag:\n",
    "    query_error = 0\n",
    "    final_error = 0"
   ]
  },
  {
   "cell_type": "markdown",
   "metadata": {},
   "source": [
    "Query `SDSS+FIRST` (`milliquasar`) + `RADIO` + **Inayoshi et al., 2020** sources."
   ]
  },
  {
   "cell_type": "code",
   "execution_count": 45,
   "metadata": {},
   "outputs": [
    {
     "name": "stderr",
     "output_type": "stream",
     "text": [
      "100% (3007 of 3007) |####################| Elapsed Time: 0:05:56 Time:  0:05:56\n"
     ]
    }
   ],
   "source": [
    "if query_simbad_flag:\n",
    "    with progressbar.ProgressBar(min_value=0, max_value=(limit_set - 1)) as bar:\n",
    "        for index, coord in enumerate(large_sample_coords[:limit_set]):\n",
    "            temp_table      = Table()\n",
    "            try:\n",
    "                temp_table      = customSimbad.query_region(coord, radius=2.5*u.arcsec)\n",
    "                if len(temp_table) == 0:\n",
    "                    temp_table      = Table(names=('RA_d', 'DEC_d'), dtype=(result_table_simbad['RA_d'].info.dtype, result_table_simbad['DEC_d'].info.dtype))\n",
    "                    temp_table.add_row((coord.ra.deg, coord.dec.deg))\n",
    "                temp_table.meta['description'] = 'Simbad_q'\n",
    "            except:\n",
    "                temp_table      = Table(names=('RA_d', 'DEC_d'), dtype=(result_table_simbad['RA_d'].info.dtype, result_table_simbad['DEC_d'].info.dtype))\n",
    "                temp_table.add_row((coord.ra.deg, coord.dec.deg))\n",
    "                temp_table.meta['description'] = 'Simbad_q'\n",
    "                #print(f'Error with element {(index)} of the sample')\n",
    "                query_error += 1\n",
    "            try:\n",
    "                if temp_table['RA_d'].unit != 'deg':\n",
    "                    replacement_col     = MaskedColumn(temp_table['RA_d'].data, dtype=result_table_simbad['RA_d'].dtype, unit=result_table_simbad['RA_d'].unit, format=result_table_simbad['RA_d'].format, description=result_table_simbad['RA_d'].description)\n",
    "                    temp_table['RA_d']  = replacement_col\n",
    "                if temp_table['DEC_d'].unit != 'deg':\n",
    "                    replacement_col     = MaskedColumn(temp_table['DEC_d'].data, dtype=result_table_simbad['DEC_d'].dtype, unit=result_table_simbad['DEC_d'].unit, format=result_table_simbad['DEC_d'].format, description=result_table_simbad['DEC_d'].description)\n",
    "                    temp_table['DEC_d']  = replacement_col\n",
    "                result_table_simbad = vstack([result_table_simbad, temp_table[0]])\n",
    "            except:\n",
    "                print(f'Error with element {(index)} of the sample')\n",
    "                final_error += 1\n",
    "            bar.update(index)"
   ]
  },
  {
   "cell_type": "code",
   "execution_count": 46,
   "metadata": {},
   "outputs": [
    {
     "name": "stderr",
     "output_type": "stream",
     "text": [
      " 95% (5888 of 6015) |################### | Elapsed Time: 0:13:25 ETA:   0:00:45/Users/rcarvajal/.miniconda3/lib/python3.7/site-packages/astroquery/simbad/core.py:138: UserWarning: Warning: The script line number 2 raised an error (recorded in the `errors` attribute of the result table): java.lang.NullPointerException\n",
      "  (error.line, error.msg))\n",
      "100% (6015 of 6015) |####################| Elapsed Time: 0:14:11 Time:  0:14:11\n"
     ]
    }
   ],
   "source": [
    "if query_simbad_flag:\n",
    "    with progressbar.ProgressBar(min_value=limit_set, max_value=(limit_set*2 - 1)) as bar:\n",
    "        for index, coord in enumerate(large_sample_coords[limit_set:(limit_set*2)]):\n",
    "            temp_table      = Table()\n",
    "            try:\n",
    "                temp_table      = customSimbad.query_region(coord, radius=2.5*u.arcsec)\n",
    "                if len(temp_table) == 0:\n",
    "                    temp_table      = Table(names=('RA_d', 'DEC_d'), dtype=(result_table_simbad['RA_d'].info.dtype, result_table_simbad['DEC_d'].info.dtype))\n",
    "                    temp_table.add_row((coord.ra.deg, coord.dec.deg))\n",
    "                temp_table.meta['description'] = 'Simbad_q'\n",
    "            except:\n",
    "                temp_table      = Table(names=('RA_d', 'DEC_d'), dtype=(result_table_simbad['RA_d'].info.dtype, result_table_simbad['DEC_d'].info.dtype))\n",
    "                temp_table.add_row((coord.ra.deg, coord.dec.deg))\n",
    "                temp_table.meta['description'] = 'Simbad_q'\n",
    "                #print(f'Error with element {(index + limit_set)} of the sample')\n",
    "                query_error += 1\n",
    "            try:\n",
    "                if temp_table['RA_d'].unit != 'deg':\n",
    "                    replacement_col     = MaskedColumn(temp_table['RA_d'].data, dtype=result_table_simbad['RA_d'].dtype, unit=result_table_simbad['RA_d'].unit, format=result_table_simbad['RA_d'].format, description=result_table_simbad['RA_d'].description)\n",
    "                    temp_table['RA_d']  = replacement_col\n",
    "                if temp_table['DEC_d'].unit != 'deg':\n",
    "                    replacement_col     = MaskedColumn(temp_table['DEC_d'].data, dtype=result_table_simbad['DEC_d'].dtype, unit=result_table_simbad['DEC_d'].unit, format=result_table_simbad['DEC_d'].format, description=result_table_simbad['DEC_d'].description)\n",
    "                    temp_table['DEC_d']  = replacement_col\n",
    "                result_table_simbad = vstack([result_table_simbad, temp_table[0]])\n",
    "            except:\n",
    "                print(f'Error with element {(index + limit_set)} of the sample')\n",
    "                temp_table      = Table(names=('RA_d', 'DEC_d'), dtype=(result_table_simbad['RA_d'].info.dtype, result_table_simbad['DEC_d'].info.dtype))\n",
    "                temp_table.add_row((coord.ra.deg, coord.dec.deg))\n",
    "                temp_table.meta['description'] = 'Simbad_q'\n",
    "                result_table_simbad = vstack([result_table_simbad, temp_table[0]])\n",
    "                final_error += 1\n",
    "            bar.update(index + limit_set)"
   ]
  },
  {
   "cell_type": "code",
   "execution_count": 47,
   "metadata": {},
   "outputs": [
    {
     "name": "stderr",
     "output_type": "stream",
     "text": [
      " 14% (6467 of 9024) |##############      | Elapsed Time: 0:02:46 ETA:   0:16:00"
     ]
    },
    {
     "name": "stdout",
     "output_type": "stream",
     "text": [
      "Error with element 6468 of the sample\n"
     ]
    },
    {
     "name": "stderr",
     "output_type": "stream",
     "text": [
      " 15% (6492 of 9024) |##############      | Elapsed Time: 0:02:56 ETA:   0:15:56"
     ]
    },
    {
     "name": "stdout",
     "output_type": "stream",
     "text": [
      "Error with element 6493 of the sample\n"
     ]
    },
    {
     "name": "stderr",
     "output_type": "stream",
     "text": [
      " 33% (7024 of 9024) |###############     | Elapsed Time: 0:06:39 ETA:   0:15:05"
     ]
    },
    {
     "name": "stdout",
     "output_type": "stream",
     "text": [
      "Error with element 7025 of the sample\n"
     ]
    },
    {
     "name": "stderr",
     "output_type": "stream",
     "text": [
      "100% (9024 of 9024) |####################| Elapsed Time: 0:23:09 Time:  0:23:09\n"
     ]
    }
   ],
   "source": [
    "if query_simbad_flag:\n",
    "    with progressbar.ProgressBar(min_value=(limit_set*2), max_value=(limit_set*3)) as bar:\n",
    "        for index, coord in enumerate(large_sample_coords[(limit_set*2):(limit_set*3 + 1)]):\n",
    "            temp_table      = Table()\n",
    "            try:\n",
    "                temp_table      = customSimbad.query_region(coord, radius=2.5*u.arcsec)\n",
    "                if len(temp_table) == 0:\n",
    "                    temp_table      = Table(names=('RA_d', 'DEC_d'), dtype=(result_table_simbad['RA_d'].info.dtype, result_table_simbad['DEC_d'].info.dtype))\n",
    "                    temp_table.add_row((coord.ra.deg, coord.dec.deg))\n",
    "                temp_table.meta['description'] = 'Simbad_q'\n",
    "            except:\n",
    "                temp_table      = Table(names=('RA_d', 'DEC_d'), dtype=(result_table_simbad['RA_d'].info.dtype, result_table_simbad['DEC_d'].info.dtype))\n",
    "                temp_table.add_row((coord.ra.deg, coord.dec.deg))\n",
    "                temp_table.meta['description'] = 'Simbad_q'\n",
    "                # print(f'Error with element {(index + limit_set*2)} of the sample')\n",
    "                query_error += 1\n",
    "            try:\n",
    "                if temp_table['RA_d'].unit != 'deg':\n",
    "                    replacement_col     = MaskedColumn(temp_table['RA_d'].data, dtype=result_table_simbad['RA_d'].dtype, unit=result_table_simbad['RA_d'].unit, format=result_table_simbad['RA_d'].format, description=result_table_simbad['RA_d'].description)\n",
    "                    temp_table['RA_d']  = replacement_col\n",
    "                if temp_table['DEC_d'].unit != 'deg':\n",
    "                    replacement_col     = MaskedColumn(temp_table['DEC_d'].data, dtype=result_table_simbad['DEC_d'].dtype, unit=result_table_simbad['DEC_d'].unit, format=result_table_simbad['DEC_d'].format, description=result_table_simbad['DEC_d'].description)\n",
    "                    temp_table['DEC_d']  = replacement_col\n",
    "                result_table_simbad = vstack([result_table_simbad, temp_table[0]])\n",
    "            except:\n",
    "                print(f'Error with element {(index + limit_set*2)} of the sample')\n",
    "                temp_table      = Table(names=('RA_d', 'DEC_d'), dtype=(result_table_simbad['RA_d'].info.dtype, result_table_simbad['DEC_d'].info.dtype))\n",
    "                temp_table.add_row((coord.ra.deg, coord.dec.deg))\n",
    "                temp_table.meta['description'] = 'Simbad_q'\n",
    "                result_table_simbad = vstack([result_table_simbad, temp_table[0]])\n",
    "                final_error += 1\n",
    "            bar.update(index + limit_set*2)"
   ]
  },
  {
   "cell_type": "markdown",
   "metadata": {},
   "source": [
    "Query for `VLASS821P4` and `COSMOS` sources."
   ]
  },
  {
   "cell_type": "code",
   "execution_count": 48,
   "metadata": {},
   "outputs": [],
   "source": [
    "if query_simbad_flag:\n",
    "    limit_set_cosmos = int(np.floor((np.shape(large_sample_L)[0] - np.shape(medium_sample_L)[0])/3))"
   ]
  },
  {
   "cell_type": "code",
   "execution_count": 49,
   "metadata": {},
   "outputs": [
    {
     "name": "stderr",
     "output_type": "stream",
     "text": [
      "  4% (9172 of 12071) |##############     | Elapsed Time: 0:01:18 ETA:   0:25:22/Users/rcarvajal/.miniconda3/lib/python3.7/site-packages/astroquery/simbad/core.py:138: UserWarning: Warning: The script line number 3 raised an error (recorded in the `errors` attribute of the result table): '10:02:04.752 +1:27:08.28': No astronomical object found :\n",
      "  (error.line, error.msg))\n",
      "  4% (9174 of 12071) |##############     | Elapsed Time: 0:01:22 ETA:   2:05:00/Users/rcarvajal/.miniconda3/lib/python3.7/site-packages/astroquery/simbad/core.py:138: UserWarning: Warning: The script line number 3 raised an error (recorded in the `errors` attribute of the result table): '9:59:42.48 +1:27:23.4': No astronomical object found :\n",
      "  (error.line, error.msg))\n",
      "  4% (9176 of 12071) |##############     | Elapsed Time: 0:01:24 ETA:   1:12:43/Users/rcarvajal/.miniconda3/lib/python3.7/site-packages/astroquery/simbad/core.py:138: UserWarning: Warning: The script line number 3 raised an error (recorded in the `errors` attribute of the result table): '10:02:18.216 +1:27:41.76': No astronomical object found :\n",
      "  (error.line, error.msg))\n",
      "  4% (9177 of 12071) |##############     | Elapsed Time: 0:01:25 ETA:   0:46:09/Users/rcarvajal/.miniconda3/lib/python3.7/site-packages/astroquery/simbad/core.py:138: UserWarning: Warning: The script line number 3 raised an error (recorded in the `errors` attribute of the result table): '9:57:42.624 +1:27:44.64': No astronomical object found :\n",
      "  (error.line, error.msg))\n",
      "  5% (9178 of 12071) |##############     | Elapsed Time: 0:01:27 ETA:   1:04:20/Users/rcarvajal/.miniconda3/lib/python3.7/site-packages/astroquery/simbad/core.py:138: UserWarning: Warning: The script line number 3 raised an error (recorded in the `errors` attribute of the result table): '9:58:41.904 +1:27:45.36': No astronomical object found :\n",
      "  (error.line, error.msg))\n",
      "  5% (9179 of 12071) |##############     | Elapsed Time: 0:01:28 ETA:   1:18:58/Users/rcarvajal/.miniconda3/lib/python3.7/site-packages/astroquery/simbad/core.py:138: UserWarning: Warning: The script line number 3 raised an error (recorded in the `errors` attribute of the result table): '9:58:09.768 +1:27:54.72': No astronomical object found :\n",
      "  (error.line, error.msg))\n",
      "  5% (9180 of 12071) |##############     | Elapsed Time: 0:01:30 ETA:   1:13:54/Users/rcarvajal/.miniconda3/lib/python3.7/site-packages/astroquery/simbad/core.py:138: UserWarning: Warning: The script line number 3 raised an error (recorded in the `errors` attribute of the result table): '10:00:18.696 +1:27:59.4': No astronomical object found :\n",
      "  (error.line, error.msg))\n",
      "  5% (9181 of 12071) |##############     | Elapsed Time: 0:01:31 ETA:   1:15:44/Users/rcarvajal/.miniconda3/lib/python3.7/site-packages/astroquery/simbad/core.py:138: UserWarning: Warning: The script line number 3 raised an error (recorded in the `errors` attribute of the result table): '9:59:45.768 +1:28:06.24': No astronomical object found :\n",
      "  (error.line, error.msg))\n",
      "  5% (9182 of 12071) |##############     | Elapsed Time: 0:01:33 ETA:   1:18:36/Users/rcarvajal/.miniconda3/lib/python3.7/site-packages/astroquery/simbad/core.py:138: UserWarning: Warning: The script line number 3 raised an error (recorded in the `errors` attribute of the result table): '10:03:00.264 +1:28:06.96': No astronomical object found :\n",
      "  (error.line, error.msg))\n",
      "  5% (9183 of 12071) |##############     | Elapsed Time: 0:01:34 ETA:   1:02:03/Users/rcarvajal/.miniconda3/lib/python3.7/site-packages/astroquery/simbad/core.py:138: UserWarning: Warning: The script line number 3 raised an error (recorded in the `errors` attribute of the result table): '10:02:18.792 +1:28:06.96': No astronomical object found :\n",
      "  (error.line, error.msg))\n",
      "  5% (9184 of 12071) |##############     | Elapsed Time: 0:01:35 ETA:   0:56:06/Users/rcarvajal/.miniconda3/lib/python3.7/site-packages/astroquery/simbad/core.py:138: UserWarning: Warning: The script line number 3 raised an error (recorded in the `errors` attribute of the result table): '9:58:45.336 +1:28:06.96': No astronomical object found :\n",
      "  (error.line, error.msg))\n",
      "  5% (9185 of 12071) |##############     | Elapsed Time: 0:01:37 ETA:   1:03:47/Users/rcarvajal/.miniconda3/lib/python3.7/site-packages/astroquery/simbad/core.py:138: UserWarning: Warning: The script line number 3 raised an error (recorded in the `errors` attribute of the result table): '9:59:36.192 +1:28:09.48': No astronomical object found :\n",
      "  (error.line, error.msg))\n",
      "  5% (9186 of 12071) |##############     | Elapsed Time: 0:01:38 ETA:   1:18:23/Users/rcarvajal/.miniconda3/lib/python3.7/site-packages/astroquery/simbad/core.py:138: UserWarning: Warning: The script line number 3 raised an error (recorded in the `errors` attribute of the result table): '10:01:58.2 +1:28:12': No astronomical object found :\n",
      "  (error.line, error.msg))\n",
      "  5% (9187 of 12071) |##############     | Elapsed Time: 0:01:39 ETA:   0:56:42/Users/rcarvajal/.miniconda3/lib/python3.7/site-packages/astroquery/simbad/core.py:138: UserWarning: Warning: The script line number 3 raised an error (recorded in the `errors` attribute of the result table): '10:02:28.344 +1:28:17.4': No astronomical object found :\n",
      "  (error.line, error.msg))\n",
      "  5% (9188 of 12071) |##############     | Elapsed Time: 0:01:40 ETA:   0:52:31/Users/rcarvajal/.miniconda3/lib/python3.7/site-packages/astroquery/simbad/core.py:138: UserWarning: Warning: The script line number 3 raised an error (recorded in the `errors` attribute of the result table): '9:59:59.496 +1:28:21.36': No astronomical object found :\n",
      "  (error.line, error.msg))\n",
      "  5% (9189 of 12071) |##############     | Elapsed Time: 0:01:42 ETA:   1:01:29/Users/rcarvajal/.miniconda3/lib/python3.7/site-packages/astroquery/simbad/core.py:138: UserWarning: Warning: The script line number 3 raised an error (recorded in the `errors` attribute of the result table): '10:00:03.576 +1:28:23.16': No astronomical object found :\n",
      "  (error.line, error.msg))\n",
      "  5% (9190 of 12071) |##############     | Elapsed Time: 0:01:43 ETA:   1:20:45/Users/rcarvajal/.miniconda3/lib/python3.7/site-packages/astroquery/simbad/core.py:138: UserWarning: Warning: The script line number 3 raised an error (recorded in the `errors` attribute of the result table): '9:57:39.072 +1:28:37.92': No astronomical object found :\n",
      "  (error.line, error.msg))\n",
      "  5% (9191 of 12071) |##############     | Elapsed Time: 0:01:45 ETA:   1:23:27/Users/rcarvajal/.miniconda3/lib/python3.7/site-packages/astroquery/simbad/core.py:138: UserWarning: Warning: The script line number 3 raised an error (recorded in the `errors` attribute of the result table): '10:02:10.896 +1:28:38.64': No astronomical object found :\n",
      "  (error.line, error.msg))\n",
      "  5% (9192 of 12071) |##############     | Elapsed Time: 0:01:46 ETA:   1:04:06/Users/rcarvajal/.miniconda3/lib/python3.7/site-packages/astroquery/simbad/core.py:138: UserWarning: Warning: The script line number 3 raised an error (recorded in the `errors` attribute of the result table): '10:01:16.32 +1:28:45.48': No astronomical object found :\n",
      "  (error.line, error.msg))\n",
      "  5% (9193 of 12071) |##############     | Elapsed Time: 0:01:48 ETA:   1:01:08/Users/rcarvajal/.miniconda3/lib/python3.7/site-packages/astroquery/simbad/core.py:138: UserWarning: Warning: The script line number 3 raised an error (recorded in the `errors` attribute of the result table): '10:01:09.312 +1:28:48.36': No astronomical object found :\n",
      "  (error.line, error.msg))\n",
      "  5% (9196 of 12071) |##############     | Elapsed Time: 0:01:52 ETA:   1:00:00/Users/rcarvajal/.miniconda3/lib/python3.7/site-packages/astroquery/simbad/core.py:138: UserWarning: Warning: The script line number 3 raised an error (recorded in the `errors` attribute of the result table): '10:02:18.216 +1:28:58.08': No astronomical object found :\n",
      "  (error.line, error.msg))\n",
      "  5% (9197 of 12071) |##############     | Elapsed Time: 0:01:53 ETA:   0:52:15/Users/rcarvajal/.miniconda3/lib/python3.7/site-packages/astroquery/simbad/core.py:138: UserWarning: Warning: The script line number 3 raised an error (recorded in the `errors` attribute of the result table): '9:59:22.032 +1:28:59.52': No astronomical object found :\n",
      "  (error.line, error.msg))\n",
      "  5% (9198 of 12071) |##############     | Elapsed Time: 0:01:54 ETA:   0:57:49/Users/rcarvajal/.miniconda3/lib/python3.7/site-packages/astroquery/simbad/core.py:138: UserWarning: Warning: The script line number 3 raised an error (recorded in the `errors` attribute of the result table): '10:01:05.088 +1:29:03.48': No astronomical object found :\n",
      "  (error.line, error.msg))\n",
      "  5% (9199 of 12071) |##############     | Elapsed Time: 0:01:56 ETA:   1:13:39/Users/rcarvajal/.miniconda3/lib/python3.7/site-packages/astroquery/simbad/core.py:138: UserWarning: Warning: The script line number 3 raised an error (recorded in the `errors` attribute of the result table): '9:59:37.488 +1:29:05.28': No astronomical object found :\n",
      "  (error.line, error.msg))\n",
      "  5% (9200 of 12071) |##############     | Elapsed Time: 0:01:57 ETA:   1:11:17/Users/rcarvajal/.miniconda3/lib/python3.7/site-packages/astroquery/simbad/core.py:138: UserWarning: Warning: The script line number 3 raised an error (recorded in the `errors` attribute of the result table): '9:58:50.592 +1:29:07.08': No astronomical object found :\n",
      "  (error.line, error.msg))\n",
      "  5% (9201 of 12071) |##############     | Elapsed Time: 0:01:59 ETA:   1:11:00/Users/rcarvajal/.miniconda3/lib/python3.7/site-packages/astroquery/simbad/core.py:138: UserWarning: Warning: The script line number 3 raised an error (recorded in the `errors` attribute of the result table): '10:00:37.248 +1:29:12.12': No astronomical object found :\n",
      "  (error.line, error.msg))\n",
      "  5% (9202 of 12071) |##############     | Elapsed Time: 0:02:00 ETA:   1:15:35/Users/rcarvajal/.miniconda3/lib/python3.7/site-packages/astroquery/simbad/core.py:138: UserWarning: Warning: The script line number 3 raised an error (recorded in the `errors` attribute of the result table): '9:57:58.248 +1:29:14.28': No astronomical object found :\n",
      "  (error.line, error.msg))\n",
      "  5% (9203 of 12071) |##############     | Elapsed Time: 0:02:02 ETA:   1:21:19/Users/rcarvajal/.miniconda3/lib/python3.7/site-packages/astroquery/simbad/core.py:138: UserWarning: Warning: The script line number 3 raised an error (recorded in the `errors` attribute of the result table): '10:00:50.376 +1:29:14.28': No astronomical object found :\n",
      "  (error.line, error.msg))\n",
      "  5% (9204 of 12071) |##############     | Elapsed Time: 0:02:04 ETA:   1:21:03/Users/rcarvajal/.miniconda3/lib/python3.7/site-packages/astroquery/simbad/core.py:138: UserWarning: Warning: The script line number 3 raised an error (recorded in the `errors` attribute of the result table): '10:02:36.936 +1:29:19.32': No astronomical object found :\n",
      "  (error.line, error.msg))\n",
      "  5% (9205 of 12071) |##############     | Elapsed Time: 0:02:05 ETA:   1:03:06/Users/rcarvajal/.miniconda3/lib/python3.7/site-packages/astroquery/simbad/core.py:138: UserWarning: Warning: The script line number 3 raised an error (recorded in the `errors` attribute of the result table): '9:59:49.224 +1:29:25.08': No astronomical object found :\n",
      "  (error.line, error.msg))\n",
      "  5% (9207 of 12071) |##############     | Elapsed Time: 0:02:08 ETA:   1:18:51/Users/rcarvajal/.miniconda3/lib/python3.7/site-packages/astroquery/simbad/core.py:138: UserWarning: Warning: The script line number 3 raised an error (recorded in the `errors` attribute of the result table): '10:01:02.808 +1:29:25.8': No astronomical object found :\n",
      "  (error.line, error.msg))\n",
      "  6% (9208 of 12071) |##############     | Elapsed Time: 0:02:10 ETA:   1:18:40/Users/rcarvajal/.miniconda3/lib/python3.7/site-packages/astroquery/simbad/core.py:138: UserWarning: Warning: The script line number 3 raised an error (recorded in the `errors` attribute of the result table): '9:59:37.752 +1:29:34.08': No astronomical object found :\n",
      "  (error.line, error.msg))\n",
      "  6% (9209 of 12071) |##############     | Elapsed Time: 0:02:11 ETA:   1:17:51/Users/rcarvajal/.miniconda3/lib/python3.7/site-packages/astroquery/simbad/core.py:138: UserWarning: Warning: The script line number 3 raised an error (recorded in the `errors` attribute of the result table): '10:01:39.984 +1:29:34.8': No astronomical object found :\n",
      "  (error.line, error.msg))\n",
      "  6% (9210 of 12071) |##############     | Elapsed Time: 0:02:13 ETA:   1:12:56/Users/rcarvajal/.miniconda3/lib/python3.7/site-packages/astroquery/simbad/core.py:138: UserWarning: Warning: The script line number 3 raised an error (recorded in the `errors` attribute of the result table): '9:58:00 +1:29:37.32': No astronomical object found :\n",
      "  (error.line, error.msg))\n",
      "  6% (9211 of 12071) |##############     | Elapsed Time: 0:02:14 ETA:   1:09:44/Users/rcarvajal/.miniconda3/lib/python3.7/site-packages/astroquery/simbad/core.py:138: UserWarning: Warning: The script line number 3 raised an error (recorded in the `errors` attribute of the result table): '9:59:45.864 +1:29:40.2': No astronomical object found :\n",
      "  (error.line, error.msg))\n",
      "  6% (9212 of 12071) |##############     | Elapsed Time: 0:02:16 ETA:   1:16:09/Users/rcarvajal/.miniconda3/lib/python3.7/site-packages/astroquery/simbad/core.py:138: UserWarning: Warning: The script line number 3 raised an error (recorded in the `errors` attribute of the result table): '10:00:42.384 +1:29:41.64': No astronomical object found :\n",
      "  (error.line, error.msg))\n",
      "  6% (9213 of 12071) |##############     | Elapsed Time: 0:02:17 ETA:   1:21:05/Users/rcarvajal/.miniconda3/lib/python3.7/site-packages/astroquery/simbad/core.py:138: UserWarning: Warning: The script line number 3 raised an error (recorded in the `errors` attribute of the result table): '10:01:36.696 +1:29:43.8': No astronomical object found :\n",
      "  (error.line, error.msg))\n",
      "  6% (9214 of 12071) |##############     | Elapsed Time: 0:02:19 ETA:   1:20:13/Users/rcarvajal/.miniconda3/lib/python3.7/site-packages/astroquery/simbad/core.py:138: UserWarning: Warning: The script line number 3 raised an error (recorded in the `errors` attribute of the result table): '10:02:43.608 +1:29:44.16': No astronomical object found :\n",
      "  (error.line, error.msg))\n",
      "  6% (9215 of 12071) |##############     | Elapsed Time: 0:02:20 ETA:   1:01:12/Users/rcarvajal/.miniconda3/lib/python3.7/site-packages/astroquery/simbad/core.py:138: UserWarning: Warning: The script line number 3 raised an error (recorded in the `errors` attribute of the result table): '9:57:48.576 +1:29:46.32': No astronomical object found :\n",
      "  (error.line, error.msg))\n",
      "  6% (9217 of 12071) |##############     | Elapsed Time: 0:02:23 ETA:   1:15:45/Users/rcarvajal/.miniconda3/lib/python3.7/site-packages/astroquery/simbad/core.py:138: UserWarning: Warning: The script line number 3 raised an error (recorded in the `errors` attribute of the result table): '10:02:11.232 +1:29:50.64': No astronomical object found :\n",
      "  (error.line, error.msg))\n",
      "  6% (9218 of 12071) |##############     | Elapsed Time: 0:02:24 ETA:   0:56:05/Users/rcarvajal/.miniconda3/lib/python3.7/site-packages/astroquery/simbad/core.py:138: UserWarning: Warning: The script line number 3 raised an error (recorded in the `errors` attribute of the result table): '10:00:14.52 +1:29:52.44': No astronomical object found :\n",
      "  (error.line, error.msg))\n",
      "  6% (9219 of 12071) |##############     | Elapsed Time: 0:02:26 ETA:   1:00:46/Users/rcarvajal/.miniconda3/lib/python3.7/site-packages/astroquery/simbad/core.py:138: UserWarning: Warning: The script line number 3 raised an error (recorded in the `errors` attribute of the result table): '10:02:21.312 +1:29:55.32': No astronomical object found :\n",
      "  (error.line, error.msg))\n",
      "  6% (9220 of 12071) |##############     | Elapsed Time: 0:02:27 ETA:   1:00:19/Users/rcarvajal/.miniconda3/lib/python3.7/site-packages/astroquery/simbad/core.py:138: UserWarning: Warning: The script line number 3 raised an error (recorded in the `errors` attribute of the result table): '10:01:27.72 +1:29:55.68': No astronomical object found :\n",
      "  (error.line, error.msg))\n",
      "  6% (9225 of 12071) |##############     | Elapsed Time: 0:02:35 ETA:   1:28:06/Users/rcarvajal/.miniconda3/lib/python3.7/site-packages/astroquery/simbad/core.py:138: UserWarning: Warning: The script line number 3 raised an error (recorded in the `errors` attribute of the result table): '10:00:55.656 +1:30:02.52': No astronomical object found :\n",
      "  (error.line, error.msg))\n",
      "  6% (9231 of 12071) |##############     | Elapsed Time: 0:02:45 ETA:   1:15:18/Users/rcarvajal/.miniconda3/lib/python3.7/site-packages/astroquery/simbad/core.py:138: UserWarning: Warning: The script line number 3 raised an error (recorded in the `errors` attribute of the result table): '10:00:44.976 +1:30:14.04': No astronomical object found :\n",
      "  (error.line, error.msg))\n",
      "  6% (9235 of 12071) |##############     | Elapsed Time: 0:02:51 ETA:   1:01:12/Users/rcarvajal/.miniconda3/lib/python3.7/site-packages/astroquery/simbad/core.py:138: UserWarning: Warning: The script line number 3 raised an error (recorded in the `errors` attribute of the result table): '10:01:35.712 +1:30:20.88': No astronomical object found :\n",
      "  (error.line, error.msg))\n",
      "  6% (9238 of 12071) |##############     | Elapsed Time: 0:02:55 ETA:   0:59:00/Users/rcarvajal/.miniconda3/lib/python3.7/site-packages/astroquery/simbad/core.py:138: UserWarning: Warning: The script line number 3 raised an error (recorded in the `errors` attribute of the result table): '10:00:32.736 +1:30:25.92': No astronomical object found :\n",
      "  (error.line, error.msg))\n",
      "  7% (9239 of 12071) |##############     | Elapsed Time: 0:02:57 ETA:   0:57:02/Users/rcarvajal/.miniconda3/lib/python3.7/site-packages/astroquery/simbad/core.py:138: UserWarning: Warning: The script line number 3 raised an error (recorded in the `errors` attribute of the result table): '10:01:14.568 +1:30:27.72': No astronomical object found :\n",
      "  (error.line, error.msg))\n",
      "  7% (9242 of 12071) |##############     | Elapsed Time: 0:03:02 ETA:   1:20:47/Users/rcarvajal/.miniconda3/lib/python3.7/site-packages/astroquery/simbad/core.py:138: UserWarning: Warning: The script line number 3 raised an error (recorded in the `errors` attribute of the result table): '10:02:58.512 +1:30:44.64': No astronomical object found :\n",
      "  (error.line, error.msg))\n",
      "  7% (9244 of 12071) |##############     | Elapsed Time: 0:03:07 ETA:   2:16:37/Users/rcarvajal/.miniconda3/lib/python3.7/site-packages/astroquery/simbad/core.py:138: UserWarning: Warning: The script line number 3 raised an error (recorded in the `errors` attribute of the result table): '10:00:11.784 +1:30:46.08': No astronomical object found :\n",
      "  (error.line, error.msg))\n",
      "  7% (9247 of 12071) |##############     | Elapsed Time: 0:03:12 ETA:   1:06:02/Users/rcarvajal/.miniconda3/lib/python3.7/site-packages/astroquery/simbad/core.py:138: UserWarning: Warning: The script line number 3 raised an error (recorded in the `errors` attribute of the result table): '9:58:25.152 +1:30:51.84': No astronomical object found :\n",
      "  (error.line, error.msg))\n",
      "  7% (9250 of 12071) |##############     | Elapsed Time: 0:03:16 ETA:   0:58:54/Users/rcarvajal/.miniconda3/lib/python3.7/site-packages/astroquery/simbad/core.py:138: UserWarning: Warning: The script line number 3 raised an error (recorded in the `errors` attribute of the result table): '9:59:37.128 +1:30:59.76': No astronomical object found :\n",
      "  (error.line, error.msg))\n",
      "  7% (9256 of 12071) |##############     | Elapsed Time: 0:03:26 ETA:   1:21:47/Users/rcarvajal/.miniconda3/lib/python3.7/site-packages/astroquery/simbad/core.py:138: UserWarning: Warning: The script line number 3 raised an error (recorded in the `errors` attribute of the result table): '10:01:46.392 +1:31:08.76': No astronomical object found :\n",
      "  (error.line, error.msg))\n",
      "  7% (9259 of 12071) |##############     | Elapsed Time: 0:03:31 ETA:   1:19:06/Users/rcarvajal/.miniconda3/lib/python3.7/site-packages/astroquery/simbad/core.py:138: UserWarning: Warning: The script line number 3 raised an error (recorded in the `errors` attribute of the result table): '10:00:05.112 +1:31:14.88': No astronomical object found :\n",
      "  (error.line, error.msg))\n",
      "  7% (9263 of 12071) |##############     | Elapsed Time: 0:03:38 ETA:   1:20:43/Users/rcarvajal/.miniconda3/lib/python3.7/site-packages/astroquery/simbad/core.py:138: UserWarning: Warning: The script line number 3 raised an error (recorded in the `errors` attribute of the result table): '10:02:19.824 +1:31:18.48': No astronomical object found :\n",
      "  (error.line, error.msg))\n",
      "  7% (9264 of 12071) |##############     | Elapsed Time: 0:03:39 ETA:   0:57:38/Users/rcarvajal/.miniconda3/lib/python3.7/site-packages/astroquery/simbad/core.py:138: UserWarning: Warning: The script line number 3 raised an error (recorded in the `errors` attribute of the result table): '10:02:13.152 +1:31:20.64': No astronomical object found :\n",
      "  (error.line, error.msg))\n",
      "  8% (9270 of 12071) |##############     | Elapsed Time: 0:03:48 ETA:   1:09:18/Users/rcarvajal/.miniconda3/lib/python3.7/site-packages/astroquery/simbad/core.py:138: UserWarning: Warning: The script line number 3 raised an error (recorded in the `errors` attribute of the result table): '9:57:54.504 +1:31:26.4': No astronomical object found :\n",
      "  (error.line, error.msg))\n",
      "  8% (9284 of 12071) |##############     | Elapsed Time: 0:04:10 ETA:   1:19:04/Users/rcarvajal/.miniconda3/lib/python3.7/site-packages/astroquery/simbad/core.py:138: UserWarning: Warning: The script line number 3 raised an error (recorded in the `errors` attribute of the result table): '10:01:06.456 +1:31:47.28': No astronomical object found :\n",
      "  (error.line, error.msg))\n",
      "  8% (9286 of 12071) |##############     | Elapsed Time: 0:04:12 ETA:   0:58:49/Users/rcarvajal/.miniconda3/lib/python3.7/site-packages/astroquery/simbad/core.py:138: UserWarning: Warning: The script line number 3 raised an error (recorded in the `errors` attribute of the result table): '10:01:27.888 +1:31:48.72': No astronomical object found :\n",
      "  (error.line, error.msg))\n",
      "  8% (9291 of 12071) |##############     | Elapsed Time: 0:04:21 ETA:   1:20:23/Users/rcarvajal/.miniconda3/lib/python3.7/site-packages/astroquery/simbad/core.py:138: UserWarning: Warning: The script line number 3 raised an error (recorded in the `errors` attribute of the result table): '9:59:30.6 +1:31:51.6': No astronomical object found :\n",
      "  (error.line, error.msg))\n",
      "  8% (9294 of 12071) |##############     | Elapsed Time: 0:04:25 ETA:   1:04:11/Users/rcarvajal/.miniconda3/lib/python3.7/site-packages/astroquery/simbad/core.py:138: UserWarning: Warning: The script line number 3 raised an error (recorded in the `errors` attribute of the result table): '9:58:45.84 +1:31:55.2': No astronomical object found :\n",
      "  (error.line, error.msg))\n",
      "  8% (9296 of 12071) |##############     | Elapsed Time: 0:04:29 ETA:   1:18:26/Users/rcarvajal/.miniconda3/lib/python3.7/site-packages/astroquery/simbad/core.py:138: UserWarning: Warning: The script line number 3 raised an error (recorded in the `errors` attribute of the result table): '10:02:47.808 +1:32:01.68': No astronomical object found :\n",
      "  (error.line, error.msg))\n",
      "  9% (9300 of 12071) |##############     | Elapsed Time: 0:04:34 ETA:   1:04:21/Users/rcarvajal/.miniconda3/lib/python3.7/site-packages/astroquery/simbad/core.py:138: UserWarning: Warning: The script line number 3 raised an error (recorded in the `errors` attribute of the result table): '9:58:18.912 +1:32:08.88': No astronomical object found :\n",
      "  (error.line, error.msg))\n",
      "  9% (9302 of 12071) |##############     | Elapsed Time: 0:04:37 ETA:   1:10:32/Users/rcarvajal/.miniconda3/lib/python3.7/site-packages/astroquery/simbad/core.py:138: UserWarning: Warning: The script line number 3 raised an error (recorded in the `errors` attribute of the result table): '10:01:17.616 +1:32:12.12': No astronomical object found :\n",
      "  (error.line, error.msg))\n",
      "  9% (9311 of 12071) |##############     | Elapsed Time: 0:04:52 ETA:   1:19:48/Users/rcarvajal/.miniconda3/lib/python3.7/site-packages/astroquery/simbad/core.py:138: UserWarning: Warning: The script line number 3 raised an error (recorded in the `errors` attribute of the result table): '9:59:37.104 +1:32:24': No astronomical object found :\n",
      "  (error.line, error.msg))\n",
      "  9% (9324 of 12071) |##############     | Elapsed Time: 0:05:12 ETA:   1:21:34/Users/rcarvajal/.miniconda3/lib/python3.7/site-packages/astroquery/simbad/core.py:138: UserWarning: Warning: The script line number 3 raised an error (recorded in the `errors` attribute of the result table): '10:02:51.408 +1:32:35.52': No astronomical object found :\n",
      "  (error.line, error.msg))\n",
      " 10% (9330 of 12071) |##############     | Elapsed Time: 0:05:21 ETA:   1:18:52/Users/rcarvajal/.miniconda3/lib/python3.7/site-packages/astroquery/simbad/core.py:138: UserWarning: Warning: The script line number 3 raised an error (recorded in the `errors` attribute of the result table): '9:57:42.576 +1:32:41.64': No astronomical object found :\n",
      "  (error.line, error.msg))\n",
      " 10% (9331 of 12071) |##############     | Elapsed Time: 0:05:23 ETA:   1:17:04/Users/rcarvajal/.miniconda3/lib/python3.7/site-packages/astroquery/simbad/core.py:138: UserWarning: Warning: The script line number 3 raised an error (recorded in the `errors` attribute of the result table): '10:01:36.888 +1:32:44.16': No astronomical object found :\n",
      "  (error.line, error.msg))\n",
      " 10% (9333 of 12071) |##############     | Elapsed Time: 0:05:27 ETA:   1:19:38/Users/rcarvajal/.miniconda3/lib/python3.7/site-packages/astroquery/simbad/core.py:138: UserWarning: Warning: The script line number 3 raised an error (recorded in the `errors` attribute of the result table): '9:57:34.608 +1:32:44.88': No astronomical object found :\n",
      "  (error.line, error.msg))\n",
      " 10% (9339 of 12071) |##############     | Elapsed Time: 0:05:36 ETA:   1:07:57/Users/rcarvajal/.miniconda3/lib/python3.7/site-packages/astroquery/simbad/core.py:138: UserWarning: Warning: The script line number 3 raised an error (recorded in the `errors` attribute of the result table): '9:58:35.136 +1:32:49.2': No astronomical object found :\n",
      "  (error.line, error.msg))\n",
      " 10% (9352 of 12071) |##############     | Elapsed Time: 0:05:56 ETA:   1:18:53/Users/rcarvajal/.miniconda3/lib/python3.7/site-packages/astroquery/simbad/core.py:138: UserWarning: Warning: The script line number 3 raised an error (recorded in the `errors` attribute of the result table): '10:00:51.528 +1:33:06.12': No astronomical object found :\n",
      "  (error.line, error.msg))\n",
      " 11% (9363 of 12071) |##############     | Elapsed Time: 0:06:12 ETA:   1:13:56/Users/rcarvajal/.miniconda3/lib/python3.7/site-packages/astroquery/simbad/core.py:138: UserWarning: Warning: The script line number 3 raised an error (recorded in the `errors` attribute of the result table): '10:00:29.616 +1:33:17.28': No astronomical object found :\n",
      "  (error.line, error.msg))\n",
      " 11% (9364 of 12071) |##############     | Elapsed Time: 0:06:14 ETA:   1:13:42/Users/rcarvajal/.miniconda3/lib/python3.7/site-packages/astroquery/simbad/core.py:138: UserWarning: Warning: The script line number 3 raised an error (recorded in the `errors` attribute of the result table): '10:02:38.64 +1:33:19.08': No astronomical object found :\n",
      "  (error.line, error.msg))\n",
      " 11% (9366 of 12071) |##############     | Elapsed Time: 0:06:17 ETA:   1:00:08/Users/rcarvajal/.miniconda3/lib/python3.7/site-packages/astroquery/simbad/core.py:138: UserWarning: Warning: The script line number 3 raised an error (recorded in the `errors` attribute of the result table): '10:01:25.992 +1:33:19.08': No astronomical object found :\n",
      "  (error.line, error.msg))\n",
      " 11% (9368 of 12071) |##############     | Elapsed Time: 0:06:20 ETA:   1:09:15/Users/rcarvajal/.miniconda3/lib/python3.7/site-packages/astroquery/simbad/core.py:138: UserWarning: Warning: The script line number 3 raised an error (recorded in the `errors` attribute of the result table): '10:01:10.512 +1:33:20.52': No astronomical object found :\n",
      "  (error.line, error.msg))\n",
      " 11% (9376 of 12071) |##############     | Elapsed Time: 0:06:32 ETA:   1:13:10/Users/rcarvajal/.miniconda3/lib/python3.7/site-packages/astroquery/simbad/core.py:138: UserWarning: Warning: The script line number 3 raised an error (recorded in the `errors` attribute of the result table): '10:00:06.744 +1:33:27.72': No astronomical object found :\n",
      "  (error.line, error.msg))\n",
      " 11% (9377 of 12071) |##############     | Elapsed Time: 0:06:34 ETA:   1:15:33/Users/rcarvajal/.miniconda3/lib/python3.7/site-packages/astroquery/simbad/core.py:138: UserWarning: Warning: The script line number 3 raised an error (recorded in the `errors` attribute of the result table): '9:58:53.832 +1:33:28.08': No astronomical object found :\n",
      "  (error.line, error.msg))\n",
      " 11% (9384 of 12071) |##############     | Elapsed Time: 0:06:43 ETA:   1:01:51/Users/rcarvajal/.miniconda3/lib/python3.7/site-packages/astroquery/simbad/core.py:138: UserWarning: Warning: The script line number 3 raised an error (recorded in the `errors` attribute of the result table): '9:57:36.24 +1:33:39.24': No astronomical object found :\n",
      "  (error.line, error.msg))\n",
      " 12% (9396 of 12071) |##############     | Elapsed Time: 0:07:02 ETA:   1:22:32/Users/rcarvajal/.miniconda3/lib/python3.7/site-packages/astroquery/simbad/core.py:138: UserWarning: Warning: The script line number 3 raised an error (recorded in the `errors` attribute of the result table): '10:02:25.776 +1:33:50.04': No astronomical object found :\n",
      "  (error.line, error.msg))\n",
      " 12% (9414 of 12071) |##############     | Elapsed Time: 0:07:27 ETA:   0:51:31/Users/rcarvajal/.miniconda3/lib/python3.7/site-packages/astroquery/simbad/core.py:138: UserWarning: Warning: The script line number 3 raised an error (recorded in the `errors` attribute of the result table): '10:02:04.944 +1:34:10.92': No astronomical object found :\n",
      "  (error.line, error.msg))\n",
      " 12% (9415 of 12071) |##############     | Elapsed Time: 0:07:27 ETA:   0:40:15/Users/rcarvajal/.miniconda3/lib/python3.7/site-packages/astroquery/simbad/core.py:138: UserWarning: Warning: The script line number 3 raised an error (recorded in the `errors` attribute of the result table): '9:57:36.816 +1:34:11.28': No astronomical object found :\n",
      "  (error.line, error.msg))\n",
      " 12% (9416 of 12071) |##############     | Elapsed Time: 0:07:29 ETA:   0:56:16/Users/rcarvajal/.miniconda3/lib/python3.7/site-packages/astroquery/simbad/core.py:138: UserWarning: Warning: The script line number 3 raised an error (recorded in the `errors` attribute of the result table): '9:58:33.528 +1:34:11.64': No astronomical object found :\n",
      "  (error.line, error.msg))\n",
      " 12% (9419 of 12071) |##############     | Elapsed Time: 0:07:34 ETA:   1:17:34/Users/rcarvajal/.miniconda3/lib/python3.7/site-packages/astroquery/simbad/core.py:138: UserWarning: Warning: The script line number 3 raised an error (recorded in the `errors` attribute of the result table): '9:58:37.368 +1:34:14.88': No astronomical object found :\n",
      "  (error.line, error.msg))\n",
      " 13% (9423 of 12071) |##############     | Elapsed Time: 0:07:41 ETA:   1:18:07/Users/rcarvajal/.miniconda3/lib/python3.7/site-packages/astroquery/simbad/core.py:138: UserWarning: Warning: The script line number 3 raised an error (recorded in the `errors` attribute of the result table): '10:01:07.104 +1:34:19.56': No astronomical object found :\n",
      "  (error.line, error.msg))\n",
      " 13% (9426 of 12071) |##############     | Elapsed Time: 0:07:45 ETA:   1:03:55/Users/rcarvajal/.miniconda3/lib/python3.7/site-packages/astroquery/simbad/core.py:138: UserWarning: Warning: The script line number 3 raised an error (recorded in the `errors` attribute of the result table): '9:58:14.208 +1:34:20.28': No astronomical object found :\n",
      "  (error.line, error.msg))\n",
      " 13% (9436 of 12071) |##############     | Elapsed Time: 0:08:03 ETA:   1:09:27/Users/rcarvajal/.miniconda3/lib/python3.7/site-packages/astroquery/simbad/core.py:138: UserWarning: Warning: The script line number 3 raised an error (recorded in the `errors` attribute of the result table): '10:01:26.88 +1:34:25.68': No astronomical object found :\n",
      "  (error.line, error.msg))\n",
      " 13% (9438 of 12071) |##############     | Elapsed Time: 0:08:06 ETA:   1:16:26/Users/rcarvajal/.miniconda3/lib/python3.7/site-packages/astroquery/simbad/core.py:138: UserWarning: Warning: The script line number 3 raised an error (recorded in the `errors` attribute of the result table): '9:59:48.864 +1:34:27.84': No astronomical object found :\n",
      "  (error.line, error.msg))\n",
      " 13% (9444 of 12071) |##############     | Elapsed Time: 0:08:16 ETA:   1:20:44/Users/rcarvajal/.miniconda3/lib/python3.7/site-packages/astroquery/simbad/core.py:138: UserWarning: Warning: The script line number 3 raised an error (recorded in the `errors` attribute of the result table): '10:01:15.288 +1:34:31.8': No astronomical object found :\n",
      "  (error.line, error.msg))\n",
      " 13% (9449 of 12071) |##############     | Elapsed Time: 0:08:23 ETA:   1:13:38/Users/rcarvajal/.miniconda3/lib/python3.7/site-packages/astroquery/simbad/core.py:138: UserWarning: Warning: The script line number 3 raised an error (recorded in the `errors` attribute of the result table): '10:01:00.408 +1:34:36.12': No astronomical object found :\n",
      "  (error.line, error.msg))\n",
      " 14% (9452 of 12071) |##############     | Elapsed Time: 0:08:28 ETA:   1:11:26/Users/rcarvajal/.miniconda3/lib/python3.7/site-packages/astroquery/simbad/core.py:138: UserWarning: Warning: The script line number 3 raised an error (recorded in the `errors` attribute of the result table): '9:58:35.016 +1:34:37.92': No astronomical object found :\n",
      "  (error.line, error.msg))\n",
      " 14% (9461 of 12071) |##############     | Elapsed Time: 0:08:41 ETA:   1:15:37/Users/rcarvajal/.miniconda3/lib/python3.7/site-packages/astroquery/simbad/core.py:138: UserWarning: Warning: The script line number 3 raised an error (recorded in the `errors` attribute of the result table): '10:01:59.448 +1:34:41.52': No astronomical object found :\n",
      "  (error.line, error.msg))\n",
      " 14% (9465 of 12071) |##############     | Elapsed Time: 0:08:47 ETA:   1:11:46/Users/rcarvajal/.miniconda3/lib/python3.7/site-packages/astroquery/simbad/core.py:138: UserWarning: Warning: The script line number 3 raised an error (recorded in the `errors` attribute of the result table): '10:01:07.488 +1:34:44.76': No astronomical object found :\n",
      "  (error.line, error.msg))\n",
      " 14% (9472 of 12071) |##############     | Elapsed Time: 0:08:58 ETA:   0:55:42/Users/rcarvajal/.miniconda3/lib/python3.7/site-packages/astroquery/simbad/core.py:138: UserWarning: Warning: The script line number 3 raised an error (recorded in the `errors` attribute of the result table): '9:59:09.888 +1:34:51.96': No astronomical object found :\n",
      "  (error.line, error.msg))\n",
      " 14% (9475 of 12071) |##############     | Elapsed Time: 0:09:02 ETA:   1:00:12/Users/rcarvajal/.miniconda3/lib/python3.7/site-packages/astroquery/simbad/core.py:138: UserWarning: Warning: The script line number 3 raised an error (recorded in the `errors` attribute of the result table): '10:00:58.416 +1:34:52.32': No astronomical object found :\n",
      "  (error.line, error.msg))\n",
      " 14% (9481 of 12071) |##############     | Elapsed Time: 0:09:11 ETA:   1:28:33/Users/rcarvajal/.miniconda3/lib/python3.7/site-packages/astroquery/simbad/core.py:138: UserWarning: Warning: The script line number 3 raised an error (recorded in the `errors` attribute of the result table): '9:58:07.224 +1:34:54.84': No astronomical object found :\n",
      "  (error.line, error.msg))\n",
      " 15% (9483 of 12071) |##############     | Elapsed Time: 0:09:14 ETA:   0:47:36/Users/rcarvajal/.miniconda3/lib/python3.7/site-packages/astroquery/simbad/core.py:138: UserWarning: Warning: The script line number 3 raised an error (recorded in the `errors` attribute of the result table): '9:58:45.48 +1:34:57': No astronomical object found :\n",
      "  (error.line, error.msg))\n",
      " 15% (9490 of 12071) |##############     | Elapsed Time: 0:09:23 ETA:   0:59:21/Users/rcarvajal/.miniconda3/lib/python3.7/site-packages/astroquery/simbad/core.py:138: UserWarning: Warning: The script line number 3 raised an error (recorded in the `errors` attribute of the result table): '10:01:24.336 +1:35:05.64': No astronomical object found :\n",
      "  (error.line, error.msg))\n",
      " 15% (9501 of 12071) |##############     | Elapsed Time: 0:09:40 ETA:   1:14:43/Users/rcarvajal/.miniconda3/lib/python3.7/site-packages/astroquery/simbad/core.py:138: UserWarning: Warning: The script line number 3 raised an error (recorded in the `errors` attribute of the result table): '10:01:35.592 +1:35:13.2': No astronomical object found :\n",
      "  (error.line, error.msg))\n",
      " 15% (9503 of 12071) |##############     | Elapsed Time: 0:09:43 ETA:   1:07:38/Users/rcarvajal/.miniconda3/lib/python3.7/site-packages/astroquery/simbad/core.py:138: UserWarning: Warning: The script line number 3 raised an error (recorded in the `errors` attribute of the result table): '9:58:27.432 +1:35:14.64': No astronomical object found :\n",
      "  (error.line, error.msg))\n",
      " 15% (9505 of 12071) |##############     | Elapsed Time: 0:09:46 ETA:   0:57:03/Users/rcarvajal/.miniconda3/lib/python3.7/site-packages/astroquery/simbad/core.py:138: UserWarning: Warning: The script line number 3 raised an error (recorded in the `errors` attribute of the result table): '10:01:26.088 +1:35:15': No astronomical object found :\n",
      "  (error.line, error.msg))\n",
      " 15% (9510 of 12071) |##############     | Elapsed Time: 0:09:53 ETA:   1:01:30/Users/rcarvajal/.miniconda3/lib/python3.7/site-packages/astroquery/simbad/core.py:138: UserWarning: Warning: The script line number 3 raised an error (recorded in the `errors` attribute of the result table): '9:57:36.576 +1:35:17.16': No astronomical object found :\n",
      "  (error.line, error.msg))\n",
      " 16% (9514 of 12071) |##############     | Elapsed Time: 0:09:58 ETA:   0:50:23/Users/rcarvajal/.miniconda3/lib/python3.7/site-packages/astroquery/simbad/core.py:138: UserWarning: Warning: The script line number 3 raised an error (recorded in the `errors` attribute of the result table): '9:59:07.104 +1:35:19.32': No astronomical object found :\n",
      "  (error.line, error.msg))\n",
      " 16% (9522 of 12071) |##############     | Elapsed Time: 0:10:11 ETA:   1:12:06/Users/rcarvajal/.miniconda3/lib/python3.7/site-packages/astroquery/simbad/core.py:138: UserWarning: Warning: The script line number 3 raised an error (recorded in the `errors` attribute of the result table): '10:00:14.52 +1:35:30.84': No astronomical object found :\n",
      "  (error.line, error.msg))\n",
      " 16% (9524 of 12071) |##############     | Elapsed Time: 0:10:14 ETA:   1:07:09/Users/rcarvajal/.miniconda3/lib/python3.7/site-packages/astroquery/simbad/core.py:138: UserWarning: Warning: The script line number 3 raised an error (recorded in the `errors` attribute of the result table): '10:01:28.68 +1:35:31.92': No astronomical object found :\n",
      "  (error.line, error.msg))\n",
      " 16% (9526 of 12071) |##############     | Elapsed Time: 0:10:17 ETA:   1:11:52/Users/rcarvajal/.miniconda3/lib/python3.7/site-packages/astroquery/simbad/core.py:138: UserWarning: Warning: The script line number 3 raised an error (recorded in the `errors` attribute of the result table): '10:03:11.016 +1:35:32.28': No astronomical object found :\n",
      "  (error.line, error.msg))\n",
      " 16% (9529 of 12071) |##############     | Elapsed Time: 0:10:21 ETA:   0:52:09/Users/rcarvajal/.miniconda3/lib/python3.7/site-packages/astroquery/simbad/core.py:138: UserWarning: Warning: The script line number 3 raised an error (recorded in the `errors` attribute of the result table): '9:58:20.664 +1:35:35.16': No astronomical object found :\n",
      "  (error.line, error.msg))\n",
      " 16% (9537 of 12071) |###############    | Elapsed Time: 0:10:33 ETA:   1:02:37/Users/rcarvajal/.miniconda3/lib/python3.7/site-packages/astroquery/simbad/core.py:138: UserWarning: Warning: The script line number 3 raised an error (recorded in the `errors` attribute of the result table): '9:58:30.312 +1:35:39.84': No astronomical object found :\n",
      "  (error.line, error.msg))\n",
      " 16% (9538 of 12071) |###############    | Elapsed Time: 0:10:34 ETA:   0:58:06/Users/rcarvajal/.miniconda3/lib/python3.7/site-packages/astroquery/simbad/core.py:138: UserWarning: Warning: The script line number 3 raised an error (recorded in the `errors` attribute of the result table): '10:03:06.624 +1:35:40.56': No astronomical object found :\n",
      "  (error.line, error.msg))\n",
      " 16% (9539 of 12071) |###############    | Elapsed Time: 0:10:35 ETA:   0:49:28/Users/rcarvajal/.miniconda3/lib/python3.7/site-packages/astroquery/simbad/core.py:138: UserWarning: Warning: The script line number 3 raised an error (recorded in the `errors` attribute of the result table): '10:01:43.128 +1:35:42': No astronomical object found :\n",
      "  (error.line, error.msg))\n",
      " 17% (9546 of 12071) |###############    | Elapsed Time: 0:10:46 ETA:   1:00:15/Users/rcarvajal/.miniconda3/lib/python3.7/site-packages/astroquery/simbad/core.py:138: UserWarning: Warning: The script line number 3 raised an error (recorded in the `errors` attribute of the result table): '10:00:13.104 +1:35:44.88': No astronomical object found :\n",
      "  (error.line, error.msg))\n",
      " 17% (9547 of 12071) |###############    | Elapsed Time: 0:10:47 ETA:   0:55:29/Users/rcarvajal/.miniconda3/lib/python3.7/site-packages/astroquery/simbad/core.py:138: UserWarning: Warning: The script line number 3 raised an error (recorded in the `errors` attribute of the result table): '9:58:25.488 +1:35:45.6': No astronomical object found :\n",
      "  (error.line, error.msg))\n",
      " 17% (9549 of 12071) |###############    | Elapsed Time: 0:10:50 ETA:   1:02:26/Users/rcarvajal/.miniconda3/lib/python3.7/site-packages/astroquery/simbad/core.py:138: UserWarning: Warning: The script line number 3 raised an error (recorded in the `errors` attribute of the result table): '10:01:44.184 +1:35:45.96': No astronomical object found :\n",
      "  (error.line, error.msg))\n",
      " 17% (9550 of 12071) |###############    | Elapsed Time: 0:10:52 ETA:   1:02:01/Users/rcarvajal/.miniconda3/lib/python3.7/site-packages/astroquery/simbad/core.py:138: UserWarning: Warning: The script line number 3 raised an error (recorded in the `errors` attribute of the result table): '10:02:05.928 +1:35:47.04': No astronomical object found :\n",
      "  (error.line, error.msg))\n",
      " 17% (9554 of 12071) |###############    | Elapsed Time: 0:10:57 ETA:   0:57:51/Users/rcarvajal/.miniconda3/lib/python3.7/site-packages/astroquery/simbad/core.py:138: UserWarning: Warning: The script line number 3 raised an error (recorded in the `errors` attribute of the result table): '9:59:49.728 +1:35:49.2': No astronomical object found :\n",
      "  (error.line, error.msg))\n",
      " 17% (9560 of 12071) |###############    | Elapsed Time: 0:11:06 ETA:   1:08:38/Users/rcarvajal/.miniconda3/lib/python3.7/site-packages/astroquery/simbad/core.py:138: UserWarning: Warning: The script line number 3 raised an error (recorded in the `errors` attribute of the result table): '10:00:23.16 +1:35:53.88': No astronomical object found :\n",
      "  (error.line, error.msg))\n",
      " 17% (9568 of 12071) |###############    | Elapsed Time: 0:11:17 ETA:   1:12:43/Users/rcarvajal/.miniconda3/lib/python3.7/site-packages/astroquery/simbad/core.py:138: UserWarning: Warning: The script line number 3 raised an error (recorded in the `errors` attribute of the result table): '10:03:03.792 +1:35:59.28': No astronomical object found :\n",
      "  (error.line, error.msg))\n",
      " 17% (9572 of 12071) |###############    | Elapsed Time: 0:11:22 ETA:   0:49:14/Users/rcarvajal/.miniconda3/lib/python3.7/site-packages/astroquery/simbad/core.py:138: UserWarning: Warning: The script line number 3 raised an error (recorded in the `errors` attribute of the result table): '10:01:16.512 +1:36:02.52': No astronomical object found :\n",
      "  (error.line, error.msg))\n",
      " 18% (9576 of 12071) |###############    | Elapsed Time: 0:11:28 ETA:   0:52:50/Users/rcarvajal/.miniconda3/lib/python3.7/site-packages/astroquery/simbad/core.py:138: UserWarning: Warning: The script line number 3 raised an error (recorded in the `errors` attribute of the result table): '10:00:19.608 +1:36:05.4': No astronomical object found :\n",
      "  (error.line, error.msg))\n",
      " 18% (9578 of 12071) |###############    | Elapsed Time: 0:11:31 ETA:   1:01:51/Users/rcarvajal/.miniconda3/lib/python3.7/site-packages/astroquery/simbad/core.py:138: UserWarning: Warning: The script line number 3 raised an error (recorded in the `errors` attribute of the result table): '9:59:19.488 +1:36:06.84': No astronomical object found :\n",
      "  (error.line, error.msg))\n",
      " 18% (9594 of 12071) |###############    | Elapsed Time: 0:11:55 ETA:   0:55:33/Users/rcarvajal/.miniconda3/lib/python3.7/site-packages/astroquery/simbad/core.py:138: UserWarning: Warning: The script line number 3 raised an error (recorded in the `errors` attribute of the result table): '10:01:16.536 +1:36:18': No astronomical object found :\n",
      "  (error.line, error.msg))\n",
      " 18% (9602 of 12071) |###############    | Elapsed Time: 0:12:08 ETA:   1:06:20/Users/rcarvajal/.miniconda3/lib/python3.7/site-packages/astroquery/simbad/core.py:138: UserWarning: Warning: The script line number 3 raised an error (recorded in the `errors` attribute of the result table): '9:59:32.688 +1:36:21.6': No astronomical object found :\n",
      "  (error.line, error.msg))\n",
      " 19% (9611 of 12071) |###############    | Elapsed Time: 0:12:24 ETA:   1:11:25/Users/rcarvajal/.miniconda3/lib/python3.7/site-packages/astroquery/simbad/core.py:138: UserWarning: Warning: The script line number 3 raised an error (recorded in the `errors` attribute of the result table): '10:01:30.432 +1:36:25.92': No astronomical object found :\n",
      "  (error.line, error.msg))\n",
      " 19% (9615 of 12071) |###############    | Elapsed Time: 0:12:30 ETA:   0:58:32/Users/rcarvajal/.miniconda3/lib/python3.7/site-packages/astroquery/simbad/core.py:138: UserWarning: Warning: The script line number 3 raised an error (recorded in the `errors` attribute of the result table): '9:58:37.632 +1:36:27.36': No astronomical object found :\n",
      "  (error.line, error.msg))\n",
      " 19% (9620 of 12071) |###############    | Elapsed Time: 0:12:38 ETA:   1:11:53/Users/rcarvajal/.miniconda3/lib/python3.7/site-packages/astroquery/simbad/core.py:138: UserWarning: Warning: The script line number 3 raised an error (recorded in the `errors` attribute of the result table): '10:00:01.344 +1:36:30.6': No astronomical object found :\n",
      "  (error.line, error.msg))\n",
      " 19% (9627 of 12071) |###############    | Elapsed Time: 0:12:51 ETA:   1:15:21/Users/rcarvajal/.miniconda3/lib/python3.7/site-packages/astroquery/simbad/core.py:138: UserWarning: Warning: The script line number 3 raised an error (recorded in the `errors` attribute of the result table): '10:02:32.232 +1:36:38.16': No astronomical object found :\n",
      "  (error.line, error.msg))\n",
      " 19% (9631 of 12071) |###############    | Elapsed Time: 0:12:57 ETA:   1:13:14/Users/rcarvajal/.miniconda3/lib/python3.7/site-packages/astroquery/simbad/core.py:138: UserWarning: Warning: The script line number 3 raised an error (recorded in the `errors` attribute of the result table): '9:59:09.168 +1:36:40.68': No astronomical object found :\n",
      "  (error.line, error.msg))\n",
      " 20% (9642 of 12071) |###############    | Elapsed Time: 0:13:13 ETA:   0:58:03/Users/rcarvajal/.miniconda3/lib/python3.7/site-packages/astroquery/simbad/core.py:138: UserWarning: Warning: The script line number 3 raised an error (recorded in the `errors` attribute of the result table): '9:57:38.208 +1:36:45': No astronomical object found :\n",
      "  (error.line, error.msg))\n",
      " 20% (9661 of 12071) |###############    | Elapsed Time: 0:13:47 ETA:   0:39:14/Users/rcarvajal/.miniconda3/lib/python3.7/site-packages/astroquery/simbad/core.py:138: UserWarning: Warning: The script line number 3 raised an error (recorded in the `errors` attribute of the result table): '10:02:33.792 +1:36:57.96': No astronomical object found :\n",
      "  (error.line, error.msg))\n",
      " 22% (9700 of 12071) |###############    | Elapsed Time: 0:14:48 ETA:   1:04:27/Users/rcarvajal/.miniconda3/lib/python3.7/site-packages/astroquery/simbad/core.py:138: UserWarning: Warning: The script line number 3 raised an error (recorded in the `errors` attribute of the result table): '10:02:12.624 +1:37:30': No astronomical object found :\n",
      "  (error.line, error.msg))\n",
      " 22% (9701 of 12071) |###############    | Elapsed Time: 0:14:49 ETA:   0:52:04/Users/rcarvajal/.miniconda3/lib/python3.7/site-packages/astroquery/simbad/core.py:138: UserWarning: Warning: The script line number 3 raised an error (recorded in the `errors` attribute of the result table): '10:00:38.28 +1:37:30.36': No astronomical object found :\n",
      "  (error.line, error.msg))\n",
      " 22% (9714 of 12071) |###############    | Elapsed Time: 0:15:09 ETA:   1:06:26/Users/rcarvajal/.miniconda3/lib/python3.7/site-packages/astroquery/simbad/core.py:138: UserWarning: Warning: The script line number 3 raised an error (recorded in the `errors` attribute of the result table): '10:01:56.136 +1:37:39': No astronomical object found :\n",
      "  (error.line, error.msg))\n",
      " 23% (9726 of 12071) |###############    | Elapsed Time: 0:15:25 ETA:   0:40:59/Users/rcarvajal/.miniconda3/lib/python3.7/site-packages/astroquery/simbad/core.py:138: UserWarning: Warning: The script line number 3 raised an error (recorded in the `errors` attribute of the result table): '10:01:12.504 +1:37:42.6': No astronomical object found :\n",
      "  (error.line, error.msg))\n",
      " 23% (9737 of 12071) |###############    | Elapsed Time: 0:15:42 ETA:   0:47:14/Users/rcarvajal/.miniconda3/lib/python3.7/site-packages/astroquery/simbad/core.py:138: UserWarning: Warning: The script line number 3 raised an error (recorded in the `errors` attribute of the result table): '9:57:56.184 +1:37:48.36': No astronomical object found :\n",
      "  (error.line, error.msg))\n",
      " 23% (9742 of 12071) |###############    | Elapsed Time: 0:15:51 ETA:   1:10:41/Users/rcarvajal/.miniconda3/lib/python3.7/site-packages/astroquery/simbad/core.py:138: UserWarning: Warning: The script line number 3 raised an error (recorded in the `errors` attribute of the result table): '10:02:15.408 +1:37:51.24': No astronomical object found :\n",
      "  (error.line, error.msg))\n",
      " 24% (9760 of 12071) |###############    | Elapsed Time: 0:16:21 ETA:   1:09:02/Users/rcarvajal/.miniconda3/lib/python3.7/site-packages/astroquery/simbad/core.py:138: UserWarning: Warning: The script line number 3 raised an error (recorded in the `errors` attribute of the result table): '10:02:13.344 +1:38:06.36': No astronomical object found :\n",
      "  (error.line, error.msg))\n",
      " 24% (9761 of 12071) |###############    | Elapsed Time: 0:16:22 ETA:   0:51:03/Users/rcarvajal/.miniconda3/lib/python3.7/site-packages/astroquery/simbad/core.py:138: UserWarning: Warning: The script line number 3 raised an error (recorded in the `errors` attribute of the result table): '10:01:10.704 +1:38:09.24': No astronomical object found :\n",
      "  (error.line, error.msg))\n",
      " 24% (9781 of 12071) |###############    | Elapsed Time: 0:16:53 ETA:   1:07:55/Users/rcarvajal/.miniconda3/lib/python3.7/site-packages/astroquery/simbad/core.py:138: UserWarning: Warning: The script line number 3 raised an error (recorded in the `errors` attribute of the result table): '10:00:18.072 +1:38:17.88': No astronomical object found :\n",
      "  (error.line, error.msg))\n",
      " 24% (9783 of 12071) |###############    | Elapsed Time: 0:16:57 ETA:   1:06:39/Users/rcarvajal/.miniconda3/lib/python3.7/site-packages/astroquery/simbad/core.py:138: UserWarning: Warning: The script line number 3 raised an error (recorded in the `errors` attribute of the result table): '10:03:23.448 +1:38:20.04': No astronomical object found :\n",
      "  (error.line, error.msg))\n",
      " 25% (9789 of 12071) |###############    | Elapsed Time: 0:17:07 ETA:   1:00:41/Users/rcarvajal/.miniconda3/lib/python3.7/site-packages/astroquery/simbad/core.py:138: UserWarning: Warning: The script line number 3 raised an error (recorded in the `errors` attribute of the result table): '10:03:16.224 +1:38:22.92': No astronomical object found :\n",
      "  (error.line, error.msg))\n",
      " 25% (9791 of 12071) |###############    | Elapsed Time: 0:17:09 ETA:   0:48:27/Users/rcarvajal/.miniconda3/lib/python3.7/site-packages/astroquery/simbad/core.py:138: UserWarning: Warning: The script line number 3 raised an error (recorded in the `errors` attribute of the result table): '10:01:51.84 +1:38:25.08': No astronomical object found :\n",
      "  (error.line, error.msg))\n",
      " 25% (9798 of 12071) |###############    | Elapsed Time: 0:17:20 ETA:   0:48:45/Users/rcarvajal/.miniconda3/lib/python3.7/site-packages/astroquery/simbad/core.py:138: UserWarning: Warning: The script line number 3 raised an error (recorded in the `errors` attribute of the result table): '10:03:04.896 +1:38:32.64': No astronomical object found :\n",
      "  (error.line, error.msg))\n",
      " 25% (9806 of 12071) |###############    | Elapsed Time: 0:17:32 ETA:   0:53:46/Users/rcarvajal/.miniconda3/lib/python3.7/site-packages/astroquery/simbad/core.py:138: UserWarning: Warning: The script line number 3 raised an error (recorded in the `errors` attribute of the result table): '10:03:20.184 +1:38:40.92': No astronomical object found :\n",
      "  (error.line, error.msg))\n",
      " 25% (9807 of 12071) |###############    | Elapsed Time: 0:17:32 ETA:   0:49:35/Users/rcarvajal/.miniconda3/lib/python3.7/site-packages/astroquery/simbad/core.py:138: UserWarning: Warning: The script line number 3 raised an error (recorded in the `errors` attribute of the result table): '10:02:14.28 +1:38:41.64': No astronomical object found :\n",
      "  (error.line, error.msg))\n",
      " 26% (9840 of 12071) |###############    | Elapsed Time: 0:18:25 ETA:   1:04:39/Users/rcarvajal/.miniconda3/lib/python3.7/site-packages/astroquery/simbad/core.py:138: UserWarning: Warning: The script line number 3 raised an error (recorded in the `errors` attribute of the result table): '9:58:17.496 +1:39:00.72': No astronomical object found :\n",
      "  (error.line, error.msg))\n",
      " 26% (9841 of 12071) |###############    | Elapsed Time: 0:18:27 ETA:   1:02:45/Users/rcarvajal/.miniconda3/lib/python3.7/site-packages/astroquery/simbad/core.py:138: UserWarning: Warning: The script line number 3 raised an error (recorded in the `errors` attribute of the result table): '9:59:28.512 +1:39:00.72': No astronomical object found :\n",
      "  (error.line, error.msg))\n",
      " 27% (9850 of 12071) |###############    | Elapsed Time: 0:18:41 ETA:   1:00:44/Users/rcarvajal/.miniconda3/lib/python3.7/site-packages/astroquery/simbad/core.py:138: UserWarning: Warning: The script line number 3 raised an error (recorded in the `errors` attribute of the result table): '9:57:59.64 +1:39:08.28': No astronomical object found :\n",
      "  (error.line, error.msg))\n",
      " 27% (9868 of 12071) |###############    | Elapsed Time: 0:19:10 ETA:   1:03:46/Users/rcarvajal/.miniconda3/lib/python3.7/site-packages/astroquery/simbad/core.py:138: UserWarning: Warning: The script line number 3 raised an error (recorded in the `errors` attribute of the result table): '9:59:27.408 +1:39:20.88': No astronomical object found :\n",
      "  (error.line, error.msg))\n",
      " 27% (9871 of 12071) |###############    | Elapsed Time: 0:19:15 ETA:   1:00:25/Users/rcarvajal/.miniconda3/lib/python3.7/site-packages/astroquery/simbad/core.py:138: UserWarning: Warning: The script line number 3 raised an error (recorded in the `errors` attribute of the result table): '10:01:52.848 +1:39:23.76': No astronomical object found :\n",
      "  (error.line, error.msg))\n",
      " 27% (9875 of 12071) |###############    | Elapsed Time: 0:19:21 ETA:   0:50:43/Users/rcarvajal/.miniconda3/lib/python3.7/site-packages/astroquery/simbad/core.py:138: UserWarning: Warning: The script line number 3 raised an error (recorded in the `errors` attribute of the result table): '10:01:42.096 +1:39:25.92': No astronomical object found :\n",
      "  (error.line, error.msg))\n",
      " 28% (9886 of 12071) |###############    | Elapsed Time: 0:19:39 ETA:   1:01:27/Users/rcarvajal/.miniconda3/lib/python3.7/site-packages/astroquery/simbad/core.py:138: UserWarning: Warning: The script line number 3 raised an error (recorded in the `errors` attribute of the result table): '9:57:46.2 +1:39:33.12': No astronomical object found :\n",
      "  (error.line, error.msg))\n",
      " 28% (9888 of 12071) |###############    | Elapsed Time: 0:19:43 ETA:   1:04:50/Users/rcarvajal/.miniconda3/lib/python3.7/site-packages/astroquery/simbad/core.py:138: UserWarning: Warning: The script line number 3 raised an error (recorded in the `errors` attribute of the result table): '10:00:28.752 +1:39:34.56': No astronomical object found :\n",
      "  (error.line, error.msg))\n",
      " 28% (9894 of 12071) |###############    | Elapsed Time: 0:19:51 ETA:   0:47:55/Users/rcarvajal/.miniconda3/lib/python3.7/site-packages/astroquery/simbad/core.py:138: UserWarning: Warning: The script line number 3 raised an error (recorded in the `errors` attribute of the result table): '10:00:41.256 +1:39:36.72': No astronomical object found :\n",
      "  (error.line, error.msg))\n",
      " 29% (9926 of 12071) |###############    | Elapsed Time: 0:20:40 ETA:   1:02:07/Users/rcarvajal/.miniconda3/lib/python3.7/site-packages/astroquery/simbad/core.py:138: UserWarning: Warning: The script line number 3 raised an error (recorded in the `errors` attribute of the result table): '9:58:47.136 +1:40:03.36': No astronomical object found :\n",
      "  (error.line, error.msg))\n",
      " 29% (9938 of 12071) |###############    | Elapsed Time: 0:20:58 ETA:   0:42:08/Users/rcarvajal/.miniconda3/lib/python3.7/site-packages/astroquery/simbad/core.py:138: UserWarning: Warning: The script line number 3 raised an error (recorded in the `errors` attribute of the result table): '10:02:39.936 +1:40:11.28': No astronomical object found :\n",
      "  (error.line, error.msg))\n",
      " 30% (9939 of 12071) |###############    | Elapsed Time: 0:20:59 ETA:   0:49:22/Users/rcarvajal/.miniconda3/lib/python3.7/site-packages/astroquery/simbad/core.py:138: UserWarning: Warning: The script line number 3 raised an error (recorded in the `errors` attribute of the result table): '10:01:51.096 +1:40:12': No astronomical object found :\n",
      "  (error.line, error.msg))\n",
      " 30% (9940 of 12071) |###############    | Elapsed Time: 0:21:00 ETA:   0:42:59/Users/rcarvajal/.miniconda3/lib/python3.7/site-packages/astroquery/simbad/core.py:138: UserWarning: Warning: The script line number 3 raised an error (recorded in the `errors` attribute of the result table): '10:01:41.496 +1:40:13.44': No astronomical object found :\n",
      "  (error.line, error.msg))\n",
      " 30% (9942 of 12071) |###############    | Elapsed Time: 0:21:03 ETA:   0:56:38/Users/rcarvajal/.miniconda3/lib/python3.7/site-packages/astroquery/simbad/core.py:138: UserWarning: Warning: The script line number 3 raised an error (recorded in the `errors` attribute of the result table): '9:58:53.28 +1:40:13.44': No astronomical object found :\n",
      "  (error.line, error.msg))\n",
      " 30% (9949 of 12071) |###############    | Elapsed Time: 0:21:15 ETA:   1:03:31/Users/rcarvajal/.miniconda3/lib/python3.7/site-packages/astroquery/simbad/core.py:138: UserWarning: Warning: The script line number 3 raised an error (recorded in the `errors` attribute of the result table): '10:00:16.848 +1:40:16.32': No astronomical object found :\n",
      "  (error.line, error.msg))\n",
      " 30% (9950 of 12071) |###############    | Elapsed Time: 0:21:17 ETA:   0:57:18/Users/rcarvajal/.miniconda3/lib/python3.7/site-packages/astroquery/simbad/core.py:138: UserWarning: Warning: The script line number 3 raised an error (recorded in the `errors` attribute of the result table): '10:01:23.184 +1:40:16.68': No astronomical object found :\n",
      "  (error.line, error.msg))\n",
      " 32% (10005 of 12071) |##############    | Elapsed Time: 0:22:49 ETA:   1:03:16/Users/rcarvajal/.miniconda3/lib/python3.7/site-packages/astroquery/simbad/core.py:138: UserWarning: Warning: The script line number 3 raised an error (recorded in the `errors` attribute of the result table): '10:03:22.728 +1:40:43.32': No astronomical object found :\n",
      "  (error.line, error.msg))\n",
      " 33% (10034 of 12071) |##############    | Elapsed Time: 0:23:35 ETA:   0:47:16/Users/rcarvajal/.miniconda3/lib/python3.7/site-packages/astroquery/simbad/core.py:138: UserWarning: Warning: The script line number 3 raised an error (recorded in the `errors` attribute of the result table): '10:01:09.24 +1:40:57': No astronomical object found :\n",
      "  (error.line, error.msg))\n",
      " 33% (10043 of 12071) |##############    | Elapsed Time: 0:23:51 ETA:   0:58:59/Users/rcarvajal/.miniconda3/lib/python3.7/site-packages/astroquery/simbad/core.py:138: UserWarning: Warning: The script line number 3 raised an error (recorded in the `errors` attribute of the result table): '10:01:32.112 +1:41:01.68': No astronomical object found :\n",
      "  (error.line, error.msg))\n",
      " 33% (10048 of 12071) |##############    | Elapsed Time: 0:24:00 ETA:   1:00:13/Users/rcarvajal/.miniconda3/lib/python3.7/site-packages/astroquery/simbad/core.py:138: UserWarning: Warning: The script line number 3 raised an error (recorded in the `errors` attribute of the result table): '9:59:00.576 +1:41:07.44': No astronomical object found :\n",
      "  (error.line, error.msg))\n",
      " 34% (10091 of 12071) |###############   | Elapsed Time: 0:25:06 ETA:   0:57:54/Users/rcarvajal/.miniconda3/lib/python3.7/site-packages/astroquery/simbad/core.py:138: UserWarning: Warning: The script line number 3 raised an error (recorded in the `errors` attribute of the result table): '10:03:09.336 +1:41:33.36': No astronomical object found :\n",
      "  (error.line, error.msg))\n",
      " 35% (10097 of 12071) |###############   | Elapsed Time: 0:25:14 ETA:   0:53:45/Users/rcarvajal/.miniconda3/lib/python3.7/site-packages/astroquery/simbad/core.py:138: UserWarning: Warning: The script line number 3 raised an error (recorded in the `errors` attribute of the result table): '10:03:02.688 +1:41:39.12': No astronomical object found :\n",
      "  (error.line, error.msg))\n",
      " 36% (10130 of 12071) |###############   | Elapsed Time: 0:26:03 ETA:   0:54:26/Users/rcarvajal/.miniconda3/lib/python3.7/site-packages/astroquery/simbad/core.py:138: UserWarning: Warning: The script line number 3 raised an error (recorded in the `errors` attribute of the result table): '9:58:43.272 +1:42:02.88': No astronomical object found :\n",
      "  (error.line, error.msg))\n",
      " 36% (10144 of 12071) |###############   | Elapsed Time: 0:26:23 ETA:   0:46:04/Users/rcarvajal/.miniconda3/lib/python3.7/site-packages/astroquery/simbad/core.py:138: UserWarning: Warning: The script line number 3 raised an error (recorded in the `errors` attribute of the result table): '10:03:18.96 +1:42:14.76': No astronomical object found :\n",
      "  (error.line, error.msg))\n",
      " 36% (10145 of 12071) |###############   | Elapsed Time: 0:26:24 ETA:   0:40:19/Users/rcarvajal/.miniconda3/lib/python3.7/site-packages/astroquery/simbad/core.py:138: UserWarning: Warning: The script line number 3 raised an error (recorded in the `errors` attribute of the result table): '10:00:54.096 +1:42:16.92': No astronomical object found :\n",
      "  (error.line, error.msg))\n",
      " 37% (10154 of 12071) |###############   | Elapsed Time: 0:26:39 ETA:   0:54:01/Users/rcarvajal/.miniconda3/lib/python3.7/site-packages/astroquery/simbad/core.py:138: UserWarning: Warning: The script line number 3 raised an error (recorded in the `errors` attribute of the result table): '10:03:22.56 +1:42:21.96': No astronomical object found :\n",
      "  (error.line, error.msg))\n",
      " 39% (10229 of 12071) |###############   | Elapsed Time: 0:28:37 ETA:   0:55:06/Users/rcarvajal/.miniconda3/lib/python3.7/site-packages/astroquery/simbad/core.py:138: UserWarning: Warning: The script line number 3 raised an error (recorded in the `errors` attribute of the result table): '9:59:15.168 +1:43:04.8': No astronomical object found :\n",
      "  (error.line, error.msg))\n",
      " 40% (10252 of 12071) |###############   | Elapsed Time: 0:29:15 ETA:   0:43:26/Users/rcarvajal/.miniconda3/lib/python3.7/site-packages/astroquery/simbad/core.py:138: UserWarning: Warning: The script line number 3 raised an error (recorded in the `errors` attribute of the result table): '10:02:57.696 +1:43:21.36': No astronomical object found :\n",
      "  (error.line, error.msg))\n",
      " 40% (10273 of 12071) |###############   | Elapsed Time: 0:29:47 ETA:   0:50:24/Users/rcarvajal/.miniconda3/lib/python3.7/site-packages/astroquery/simbad/core.py:138: UserWarning: Warning: The script line number 3 raised an error (recorded in the `errors` attribute of the result table): '10:03:06.216 +1:43:32.16': No astronomical object found :\n",
      "  (error.line, error.msg))\n",
      " 41% (10282 of 12071) |###############   | Elapsed Time: 0:30:02 ETA:   0:42:47/Users/rcarvajal/.miniconda3/lib/python3.7/site-packages/astroquery/simbad/core.py:138: UserWarning: Warning: The script line number 3 raised an error (recorded in the `errors` attribute of the result table): '9:58:25.08 +1:43:43.32': No astronomical object found :\n",
      "  (error.line, error.msg))\n",
      " 41% (10296 of 12071) |###############   | Elapsed Time: 0:30:23 ETA:   0:33:35/Users/rcarvajal/.miniconda3/lib/python3.7/site-packages/astroquery/simbad/core.py:138: UserWarning: Warning: The script line number 3 raised an error (recorded in the `errors` attribute of the result table): '10:00:12.624 +1:43:53.76': No astronomical object found :\n",
      "  (error.line, error.msg))\n",
      " 42% (10305 of 12071) |###############   | Elapsed Time: 0:30:36 ETA:   0:43:33/Users/rcarvajal/.miniconda3/lib/python3.7/site-packages/astroquery/simbad/core.py:138: UserWarning: Warning: The script line number 3 raised an error (recorded in the `errors` attribute of the result table): '10:02:47.712 +1:43:56.64': No astronomical object found :\n",
      "  (error.line, error.msg))\n",
      " 42% (10332 of 12071) |###############   | Elapsed Time: 0:31:17 ETA:   0:52:00/Users/rcarvajal/.miniconda3/lib/python3.7/site-packages/astroquery/simbad/core.py:138: UserWarning: Warning: The script line number 3 raised an error (recorded in the `errors` attribute of the result table): '10:03:07.272 +1:44:12.12': No astronomical object found :\n",
      "  (error.line, error.msg))\n",
      " 43% (10364 of 12071) |###############   | Elapsed Time: 0:32:07 ETA:   0:39:30/Users/rcarvajal/.miniconda3/lib/python3.7/site-packages/astroquery/simbad/core.py:138: UserWarning: Warning: The script line number 3 raised an error (recorded in the `errors` attribute of the result table): '10:02:45.888 +1:44:31.92': No astronomical object found :\n",
      "  (error.line, error.msg))\n",
      " 44% (10376 of 12071) |###############   | Elapsed Time: 0:32:25 ETA:   0:39:13/Users/rcarvajal/.miniconda3/lib/python3.7/site-packages/astroquery/simbad/core.py:138: UserWarning: Warning: The script line number 3 raised an error (recorded in the `errors` attribute of the result table): '10:01:36.384 +1:44:39.12': No astronomical object found :\n",
      "  (error.line, error.msg))\n",
      " 44% (10383 of 12071) |###############   | Elapsed Time: 0:32:37 ETA:   0:53:32/Users/rcarvajal/.miniconda3/lib/python3.7/site-packages/astroquery/simbad/core.py:138: UserWarning: Warning: The script line number 3 raised an error (recorded in the `errors` attribute of the result table): '10:02:46.392 +1:44:44.52': No astronomical object found :\n",
      "  (error.line, error.msg))\n",
      " 44% (10386 of 12071) |###############   | Elapsed Time: 0:32:40 ETA:   0:30:13/Users/rcarvajal/.miniconda3/lib/python3.7/site-packages/astroquery/simbad/core.py:138: UserWarning: Warning: The script line number 3 raised an error (recorded in the `errors` attribute of the result table): '10:01:21.648 +1:44:45.96': No astronomical object found :\n",
      "  (error.line, error.msg))\n",
      " 46% (10437 of 12071) |###############   | Elapsed Time: 0:34:00 ETA:   0:47:27/Users/rcarvajal/.miniconda3/lib/python3.7/site-packages/astroquery/simbad/core.py:138: UserWarning: Warning: The script line number 3 raised an error (recorded in the `errors` attribute of the result table): '10:01:57.936 +1:45:15.48': No astronomical object found :\n",
      "  (error.line, error.msg))\n",
      " 46% (10453 of 12071) |###############   | Elapsed Time: 0:34:22 ETA:   0:23:53/Users/rcarvajal/.miniconda3/lib/python3.7/site-packages/astroquery/simbad/core.py:138: UserWarning: Warning: The script line number 3 raised an error (recorded in the `errors` attribute of the result table): '9:57:48.672 +1:45:27.36': No astronomical object found :\n",
      "  (error.line, error.msg))\n",
      " 46% (10454 of 12071) |###############   | Elapsed Time: 0:34:24 ETA:   0:37:25/Users/rcarvajal/.miniconda3/lib/python3.7/site-packages/astroquery/simbad/core.py:138: UserWarning: Warning: The script line number 3 raised an error (recorded in the `errors` attribute of the result table): '9:59:12.264 +1:45:28.08': No astronomical object found :\n",
      "  (error.line, error.msg))\n",
      " 47% (10458 of 12071) |###############   | Elapsed Time: 0:34:29 ETA:   0:35:53/Users/rcarvajal/.miniconda3/lib/python3.7/site-packages/astroquery/simbad/core.py:138: UserWarning: Warning: The script line number 3 raised an error (recorded in the `errors` attribute of the result table): '9:59:49.536 +1:45:28.8': No astronomical object found :\n",
      "  (error.line, error.msg))\n",
      " 47% (10464 of 12071) |###############   | Elapsed Time: 0:34:38 ETA:   0:37:10/Users/rcarvajal/.miniconda3/lib/python3.7/site-packages/astroquery/simbad/core.py:138: UserWarning: Warning: The script line number 3 raised an error (recorded in the `errors` attribute of the result table): '10:03:00.12 +1:45:32.4': No astronomical object found :\n",
      "  (error.line, error.msg))\n",
      " 47% (10470 of 12071) |###############   | Elapsed Time: 0:34:47 ETA:   0:36:48/Users/rcarvajal/.miniconda3/lib/python3.7/site-packages/astroquery/simbad/core.py:138: UserWarning: Warning: The script line number 3 raised an error (recorded in the `errors` attribute of the result table): '10:02:06.264 +1:45:35.64': No astronomical object found :\n",
      "  (error.line, error.msg))\n",
      " 47% (10481 of 12071) |###############   | Elapsed Time: 0:35:03 ETA:   0:38:23/Users/rcarvajal/.miniconda3/lib/python3.7/site-packages/astroquery/simbad/core.py:138: UserWarning: Warning: The script line number 3 raised an error (recorded in the `errors` attribute of the result table): '10:00:13.176 +1:45:43.2': No astronomical object found :\n",
      "  (error.line, error.msg))\n",
      " 47% (10487 of 12071) |###############   | Elapsed Time: 0:35:11 ETA:   0:28:30/Users/rcarvajal/.miniconda3/lib/python3.7/site-packages/astroquery/simbad/core.py:138: UserWarning: Warning: The script line number 3 raised an error (recorded in the `errors` attribute of the result table): '9:58:58.656 +1:45:46.8': No astronomical object found :\n",
      "  (error.line, error.msg))\n",
      " 48% (10497 of 12071) |###############   | Elapsed Time: 0:35:28 ETA:   0:45:03/Users/rcarvajal/.miniconda3/lib/python3.7/site-packages/astroquery/simbad/core.py:138: UserWarning: Warning: The script line number 3 raised an error (recorded in the `errors` attribute of the result table): '10:02:07.728 +1:45:52.2': No astronomical object found :\n",
      "  (error.line, error.msg))\n",
      " 48% (10512 of 12071) |###############   | Elapsed Time: 0:35:53 ETA:   0:47:57/Users/rcarvajal/.miniconda3/lib/python3.7/site-packages/astroquery/simbad/core.py:138: UserWarning: Warning: The script line number 3 raised an error (recorded in the `errors` attribute of the result table): '10:00:17.496 +1:46:04.08': No astronomical object found :\n",
      "  (error.line, error.msg))\n",
      " 49% (10538 of 12071) |###############   | Elapsed Time: 0:36:33 ETA:   0:26:46/Users/rcarvajal/.miniconda3/lib/python3.7/site-packages/astroquery/simbad/core.py:138: UserWarning: Warning: The script line number 3 raised an error (recorded in the `errors` attribute of the result table): '9:58:21.672 +1:46:21': No astronomical object found :\n",
      "  (error.line, error.msg))\n",
      " 50% (10575 of 12071) |###############   | Elapsed Time: 0:37:33 ETA:   0:50:45/Users/rcarvajal/.miniconda3/lib/python3.7/site-packages/astroquery/simbad/core.py:138: UserWarning: Warning: The script line number 3 raised an error (recorded in the `errors` attribute of the result table): '10:02:11.208 +1:46:44.04': No astronomical object found :\n",
      "  (error.line, error.msg))\n",
      " 51% (10608 of 12071) |###############   | Elapsed Time: 0:38:24 ETA:   0:42:19/Users/rcarvajal/.miniconda3/lib/python3.7/site-packages/astroquery/simbad/core.py:138: UserWarning: Warning: The script line number 3 raised an error (recorded in the `errors` attribute of the result table): '9:58:58.104 +1:46:59.52': No astronomical object found :\n",
      "  (error.line, error.msg))\n",
      " 52% (10633 of 12071) |###############   | Elapsed Time: 0:39:04 ETA:   0:41:48/Users/rcarvajal/.miniconda3/lib/python3.7/site-packages/astroquery/simbad/core.py:138: UserWarning: Warning: The script line number 3 raised an error (recorded in the `errors` attribute of the result table): '9:58:08.856 +1:47:18.24': No astronomical object found :\n",
      "  (error.line, error.msg))\n",
      " 53% (10653 of 12071) |###############   | Elapsed Time: 0:39:35 ETA:   0:43:47/Users/rcarvajal/.miniconda3/lib/python3.7/site-packages/astroquery/simbad/core.py:138: UserWarning: Warning: The script line number 3 raised an error (recorded in the `errors` attribute of the result table): '10:02:16.896 +1:47:27.24': No astronomical object found :\n",
      "  (error.line, error.msg))\n",
      " 53% (10666 of 12071) |###############   | Elapsed Time: 0:39:55 ETA:   0:42:08/Users/rcarvajal/.miniconda3/lib/python3.7/site-packages/astroquery/simbad/core.py:138: UserWarning: Warning: The script line number 3 raised an error (recorded in the `errors` attribute of the result table): '9:58:51.36 +1:47:33': No astronomical object found :\n",
      "  (error.line, error.msg))\n",
      " 54% (10670 of 12071) |###############   | Elapsed Time: 0:40:01 ETA:   0:31:10/Users/rcarvajal/.miniconda3/lib/python3.7/site-packages/astroquery/simbad/core.py:138: UserWarning: Warning: The script line number 3 raised an error (recorded in the `errors` attribute of the result table): '9:59:34.296 +1:47:35.88': No astronomical object found :\n",
      "  (error.line, error.msg))\n",
      " 54% (10690 of 12071) |###############   | Elapsed Time: 0:40:31 ETA:   0:30:40/Users/rcarvajal/.miniconda3/lib/python3.7/site-packages/astroquery/simbad/core.py:138: UserWarning: Warning: The script line number 3 raised an error (recorded in the `errors` attribute of the result table): '9:59:24.216 +1:47:47.4': No astronomical object found :\n",
      "  (error.line, error.msg))\n",
      " 54% (10692 of 12071) |###############   | Elapsed Time: 0:40:34 ETA:   0:34:15/Users/rcarvajal/.miniconda3/lib/python3.7/site-packages/astroquery/simbad/core.py:138: UserWarning: Warning: The script line number 3 raised an error (recorded in the `errors` attribute of the result table): '10:01:50.136 +1:47:47.76': No astronomical object found :\n",
      "  (error.line, error.msg))\n",
      " 54% (10694 of 12071) |###############   | Elapsed Time: 0:40:38 ETA:   0:39:42/Users/rcarvajal/.miniconda3/lib/python3.7/site-packages/astroquery/simbad/core.py:138: UserWarning: Warning: The script line number 3 raised an error (recorded in the `errors` attribute of the result table): '9:58:40.032 +1:47:48.48': No astronomical object found :\n",
      "  (error.line, error.msg))\n",
      " 55% (10711 of 12071) |###############   | Elapsed Time: 0:41:05 ETA:   0:39:20/Users/rcarvajal/.miniconda3/lib/python3.7/site-packages/astroquery/simbad/core.py:138: UserWarning: Warning: The script line number 3 raised an error (recorded in the `errors` attribute of the result table): '10:02:47.04 +1:47:58.56': No astronomical object found :\n",
      "  (error.line, error.msg))\n",
      " 55% (10717 of 12071) |###############   | Elapsed Time: 0:41:13 ETA:   0:32:26/Users/rcarvajal/.miniconda3/lib/python3.7/site-packages/astroquery/simbad/core.py:138: UserWarning: Warning: The script line number 3 raised an error (recorded in the `errors` attribute of the result table): '10:00:01.704 +1:48:03.24': No astronomical object found :\n",
      "  (error.line, error.msg))\n",
      " 55% (10724 of 12071) |###############   | Elapsed Time: 0:41:24 ETA:   0:32:14/Users/rcarvajal/.miniconda3/lib/python3.7/site-packages/astroquery/simbad/core.py:138: UserWarning: Warning: The script line number 3 raised an error (recorded in the `errors` attribute of the result table): '10:00:53.592 +1:48:06.48': No astronomical object found :\n",
      "  (error.line, error.msg))\n",
      " 55% (10727 of 12071) |###############   | Elapsed Time: 0:41:28 ETA:   0:30:01/Users/rcarvajal/.miniconda3/lib/python3.7/site-packages/astroquery/simbad/core.py:138: UserWarning: Warning: The script line number 3 raised an error (recorded in the `errors` attribute of the result table): '10:02:37.176 +1:48:07.92': No astronomical object found :\n",
      "  (error.line, error.msg))\n",
      " 56% (10739 of 12071) |################  | Elapsed Time: 0:41:48 ETA:   0:42:08/Users/rcarvajal/.miniconda3/lib/python3.7/site-packages/astroquery/simbad/core.py:138: UserWarning: Warning: The script line number 3 raised an error (recorded in the `errors` attribute of the result table): '10:02:22.608 +1:48:14.04': No astronomical object found :\n",
      "  (error.line, error.msg))\n",
      " 56% (10755 of 12071) |################  | Elapsed Time: 0:42:13 ETA:   0:39:22/Users/rcarvajal/.miniconda3/lib/python3.7/site-packages/astroquery/simbad/core.py:138: UserWarning: Warning: The script line number 3 raised an error (recorded in the `errors` attribute of the result table): '10:02:13.032 +1:48:24.12': No astronomical object found :\n",
      "  (error.line, error.msg))\n",
      " 57% (10782 of 12071) |################  | Elapsed Time: 0:42:56 ETA:   0:39:49/Users/rcarvajal/.miniconda3/lib/python3.7/site-packages/astroquery/simbad/core.py:138: UserWarning: Warning: The script line number 3 raised an error (recorded in the `errors` attribute of the result table): '9:58:00.168 +1:48:39.6': No astronomical object found :\n",
      "  (error.line, error.msg))\n",
      " 58% (10795 of 12071) |################  | Elapsed Time: 0:43:18 ETA:   0:38:09/Users/rcarvajal/.miniconda3/lib/python3.7/site-packages/astroquery/simbad/core.py:138: UserWarning: Warning: The script line number 3 raised an error (recorded in the `errors` attribute of the result table): '9:59:15.528 +1:48:52.56': No astronomical object found :\n",
      "  (error.line, error.msg))\n",
      " 58% (10814 of 12071) |################  | Elapsed Time: 0:43:48 ETA:   0:38:12/Users/rcarvajal/.miniconda3/lib/python3.7/site-packages/astroquery/simbad/core.py:138: UserWarning: Warning: The script line number 3 raised an error (recorded in the `errors` attribute of the result table): '10:00:32.184 +1:49:03': No astronomical object found :\n",
      "  (error.line, error.msg))\n",
      " 59% (10825 of 12071) |################  | Elapsed Time: 0:44:08 ETA:   0:39:17/Users/rcarvajal/.miniconda3/lib/python3.7/site-packages/astroquery/simbad/core.py:138: UserWarning: Warning: The script line number 3 raised an error (recorded in the `errors` attribute of the result table): '9:57:42.816 +1:49:09.12': No astronomical object found :\n",
      "  (error.line, error.msg))\n",
      " 60% (10861 of 12071) |################  | Elapsed Time: 0:45:06 ETA:   0:29:56/Users/rcarvajal/.miniconda3/lib/python3.7/site-packages/astroquery/simbad/core.py:138: UserWarning: Warning: The script line number 3 raised an error (recorded in the `errors` attribute of the result table): '10:02:04.152 +1:49:33.6': No astronomical object found :\n",
      "  (error.line, error.msg))\n",
      " 60% (10869 of 12071) |################  | Elapsed Time: 0:45:19 ETA:   0:29:49/Users/rcarvajal/.miniconda3/lib/python3.7/site-packages/astroquery/simbad/core.py:138: UserWarning: Warning: The script line number 3 raised an error (recorded in the `errors` attribute of the result table): '10:01:15.96 +1:49:38.64': No astronomical object found :\n",
      "  (error.line, error.msg))\n",
      " 60% (10870 of 12071) |################  | Elapsed Time: 0:45:21 ETA:   0:27:36/Users/rcarvajal/.miniconda3/lib/python3.7/site-packages/astroquery/simbad/core.py:138: UserWarning: Warning: The script line number 3 raised an error (recorded in the `errors` attribute of the result table): '10:02:03.552 +1:49:40.08': No astronomical object found :\n",
      "  (error.line, error.msg))\n",
      " 60% (10873 of 12071) |################  | Elapsed Time: 0:45:24 ETA:   0:26:42/Users/rcarvajal/.miniconda3/lib/python3.7/site-packages/astroquery/simbad/core.py:138: UserWarning: Warning: The script line number 3 raised an error (recorded in the `errors` attribute of the result table): '10:01:30.936 +1:49:41.16': No astronomical object found :\n",
      "  (error.line, error.msg))\n",
      " 61% (10884 of 12071) |################  | Elapsed Time: 0:45:44 ETA:   0:35:26/Users/rcarvajal/.miniconda3/lib/python3.7/site-packages/astroquery/simbad/core.py:138: UserWarning: Warning: The script line number 3 raised an error (recorded in the `errors` attribute of the result table): '9:58:39.552 +1:49:46.56': No astronomical object found :\n",
      "  (error.line, error.msg))\n",
      " 61% (10890 of 12071) |################  | Elapsed Time: 0:45:54 ETA:   0:29:12/Users/rcarvajal/.miniconda3/lib/python3.7/site-packages/astroquery/simbad/core.py:138: UserWarning: Warning: The script line number 3 raised an error (recorded in the `errors` attribute of the result table): '9:59:12 +1:49:49.44': No astronomical object found :\n",
      "  (error.line, error.msg))\n",
      " 61% (10902 of 12071) |################  | Elapsed Time: 0:46:13 ETA:   0:33:52/Users/rcarvajal/.miniconda3/lib/python3.7/site-packages/astroquery/simbad/core.py:138: UserWarning: Warning: The script line number 3 raised an error (recorded in the `errors` attribute of the result table): '10:03:13.752 +1:49:58.44': No astronomical object found :\n",
      "  (error.line, error.msg))\n",
      " 62% (10939 of 12071) |################  | Elapsed Time: 0:47:11 ETA:   0:32:58/Users/rcarvajal/.miniconda3/lib/python3.7/site-packages/astroquery/simbad/core.py:138: UserWarning: Warning: The script line number 3 raised an error (recorded in the `errors` attribute of the result table): '10:02:08.376 +1:50:24.72': No astronomical object found :\n",
      "  (error.line, error.msg))\n",
      " 63% (10948 of 12071) |################  | Elapsed Time: 0:47:25 ETA:   0:33:29/Users/rcarvajal/.miniconda3/lib/python3.7/site-packages/astroquery/simbad/core.py:138: UserWarning: Warning: The script line number 3 raised an error (recorded in the `errors` attribute of the result table): '10:03:19.2 +1:50:35.16': No astronomical object found :\n",
      "  (error.line, error.msg))\n",
      " 63% (10953 of 12071) |################  | Elapsed Time: 0:47:34 ETA:   0:35:15/Users/rcarvajal/.miniconda3/lib/python3.7/site-packages/astroquery/simbad/core.py:138: UserWarning: Warning: The script line number 3 raised an error (recorded in the `errors` attribute of the result table): '10:01:12.288 +1:50:38.4': No astronomical object found :\n",
      "  (error.line, error.msg))\n",
      " 64% (10996 of 12071) |################  | Elapsed Time: 0:48:43 ETA:   0:23:53/Users/rcarvajal/.miniconda3/lib/python3.7/site-packages/astroquery/simbad/core.py:138: UserWarning: Warning: The script line number 3 raised an error (recorded in the `errors` attribute of the result table): '9:58:02.352 +1:51:06.12': No astronomical object found :\n",
      "  (error.line, error.msg))\n",
      " 64% (10999 of 12071) |################  | Elapsed Time: 0:48:48 ETA:   0:28:23/Users/rcarvajal/.miniconda3/lib/python3.7/site-packages/astroquery/simbad/core.py:138: UserWarning: Warning: The script line number 3 raised an error (recorded in the `errors` attribute of the result table): '10:02:55.608 +1:51:08.64': No astronomical object found :\n",
      "  (error.line, error.msg))\n",
      " 65% (11009 of 12071) |################  | Elapsed Time: 0:49:03 ETA:   0:26:12/Users/rcarvajal/.miniconda3/lib/python3.7/site-packages/astroquery/simbad/core.py:138: UserWarning: Warning: The script line number 3 raised an error (recorded in the `errors` attribute of the result table): '10:02:57.096 +1:51:15.48': No astronomical object found :\n",
      "  (error.line, error.msg))\n",
      " 65% (11019 of 12071) |################  | Elapsed Time: 0:49:19 ETA:   0:30:43/Users/rcarvajal/.miniconda3/lib/python3.7/site-packages/astroquery/simbad/core.py:138: UserWarning: Warning: The script line number 3 raised an error (recorded in the `errors` attribute of the result table): '10:03:00.672 +1:51:21.96': No astronomical object found :\n",
      "  (error.line, error.msg))\n",
      " 65% (11030 of 12071) |################  | Elapsed Time: 0:49:35 ETA:   0:23:59/Users/rcarvajal/.miniconda3/lib/python3.7/site-packages/astroquery/simbad/core.py:138: UserWarning: Warning: The script line number 3 raised an error (recorded in the `errors` attribute of the result table): '9:59:24.576 +1:51:27.72': No astronomical object found :\n",
      "  (error.line, error.msg))\n",
      " 66% (11061 of 12071) |################  | Elapsed Time: 0:50:28 ETA:   0:31:07/Users/rcarvajal/.miniconda3/lib/python3.7/site-packages/astroquery/simbad/core.py:138: UserWarning: Warning: The script line number 3 raised an error (recorded in the `errors` attribute of the result table): '9:58:37.536 +1:51:47.52': No astronomical object found :\n",
      "  (error.line, error.msg))\n",
      " 67% (11074 of 12071) |################  | Elapsed Time: 0:50:50 ETA:   0:29:45/Users/rcarvajal/.miniconda3/lib/python3.7/site-packages/astroquery/simbad/core.py:138: UserWarning: Warning: The script line number 3 raised an error (recorded in the `errors` attribute of the result table): '10:03:01.776 +1:51:56.16': No astronomical object found :\n",
      "  (error.line, error.msg))\n",
      " 67% (11076 of 12071) |################  | Elapsed Time: 0:50:53 ETA:   0:23:53/Users/rcarvajal/.miniconda3/lib/python3.7/site-packages/astroquery/simbad/core.py:138: UserWarning: Warning: The script line number 3 raised an error (recorded in the `errors` attribute of the result table): '10:02:23.784 +1:51:56.88': No astronomical object found :\n",
      "  (error.line, error.msg))\n",
      " 67% (11089 of 12071) |################  | Elapsed Time: 0:51:14 ETA:   0:33:22/Users/rcarvajal/.miniconda3/lib/python3.7/site-packages/astroquery/simbad/core.py:138: UserWarning: Warning: The script line number 3 raised an error (recorded in the `errors` attribute of the result table): '10:03:18.48 +1:52:06.6': No astronomical object found :\n",
      "  (error.line, error.msg))\n",
      " 68% (11109 of 12071) |################  | Elapsed Time: 0:51:49 ETA:   0:28:06/Users/rcarvajal/.miniconda3/lib/python3.7/site-packages/astroquery/simbad/core.py:138: UserWarning: Warning: The script line number 3 raised an error (recorded in the `errors` attribute of the result table): '10:02:29.64 +1:52:18.84': No astronomical object found :\n",
      "  (error.line, error.msg))\n",
      " 69% (11135 of 12071) |################  | Elapsed Time: 0:52:33 ETA:   0:25:24/Users/rcarvajal/.miniconda3/lib/python3.7/site-packages/astroquery/simbad/core.py:138: UserWarning: Warning: The script line number 3 raised an error (recorded in the `errors` attribute of the result table): '9:57:44.592 +1:52:36.48': No astronomical object found :\n",
      "  (error.line, error.msg))\n",
      " 69% (11144 of 12071) |################  | Elapsed Time: 0:52:46 ETA:   0:21:14/Users/rcarvajal/.miniconda3/lib/python3.7/site-packages/astroquery/simbad/core.py:138: UserWarning: Warning: The script line number 3 raised an error (recorded in the `errors` attribute of the result table): '9:58:08.616 +1:52:38.28': No astronomical object found :\n",
      "  (error.line, error.msg))\n",
      " 71% (11197 of 12071) |################  | Elapsed Time: 0:54:17 ETA:   0:20:28/Users/rcarvajal/.miniconda3/lib/python3.7/site-packages/astroquery/simbad/core.py:138: UserWarning: Warning: The script line number 3 raised an error (recorded in the `errors` attribute of the result table): '9:59:48 +1:53:00.96': No astronomical object found :\n",
      "  (error.line, error.msg))\n",
      " 71% (11203 of 12071) |################  | Elapsed Time: 0:54:26 ETA:   0:27:28/Users/rcarvajal/.miniconda3/lib/python3.7/site-packages/astroquery/simbad/core.py:138: UserWarning: Warning: The script line number 3 raised an error (recorded in the `errors` attribute of the result table): '9:58:52.872 +1:53:04.92': No astronomical object found :\n",
      "  (error.line, error.msg))\n",
      " 72% (11240 of 12071) |################  | Elapsed Time: 0:55:31 ETA:   0:24:08/Users/rcarvajal/.miniconda3/lib/python3.7/site-packages/astroquery/simbad/core.py:138: UserWarning: Warning: The script line number 3 raised an error (recorded in the `errors` attribute of the result table): '9:59:00.48 +1:53:31.2': No astronomical object found :\n",
      "  (error.line, error.msg))\n",
      " 73% (11255 of 12071) |################  | Elapsed Time: 0:55:57 ETA:   0:21:36/Users/rcarvajal/.miniconda3/lib/python3.7/site-packages/astroquery/simbad/core.py:138: UserWarning: Warning: The script line number 3 raised an error (recorded in the `errors` attribute of the result table): '10:01:26.832 +1:53:43.08': No astronomical object found :\n",
      "  (error.line, error.msg))\n",
      " 74% (11280 of 12071) |################  | Elapsed Time: 0:56:41 ETA:   0:25:00/Users/rcarvajal/.miniconda3/lib/python3.7/site-packages/astroquery/simbad/core.py:138: UserWarning: Warning: The script line number 3 raised an error (recorded in the `errors` attribute of the result table): '10:03:13.848 +1:54:06.48': No astronomical object found :\n",
      "  (error.line, error.msg))\n",
      " 74% (11284 of 12071) |################  | Elapsed Time: 0:56:47 ETA:   0:23:34/Users/rcarvajal/.miniconda3/lib/python3.7/site-packages/astroquery/simbad/core.py:138: UserWarning: Warning: The script line number 3 raised an error (recorded in the `errors` attribute of the result table): '10:03:15.96 +1:54:08.28': No astronomical object found :\n",
      "  (error.line, error.msg))\n",
      " 74% (11308 of 12071) |################  | Elapsed Time: 0:57:26 ETA:   0:18:13/Users/rcarvajal/.miniconda3/lib/python3.7/site-packages/astroquery/simbad/core.py:138: UserWarning: Warning: The script line number 3 raised an error (recorded in the `errors` attribute of the result table): '10:01:54.264 +1:54:17.28': No astronomical object found :\n",
      "  (error.line, error.msg))\n",
      " 75% (11321 of 12071) |################  | Elapsed Time: 0:57:49 ETA:   0:22:54/Users/rcarvajal/.miniconda3/lib/python3.7/site-packages/astroquery/simbad/core.py:138: UserWarning: Warning: The script line number 3 raised an error (recorded in the `errors` attribute of the result table): '9:57:24.216 +1:54:24.12': No astronomical object found :\n",
      "  (error.line, error.msg))\n",
      " 76% (11342 of 12071) |################  | Elapsed Time: 0:58:25 ETA:   0:25:02/Users/rcarvajal/.miniconda3/lib/python3.7/site-packages/astroquery/simbad/core.py:138: UserWarning: Warning: The script line number 3 raised an error (recorded in the `errors` attribute of the result table): '9:57:36.6 +1:54:32.76': No astronomical object found :\n",
      "  (error.line, error.msg))\n",
      " 76% (11364 of 12071) |################  | Elapsed Time: 0:59:04 ETA:   0:21:46/Users/rcarvajal/.miniconda3/lib/python3.7/site-packages/astroquery/simbad/core.py:138: UserWarning: Warning: The script line number 3 raised an error (recorded in the `errors` attribute of the result table): '10:02:07.632 +1:54:47.52': No astronomical object found :\n",
      "  (error.line, error.msg))\n",
      " 77% (11374 of 12071) |################  | Elapsed Time: 0:59:19 ETA:   0:22:56/Users/rcarvajal/.miniconda3/lib/python3.7/site-packages/astroquery/simbad/core.py:138: UserWarning: Warning: The script line number 3 raised an error (recorded in the `errors` attribute of the result table): '10:03:23.712 +1:54:51.12': No astronomical object found :\n",
      "  (error.line, error.msg))\n",
      " 77% (11379 of 12071) |################  | Elapsed Time: 0:59:28 ETA:   0:22:24/Users/rcarvajal/.miniconda3/lib/python3.7/site-packages/astroquery/simbad/core.py:138: UserWarning: Warning: The script line number 3 raised an error (recorded in the `errors` attribute of the result table): '10:03:24.888 +1:54:55.44': No astronomical object found :\n",
      "  (error.line, error.msg))\n",
      " 77% (11390 of 12071) |################  | Elapsed Time: 0:59:45 ETA:   0:20:39/Users/rcarvajal/.miniconda3/lib/python3.7/site-packages/astroquery/simbad/core.py:138: UserWarning: Warning: The script line number 3 raised an error (recorded in the `errors` attribute of the result table): '9:59:41.256 +1:54:59.4': No astronomical object found :\n",
      "  (error.line, error.msg))\n",
      " 78% (11401 of 12071) |################# | Elapsed Time: 1:00:03 ETA:   0:16:32/Users/rcarvajal/.miniconda3/lib/python3.7/site-packages/astroquery/simbad/core.py:138: UserWarning: Warning: The script line number 3 raised an error (recorded in the `errors` attribute of the result table): '10:00:12.48 +1:55:04.44': No astronomical object found :\n",
      "  (error.line, error.msg))\n",
      " 78% (11430 of 12071) |################# | Elapsed Time: 1:00:52 ETA:   0:18:09/Users/rcarvajal/.miniconda3/lib/python3.7/site-packages/astroquery/simbad/core.py:138: UserWarning: Warning: The script line number 3 raised an error (recorded in the `errors` attribute of the result table): '10:03:24 +1:55:16.68': No astronomical object found :\n",
      "  (error.line, error.msg))\n",
      " 80% (11484 of 12071) |################# | Elapsed Time: 1:02:24 ETA:   0:14:29/Users/rcarvajal/.miniconda3/lib/python3.7/site-packages/astroquery/simbad/core.py:138: UserWarning: Warning: The script line number 3 raised an error (recorded in the `errors` attribute of the result table): '9:58:21.504 +1:55:46.92': No astronomical object found :\n",
      "  (error.line, error.msg))\n",
      " 80% (11487 of 12071) |################# | Elapsed Time: 1:02:30 ETA:   0:19:09/Users/rcarvajal/.miniconda3/lib/python3.7/site-packages/astroquery/simbad/core.py:138: UserWarning: Warning: The script line number 3 raised an error (recorded in the `errors` attribute of the result table): '10:03:25.368 +1:55:48': No astronomical object found :\n",
      "  (error.line, error.msg))\n",
      " 82% (11523 of 12071) |################# | Elapsed Time: 1:03:29 ETA:   0:15:23/Users/rcarvajal/.miniconda3/lib/python3.7/site-packages/astroquery/simbad/core.py:138: UserWarning: Warning: The script line number 3 raised an error (recorded in the `errors` attribute of the result table): '9:58:36.864 +1:56:04.56': No astronomical object found :\n",
      "  (error.line, error.msg))\n",
      " 82% (11526 of 12071) |################# | Elapsed Time: 1:03:34 ETA:   0:16:17/Users/rcarvajal/.miniconda3/lib/python3.7/site-packages/astroquery/simbad/core.py:138: UserWarning: Warning: The script line number 3 raised an error (recorded in the `errors` attribute of the result table): '9:57:25.992 +1:56:06.36': No astronomical object found :\n",
      "  (error.line, error.msg))\n",
      " 82% (11529 of 12071) |################# | Elapsed Time: 1:03:39 ETA:   0:12:15/Users/rcarvajal/.miniconda3/lib/python3.7/site-packages/astroquery/simbad/core.py:138: UserWarning: Warning: The script line number 3 raised an error (recorded in the `errors` attribute of the result table): '10:01:54.072 +1:56:07.08': No astronomical object found :\n",
      "  (error.line, error.msg))\n",
      " 84% (11591 of 12071) |################# | Elapsed Time: 1:05:24 ETA:   0:14:42/Users/rcarvajal/.miniconda3/lib/python3.7/site-packages/astroquery/simbad/core.py:138: UserWarning: Warning: The script line number 3 raised an error (recorded in the `errors` attribute of the result table): '9:59:57.864 +1:56:34.8': No astronomical object found :\n",
      "  (error.line, error.msg))\n",
      " 84% (11595 of 12071) |################# | Elapsed Time: 1:05:31 ETA:   0:14:39/Users/rcarvajal/.miniconda3/lib/python3.7/site-packages/astroquery/simbad/core.py:138: UserWarning: Warning: The script line number 3 raised an error (recorded in the `errors` attribute of the result table): '10:00:32.472 +1:56:39.12': No astronomical object found :\n",
      "  (error.line, error.msg))\n",
      " 84% (11602 of 12071) |################# | Elapsed Time: 1:05:44 ETA:   0:14:50/Users/rcarvajal/.miniconda3/lib/python3.7/site-packages/astroquery/simbad/core.py:138: UserWarning: Warning: The script line number 3 raised an error (recorded in the `errors` attribute of the result table): '10:01:22.272 +1:56:42.36': No astronomical object found :\n",
      "  (error.line, error.msg))\n",
      " 85% (11623 of 12071) |################# | Elapsed Time: 1:06:20 ETA:   0:16:58/Users/rcarvajal/.miniconda3/lib/python3.7/site-packages/astroquery/simbad/core.py:138: UserWarning: Warning: The script line number 3 raised an error (recorded in the `errors` attribute of the result table): '9:58:38.736 +1:56:55.68': No astronomical object found :\n",
      "  (error.line, error.msg))\n",
      " 85% (11635 of 12071) |################# | Elapsed Time: 1:06:40 ETA:   0:13:05/Users/rcarvajal/.miniconda3/lib/python3.7/site-packages/astroquery/simbad/core.py:138: UserWarning: Warning: The script line number 3 raised an error (recorded in the `errors` attribute of the result table): '10:00:55.32 +1:57:01.08': No astronomical object found :\n",
      "  (error.line, error.msg))\n",
      " 89% (11739 of 12071) |################# | Elapsed Time: 1:09:36 ETA:   0:09:34/Users/rcarvajal/.miniconda3/lib/python3.7/site-packages/astroquery/simbad/core.py:138: UserWarning: Warning: The script line number 3 raised an error (recorded in the `errors` attribute of the result table): '9:59:27.816 +1:58:07.32': No astronomical object found :\n",
      "  (error.line, error.msg))\n",
      " 89% (11749 of 12071) |################# | Elapsed Time: 1:09:53 ETA:   0:08:17/Users/rcarvajal/.miniconda3/lib/python3.7/site-packages/astroquery/simbad/core.py:138: UserWarning: Warning: The script line number 3 raised an error (recorded in the `errors` attribute of the result table): '9:57:28.152 +1:58:12.72': No astronomical object found :\n",
      "  (error.line, error.msg))\n",
      " 92% (11833 of 12071) |################# | Elapsed Time: 1:12:15 ETA:   0:07:07/Users/rcarvajal/.miniconda3/lib/python3.7/site-packages/astroquery/simbad/core.py:138: UserWarning: Warning: The script line number 3 raised an error (recorded in the `errors` attribute of the result table): '10:03:18.576 +1:59:02.4': No astronomical object found :\n",
      "  (error.line, error.msg))\n",
      " 92% (11853 of 12071) |################# | Elapsed Time: 1:12:47 ETA:   0:05:33/Users/rcarvajal/.miniconda3/lib/python3.7/site-packages/astroquery/simbad/core.py:138: UserWarning: Warning: The script line number 3 raised an error (recorded in the `errors` attribute of the result table): '10:02:42.12 +1:59:14.64': No astronomical object found :\n",
      "  (error.line, error.msg))\n",
      " 93% (11862 of 12071) |################# | Elapsed Time: 1:13:01 ETA:   0:06:20/Users/rcarvajal/.miniconda3/lib/python3.7/site-packages/astroquery/simbad/core.py:138: UserWarning: Warning: The script line number 3 raised an error (recorded in the `errors` attribute of the result table): '9:57:46.824 +1:59:22.56': No astronomical object found :\n",
      "  (error.line, error.msg))\n",
      " 94% (11893 of 12071) |################# | Elapsed Time: 1:13:55 ETA:   0:04:41/Users/rcarvajal/.miniconda3/lib/python3.7/site-packages/astroquery/simbad/core.py:138: UserWarning: Warning: The script line number 3 raised an error (recorded in the `errors` attribute of the result table): '9:57:34.488 +1:59:39.48': No astronomical object found :\n",
      "  (error.line, error.msg))\n",
      " 95% (11926 of 12071) |################# | Elapsed Time: 1:14:51 ETA:   0:03:29/Users/rcarvajal/.miniconda3/lib/python3.7/site-packages/astroquery/simbad/core.py:138: UserWarning: Warning: The script line number 3 raised an error (recorded in the `errors` attribute of the result table): '9:59:53.448 +1:59:58.92': No astronomical object found :\n",
      "  (error.line, error.msg))\n",
      " 95% (11938 of 12071) |################# | Elapsed Time: 1:15:10 ETA:   0:03:56/Users/rcarvajal/.miniconda3/lib/python3.7/site-packages/astroquery/simbad/core.py:138: UserWarning: Warning: The script line number 3 raised an error (recorded in the `errors` attribute of the result table): '10:01:26.52 +2:00:06.12': No astronomical object found :\n",
      "  (error.line, error.msg))\n",
      " 96% (11973 of 12071) |################# | Elapsed Time: 1:16:12 ETA:   0:03:06/Users/rcarvajal/.miniconda3/lib/python3.7/site-packages/astroquery/simbad/core.py:138: UserWarning: Warning: The script line number 3 raised an error (recorded in the `errors` attribute of the result table): '9:58:30.48 +2:00:20.16': No astronomical object found :\n",
      "  (error.line, error.msg))\n",
      "100% (12071 of 12071) |##################| Elapsed Time: 1:18:48 Time:  1:18:48\n"
     ]
    }
   ],
   "source": [
    "if query_simbad_flag:\n",
    "    with progressbar.ProgressBar(min_value=(limit_set*3 + 1), max_value=(limit_set*3 + limit_set_cosmos)) as bar:\n",
    "        for index, coord in enumerate(large_sample_coords[(limit_set*3 + 1):(limit_set*3 + 1 + limit_set_cosmos)]):\n",
    "            temp_table      = Table()\n",
    "            try:\n",
    "                temp_table      = customSimbad.query_region(coord, radius=2.5*u.arcsec)\n",
    "                if len(temp_table) == 0:\n",
    "                    temp_table      = Table(names=('RA_d', 'DEC_d'), dtype=(result_table_simbad['RA_d'].info.dtype, result_table_simbad['DEC_d'].info.dtype))\n",
    "                    temp_table.add_row((coord.ra.deg, coord.dec.deg))\n",
    "                temp_table.meta['description'] = 'Simbad_q'\n",
    "            except:\n",
    "                # print(f'Error with element {(index + limit_set*3 + 1)} of the sample')\n",
    "                temp_table      = Table(names=('RA_d', 'DEC_d'), dtype=(result_table_simbad['RA_d'].info.dtype, result_table_simbad['DEC_d'].info.dtype))\n",
    "                temp_table.add_row((coord.ra.deg, coord.dec.deg))\n",
    "                temp_table.meta['description'] = 'Simbad_q'\n",
    "                query_error += 1\n",
    "            try:\n",
    "                if temp_table['RA_d'].unit != 'deg':\n",
    "                    replacement_col     = MaskedColumn(temp_table['RA_d'].data, dtype=result_table_simbad['RA_d'].dtype, unit=result_table_simbad['RA_d'].unit, format=result_table_simbad['RA_d'].format, description=result_table_simbad['RA_d'].description)\n",
    "                    temp_table['RA_d']  = replacement_col\n",
    "                if temp_table['DEC_d'].unit != 'deg':\n",
    "                    replacement_col     = MaskedColumn(temp_table['DEC_d'].data, dtype=result_table_simbad['DEC_d'].dtype, unit=result_table_simbad['DEC_d'].unit, format=result_table_simbad['DEC_d'].format, description=result_table_simbad['DEC_d'].description)\n",
    "                    temp_table['DEC_d']  = replacement_col\n",
    "                result_table_simbad = vstack([result_table_simbad, temp_table[0]])\n",
    "            except:\n",
    "                print(f'Error with element {(index + limit_set*3 + 1)} of the sample')\n",
    "                temp_table      = Table(names=('RA_d', 'DEC_d'), dtype=(result_table_simbad['RA_d'].info.dtype, result_table_simbad['DEC_d'].info.dtype))\n",
    "                temp_table.add_row((coord.ra.deg, coord.dec.deg))\n",
    "                temp_table.meta['description'] = 'Simbad_q'\n",
    "                result_table_simbad = vstack([result_table_simbad, temp_table[0]])\n",
    "                final_error += 1\n",
    "            bar.update(index + limit_set*3 + 1)"
   ]
  },
  {
   "cell_type": "code",
   "execution_count": 50,
   "metadata": {},
   "outputs": [
    {
     "name": "stderr",
     "output_type": "stream",
     "text": [
      "  0% (12086 of 15118) |##############    | Elapsed Time: 0:00:25 ETA:   2:15:18/Users/rcarvajal/.miniconda3/lib/python3.7/site-packages/astroquery/simbad/core.py:138: UserWarning: Warning: The script line number 3 raised an error (recorded in the `errors` attribute of the result table): '9:59:53.376 +2:01:16.68': No astronomical object found :\n",
      "  (error.line, error.msg))\n",
      "  1% (12106 of 15118) |##############    | Elapsed Time: 0:01:00 ETA:   1:16:50/Users/rcarvajal/.miniconda3/lib/python3.7/site-packages/astroquery/simbad/core.py:138: UserWarning: Warning: The script line number 3 raised an error (recorded in the `errors` attribute of the result table): '9:58:25.08 +2:01:32.88': No astronomical object found :\n",
      "  (error.line, error.msg))\n",
      "  1% (12109 of 15118) |##############    | Elapsed Time: 0:01:05 ETA:   1:12:29/Users/rcarvajal/.miniconda3/lib/python3.7/site-packages/astroquery/simbad/core.py:138: UserWarning: Warning: The script line number 3 raised an error (recorded in the `errors` attribute of the result table): '9:57:30.216 +2:01:33.96': No astronomical object found :\n",
      "  (error.line, error.msg))\n",
      "  1% (12129 of 15118) |##############    | Elapsed Time: 0:01:40 ETA:   1:18:47/Users/rcarvajal/.miniconda3/lib/python3.7/site-packages/astroquery/simbad/core.py:138: UserWarning: Warning: The script line number 3 raised an error (recorded in the `errors` attribute of the result table): '10:01:27.288 +2:01:45.84': No astronomical object found :\n",
      "  (error.line, error.msg))\n",
      "  2% (12157 of 15118) |##############    | Elapsed Time: 0:02:27 ETA:   1:32:53/Users/rcarvajal/.miniconda3/lib/python3.7/site-packages/astroquery/simbad/core.py:138: UserWarning: Warning: The script line number 3 raised an error (recorded in the `errors` attribute of the result table): '10:00:03.408 +2:02:04.2': No astronomical object found :\n",
      "  (error.line, error.msg))\n",
      "  4% (12222 of 15118) |##############    | Elapsed Time: 0:04:23 ETA:   1:37:05/Users/rcarvajal/.miniconda3/lib/python3.7/site-packages/astroquery/simbad/core.py:138: UserWarning: Warning: The script line number 3 raised an error (recorded in the `errors` attribute of the result table): '9:57:51.072 +2:02:39.84': No astronomical object found :\n",
      "  (error.line, error.msg))\n",
      "  6% (12259 of 15118) |##############    | Elapsed Time: 0:05:28 ETA:   1:13:49/Users/rcarvajal/.miniconda3/lib/python3.7/site-packages/astroquery/simbad/core.py:138: UserWarning: Warning: The script line number 3 raised an error (recorded in the `errors` attribute of the result table): '9:59:01.2 +2:02:56.76': No astronomical object found :\n",
      "  (error.line, error.msg))\n",
      "  6% (12283 of 15118) |##############    | Elapsed Time: 0:06:12 ETA:   1:32:22/Users/rcarvajal/.miniconda3/lib/python3.7/site-packages/astroquery/simbad/core.py:138: UserWarning: Warning: The script line number 3 raised an error (recorded in the `errors` attribute of the result table): '10:00:17.616 +2:03:07.92': No astronomical object found :\n",
      "  (error.line, error.msg))\n",
      "  9% (12348 of 15118) |##############    | Elapsed Time: 0:08:09 ETA:   1:09:22/Users/rcarvajal/.miniconda3/lib/python3.7/site-packages/astroquery/simbad/core.py:138: UserWarning: Warning: The script line number 3 raised an error (recorded in the `errors` attribute of the result table): '10:02:15.72 +2:03:37.8': No astronomical object found :\n",
      "  (error.line, error.msg))\n",
      " 10% (12397 of 15118) |##############    | Elapsed Time: 0:09:36 ETA:   1:32:54/Users/rcarvajal/.miniconda3/lib/python3.7/site-packages/astroquery/simbad/core.py:138: UserWarning: Warning: The script line number 3 raised an error (recorded in the `errors` attribute of the result table): '9:58:04.056 +2:03:57.96': No astronomical object found :\n",
      "  (error.line, error.msg))\n",
      " 11% (12414 of 15118) |##############    | Elapsed Time: 0:10:07 ETA:   1:25:06/Users/rcarvajal/.miniconda3/lib/python3.7/site-packages/astroquery/simbad/core.py:138: UserWarning: Warning: The script line number 3 raised an error (recorded in the `errors` attribute of the result table): '9:59:27.024 +2:04:04.08': No astronomical object found :\n",
      "  (error.line, error.msg))\n",
      " 11% (12435 of 15118) |##############    | Elapsed Time: 0:10:44 ETA:   1:08:52/Users/rcarvajal/.miniconda3/lib/python3.7/site-packages/astroquery/simbad/core.py:138: UserWarning: Warning: The script line number 3 raised an error (recorded in the `errors` attribute of the result table): '10:00:47.88 +2:04:11.28': No astronomical object found :\n",
      "  (error.line, error.msg))\n",
      " 12% (12448 of 15118) |##############    | Elapsed Time: 0:11:06 ETA:   1:26:22/Users/rcarvajal/.miniconda3/lib/python3.7/site-packages/astroquery/simbad/core.py:138: UserWarning: Warning: The script line number 3 raised an error (recorded in the `errors` attribute of the result table): '10:01:56.64 +2:04:17.4': No astronomical object found :\n",
      "  (error.line, error.msg))\n",
      " 12% (12449 of 15118) |##############    | Elapsed Time: 0:11:07 ETA:   1:05:04/Users/rcarvajal/.miniconda3/lib/python3.7/site-packages/astroquery/simbad/core.py:138: UserWarning: Warning: The script line number 3 raised an error (recorded in the `errors` attribute of the result table): '10:00:49.488 +2:04:18.84': No astronomical object found :\n",
      "  (error.line, error.msg))\n",
      " 12% (12462 of 15118) |##############    | Elapsed Time: 0:11:30 ETA:   1:29:39/Users/rcarvajal/.miniconda3/lib/python3.7/site-packages/astroquery/simbad/core.py:138: UserWarning: Warning: The script line number 3 raised an error (recorded in the `errors` attribute of the result table): '10:00:34.032 +2:04:28.92': No astronomical object found :\n",
      "  (error.line, error.msg))\n",
      " 13% (12469 of 15118) |##############    | Elapsed Time: 0:11:43 ETA:   1:26:10/Users/rcarvajal/.miniconda3/lib/python3.7/site-packages/astroquery/simbad/core.py:138: UserWarning: Warning: The script line number 3 raised an error (recorded in the `errors` attribute of the result table): '10:01:44.712 +2:04:32.16': No astronomical object found :\n",
      "  (error.line, error.msg))\n",
      " 14% (12506 of 15118) |##############    | Elapsed Time: 0:12:49 ETA:   1:31:54/Users/rcarvajal/.miniconda3/lib/python3.7/site-packages/astroquery/simbad/core.py:138: UserWarning: Warning: The script line number 3 raised an error (recorded in the `errors` attribute of the result table): '9:59:09.504 +2:04:56.64': No astronomical object found :\n",
      "  (error.line, error.msg))\n",
      " 16% (12580 of 15118) |##############    | Elapsed Time: 0:14:55 ETA:   1:21:02/Users/rcarvajal/.miniconda3/lib/python3.7/site-packages/astroquery/simbad/core.py:138: UserWarning: Warning: The script line number 3 raised an error (recorded in the `errors` attribute of the result table): '9:58:54.48 +2:05:30.84': No astronomical object found :\n",
      "  (error.line, error.msg))\n",
      " 17% (12615 of 15118) |###############   | Elapsed Time: 0:15:56 ETA:   0:58:22/Users/rcarvajal/.miniconda3/lib/python3.7/site-packages/astroquery/simbad/core.py:138: UserWarning: Warning: The script line number 3 raised an error (recorded in the `errors` attribute of the result table): '10:03:19.128 +2:05:57.48': No astronomical object found :\n",
      "  (error.line, error.msg))\n",
      " 18% (12640 of 15118) |###############   | Elapsed Time: 0:16:37 ETA:   1:24:14/Users/rcarvajal/.miniconda3/lib/python3.7/site-packages/astroquery/simbad/core.py:138: UserWarning: Warning: The script line number 3 raised an error (recorded in the `errors` attribute of the result table): '9:58:10.776 +2:06:11.52': No astronomical object found :\n",
      "  (error.line, error.msg))\n",
      " 18% (12645 of 15118) |###############   | Elapsed Time: 0:16:46 ETA:   1:24:12/Users/rcarvajal/.miniconda3/lib/python3.7/site-packages/astroquery/simbad/core.py:138: UserWarning: Warning: The script line number 3 raised an error (recorded in the `errors` attribute of the result table): '10:03:14.736 +2:06:14.4': No astronomical object found :\n",
      "  (error.line, error.msg))\n",
      " 18% (12648 of 15118) |###############   | Elapsed Time: 0:16:51 ETA:   1:24:03/Users/rcarvajal/.miniconda3/lib/python3.7/site-packages/astroquery/simbad/core.py:138: UserWarning: Warning: The script line number 3 raised an error (recorded in the `errors` attribute of the result table): '9:58:17.424 +2:06:16.92': No astronomical object found :\n",
      "  (error.line, error.msg))\n",
      " 18% (12649 of 15118) |###############   | Elapsed Time: 0:16:53 ETA:   1:16:34/Users/rcarvajal/.miniconda3/lib/python3.7/site-packages/astroquery/simbad/core.py:138: UserWarning: Warning: The script line number 3 raised an error (recorded in the `errors` attribute of the result table): '10:00:53.88 +2:06:17.28': No astronomical object found :\n",
      "  (error.line, error.msg))\n",
      " 21% (12738 of 15118) |###############   | Elapsed Time: 0:19:29 ETA:   1:18:37/Users/rcarvajal/.miniconda3/lib/python3.7/site-packages/astroquery/simbad/core.py:138: UserWarning: Warning: The script line number 3 raised an error (recorded in the `errors` attribute of the result table): '9:58:32.64 +2:07:03': No astronomical object found :\n",
      "  (error.line, error.msg))\n",
      " 22% (12759 of 15118) |###############   | Elapsed Time: 0:20:07 ETA:   1:19:23/Users/rcarvajal/.miniconda3/lib/python3.7/site-packages/astroquery/simbad/core.py:138: UserWarning: Warning: The script line number 3 raised an error (recorded in the `errors` attribute of the result table): '10:03:11.4 +2:07:13.44': No astronomical object found :\n",
      "  (error.line, error.msg))\n",
      " 22% (12764 of 15118) |###############   | Elapsed Time: 0:20:14 ETA:   1:23:52/Users/rcarvajal/.miniconda3/lib/python3.7/site-packages/astroquery/simbad/core.py:138: UserWarning: Warning: The script line number 3 raised an error (recorded in the `errors` attribute of the result table): '10:02:38.016 +2:07:17.04': No astronomical object found :\n",
      "  (error.line, error.msg))\n",
      " 23% (12778 of 15118) |###############   | Elapsed Time: 0:20:37 ETA:   1:01:41/Users/rcarvajal/.miniconda3/lib/python3.7/site-packages/astroquery/simbad/core.py:138: UserWarning: Warning: The script line number 3 raised an error (recorded in the `errors` attribute of the result table): '10:01:59.184 +2:07:24.24': No astronomical object found :\n",
      "  (error.line, error.msg))\n",
      " 27% (12898 of 15118) |###############   | Elapsed Time: 0:24:04 ETA:   1:43:53/Users/rcarvajal/.miniconda3/lib/python3.7/site-packages/astroquery/simbad/core.py:138: UserWarning: Warning: The script line number 3 raised an error (recorded in the `errors` attribute of the result table): '10:00:57.936 +2:08:20.4': No astronomical object found :\n",
      "  (error.line, error.msg))\n",
      " 28% (12953 of 15118) |###############   | Elapsed Time: 0:25:38 ETA:   0:41:05/Users/rcarvajal/.miniconda3/lib/python3.7/site-packages/astroquery/simbad/core.py:138: UserWarning: Warning: The script line number 3 raised an error (recorded in the `errors` attribute of the result table): '10:00:30.12 +2:08:51': No astronomical object found :\n",
      "  (error.line, error.msg))\n",
      " 29% (12960 of 15118) |###############   | Elapsed Time: 0:25:50 ETA:   1:12:46/Users/rcarvajal/.miniconda3/lib/python3.7/site-packages/astroquery/simbad/core.py:138: UserWarning: Warning: The script line number 3 raised an error (recorded in the `errors` attribute of the result table): '10:03:23.28 +2:08:53.16': No astronomical object found :\n",
      "  (error.line, error.msg))\n",
      " 29% (12967 of 15118) |###############   | Elapsed Time: 0:26:03 ETA:   1:15:16/Users/rcarvajal/.miniconda3/lib/python3.7/site-packages/astroquery/simbad/core.py:138: UserWarning: Warning: The script line number 3 raised an error (recorded in the `errors` attribute of the result table): '9:57:49.368 +2:08:56.04': No astronomical object found :\n",
      "  (error.line, error.msg))\n",
      " 30% (13008 of 15118) |###############   | Elapsed Time: 0:27:18 ETA:   0:44:12/Users/rcarvajal/.miniconda3/lib/python3.7/site-packages/astroquery/simbad/core.py:138: UserWarning: Warning: The script line number 3 raised an error (recorded in the `errors` attribute of the result table): '10:03:21.408 +2:09:15.12': No astronomical object found :\n",
      "  (error.line, error.msg))\n",
      " 31% (13024 of 15118) |###############   | Elapsed Time: 0:27:46 ETA:   1:15:48/Users/rcarvajal/.miniconda3/lib/python3.7/site-packages/astroquery/simbad/core.py:138: UserWarning: Warning: The script line number 3 raised an error (recorded in the `errors` attribute of the result table): '10:00:25.248 +2:09:23.76': No astronomical object found :\n",
      "  (error.line, error.msg))\n",
      " 31% (13033 of 15118) |###############   | Elapsed Time: 0:28:04 ETA:   1:14:08/Users/rcarvajal/.miniconda3/lib/python3.7/site-packages/astroquery/simbad/core.py:138: UserWarning: Warning: The script line number 3 raised an error (recorded in the `errors` attribute of the result table): '10:00:25.224 +2:09:28.44': No astronomical object found :\n",
      "  (error.line, error.msg))\n",
      " 32% (13051 of 15118) |###############   | Elapsed Time: 0:28:36 ETA:   0:56:13/Users/rcarvajal/.miniconda3/lib/python3.7/site-packages/astroquery/simbad/core.py:138: UserWarning: Warning: The script line number 3 raised an error (recorded in the `errors` attribute of the result table): '10:03:20.736 +2:09:33.48': No astronomical object found :\n",
      "  (error.line, error.msg))\n",
      " 32% (13054 of 15118) |###############   | Elapsed Time: 0:28:39 ETA:   0:47:56/Users/rcarvajal/.miniconda3/lib/python3.7/site-packages/astroquery/simbad/core.py:138: UserWarning: Warning: The script line number 3 raised an error (recorded in the `errors` attribute of the result table): '10:02:59.232 +2:09:34.2': No astronomical object found :\n",
      "  (error.line, error.msg))\n",
      " 32% (13072 of 15118) |###############   | Elapsed Time: 0:29:13 ETA:   1:09:19/Users/rcarvajal/.miniconda3/lib/python3.7/site-packages/astroquery/simbad/core.py:138: UserWarning: Warning: The script line number 3 raised an error (recorded in the `errors` attribute of the result table): '10:03:09.384 +2:09:41.04': No astronomical object found :\n",
      "  (error.line, error.msg))\n",
      " 34% (13120 of 15118) |###############   | Elapsed Time: 0:30:41 ETA:   0:54:36/Users/rcarvajal/.miniconda3/lib/python3.7/site-packages/astroquery/simbad/core.py:138: UserWarning: Warning: The script line number 3 raised an error (recorded in the `errors` attribute of the result table): '10:03:18.48 +2:10:01.56': No astronomical object found :\n",
      "  (error.line, error.msg))\n",
      " 36% (13178 of 15118) |###############   | Elapsed Time: 0:32:23 ETA:   1:03:25/Users/rcarvajal/.miniconda3/lib/python3.7/site-packages/astroquery/simbad/core.py:138: UserWarning: Warning: The script line number 3 raised an error (recorded in the `errors` attribute of the result table): '10:01:17.208 +2:10:34.32': No astronomical object found :\n",
      "  (error.line, error.msg))\n",
      " 36% (13185 of 15118) |###############   | Elapsed Time: 0:32:35 ETA:   1:07:44/Users/rcarvajal/.miniconda3/lib/python3.7/site-packages/astroquery/simbad/core.py:138: UserWarning: Warning: The script line number 3 raised an error (recorded in the `errors` attribute of the result table): '10:01:56.76 +2:10:36.48': No astronomical object found :\n",
      "  (error.line, error.msg))\n",
      " 37% (13202 of 15118) |###############   | Elapsed Time: 0:33:08 ETA:   1:14:39/Users/rcarvajal/.miniconda3/lib/python3.7/site-packages/astroquery/simbad/core.py:138: UserWarning: Warning: The script line number 3 raised an error (recorded in the `errors` attribute of the result table): '10:03:03.768 +2:10:48': No astronomical object found :\n",
      "  (error.line, error.msg))\n",
      " 37% (13225 of 15118) |###############   | Elapsed Time: 0:33:51 ETA:   1:06:32/Users/rcarvajal/.miniconda3/lib/python3.7/site-packages/astroquery/simbad/core.py:138: UserWarning: Warning: The script line number 3 raised an error (recorded in the `errors` attribute of the result table): '10:02:07.68 +2:11:01.32': No astronomical object found :\n",
      "  (error.line, error.msg))\n",
      " 37% (13227 of 15118) |###############   | Elapsed Time: 0:33:54 ETA:   0:48:01/Users/rcarvajal/.miniconda3/lib/python3.7/site-packages/astroquery/simbad/core.py:138: UserWarning: Warning: The script line number 3 raised an error (recorded in the `errors` attribute of the result table): '10:03:08.856 +2:11:02.04': No astronomical object found :\n",
      "  (error.line, error.msg))\n",
      " 38% (13231 of 15118) |###############   | Elapsed Time: 0:34:00 ETA:   0:50:09/Users/rcarvajal/.miniconda3/lib/python3.7/site-packages/astroquery/simbad/core.py:138: UserWarning: Warning: The script line number 3 raised an error (recorded in the `errors` attribute of the result table): '10:03:08.64 +2:11:04.2': No astronomical object found :\n",
      "  (error.line, error.msg))\n",
      " 38% (13247 of 15118) |###############   | Elapsed Time: 0:34:28 ETA:   0:48:00/Users/rcarvajal/.miniconda3/lib/python3.7/site-packages/astroquery/simbad/core.py:138: UserWarning: Warning: The script line number 3 raised an error (recorded in the `errors` attribute of the result table): '10:03:10.8 +2:11:17.52': No astronomical object found :\n",
      "  (error.line, error.msg))\n",
      " 38% (13249 of 15118) |###############   | Elapsed Time: 0:34:31 ETA:   0:42:56/Users/rcarvajal/.miniconda3/lib/python3.7/site-packages/astroquery/simbad/core.py:138: UserWarning: Warning: The script line number 3 raised an error (recorded in the `errors` attribute of the result table): '9:59:18.36 +2:11:17.88': No astronomical object found :\n",
      "  (error.line, error.msg))\n",
      " 40% (13301 of 15118) |###############   | Elapsed Time: 0:36:03 ETA:   1:04:37/Users/rcarvajal/.miniconda3/lib/python3.7/site-packages/astroquery/simbad/core.py:138: UserWarning: Warning: The script line number 3 raised an error (recorded in the `errors` attribute of the result table): '10:01:57.696 +2:11:44.88': No astronomical object found :\n",
      "  (error.line, error.msg))\n",
      " 41% (13326 of 15118) |###############   | Elapsed Time: 0:36:48 ETA:   1:00:34/Users/rcarvajal/.miniconda3/lib/python3.7/site-packages/astroquery/simbad/core.py:138: UserWarning: Warning: The script line number 3 raised an error (recorded in the `errors` attribute of the result table): '9:58:48.504 +2:11:57.12': No astronomical object found :\n",
      "  (error.line, error.msg))\n",
      " 41% (13347 of 15118) |###############   | Elapsed Time: 0:37:24 ETA:   0:58:31/Users/rcarvajal/.miniconda3/lib/python3.7/site-packages/astroquery/simbad/core.py:138: UserWarning: Warning: The script line number 3 raised an error (recorded in the `errors` attribute of the result table): '10:00:00.144 +2:12:09': No astronomical object found :\n",
      "  (error.line, error.msg))\n",
      " 44% (13442 of 15118) |################  | Elapsed Time: 0:40:18 ETA:   0:57:07/Users/rcarvajal/.miniconda3/lib/python3.7/site-packages/astroquery/simbad/core.py:138: UserWarning: Warning: The script line number 3 raised an error (recorded in the `errors` attribute of the result table): '9:58:20.064 +2:12:56.88': No astronomical object found :\n",
      "  (error.line, error.msg))\n",
      " 46% (13488 of 15118) |################  | Elapsed Time: 0:41:43 ETA:   0:51:41/Users/rcarvajal/.miniconda3/lib/python3.7/site-packages/astroquery/simbad/core.py:138: UserWarning: Warning: The script line number 3 raised an error (recorded in the `errors` attribute of the result table): '10:01:35.952 +2:13:15.6': No astronomical object found :\n",
      "  (error.line, error.msg))\n",
      " 46% (13501 of 15118) |################  | Elapsed Time: 0:42:08 ETA:   0:59:54/Users/rcarvajal/.miniconda3/lib/python3.7/site-packages/astroquery/simbad/core.py:138: UserWarning: Warning: The script line number 3 raised an error (recorded in the `errors` attribute of the result table): '10:02:12.792 +2:13:23.16': No astronomical object found :\n",
      "  (error.line, error.msg))\n",
      " 48% (13548 of 15118) |################  | Elapsed Time: 0:43:34 ETA:   0:46:57/Users/rcarvajal/.miniconda3/lib/python3.7/site-packages/astroquery/simbad/core.py:138: UserWarning: Warning: The script line number 3 raised an error (recorded in the `errors` attribute of the result table): '9:58:59.208 +2:13:53.76': No astronomical object found :\n",
      "  (error.line, error.msg))\n",
      " 49% (13568 of 15118) |################  | Elapsed Time: 0:44:12 ETA:   0:56:11/Users/rcarvajal/.miniconda3/lib/python3.7/site-packages/astroquery/simbad/core.py:138: UserWarning: Warning: The script line number 3 raised an error (recorded in the `errors` attribute of the result table): '10:02:59.496 +2:14:01.68': No astronomical object found :\n",
      "  (error.line, error.msg))\n",
      " 53% (13716 of 15118) |################  | Elapsed Time: 0:48:48 ETA:   0:48:16/Users/rcarvajal/.miniconda3/lib/python3.7/site-packages/astroquery/simbad/core.py:138: UserWarning: Warning: The script line number 3 raised an error (recorded in the `errors` attribute of the result table): '10:02:12.192 +2:15:16.92': No astronomical object found :\n",
      "  (error.line, error.msg))\n",
      " 54% (13743 of 15118) |################  | Elapsed Time: 0:49:36 ETA:   0:46:42/Users/rcarvajal/.miniconda3/lib/python3.7/site-packages/astroquery/simbad/core.py:138: UserWarning: Warning: The script line number 3 raised an error (recorded in the `errors` attribute of the result table): '10:03:15.528 +2:15:29.88': No astronomical object found :\n",
      "  (error.line, error.msg))\n",
      " 55% (13755 of 15118) |################  | Elapsed Time: 0:49:58 ETA:   0:48:10/Users/rcarvajal/.miniconda3/lib/python3.7/site-packages/astroquery/simbad/core.py:138: UserWarning: Warning: The script line number 3 raised an error (recorded in the `errors` attribute of the result table): '10:02:18.216 +2:15:36.72': No astronomical object found :\n",
      "  (error.line, error.msg))\n",
      " 55% (13773 of 15118) |################  | Elapsed Time: 0:50:31 ETA:   0:28:19/Users/rcarvajal/.miniconda3/lib/python3.7/site-packages/astroquery/simbad/core.py:138: UserWarning: Warning: The script line number 3 raised an error (recorded in the `errors` attribute of the result table): '10:02:02.4 +2:15:42.48': No astronomical object found :\n",
      "  (error.line, error.msg))\n",
      " 56% (13787 of 15118) |################  | Elapsed Time: 0:50:54 ETA:   0:37:47/Users/rcarvajal/.miniconda3/lib/python3.7/site-packages/astroquery/simbad/core.py:138: UserWarning: Warning: The script line number 3 raised an error (recorded in the `errors` attribute of the result table): '10:03:18.648 +2:15:52.92': No astronomical object found :\n",
      "  (error.line, error.msg))\n",
      " 57% (13812 of 15118) |################  | Elapsed Time: 0:51:37 ETA:   0:42:52/Users/rcarvajal/.miniconda3/lib/python3.7/site-packages/astroquery/simbad/core.py:138: UserWarning: Warning: The script line number 3 raised an error (recorded in the `errors` attribute of the result table): '10:02:35.496 +2:16:05.16': No astronomical object found :\n",
      "  (error.line, error.msg))\n",
      " 57% (13834 of 15118) |################  | Elapsed Time: 0:52:17 ETA:   0:45:12/Users/rcarvajal/.miniconda3/lib/python3.7/site-packages/astroquery/simbad/core.py:138: UserWarning: Warning: The script line number 3 raised an error (recorded in the `errors` attribute of the result table): '10:03:13.944 +2:16:17.76': No astronomical object found :\n",
      "  (error.line, error.msg))\n",
      " 58% (13844 of 15118) |################  | Elapsed Time: 0:52:35 ETA:   0:26:21/Users/rcarvajal/.miniconda3/lib/python3.7/site-packages/astroquery/simbad/core.py:138: UserWarning: Warning: The script line number 3 raised an error (recorded in the `errors` attribute of the result table): '10:01:48.072 +2:16:23.16': No astronomical object found :\n",
      "  (error.line, error.msg))\n",
      " 61% (13940 of 15118) |################  | Elapsed Time: 0:55:29 ETA:   0:32:35/Users/rcarvajal/.miniconda3/lib/python3.7/site-packages/astroquery/simbad/core.py:138: UserWarning: Warning: The script line number 3 raised an error (recorded in the `errors` attribute of the result table): '9:59:51.048 +2:17:15': No astronomical object found :\n",
      "  (error.line, error.msg))\n",
      " 63% (14004 of 15118) |################  | Elapsed Time: 0:57:23 ETA:   0:29:15/Users/rcarvajal/.miniconda3/lib/python3.7/site-packages/astroquery/simbad/core.py:138: UserWarning: Warning: The script line number 3 raised an error (recorded in the `errors` attribute of the result table): '10:03:03.96 +2:17:36.6': No astronomical object found :\n",
      "  (error.line, error.msg))\n",
      " 63% (14021 of 15118) |################  | Elapsed Time: 0:57:53 ETA:   0:37:13/Users/rcarvajal/.miniconda3/lib/python3.7/site-packages/astroquery/simbad/core.py:138: UserWarning: Warning: The script line number 3 raised an error (recorded in the `errors` attribute of the result table): '10:03:24.408 +2:17:45.96': No astronomical object found :\n",
      "  (error.line, error.msg))\n",
      " 66% (14098 of 15118) |################  | Elapsed Time: 1:00:14 ETA:   0:28:29/Users/rcarvajal/.miniconda3/lib/python3.7/site-packages/astroquery/simbad/core.py:138: UserWarning: Warning: The script line number 3 raised an error (recorded in the `errors` attribute of the result table): '10:02:16.176 +2:18:23.76': No astronomical object found :\n",
      "  (error.line, error.msg))\n",
      " 69% (14174 of 15118) |################  | Elapsed Time: 1:02:31 ETA:   0:26:08/Users/rcarvajal/.miniconda3/lib/python3.7/site-packages/astroquery/simbad/core.py:138: UserWarning: Warning: The script line number 3 raised an error (recorded in the `errors` attribute of the result table): '9:57:56.064 +2:19:07.68': No astronomical object found :\n",
      "  (error.line, error.msg))\n",
      " 70% (14208 of 15118) |################  | Elapsed Time: 1:03:33 ETA:   0:30:23/Users/rcarvajal/.miniconda3/lib/python3.7/site-packages/astroquery/simbad/core.py:138: UserWarning: Warning: The script line number 3 raised an error (recorded in the `errors` attribute of the result table): '9:58:37.824 +2:19:21': No astronomical object found :\n",
      "  (error.line, error.msg))\n",
      " 70% (14234 of 15118) |################  | Elapsed Time: 1:04:18 ETA:   0:22:00/Users/rcarvajal/.miniconda3/lib/python3.7/site-packages/astroquery/simbad/core.py:138: UserWarning: Warning: The script line number 3 raised an error (recorded in the `errors` attribute of the result table): '9:58:52.848 +2:19:33.6': No astronomical object found :\n",
      "  (error.line, error.msg))\n",
      " 71% (14248 of 15118) |################  | Elapsed Time: 1:04:43 ETA:   0:28:16/Users/rcarvajal/.miniconda3/lib/python3.7/site-packages/astroquery/simbad/core.py:138: UserWarning: Warning: The script line number 3 raised an error (recorded in the `errors` attribute of the result table): '10:03:18.768 +2:19:38.64': No astronomical object found :\n",
      "  (error.line, error.msg))\n",
      " 71% (14260 of 15118) |################  | Elapsed Time: 1:05:04 ETA:   0:23:30/Users/rcarvajal/.miniconda3/lib/python3.7/site-packages/astroquery/simbad/core.py:138: UserWarning: Warning: The script line number 3 raised an error (recorded in the `errors` attribute of the result table): '10:03:23.328 +2:19:47.28': No astronomical object found :\n",
      "  (error.line, error.msg))\n",
      " 73% (14299 of 15118) |################# | Elapsed Time: 1:06:20 ETA:   0:28:46/Users/rcarvajal/.miniconda3/lib/python3.7/site-packages/astroquery/simbad/core.py:138: UserWarning: Warning: The script line number 3 raised an error (recorded in the `errors` attribute of the result table): '10:02:06.528 +2:20:03.84': No astronomical object found :\n",
      "  (error.line, error.msg))\n",
      " 74% (14333 of 15118) |################# | Elapsed Time: 1:07:23 ETA:   0:21:31/Users/rcarvajal/.miniconda3/lib/python3.7/site-packages/astroquery/simbad/core.py:138: UserWarning: Warning: The script line number 3 raised an error (recorded in the `errors` attribute of the result table): '10:03:28.512 +2:20:18.6': No astronomical object found :\n",
      "  (error.line, error.msg))\n",
      " 74% (14335 of 15118) |################# | Elapsed Time: 1:07:26 ETA:   0:19:17/Users/rcarvajal/.miniconda3/lib/python3.7/site-packages/astroquery/simbad/core.py:138: UserWarning: Warning: The script line number 3 raised an error (recorded in the `errors` attribute of the result table): '10:03:18.648 +2:20:19.68': No astronomical object found :\n",
      "  (error.line, error.msg))\n",
      " 76% (14388 of 15118) |################# | Elapsed Time: 1:09:03 ETA:   0:24:52/Users/rcarvajal/.miniconda3/lib/python3.7/site-packages/astroquery/simbad/core.py:138: UserWarning: Warning: The script line number 3 raised an error (recorded in the `errors` attribute of the result table): '10:03:19.248 +2:20:52.8': No astronomical object found :\n",
      "  (error.line, error.msg))\n",
      " 76% (14394 of 15118) |################# | Elapsed Time: 1:09:13 ETA:   0:19:14/Users/rcarvajal/.miniconda3/lib/python3.7/site-packages/astroquery/simbad/core.py:138: UserWarning: Warning: The script line number 3 raised an error (recorded in the `errors` attribute of the result table): '9:58:59.088 +2:20:56.04': No astronomical object found :\n",
      "  (error.line, error.msg))\n",
      " 76% (14405 of 15118) |################# | Elapsed Time: 1:09:36 ETA:   0:25:18/Users/rcarvajal/.miniconda3/lib/python3.7/site-packages/astroquery/simbad/core.py:138: UserWarning: Warning: The script line number 3 raised an error (recorded in the `errors` attribute of the result table): '10:03:25.872 +2:21:00.36': No astronomical object found :\n",
      "  (error.line, error.msg))\n",
      " 77% (14440 of 15118) |################# | Elapsed Time: 1:10:39 ETA:   0:14:26/Users/rcarvajal/.miniconda3/lib/python3.7/site-packages/astroquery/simbad/core.py:138: UserWarning: Warning: The script line number 3 raised an error (recorded in the `errors` attribute of the result table): '10:01:46.416 +2:21:19.8': No astronomical object found :\n",
      "  (error.line, error.msg))\n",
      " 77% (14446 of 15118) |################# | Elapsed Time: 1:10:50 ETA:   0:22:47/Users/rcarvajal/.miniconda3/lib/python3.7/site-packages/astroquery/simbad/core.py:138: UserWarning: Warning: The script line number 3 raised an error (recorded in the `errors` attribute of the result table): '10:02:20.712 +2:21:24.12': No astronomical object found :\n",
      "  (error.line, error.msg))\n",
      " 78% (14457 of 15118) |################# | Elapsed Time: 1:11:08 ETA:   0:19:16/Users/rcarvajal/.miniconda3/lib/python3.7/site-packages/astroquery/simbad/core.py:138: UserWarning: Warning: The script line number 3 raised an error (recorded in the `errors` attribute of the result table): '10:03:22.224 +2:21:28.08': No astronomical object found :\n",
      "  (error.line, error.msg))\n",
      " 78% (14474 of 15118) |################# | Elapsed Time: 1:11:37 ETA:   0:13:57/Users/rcarvajal/.miniconda3/lib/python3.7/site-packages/astroquery/simbad/core.py:138: UserWarning: Warning: The script line number 3 raised an error (recorded in the `errors` attribute of the result table): '10:03:20.928 +2:21:33.48': No astronomical object found :\n",
      "  (error.line, error.msg))\n",
      " 79% (14479 of 15118) |################# | Elapsed Time: 1:11:46 ETA:   0:23:23/Users/rcarvajal/.miniconda3/lib/python3.7/site-packages/astroquery/simbad/core.py:138: UserWarning: Warning: The script line number 3 raised an error (recorded in the `errors` attribute of the result table): '9:58:03.504 +2:21:35.64': No astronomical object found :\n",
      "  (error.line, error.msg))\n",
      " 79% (14483 of 15118) |################# | Elapsed Time: 1:11:54 ETA:   0:22:18/Users/rcarvajal/.miniconda3/lib/python3.7/site-packages/astroquery/simbad/core.py:138: UserWarning: Warning: The script line number 3 raised an error (recorded in the `errors` attribute of the result table): '10:03:21.12 +2:21:38.16': No astronomical object found :\n",
      "  (error.line, error.msg))\n",
      " 79% (14505 of 15118) |################# | Elapsed Time: 1:12:33 ETA:   0:20:51/Users/rcarvajal/.miniconda3/lib/python3.7/site-packages/astroquery/simbad/core.py:138: UserWarning: Warning: The script line number 3 raised an error (recorded in the `errors` attribute of the result table): '9:57:25.08 +2:21:47.52': No astronomical object found :\n",
      "  (error.line, error.msg))\n",
      " 80% (14517 of 15118) |################# | Elapsed Time: 1:12:53 ETA:   0:21:30/Users/rcarvajal/.miniconda3/lib/python3.7/site-packages/astroquery/simbad/core.py:138: UserWarning: Warning: The script line number 3 raised an error (recorded in the `errors` attribute of the result table): '9:59:43.008 +2:21:54.36': No astronomical object found :\n",
      "  (error.line, error.msg))\n",
      " 82% (14582 of 15118) |################# | Elapsed Time: 1:14:49 ETA:   0:18:22/Users/rcarvajal/.miniconda3/lib/python3.7/site-packages/astroquery/simbad/core.py:138: UserWarning: Warning: The script line number 3 raised an error (recorded in the `errors` attribute of the result table): '10:02:20.328 +2:22:33.24': No astronomical object found :\n",
      "  (error.line, error.msg))\n",
      " 82% (14597 of 15118) |################# | Elapsed Time: 1:15:13 ETA:   0:11:09/Users/rcarvajal/.miniconda3/lib/python3.7/site-packages/astroquery/simbad/core.py:138: UserWarning: Warning: The script line number 3 raised an error (recorded in the `errors` attribute of the result table): '9:59:29.544 +2:22:40.8': No astronomical object found :\n",
      "  (error.line, error.msg))\n",
      " 84% (14631 of 15118) |################# | Elapsed Time: 1:16:15 ETA:   0:17:24/Users/rcarvajal/.miniconda3/lib/python3.7/site-packages/astroquery/simbad/core.py:138: UserWarning: Warning: The script line number 3 raised an error (recorded in the `errors` attribute of the result table): '10:03:15.432 +2:22:57': No astronomical object found :\n",
      "  (error.line, error.msg))\n",
      " 84% (14638 of 15118) |################# | Elapsed Time: 1:16:26 ETA:   0:09:45/Users/rcarvajal/.miniconda3/lib/python3.7/site-packages/astroquery/simbad/core.py:138: UserWarning: Warning: The script line number 3 raised an error (recorded in the `errors` attribute of the result table): '10:03:20.208 +2:22:59.16': No astronomical object found :\n",
      "  (error.line, error.msg))\n",
      " 85% (14676 of 15118) |################# | Elapsed Time: 1:17:39 ETA:   0:14:07/Users/rcarvajal/.miniconda3/lib/python3.7/site-packages/astroquery/simbad/core.py:138: UserWarning: Warning: The script line number 3 raised an error (recorded in the `errors` attribute of the result table): '9:59:47.208 +2:23:15.72': No astronomical object found :\n",
      "  (error.line, error.msg))\n",
      " 86% (14693 of 15118) |################# | Elapsed Time: 1:18:09 ETA:   0:09:27/Users/rcarvajal/.miniconda3/lib/python3.7/site-packages/astroquery/simbad/core.py:138: UserWarning: Warning: The script line number 3 raised an error (recorded in the `errors` attribute of the result table): '10:03:18.408 +2:23:26.52': No astronomical object found :\n",
      "  (error.line, error.msg))\n",
      " 86% (14708 of 15118) |################# | Elapsed Time: 1:18:35 ETA:   0:14:43/Users/rcarvajal/.miniconda3/lib/python3.7/site-packages/astroquery/simbad/core.py:138: UserWarning: Warning: The script line number 3 raised an error (recorded in the `errors` attribute of the result table): '9:59:08.856 +2:23:36.6': No astronomical object found :\n",
      "  (error.line, error.msg))\n",
      " 87% (14725 of 15118) |################# | Elapsed Time: 1:19:03 ETA:   0:12:25/Users/rcarvajal/.miniconda3/lib/python3.7/site-packages/astroquery/simbad/core.py:138: UserWarning: Warning: The script line number 3 raised an error (recorded in the `errors` attribute of the result table): '10:01:56.76 +2:23:44.52': No astronomical object found :\n",
      "  (error.line, error.msg))\n",
      " 87% (14733 of 15118) |################# | Elapsed Time: 1:19:17 ETA:   0:10:53/Users/rcarvajal/.miniconda3/lib/python3.7/site-packages/astroquery/simbad/core.py:138: UserWarning: Warning: The script line number 3 raised an error (recorded in the `errors` attribute of the result table): '9:59:56.472 +2:23:46.32': No astronomical object found :\n",
      "  (error.line, error.msg))\n",
      " 88% (14754 of 15118) |################# | Elapsed Time: 1:19:58 ETA:   0:12:09/Users/rcarvajal/.miniconda3/lib/python3.7/site-packages/astroquery/simbad/core.py:138: UserWarning: Warning: The script line number 3 raised an error (recorded in the `errors` attribute of the result table): '10:00:06.36 +2:23:54.96': No astronomical object found :\n",
      "  (error.line, error.msg))\n",
      " 88% (14770 of 15118) |################# | Elapsed Time: 1:20:29 ETA:   0:12:24/Users/rcarvajal/.miniconda3/lib/python3.7/site-packages/astroquery/simbad/core.py:138: UserWarning: Warning: The script line number 3 raised an error (recorded in the `errors` attribute of the result table): '9:57:48.96 +2:24:02.52': No astronomical object found :\n",
      "  (error.line, error.msg))\n",
      " 89% (14811 of 15118) |################# | Elapsed Time: 1:21:45 ETA:   0:10:25/Users/rcarvajal/.miniconda3/lib/python3.7/site-packages/astroquery/simbad/core.py:138: UserWarning: Warning: The script line number 3 raised an error (recorded in the `errors` attribute of the result table): '10:02:10.344 +2:24:27': No astronomical object found :\n",
      "  (error.line, error.msg))\n",
      " 90% (14837 of 15118) |################# | Elapsed Time: 1:22:29 ETA:   0:08:47/Users/rcarvajal/.miniconda3/lib/python3.7/site-packages/astroquery/simbad/core.py:138: UserWarning: Warning: The script line number 3 raised an error (recorded in the `errors` attribute of the result table): '9:59:06.48 +2:24:36': No astronomical object found :\n",
      "  (error.line, error.msg))\n",
      " 92% (14885 of 15118) |################# | Elapsed Time: 1:23:57 ETA:   0:08:09/Users/rcarvajal/.miniconda3/lib/python3.7/site-packages/astroquery/simbad/core.py:138: UserWarning: Warning: The script line number 3 raised an error (recorded in the `errors` attribute of the result table): '9:59:36 +2:24:56.52': No astronomical object found :\n",
      "  (error.line, error.msg))\n",
      " 93% (14905 of 15118) |################# | Elapsed Time: 1:24:33 ETA:   0:04:45/Users/rcarvajal/.miniconda3/lib/python3.7/site-packages/astroquery/simbad/core.py:138: UserWarning: Warning: The script line number 3 raised an error (recorded in the `errors` attribute of the result table): '10:03:17.808 +2:25:03.72': No astronomical object found :\n",
      "  (error.line, error.msg))\n",
      " 93% (14914 of 15118) |################# | Elapsed Time: 1:24:49 ETA:   0:07:06/Users/rcarvajal/.miniconda3/lib/python3.7/site-packages/astroquery/simbad/core.py:138: UserWarning: Warning: The script line number 3 raised an error (recorded in the `errors` attribute of the result table): '10:01:07.728 +2:25:08.76': No astronomical object found :\n",
      "  (error.line, error.msg))\n",
      " 94% (14943 of 15118) |################# | Elapsed Time: 1:25:44 ETA:   0:06:14/Users/rcarvajal/.miniconda3/lib/python3.7/site-packages/astroquery/simbad/core.py:138: UserWarning: Warning: The script line number 3 raised an error (recorded in the `errors` attribute of the result table): '10:01:41.544 +2:25:23.88': No astronomical object found :\n",
      "  (error.line, error.msg))\n",
      " 94% (14965 of 15118) |################# | Elapsed Time: 1:26:22 ETA:   0:04:11/Users/rcarvajal/.miniconda3/lib/python3.7/site-packages/astroquery/simbad/core.py:138: UserWarning: Warning: The script line number 3 raised an error (recorded in the `errors` attribute of the result table): '10:01:54.96 +2:25:33.6': No astronomical object found :\n",
      "  (error.line, error.msg))\n",
      " 95% (14975 of 15118) |################# | Elapsed Time: 1:26:38 ETA:   0:05:06/Users/rcarvajal/.miniconda3/lib/python3.7/site-packages/astroquery/simbad/core.py:138: UserWarning: Warning: The script line number 3 raised an error (recorded in the `errors` attribute of the result table): '10:01:39.768 +2:25:38.64': No astronomical object found :\n",
      "  (error.line, error.msg))\n",
      " 96% (15017 of 15118) |################# | Elapsed Time: 1:27:48 ETA:   0:02:19/Users/rcarvajal/.miniconda3/lib/python3.7/site-packages/astroquery/simbad/core.py:138: UserWarning: Warning: The script line number 3 raised an error (recorded in the `errors` attribute of the result table): '9:57:29.328 +2:26:05.64': No astronomical object found :\n",
      "  (error.line, error.msg))\n",
      "100% (15118 of 15118) |##################| Elapsed Time: 1:30:36 Time:  1:30:36\n"
     ]
    }
   ],
   "source": [
    "if query_simbad_flag:\n",
    "    with progressbar.ProgressBar(min_value=(limit_set*3 + 1 + limit_set_cosmos), max_value=(limit_set*3 + limit_set_cosmos*2)) as bar:\n",
    "        for index, coord in enumerate(large_sample_coords[(limit_set*3 + 1 + limit_set_cosmos):(limit_set*3 + 1 + limit_set_cosmos*2)]):\n",
    "            temp_table      = Table()\n",
    "            try:\n",
    "                temp_table      = customSimbad.query_region(coord, radius=2.5*u.arcsec)\n",
    "                if len(temp_table) == 0:\n",
    "                    temp_table      = Table(names=('RA_d', 'DEC_d'), dtype=(result_table_simbad['RA_d'].info.dtype, result_table_simbad['DEC_d'].info.dtype))\n",
    "                    temp_table.add_row((coord.ra.deg, coord.dec.deg))\n",
    "                temp_table.meta['description'] = 'Simbad_q'\n",
    "            except:\n",
    "                temp_table      = Table(names=('RA_d', 'DEC_d'), dtype=(result_table_simbad['RA_d'].info.dtype, result_table_simbad['DEC_d'].info.dtype))\n",
    "                temp_table.add_row((coord.ra.deg, coord.dec.deg))\n",
    "                temp_table.meta['description'] = 'Simbad_q'\n",
    "                # print(f'Error with element {(index + limit_set*3 + 1 + limit_set_cosmos)} of the sample')\n",
    "                query_error += 1\n",
    "            try:\n",
    "                if temp_table['RA_d'].unit != 'deg':\n",
    "                    replacement_col     = MaskedColumn(temp_table['RA_d'].data, dtype=result_table_simbad['RA_d'].dtype, unit=result_table_simbad['RA_d'].unit, format=result_table_simbad['RA_d'].format, description=result_table_simbad['RA_d'].description)\n",
    "                    temp_table['RA_d']  = replacement_col\n",
    "                if temp_table['DEC_d'].unit != 'deg':\n",
    "                    replacement_col     = MaskedColumn(temp_table['DEC_d'].data, dtype=result_table_simbad['DEC_d'].dtype, unit=result_table_simbad['DEC_d'].unit, format=result_table_simbad['DEC_d'].format, description=result_table_simbad['DEC_d'].description)\n",
    "                    temp_table['DEC_d']  = replacement_col\n",
    "                result_table_simbad = vstack([result_table_simbad, temp_table[0]])\n",
    "            except:\n",
    "                print(f'Error with element {(index + limit_set*3 + 1 + limit_set_cosmos)} of the sample')\n",
    "                temp_table      = Table(names=('RA_d', 'DEC_d'), dtype=(result_table_simbad['RA_d'].info.dtype, result_table_simbad['DEC_d'].info.dtype))\n",
    "                temp_table.add_row((coord.ra.deg, coord.dec.deg))\n",
    "                temp_table.meta['description'] = 'Simbad_q'\n",
    "                result_table_simbad = vstack([result_table_simbad, temp_table[0]])\n",
    "                final_error += 1\n",
    "            bar.update(index + limit_set*3 + 1 + limit_set_cosmos)"
   ]
  },
  {
   "cell_type": "code",
   "execution_count": 51,
   "metadata": {},
   "outputs": [
    {
     "name": "stderr",
     "output_type": "stream",
     "text": [
      "  0% (15126 of 18168) |##############    | Elapsed Time: 0:00:10 ETA:   1:24:50/Users/rcarvajal/.miniconda3/lib/python3.7/site-packages/astroquery/simbad/core.py:138: UserWarning: Warning: The script line number 3 raised an error (recorded in the `errors` attribute of the result table): '10:01:31.992 +2:26:58.56': No astronomical object found :\n",
      "  (error.line, error.msg))\n",
      "  0% (15135 of 18168) |##############    | Elapsed Time: 0:00:24 ETA:   1:20:05/Users/rcarvajal/.miniconda3/lib/python3.7/site-packages/astroquery/simbad/core.py:138: UserWarning: Warning: The script line number 3 raised an error (recorded in the `errors` attribute of the result table): '10:01:14.808 +2:27:03.6': No astronomical object found :\n",
      "  (error.line, error.msg))\n",
      "  0% (15147 of 18168) |###############   | Elapsed Time: 0:00:41 ETA:   1:14:09/Users/rcarvajal/.miniconda3/lib/python3.7/site-packages/astroquery/simbad/core.py:138: UserWarning: Warning: The script line number 3 raised an error (recorded in the `errors` attribute of the result table): '10:02:48.864 +2:27:08.28': No astronomical object found :\n",
      "  (error.line, error.msg))\n",
      "  3% (15216 of 18168) |###############   | Elapsed Time: 0:02:17 ETA:   1:08:33/Users/rcarvajal/.miniconda3/lib/python3.7/site-packages/astroquery/simbad/core.py:138: UserWarning: Warning: The script line number 3 raised an error (recorded in the `errors` attribute of the result table): '9:58:24.336 +2:27:50.4': No astronomical object found :\n",
      "  (error.line, error.msg))\n",
      "  3% (15232 of 18168) |###############   | Elapsed Time: 0:02:41 ETA:   1:23:12/Users/rcarvajal/.miniconda3/lib/python3.7/site-packages/astroquery/simbad/core.py:138: UserWarning: Warning: The script line number 3 raised an error (recorded in the `errors` attribute of the result table): '10:00:02.592 +2:27:56.16': No astronomical object found :\n",
      "  (error.line, error.msg))\n",
      "  4% (15264 of 18168) |###############   | Elapsed Time: 0:03:24 ETA:   0:59:24/Users/rcarvajal/.miniconda3/lib/python3.7/site-packages/astroquery/simbad/core.py:138: UserWarning: Warning: The script line number 3 raised an error (recorded in the `errors` attribute of the result table): '10:03:19.032 +2:28:11.28': No astronomical object found :\n",
      "  (error.line, error.msg))\n",
      "  6% (15309 of 18168) |###############   | Elapsed Time: 0:04:24 ETA:   1:10:43/Users/rcarvajal/.miniconda3/lib/python3.7/site-packages/astroquery/simbad/core.py:138: UserWarning: Warning: The script line number 3 raised an error (recorded in the `errors` attribute of the result table): '10:03:20.688 +2:28:32.88': No astronomical object found :\n",
      "  (error.line, error.msg))\n",
      "  6% (15314 of 18168) |###############   | Elapsed Time: 0:04:29 ETA:   0:49:31/Users/rcarvajal/.miniconda3/lib/python3.7/site-packages/astroquery/simbad/core.py:138: UserWarning: Warning: The script line number 3 raised an error (recorded in the `errors` attribute of the result table): '10:00:24.408 +2:28:33.96': No astronomical object found :\n",
      "  (error.line, error.msg))\n",
      "  7% (15337 of 18168) |###############   | Elapsed Time: 0:05:00 ETA:   1:12:12/Users/rcarvajal/.miniconda3/lib/python3.7/site-packages/astroquery/simbad/core.py:138: UserWarning: Warning: The script line number 3 raised an error (recorded in the `errors` attribute of the result table): '10:02:13.8 +2:28:45.84': No astronomical object found :\n",
      "  (error.line, error.msg))\n",
      "  7% (15360 of 18168) |###############   | Elapsed Time: 0:05:32 ETA:   1:04:47/Users/rcarvajal/.miniconda3/lib/python3.7/site-packages/astroquery/simbad/core.py:138: UserWarning: Warning: The script line number 3 raised an error (recorded in the `errors` attribute of the result table): '9:58:54.312 +2:28:57.36': No astronomical object found :\n",
      "  (error.line, error.msg))\n",
      "  9% (15396 of 18168) |###############   | Elapsed Time: 0:06:25 ETA:   1:03:36/Users/rcarvajal/.miniconda3/lib/python3.7/site-packages/astroquery/simbad/core.py:138: UserWarning: Warning: The script line number 3 raised an error (recorded in the `errors` attribute of the result table): '10:03:10.8 +2:29:18.24': No astronomical object found :\n",
      "  (error.line, error.msg))\n",
      "  9% (15416 of 18168) |###############   | Elapsed Time: 0:06:53 ETA:   0:55:49/Users/rcarvajal/.miniconda3/lib/python3.7/site-packages/astroquery/simbad/core.py:138: UserWarning: Warning: The script line number 3 raised an error (recorded in the `errors` attribute of the result table): '10:03:22.152 +2:29:32.64': No astronomical object found :\n",
      "  (error.line, error.msg))\n",
      " 10% (15424 of 18168) |###############   | Elapsed Time: 0:07:04 ETA:   0:55:29/Users/rcarvajal/.miniconda3/lib/python3.7/site-packages/astroquery/simbad/core.py:138: UserWarning: Warning: The script line number 3 raised an error (recorded in the `errors` attribute of the result table): '9:59:24.648 +2:29:38.04': No astronomical object found :\n",
      "  (error.line, error.msg))\n",
      " 10% (15436 of 18168) |###############   | Elapsed Time: 0:07:20 ETA:   0:56:27/Users/rcarvajal/.miniconda3/lib/python3.7/site-packages/astroquery/simbad/core.py:138: UserWarning: Warning: The script line number 3 raised an error (recorded in the `errors` attribute of the result table): '9:57:29.544 +2:29:43.08': No astronomical object found :\n",
      "  (error.line, error.msg))\n",
      " 10% (15446 of 18168) |###############   | Elapsed Time: 0:07:33 ETA:   1:09:15/Users/rcarvajal/.miniconda3/lib/python3.7/site-packages/astroquery/simbad/core.py:138: UserWarning: Warning: The script line number 3 raised an error (recorded in the `errors` attribute of the result table): '10:01:43.728 +2:29:49.92': No astronomical object found :\n",
      "  (error.line, error.msg))\n",
      " 10% (15450 of 18168) |###############   | Elapsed Time: 0:07:39 ETA:   1:12:10/Users/rcarvajal/.miniconda3/lib/python3.7/site-packages/astroquery/simbad/core.py:138: UserWarning: Warning: The script line number 3 raised an error (recorded in the `errors` attribute of the result table): '9:57:59.352 +2:29:54.96': No astronomical object found :\n",
      "  (error.line, error.msg))\n",
      " 11% (15477 of 18168) |###############   | Elapsed Time: 0:08:13 ETA:   0:47:38/Users/rcarvajal/.miniconda3/lib/python3.7/site-packages/astroquery/simbad/core.py:138: UserWarning: Warning: The script line number 3 raised an error (recorded in the `errors` attribute of the result table): '9:57:28.032 +2:30:09.36': No astronomical object found :\n",
      "  (error.line, error.msg))\n",
      " 12% (15489 of 18168) |###############   | Elapsed Time: 0:08:30 ETA:   0:55:59/Users/rcarvajal/.miniconda3/lib/python3.7/site-packages/astroquery/simbad/core.py:138: UserWarning: Warning: The script line number 3 raised an error (recorded in the `errors` attribute of the result table): '9:59:45.336 +2:30:16.92': No astronomical object found :\n",
      "  (error.line, error.msg))\n",
      " 12% (15496 of 18168) |###############   | Elapsed Time: 0:08:40 ETA:   1:10:06/Users/rcarvajal/.miniconda3/lib/python3.7/site-packages/astroquery/simbad/core.py:138: UserWarning: Warning: The script line number 3 raised an error (recorded in the `errors` attribute of the result table): '10:01:39.168 +2:30:19.08': No astronomical object found :\n",
      "  (error.line, error.msg))\n",
      " 12% (15498 of 18168) |###############   | Elapsed Time: 0:08:42 ETA:   0:59:31/Users/rcarvajal/.miniconda3/lib/python3.7/site-packages/astroquery/simbad/core.py:138: UserWarning: Warning: The script line number 3 raised an error (recorded in the `errors` attribute of the result table): '10:02:07.608 +2:30:20.88': No astronomical object found :\n",
      "  (error.line, error.msg))\n",
      " 12% (15513 of 18168) |###############   | Elapsed Time: 0:09:04 ETA:   1:08:13/Users/rcarvajal/.miniconda3/lib/python3.7/site-packages/astroquery/simbad/core.py:138: UserWarning: Warning: The script line number 3 raised an error (recorded in the `errors` attribute of the result table): '10:00:49.656 +2:30:28.44': No astronomical object found :\n",
      "  (error.line, error.msg))\n",
      " 14% (15560 of 18168) |###############   | Elapsed Time: 0:10:10 ETA:   1:07:01/Users/rcarvajal/.miniconda3/lib/python3.7/site-packages/astroquery/simbad/core.py:138: UserWarning: Warning: The script line number 3 raised an error (recorded in the `errors` attribute of the result table): '10:01:42.552 +2:30:57.96': No astronomical object found :\n",
      "  (error.line, error.msg))\n",
      " 14% (15572 of 18168) |###############   | Elapsed Time: 0:10:26 ETA:   1:00:13/Users/rcarvajal/.miniconda3/lib/python3.7/site-packages/astroquery/simbad/core.py:138: UserWarning: Warning: The script line number 3 raised an error (recorded in the `errors` attribute of the result table): '10:03:23.016 +2:31:09.84': No astronomical object found :\n",
      "  (error.line, error.msg))\n",
      " 16% (15618 of 18168) |###############   | Elapsed Time: 0:11:31 ETA:   0:53:09/Users/rcarvajal/.miniconda3/lib/python3.7/site-packages/astroquery/simbad/core.py:138: UserWarning: Warning: The script line number 3 raised an error (recorded in the `errors` attribute of the result table): '9:58:53.256 +2:31:32.16': No astronomical object found :\n",
      "  (error.line, error.msg))\n",
      " 17% (15657 of 18168) |###############   | Elapsed Time: 0:12:26 ETA:   0:57:47/Users/rcarvajal/.miniconda3/lib/python3.7/site-packages/astroquery/simbad/core.py:138: UserWarning: Warning: The script line number 3 raised an error (recorded in the `errors` attribute of the result table): '9:58:07.032 +2:31:50.52': No astronomical object found :\n",
      "  (error.line, error.msg))\n",
      " 19% (15704 of 18168) |###############   | Elapsed Time: 0:13:27 ETA:   0:50:00/Users/rcarvajal/.miniconda3/lib/python3.7/site-packages/astroquery/simbad/core.py:138: UserWarning: Warning: The script line number 3 raised an error (recorded in the `errors` attribute of the result table): '10:01:56.4 +2:32:21.48': No astronomical object found :\n",
      "  (error.line, error.msg))\n",
      " 19% (15706 of 18168) |###############   | Elapsed Time: 0:13:30 ETA:   0:52:32/Users/rcarvajal/.miniconda3/lib/python3.7/site-packages/astroquery/simbad/core.py:138: UserWarning: Warning: The script line number 3 raised an error (recorded in the `errors` attribute of the result table): '10:03:07.704 +2:32:21.48': No astronomical object found :\n",
      "  (error.line, error.msg))\n",
      " 19% (15724 of 18168) |###############   | Elapsed Time: 0:13:56 ETA:   1:01:08/Users/rcarvajal/.miniconda3/lib/python3.7/site-packages/astroquery/simbad/core.py:138: UserWarning: Warning: The script line number 3 raised an error (recorded in the `errors` attribute of the result table): '9:58:50.256 +2:32:28.68': No astronomical object found :\n",
      "  (error.line, error.msg))\n",
      " 20% (15747 of 18168) |###############   | Elapsed Time: 0:14:28 ETA:   0:44:18/Users/rcarvajal/.miniconda3/lib/python3.7/site-packages/astroquery/simbad/core.py:138: UserWarning: Warning: The script line number 3 raised an error (recorded in the `errors` attribute of the result table): '10:00:06.552 +2:32:39.84': No astronomical object found :\n",
      "  (error.line, error.msg))\n",
      " 20% (15756 of 18168) |###############   | Elapsed Time: 0:14:39 ETA:   0:50:29/Users/rcarvajal/.miniconda3/lib/python3.7/site-packages/astroquery/simbad/core.py:138: UserWarning: Warning: The script line number 3 raised an error (recorded in the `errors` attribute of the result table): '9:58:17.52 +2:32:43.8': No astronomical object found :\n",
      "  (error.line, error.msg))\n",
      " 21% (15768 of 18168) |###############   | Elapsed Time: 0:14:55 ETA:   0:59:11/Users/rcarvajal/.miniconda3/lib/python3.7/site-packages/astroquery/simbad/core.py:138: UserWarning: Warning: The script line number 3 raised an error (recorded in the `errors` attribute of the result table): '10:02:36.48 +2:32:50.28': No astronomical object found :\n",
      "  (error.line, error.msg))\n",
      " 21% (15786 of 18168) |###############   | Elapsed Time: 0:15:19 ETA:   0:57:35/Users/rcarvajal/.miniconda3/lib/python3.7/site-packages/astroquery/simbad/core.py:138: UserWarning: Warning: The script line number 3 raised an error (recorded in the `errors` attribute of the result table): '10:03:08.544 +2:32:57.84': No astronomical object found :\n",
      "  (error.line, error.msg))\n",
      " 22% (15810 of 18168) |###############   | Elapsed Time: 0:15:50 ETA:   0:41:06/Users/rcarvajal/.miniconda3/lib/python3.7/site-packages/astroquery/simbad/core.py:138: UserWarning: Warning: The script line number 3 raised an error (recorded in the `errors` attribute of the result table): '9:59:21.672 +2:33:08.28': No astronomical object found :\n",
      "  (error.line, error.msg))\n",
      " 22% (15820 of 18168) |###############   | Elapsed Time: 0:16:05 ETA:   0:59:39/Users/rcarvajal/.miniconda3/lib/python3.7/site-packages/astroquery/simbad/core.py:138: UserWarning: Warning: The script line number 3 raised an error (recorded in the `errors` attribute of the result table): '10:01:36.168 +2:33:11.88': No astronomical object found :\n",
      "  (error.line, error.msg))\n",
      " 23% (15841 of 18168) |###############   | Elapsed Time: 0:16:35 ETA:   1:01:56/Users/rcarvajal/.miniconda3/lib/python3.7/site-packages/astroquery/simbad/core.py:138: UserWarning: Warning: The script line number 3 raised an error (recorded in the `errors` attribute of the result table): '10:03:19.128 +2:33:24.12': No astronomical object found :\n",
      "  (error.line, error.msg))\n",
      " 25% (15891 of 18168) |###############   | Elapsed Time: 0:17:42 ETA:   0:46:28/Users/rcarvajal/.miniconda3/lib/python3.7/site-packages/astroquery/simbad/core.py:138: UserWarning: Warning: The script line number 3 raised an error (recorded in the `errors` attribute of the result table): '10:03:10.968 +2:33:49.32': No astronomical object found :\n",
      "  (error.line, error.msg))\n",
      " 25% (15893 of 18168) |###############   | Elapsed Time: 0:17:44 ETA:   0:37:56/Users/rcarvajal/.miniconda3/lib/python3.7/site-packages/astroquery/simbad/core.py:138: UserWarning: Warning: The script line number 3 raised an error (recorded in the `errors` attribute of the result table): '10:03:21.096 +2:33:50.4': No astronomical object found :\n",
      "  (error.line, error.msg))\n",
      " 26% (15940 of 18168) |###############   | Elapsed Time: 0:18:49 ETA:   0:59:23/Users/rcarvajal/.miniconda3/lib/python3.7/site-packages/astroquery/simbad/core.py:138: UserWarning: Warning: The script line number 3 raised an error (recorded in the `errors` attribute of the result table): '10:03:22.92 +2:34:15.6': No astronomical object found :\n",
      "  (error.line, error.msg))\n",
      " 27% (15958 of 18168) |###############   | Elapsed Time: 0:19:14 ETA:   0:50:15/Users/rcarvajal/.miniconda3/lib/python3.7/site-packages/astroquery/simbad/core.py:138: UserWarning: Warning: The script line number 3 raised an error (recorded in the `errors` attribute of the result table): '10:02:04.584 +2:34:28.92': No astronomical object found :\n",
      "  (error.line, error.msg))\n",
      " 28% (15982 of 18168) |###############   | Elapsed Time: 0:19:47 ETA:   1:18:12/Users/rcarvajal/.miniconda3/lib/python3.7/site-packages/astroquery/simbad/core.py:138: UserWarning: Warning: The script line number 3 raised an error (recorded in the `errors` attribute of the result table): '10:03:14.64 +2:34:37.56': No astronomical object found :\n",
      "  (error.line, error.msg))\n",
      " 28% (15983 of 18168) |###############   | Elapsed Time: 0:19:48 ETA:   0:55:10/Users/rcarvajal/.miniconda3/lib/python3.7/site-packages/astroquery/simbad/core.py:138: UserWarning: Warning: The script line number 3 raised an error (recorded in the `errors` attribute of the result table): '10:02:44.64 +2:34:37.92': No astronomical object found :\n",
      "  (error.line, error.msg))\n",
      " 28% (15996 of 18168) |###############   | Elapsed Time: 0:20:05 ETA:   0:51:01/Users/rcarvajal/.miniconda3/lib/python3.7/site-packages/astroquery/simbad/core.py:138: UserWarning: Warning: The script line number 3 raised an error (recorded in the `errors` attribute of the result table): '10:00:57.24 +2:34:42.24': No astronomical object found :\n",
      "  (error.line, error.msg))\n",
      " 28% (15998 of 18168) |###############   | Elapsed Time: 0:20:08 ETA:   0:50:10/Users/rcarvajal/.miniconda3/lib/python3.7/site-packages/astroquery/simbad/core.py:138: UserWarning: Warning: The script line number 3 raised an error (recorded in the `errors` attribute of the result table): '10:01:26.568 +2:34:42.96': No astronomical object found :\n",
      "  (error.line, error.msg))\n",
      " 29% (16004 of 18168) |###############   | Elapsed Time: 0:20:17 ETA:   0:51:36/Users/rcarvajal/.miniconda3/lib/python3.7/site-packages/astroquery/simbad/core.py:138: UserWarning: Warning: The script line number 3 raised an error (recorded in the `errors` attribute of the result table): '10:01:15.816 +2:34:46.56': No astronomical object found :\n",
      "  (error.line, error.msg))\n",
      " 29% (16005 of 18168) |###############   | Elapsed Time: 0:20:18 ETA:   0:48:10/Users/rcarvajal/.miniconda3/lib/python3.7/site-packages/astroquery/simbad/core.py:138: UserWarning: Warning: The script line number 3 raised an error (recorded in the `errors` attribute of the result table): '10:02:37.152 +2:34:46.56': No astronomical object found :\n",
      "  (error.line, error.msg))\n",
      " 30% (16062 of 18168) |###############   | Elapsed Time: 0:21:38 ETA:   0:50:51/Users/rcarvajal/.miniconda3/lib/python3.7/site-packages/astroquery/simbad/core.py:138: UserWarning: Warning: The script line number 3 raised an error (recorded in the `errors` attribute of the result table): '10:03:14.064 +2:35:23.28': No astronomical object found :\n",
      "  (error.line, error.msg))\n",
      " 31% (16077 of 18168) |###############   | Elapsed Time: 0:21:59 ETA:   0:53:40/Users/rcarvajal/.miniconda3/lib/python3.7/site-packages/astroquery/simbad/core.py:138: UserWarning: Warning: The script line number 3 raised an error (recorded in the `errors` attribute of the result table): '10:01:00.384 +2:35:28.68': No astronomical object found :\n",
      "  (error.line, error.msg))\n",
      " 31% (16085 of 18168) |###############   | Elapsed Time: 0:22:10 ETA:   0:53:32/Users/rcarvajal/.miniconda3/lib/python3.7/site-packages/astroquery/simbad/core.py:138: UserWarning: Warning: The script line number 3 raised an error (recorded in the `errors` attribute of the result table): '10:00:35.736 +2:35:35.16': No astronomical object found :\n",
      "  (error.line, error.msg))\n",
      " 32% (16111 of 18168) |###############   | Elapsed Time: 0:22:51 ETA:   0:55:22/Users/rcarvajal/.miniconda3/lib/python3.7/site-packages/astroquery/simbad/core.py:138: UserWarning: Warning: The script line number 3 raised an error (recorded in the `errors` attribute of the result table): '10:03:20.472 +2:35:50.28': No astronomical object found :\n",
      "  (error.line, error.msg))\n",
      " 33% (16149 of 18168) |###############   | Elapsed Time: 0:23:45 ETA:   0:43:53/Users/rcarvajal/.miniconda3/lib/python3.7/site-packages/astroquery/simbad/core.py:138: UserWarning: Warning: The script line number 3 raised an error (recorded in the `errors` attribute of the result table): '9:58:49.296 +2:36:09.72': No astronomical object found :\n",
      "  (error.line, error.msg))\n",
      " 34% (16170 of 18168) |################  | Elapsed Time: 0:24:14 ETA:   0:42:32/Users/rcarvajal/.miniconda3/lib/python3.7/site-packages/astroquery/simbad/core.py:138: UserWarning: Warning: The script line number 3 raised an error (recorded in the `errors` attribute of the result table): '10:03:18.96 +2:36:20.88': No astronomical object found :\n",
      "  (error.line, error.msg))\n",
      " 35% (16194 of 18168) |################  | Elapsed Time: 0:24:46 ETA:   0:43:40/Users/rcarvajal/.miniconda3/lib/python3.7/site-packages/astroquery/simbad/core.py:138: UserWarning: Warning: The script line number 3 raised an error (recorded in the `errors` attribute of the result table): '9:57:52.968 +2:36:34.2': No astronomical object found :\n",
      "  (error.line, error.msg))\n",
      " 36% (16229 of 18168) |################  | Elapsed Time: 0:25:34 ETA:   0:36:16/Users/rcarvajal/.miniconda3/lib/python3.7/site-packages/astroquery/simbad/core.py:138: UserWarning: Warning: The script line number 3 raised an error (recorded in the `errors` attribute of the result table): '9:59:21.648 +2:36:51.84': No astronomical object found :\n",
      "  (error.line, error.msg))\n",
      " 36% (16238 of 18168) |################  | Elapsed Time: 0:25:46 ETA:   0:41:24/Users/rcarvajal/.miniconda3/lib/python3.7/site-packages/astroquery/simbad/core.py:138: UserWarning: Warning: The script line number 3 raised an error (recorded in the `errors` attribute of the result table): '10:03:43.128 +2:37:00.12': No astronomical object found :\n",
      "  (error.line, error.msg))\n",
      " 39% (16330 of 18168) |################  | Elapsed Time: 0:27:53 ETA:   0:48:21/Users/rcarvajal/.miniconda3/lib/python3.7/site-packages/astroquery/simbad/core.py:138: UserWarning: Warning: The script line number 3 raised an error (recorded in the `errors` attribute of the result table): '9:58:47.16 +2:37:51.6': No astronomical object found :\n",
      "  (error.line, error.msg))\n",
      " 40% (16360 of 18168) |################  | Elapsed Time: 0:28:35 ETA:   0:51:25/Users/rcarvajal/.miniconda3/lib/python3.7/site-packages/astroquery/simbad/core.py:138: UserWarning: Warning: The script line number 3 raised an error (recorded in the `errors` attribute of the result table): '10:03:07.512 +2:38:09.24': No astronomical object found :\n",
      "  (error.line, error.msg))\n",
      " 41% (16371 of 18168) |################  | Elapsed Time: 0:28:51 ETA:   0:38:30/Users/rcarvajal/.miniconda3/lib/python3.7/site-packages/astroquery/simbad/core.py:138: UserWarning: Warning: The script line number 3 raised an error (recorded in the `errors` attribute of the result table): '10:01:48.384 +2:38:16.44': No astronomical object found :\n",
      "  (error.line, error.msg))\n",
      " 42% (16425 of 18168) |################  | Elapsed Time: 0:30:07 ETA:   0:37:13/Users/rcarvajal/.miniconda3/lib/python3.7/site-packages/astroquery/simbad/core.py:138: UserWarning: Warning: The script line number 3 raised an error (recorded in the `errors` attribute of the result table): '10:03:13.584 +2:38:46.68': No astronomical object found :\n",
      "  (error.line, error.msg))\n",
      " 44% (16468 of 18168) |################  | Elapsed Time: 0:31:10 ETA:   0:45:27/Users/rcarvajal/.miniconda3/lib/python3.7/site-packages/astroquery/simbad/core.py:138: UserWarning: Warning: The script line number 3 raised an error (recorded in the `errors` attribute of the result table): '10:00:18.936 +2:39:09.36': No astronomical object found :\n",
      "  (error.line, error.msg))\n",
      " 44% (16475 of 18168) |################  | Elapsed Time: 0:31:20 ETA:   0:38:12/Users/rcarvajal/.miniconda3/lib/python3.7/site-packages/astroquery/simbad/core.py:138: UserWarning: Warning: The script line number 3 raised an error (recorded in the `errors` attribute of the result table): '10:00:45.552 +2:39:15.12': No astronomical object found :\n",
      "  (error.line, error.msg))\n",
      " 45% (16499 of 18168) |################  | Elapsed Time: 0:31:54 ETA:   0:41:29/Users/rcarvajal/.miniconda3/lib/python3.7/site-packages/astroquery/simbad/core.py:138: UserWarning: Warning: The script line number 3 raised an error (recorded in the `errors` attribute of the result table): '10:03:18.576 +2:39:26.28': No astronomical object found :\n",
      "  (error.line, error.msg))\n",
      " 46% (16542 of 18168) |################  | Elapsed Time: 0:32:56 ETA:   0:41:30/Users/rcarvajal/.miniconda3/lib/python3.7/site-packages/astroquery/simbad/core.py:138: UserWarning: Warning: The script line number 3 raised an error (recorded in the `errors` attribute of the result table): '10:00:04.632 +2:39:48.96': No astronomical object found :\n",
      "  (error.line, error.msg))\n",
      " 50% (16648 of 18168) |################  | Elapsed Time: 0:35:23 ETA:   0:37:48/Users/rcarvajal/.miniconda3/lib/python3.7/site-packages/astroquery/simbad/core.py:138: UserWarning: Warning: The script line number 3 raised an error (recorded in the `errors` attribute of the result table): '10:01:09.624 +2:40:47.64': No astronomical object found :\n",
      "  (error.line, error.msg))\n",
      " 51% (16698 of 18168) |################  | Elapsed Time: 0:36:36 ETA:   0:32:39/Users/rcarvajal/.miniconda3/lib/python3.7/site-packages/astroquery/simbad/core.py:138: UserWarning: Warning: The script line number 3 raised an error (recorded in the `errors` attribute of the result table): '10:02:46.704 +2:41:14.28': No astronomical object found :\n",
      "  (error.line, error.msg))\n",
      " 52% (16713 of 18168) |################  | Elapsed Time: 0:36:57 ETA:   0:31:27/Users/rcarvajal/.miniconda3/lib/python3.7/site-packages/astroquery/simbad/core.py:138: UserWarning: Warning: The script line number 3 raised an error (recorded in the `errors` attribute of the result table): '10:01:44.688 +2:41:17.52': No astronomical object found :\n",
      "  (error.line, error.msg))\n",
      " 52% (16715 of 18168) |################  | Elapsed Time: 0:37:00 ETA:   0:35:34/Users/rcarvajal/.miniconda3/lib/python3.7/site-packages/astroquery/simbad/core.py:138: UserWarning: Warning: The script line number 3 raised an error (recorded in the `errors` attribute of the result table): '10:01:57.888 +2:41:18.24': No astronomical object found :\n",
      "  (error.line, error.msg))\n",
      " 52% (16722 of 18168) |################  | Elapsed Time: 0:37:09 ETA:   0:35:59/Users/rcarvajal/.miniconda3/lib/python3.7/site-packages/astroquery/simbad/core.py:138: UserWarning: Warning: The script line number 3 raised an error (recorded in the `errors` attribute of the result table): '10:03:14.616 +2:41:20.76': No astronomical object found :\n",
      "  (error.line, error.msg))\n",
      " 52% (16724 of 18168) |################  | Elapsed Time: 0:37:12 ETA:   0:30:50/Users/rcarvajal/.miniconda3/lib/python3.7/site-packages/astroquery/simbad/core.py:138: UserWarning: Warning: The script line number 3 raised an error (recorded in the `errors` attribute of the result table): '10:02:08.64 +2:41:22.56': No astronomical object found :\n",
      "  (error.line, error.msg))\n",
      " 54% (16790 of 18168) |################  | Elapsed Time: 0:38:48 ETA:   0:29:51/Users/rcarvajal/.miniconda3/lib/python3.7/site-packages/astroquery/simbad/core.py:138: UserWarning: Warning: The script line number 3 raised an error (recorded in the `errors` attribute of the result table): '10:02:52.632 +2:41:59.28': No astronomical object found :\n",
      "  (error.line, error.msg))\n",
      " 55% (16798 of 18168) |################  | Elapsed Time: 0:38:58 ETA:   0:32:16/Users/rcarvajal/.miniconda3/lib/python3.7/site-packages/astroquery/simbad/core.py:138: UserWarning: Warning: The script line number 3 raised an error (recorded in the `errors` attribute of the result table): '10:03:23.424 +2:42:01.8': No astronomical object found :\n",
      "  (error.line, error.msg))\n",
      " 55% (16809 of 18168) |################  | Elapsed Time: 0:39:14 ETA:   0:33:13/Users/rcarvajal/.miniconda3/lib/python3.7/site-packages/astroquery/simbad/core.py:138: UserWarning: Warning: The script line number 3 raised an error (recorded in the `errors` attribute of the result table): '9:59:00.984 +2:42:10.08': No astronomical object found :\n",
      "  (error.line, error.msg))\n",
      " 56% (16832 of 18168) |################  | Elapsed Time: 0:39:46 ETA:   0:34:20/Users/rcarvajal/.miniconda3/lib/python3.7/site-packages/astroquery/simbad/core.py:138: UserWarning: Warning: The script line number 3 raised an error (recorded in the `errors` attribute of the result table): '10:03:16.92 +2:42:17.28': No astronomical object found :\n",
      "  (error.line, error.msg))\n",
      " 56% (16843 of 18168) |################  | Elapsed Time: 0:40:02 ETA:   0:32:35/Users/rcarvajal/.miniconda3/lib/python3.7/site-packages/astroquery/simbad/core.py:138: UserWarning: Warning: The script line number 3 raised an error (recorded in the `errors` attribute of the result table): '10:00:21.6 +2:42:23.76': No astronomical object found :\n",
      "  (error.line, error.msg))\n",
      " 57% (16864 of 18168) |################  | Elapsed Time: 0:40:32 ETA:   0:25:11/Users/rcarvajal/.miniconda3/lib/python3.7/site-packages/astroquery/simbad/core.py:138: UserWarning: Warning: The script line number 3 raised an error (recorded in the `errors` attribute of the result table): '9:57:20.52 +2:42:32.76': No astronomical object found :\n",
      "  (error.line, error.msg))\n",
      " 57% (16865 of 18168) |################  | Elapsed Time: 0:40:34 ETA:   0:23:11/Users/rcarvajal/.miniconda3/lib/python3.7/site-packages/astroquery/simbad/core.py:138: UserWarning: Warning: The script line number 3 raised an error (recorded in the `errors` attribute of the result table): '9:58:28.56 +2:42:32.76': No astronomical object found :\n",
      "  (error.line, error.msg))\n",
      " 58% (16896 of 18168) |################  | Elapsed Time: 0:41:20 ETA:   0:26:27/Users/rcarvajal/.miniconda3/lib/python3.7/site-packages/astroquery/simbad/core.py:138: UserWarning: Warning: The script line number 3 raised an error (recorded in the `errors` attribute of the result table): '10:02:19.176 +2:42:52.56': No astronomical object found :\n",
      "  (error.line, error.msg))\n",
      " 59% (16919 of 18168) |################  | Elapsed Time: 0:41:53 ETA:   0:26:58/Users/rcarvajal/.miniconda3/lib/python3.7/site-packages/astroquery/simbad/core.py:138: UserWarning: Warning: The script line number 3 raised an error (recorded in the `errors` attribute of the result table): '9:57:33.192 +2:43:00.48': No astronomical object found :\n",
      "  (error.line, error.msg))\n",
      " 59% (16942 of 18168) |################  | Elapsed Time: 0:42:25 ETA:   0:31:11/Users/rcarvajal/.miniconda3/lib/python3.7/site-packages/astroquery/simbad/core.py:138: UserWarning: Warning: The script line number 3 raised an error (recorded in the `errors` attribute of the result table): '10:00:18.504 +2:43:12': No astronomical object found :\n",
      "  (error.line, error.msg))\n",
      " 60% (16970 of 18168) |################  | Elapsed Time: 0:43:03 ETA:   0:24:26/Users/rcarvajal/.miniconda3/lib/python3.7/site-packages/astroquery/simbad/core.py:138: UserWarning: Warning: The script line number 3 raised an error (recorded in the `errors` attribute of the result table): '10:03:09.696 +2:43:24.24': No astronomical object found :\n",
      "  (error.line, error.msg))\n",
      " 60% (16975 of 18168) |################  | Elapsed Time: 0:43:10 ETA:   0:28:46/Users/rcarvajal/.miniconda3/lib/python3.7/site-packages/astroquery/simbad/core.py:138: UserWarning: Warning: The script line number 3 raised an error (recorded in the `errors` attribute of the result table): '10:00:52.08 +2:43:27.48': No astronomical object found :\n",
      "  (error.line, error.msg))\n",
      " 62% (17013 of 18168) |################  | Elapsed Time: 0:44:03 ETA:   0:28:22/Users/rcarvajal/.miniconda3/lib/python3.7/site-packages/astroquery/simbad/core.py:138: UserWarning: Warning: The script line number 3 raised an error (recorded in the `errors` attribute of the result table): '9:57:30.672 +2:43:48.72': No astronomical object found :\n",
      "  (error.line, error.msg))\n",
      " 62% (17025 of 18168) |################  | Elapsed Time: 0:44:20 ETA:   0:24:35/Users/rcarvajal/.miniconda3/lib/python3.7/site-packages/astroquery/simbad/core.py:138: UserWarning: Warning: The script line number 3 raised an error (recorded in the `errors` attribute of the result table): '9:58:19.8 +2:44:00.96': No astronomical object found :\n",
      "  (error.line, error.msg))\n",
      " 62% (17039 of 18168) |################  | Elapsed Time: 0:44:41 ETA:   0:26:51/Users/rcarvajal/.miniconda3/lib/python3.7/site-packages/astroquery/simbad/core.py:138: UserWarning: Warning: The script line number 3 raised an error (recorded in the `errors` attribute of the result table): '10:03:13.008 +2:44:07.08': No astronomical object found :\n",
      "  (error.line, error.msg))\n",
      " 63% (17050 of 18168) |################  | Elapsed Time: 0:44:56 ETA:   0:26:02/Users/rcarvajal/.miniconda3/lib/python3.7/site-packages/astroquery/simbad/core.py:138: UserWarning: Warning: The script line number 3 raised an error (recorded in the `errors` attribute of the result table): '9:58:42.072 +2:44:15': No astronomical object found :\n",
      "  (error.line, error.msg))\n",
      " 64% (17073 of 18168) |################  | Elapsed Time: 0:45:29 ETA:   0:24:19/Users/rcarvajal/.miniconda3/lib/python3.7/site-packages/astroquery/simbad/core.py:138: UserWarning: Warning: The script line number 3 raised an error (recorded in the `errors` attribute of the result table): '9:57:28.152 +2:44:28.68': No astronomical object found :\n",
      "  (error.line, error.msg))\n",
      " 64% (17092 of 18168) |################  | Elapsed Time: 0:45:59 ETA:   0:26:26/Users/rcarvajal/.miniconda3/lib/python3.7/site-packages/astroquery/simbad/core.py:138: UserWarning: Warning: The script line number 3 raised an error (recorded in the `errors` attribute of the result table): '9:59:35.76 +2:44:39.12': No astronomical object found :\n",
      "  (error.line, error.msg))\n",
      " 64% (17097 of 18168) |################  | Elapsed Time: 0:46:06 ETA:   0:22:50/Users/rcarvajal/.miniconda3/lib/python3.7/site-packages/astroquery/simbad/core.py:138: UserWarning: Warning: The script line number 3 raised an error (recorded in the `errors` attribute of the result table): '9:57:53.544 +2:44:40.56': No astronomical object found :\n",
      "  (error.line, error.msg))\n",
      " 65% (17125 of 18168) |################  | Elapsed Time: 0:46:45 ETA:   0:28:13/Users/rcarvajal/.miniconda3/lib/python3.7/site-packages/astroquery/simbad/core.py:138: UserWarning: Warning: The script line number 3 raised an error (recorded in the `errors` attribute of the result table): '9:58:45.984 +2:44:54.6': No astronomical object found :\n",
      "  (error.line, error.msg))\n",
      " 65% (17129 of 18168) |################  | Elapsed Time: 0:46:51 ETA:   0:26:16/Users/rcarvajal/.miniconda3/lib/python3.7/site-packages/astroquery/simbad/core.py:138: UserWarning: Warning: The script line number 3 raised an error (recorded in the `errors` attribute of the result table): '10:03:22.512 +2:44:57.12': No astronomical object found :\n",
      "  (error.line, error.msg))\n",
      " 66% (17138 of 18168) |################  | Elapsed Time: 0:47:03 ETA:   0:23:17/Users/rcarvajal/.miniconda3/lib/python3.7/site-packages/astroquery/simbad/core.py:138: UserWarning: Warning: The script line number 3 raised an error (recorded in the `errors` attribute of the result table): '9:57:30.432 +2:45:03.6': No astronomical object found :\n",
      "  (error.line, error.msg))\n",
      " 66% (17152 of 18168) |################  | Elapsed Time: 0:47:25 ETA:   0:22:28/Users/rcarvajal/.miniconda3/lib/python3.7/site-packages/astroquery/simbad/core.py:138: UserWarning: Warning: The script line number 3 raised an error (recorded in the `errors` attribute of the result table): '10:02:05.472 +2:45:09.36': No astronomical object found :\n",
      "  (error.line, error.msg))\n",
      " 66% (17153 of 18168) |################  | Elapsed Time: 0:47:26 ETA:   0:18:05/Users/rcarvajal/.miniconda3/lib/python3.7/site-packages/astroquery/simbad/core.py:138: UserWarning: Warning: The script line number 3 raised an error (recorded in the `errors` attribute of the result table): '9:57:46.512 +2:45:10.08': No astronomical object found :\n",
      "  (error.line, error.msg))\n",
      " 67% (17188 of 18168) |################# | Elapsed Time: 0:48:15 ETA:   0:24:23/Users/rcarvajal/.miniconda3/lib/python3.7/site-packages/astroquery/simbad/core.py:138: UserWarning: Warning: The script line number 3 raised an error (recorded in the `errors` attribute of the result table): '9:59:19.536 +2:45:26.28': No astronomical object found :\n",
      "  (error.line, error.msg))\n",
      " 69% (17225 of 18168) |################# | Elapsed Time: 0:49:09 ETA:   0:21:54/Users/rcarvajal/.miniconda3/lib/python3.7/site-packages/astroquery/simbad/core.py:138: UserWarning: Warning: The script line number 3 raised an error (recorded in the `errors` attribute of the result table): '10:00:17.376 +2:45:43.56': No astronomical object found :\n",
      "  (error.line, error.msg))\n",
      " 69% (17234 of 18168) |################# | Elapsed Time: 0:49:22 ETA:   0:27:11/Users/rcarvajal/.miniconda3/lib/python3.7/site-packages/astroquery/simbad/core.py:138: UserWarning: Warning: The script line number 3 raised an error (recorded in the `errors` attribute of the result table): '10:01:27.744 +2:45:50.04': No astronomical object found :\n",
      "  (error.line, error.msg))\n",
      " 69% (17248 of 18168) |################# | Elapsed Time: 0:49:43 ETA:   0:22:45/Users/rcarvajal/.miniconda3/lib/python3.7/site-packages/astroquery/simbad/core.py:138: UserWarning: Warning: The script line number 3 raised an error (recorded in the `errors` attribute of the result table): '10:00:47.112 +2:45:55.44': No astronomical object found :\n",
      "  (error.line, error.msg))\n",
      " 70% (17274 of 18168) |################# | Elapsed Time: 0:50:20 ETA:   0:20:58/Users/rcarvajal/.miniconda3/lib/python3.7/site-packages/astroquery/simbad/core.py:138: UserWarning: Warning: The script line number 3 raised an error (recorded in the `errors` attribute of the result table): '10:01:17.712 +2:46:09.84': No astronomical object found :\n",
      "  (error.line, error.msg))\n",
      " 72% (17321 of 18168) |################# | Elapsed Time: 0:51:32 ETA:   0:16:32/Users/rcarvajal/.miniconda3/lib/python3.7/site-packages/astroquery/simbad/core.py:138: UserWarning: Warning: The script line number 3 raised an error (recorded in the `errors` attribute of the result table): '10:01:57.96 +2:46:33.24': No astronomical object found :\n",
      "  (error.line, error.msg))\n",
      " 72% (17324 of 18168) |################# | Elapsed Time: 0:51:35 ETA:   0:19:18/Users/rcarvajal/.miniconda3/lib/python3.7/site-packages/astroquery/simbad/core.py:138: UserWarning: Warning: The script line number 3 raised an error (recorded in the `errors` attribute of the result table): '10:03:23.808 +2:46:33.96': No astronomical object found :\n",
      "  (error.line, error.msg))\n",
      " 74% (17404 of 18168) |################# | Elapsed Time: 0:53:34 ETA:   0:18:56/Users/rcarvajal/.miniconda3/lib/python3.7/site-packages/astroquery/simbad/core.py:138: UserWarning: Warning: The script line number 3 raised an error (recorded in the `errors` attribute of the result table): '10:01:15.072 +2:47:18.24': No astronomical object found :\n",
      "  (error.line, error.msg))\n",
      " 75% (17424 of 18168) |################# | Elapsed Time: 0:54:08 ETA:   0:19:40/Users/rcarvajal/.miniconda3/lib/python3.7/site-packages/astroquery/simbad/core.py:138: UserWarning: Warning: The script line number 3 raised an error (recorded in the `errors` attribute of the result table): '10:03:13.56 +2:47:28.68': No astronomical object found :\n",
      "  (error.line, error.msg))\n",
      " 75% (17427 of 18168) |################# | Elapsed Time: 0:54:12 ETA:   0:18:30/Users/rcarvajal/.miniconda3/lib/python3.7/site-packages/astroquery/simbad/core.py:138: UserWarning: Warning: The script line number 3 raised an error (recorded in the `errors` attribute of the result table): '10:01:09 +2:47:29.76': No astronomical object found :\n",
      "  (error.line, error.msg))\n",
      " 75% (17431 of 18168) |################# | Elapsed Time: 0:54:17 ETA:   0:19:50/Users/rcarvajal/.miniconda3/lib/python3.7/site-packages/astroquery/simbad/core.py:138: UserWarning: Warning: The script line number 3 raised an error (recorded in the `errors` attribute of the result table): '10:03:21.48 +2:47:30.48': No astronomical object found :\n",
      "  (error.line, error.msg))\n",
      " 75% (17434 of 18168) |################# | Elapsed Time: 0:54:21 ETA:   0:19:07/Users/rcarvajal/.miniconda3/lib/python3.7/site-packages/astroquery/simbad/core.py:138: UserWarning: Warning: The script line number 3 raised an error (recorded in the `errors` attribute of the result table): '10:02:35.136 +2:47:31.92': No astronomical object found :\n",
      "  (error.line, error.msg))\n",
      " 75% (17436 of 18168) |################# | Elapsed Time: 0:54:24 ETA:   0:16:36/Users/rcarvajal/.miniconda3/lib/python3.7/site-packages/astroquery/simbad/core.py:138: UserWarning: Warning: The script line number 3 raised an error (recorded in the `errors` attribute of the result table): '10:03:23.472 +2:47:33': No astronomical object found :\n",
      "  (error.line, error.msg))\n",
      " 77% (17478 of 18168) |################# | Elapsed Time: 0:55:29 ETA:   0:15:42/Users/rcarvajal/.miniconda3/lib/python3.7/site-packages/astroquery/simbad/core.py:138: UserWarning: Warning: The script line number 3 raised an error (recorded in the `errors` attribute of the result table): '10:00:11.76 +2:48:02.88': No astronomical object found :\n",
      "  (error.line, error.msg))\n",
      " 77% (17493 of 18168) |################# | Elapsed Time: 0:55:51 ETA:   0:18:23/Users/rcarvajal/.miniconda3/lib/python3.7/site-packages/astroquery/simbad/core.py:138: UserWarning: Warning: The script line number 3 raised an error (recorded in the `errors` attribute of the result table): '9:59:40.2 +2:48:09': No astronomical object found :\n",
      "  (error.line, error.msg))\n",
      " 78% (17502 of 18168) |################# | Elapsed Time: 0:56:05 ETA:   0:16:47/Users/rcarvajal/.miniconda3/lib/python3.7/site-packages/astroquery/simbad/core.py:138: UserWarning: Warning: The script line number 3 raised an error (recorded in the `errors` attribute of the result table): '9:57:52.176 +2:48:12.96': No astronomical object found :\n",
      "  (error.line, error.msg))\n",
      " 78% (17507 of 18168) |################# | Elapsed Time: 0:56:14 ETA:   0:20:40/Users/rcarvajal/.miniconda3/lib/python3.7/site-packages/astroquery/simbad/core.py:138: UserWarning: Warning: The script line number 3 raised an error (recorded in the `errors` attribute of the result table): '9:59:45.456 +2:48:16.2': No astronomical object found :\n",
      "  (error.line, error.msg))\n",
      " 78% (17513 of 18168) |################# | Elapsed Time: 0:56:23 ETA:   0:14:35/Users/rcarvajal/.miniconda3/lib/python3.7/site-packages/astroquery/simbad/core.py:138: UserWarning: Warning: The script line number 3 raised an error (recorded in the `errors` attribute of the result table): '10:02:49.296 +2:48:20.52': No astronomical object found :\n",
      "  (error.line, error.msg))\n",
      " 78% (17515 of 18168) |################# | Elapsed Time: 0:56:26 ETA:   0:14:55/Users/rcarvajal/.miniconda3/lib/python3.7/site-packages/astroquery/simbad/core.py:138: UserWarning: Warning: The script line number 3 raised an error (recorded in the `errors` attribute of the result table): '9:59:41.352 +2:48:21.24': No astronomical object found :\n",
      "  (error.line, error.msg))\n",
      " 78% (17517 of 18168) |################# | Elapsed Time: 0:56:28 ETA:   0:16:14/Users/rcarvajal/.miniconda3/lib/python3.7/site-packages/astroquery/simbad/core.py:138: UserWarning: Warning: The script line number 3 raised an error (recorded in the `errors` attribute of the result table): '9:58:51.024 +2:48:22.32': No astronomical object found :\n",
      "  (error.line, error.msg))\n",
      " 79% (17546 of 18168) |################# | Elapsed Time: 0:57:11 ETA:   0:17:06/Users/rcarvajal/.miniconda3/lib/python3.7/site-packages/astroquery/simbad/core.py:138: UserWarning: Warning: The script line number 3 raised an error (recorded in the `errors` attribute of the result table): '10:00:51.912 +2:48:33.48': No astronomical object found :\n",
      "  (error.line, error.msg))\n",
      " 79% (17558 of 18168) |################# | Elapsed Time: 0:57:28 ETA:   0:13:15/Users/rcarvajal/.miniconda3/lib/python3.7/site-packages/astroquery/simbad/core.py:138: UserWarning: Warning: The script line number 3 raised an error (recorded in the `errors` attribute of the result table): '10:00:08.952 +2:48:39.6': No astronomical object found :\n",
      "  (error.line, error.msg))\n",
      " 80% (17576 of 18168) |################# | Elapsed Time: 0:57:53 ETA:   0:15:39/Users/rcarvajal/.miniconda3/lib/python3.7/site-packages/astroquery/simbad/core.py:138: UserWarning: Warning: The script line number 3 raised an error (recorded in the `errors` attribute of the result table): '10:00:39.408 +2:48:48.6': No astronomical object found :\n",
      "  (error.line, error.msg))\n",
      " 80% (17581 of 18168) |################# | Elapsed Time: 0:58:00 ETA:   0:14:34/Users/rcarvajal/.miniconda3/lib/python3.7/site-packages/astroquery/simbad/core.py:138: UserWarning: Warning: The script line number 3 raised an error (recorded in the `errors` attribute of the result table): '9:59:11.52 +2:48:50.04': No astronomical object found :\n",
      "  (error.line, error.msg))\n",
      " 81% (17589 of 18168) |################# | Elapsed Time: 0:58:12 ETA:   0:15:18/Users/rcarvajal/.miniconda3/lib/python3.7/site-packages/astroquery/simbad/core.py:138: UserWarning: Warning: The script line number 3 raised an error (recorded in the `errors` attribute of the result table): '10:01:54.624 +2:48:57.96': No astronomical object found :\n",
      "  (error.line, error.msg))\n",
      " 81% (17594 of 18168) |################# | Elapsed Time: 0:58:19 ETA:   0:14:36/Users/rcarvajal/.miniconda3/lib/python3.7/site-packages/astroquery/simbad/core.py:138: UserWarning: Warning: The script line number 3 raised an error (recorded in the `errors` attribute of the result table): '10:01:48.24 +2:49:01.2': No astronomical object found :\n",
      "  (error.line, error.msg))\n",
      " 81% (17598 of 18168) |################# | Elapsed Time: 0:58:24 ETA:   0:13:41/Users/rcarvajal/.miniconda3/lib/python3.7/site-packages/astroquery/simbad/core.py:138: UserWarning: Warning: The script line number 3 raised an error (recorded in the `errors` attribute of the result table): '9:59:59.904 +2:49:03.72': No astronomical object found :\n",
      "  (error.line, error.msg))\n",
      " 81% (17600 of 18168) |################# | Elapsed Time: 0:58:27 ETA:   0:13:13/Users/rcarvajal/.miniconda3/lib/python3.7/site-packages/astroquery/simbad/core.py:138: UserWarning: Warning: The script line number 3 raised an error (recorded in the `errors` attribute of the result table): '9:59:14.232 +2:49:04.08': No astronomical object found :\n",
      "  (error.line, error.msg))\n",
      " 81% (17601 of 18168) |################# | Elapsed Time: 0:58:28 ETA:   0:13:32/Users/rcarvajal/.miniconda3/lib/python3.7/site-packages/astroquery/simbad/core.py:138: UserWarning: Warning: The script line number 3 raised an error (recorded in the `errors` attribute of the result table): '9:59:08.088 +2:49:04.44': No astronomical object found :\n",
      "  (error.line, error.msg))\n",
      " 81% (17614 of 18168) |################# | Elapsed Time: 0:58:46 ETA:   0:12:26/Users/rcarvajal/.miniconda3/lib/python3.7/site-packages/astroquery/simbad/core.py:138: UserWarning: Warning: The script line number 3 raised an error (recorded in the `errors` attribute of the result table): '10:00:37.272 +2:49:11.28': No astronomical object found :\n",
      "  (error.line, error.msg))\n",
      " 81% (17617 of 18168) |################# | Elapsed Time: 0:58:50 ETA:   0:14:35/Users/rcarvajal/.miniconda3/lib/python3.7/site-packages/astroquery/simbad/core.py:138: UserWarning: Warning: The script line number 3 raised an error (recorded in the `errors` attribute of the result table): '10:01:19.128 +2:49:12.72': No astronomical object found :\n",
      "  (error.line, error.msg))\n",
      " 82% (17632 of 18168) |################# | Elapsed Time: 0:59:12 ETA:   0:12:43/Users/rcarvajal/.miniconda3/lib/python3.7/site-packages/astroquery/simbad/core.py:138: UserWarning: Warning: The script line number 3 raised an error (recorded in the `errors` attribute of the result table): '10:00:08.328 +2:49:17.76': No astronomical object found :\n",
      "  (error.line, error.msg))\n",
      " 82% (17633 of 18168) |################# | Elapsed Time: 0:59:14 ETA:   0:13:18/Users/rcarvajal/.miniconda3/lib/python3.7/site-packages/astroquery/simbad/core.py:138: UserWarning: Warning: The script line number 3 raised an error (recorded in the `errors` attribute of the result table): '10:01:57.576 +2:49:18.84': No astronomical object found :\n",
      "  (error.line, error.msg))\n",
      " 82% (17636 of 18168) |################# | Elapsed Time: 0:59:18 ETA:   0:14:32/Users/rcarvajal/.miniconda3/lib/python3.7/site-packages/astroquery/simbad/core.py:138: UserWarning: Warning: The script line number 3 raised an error (recorded in the `errors` attribute of the result table): '10:00:41.328 +2:49:20.64': No astronomical object found :\n",
      "  (error.line, error.msg))\n",
      " 82% (17645 of 18168) |################# | Elapsed Time: 0:59:30 ETA:   0:10:38/Users/rcarvajal/.miniconda3/lib/python3.7/site-packages/astroquery/simbad/core.py:138: UserWarning: Warning: The script line number 3 raised an error (recorded in the `errors` attribute of the result table): '10:00:59.472 +2:49:25.32': No astronomical object found :\n",
      "  (error.line, error.msg))\n",
      " 83% (17652 of 18168) |################# | Elapsed Time: 0:59:42 ETA:   0:19:44/Users/rcarvajal/.miniconda3/lib/python3.7/site-packages/astroquery/simbad/core.py:138: UserWarning: Warning: The script line number 3 raised an error (recorded in the `errors` attribute of the result table): '9:58:37.392 +2:49:28.92': No astronomical object found :\n",
      "  (error.line, error.msg))\n",
      " 83% (17653 of 18168) |################# | Elapsed Time: 0:59:43 ETA:   0:15:40/Users/rcarvajal/.miniconda3/lib/python3.7/site-packages/astroquery/simbad/core.py:138: UserWarning: Warning: The script line number 3 raised an error (recorded in the `errors` attribute of the result table): '10:02:43.776 +2:49:31.44': No astronomical object found :\n",
      "  (error.line, error.msg))\n",
      " 83% (17662 of 18168) |################# | Elapsed Time: 0:59:58 ETA:   0:13:24/Users/rcarvajal/.miniconda3/lib/python3.7/site-packages/astroquery/simbad/core.py:138: UserWarning: Warning: The script line number 3 raised an error (recorded in the `errors` attribute of the result table): '10:00:36 +2:49:38.28': No astronomical object found :\n",
      "  (error.line, error.msg))\n",
      " 83% (17664 of 18168) |################# | Elapsed Time: 1:00:01 ETA:   0:12:58/Users/rcarvajal/.miniconda3/lib/python3.7/site-packages/astroquery/simbad/core.py:138: UserWarning: Warning: The script line number 3 raised an error (recorded in the `errors` attribute of the result table): '9:58:05.016 +2:49:40.44': No astronomical object found :\n",
      "  (error.line, error.msg))\n",
      " 83% (17667 of 18168) |################# | Elapsed Time: 1:00:05 ETA:   0:12:28/Users/rcarvajal/.miniconda3/lib/python3.7/site-packages/astroquery/simbad/core.py:138: UserWarning: Warning: The script line number 3 raised an error (recorded in the `errors` attribute of the result table): '9:59:37.68 +2:49:43.32': No astronomical object found :\n",
      "  (error.line, error.msg))\n",
      " 83% (17669 of 18168) |################# | Elapsed Time: 1:00:08 ETA:   0:10:27/Users/rcarvajal/.miniconda3/lib/python3.7/site-packages/astroquery/simbad/core.py:138: UserWarning: Warning: The script line number 3 raised an error (recorded in the `errors` attribute of the result table): '10:01:44.976 +2:49:44.04': No astronomical object found :\n",
      "  (error.line, error.msg))\n",
      " 83% (17673 of 18168) |################# | Elapsed Time: 1:00:13 ETA:   0:08:48/Users/rcarvajal/.miniconda3/lib/python3.7/site-packages/astroquery/simbad/core.py:138: UserWarning: Warning: The script line number 3 raised an error (recorded in the `errors` attribute of the result table): '9:58:48.648 +2:49:45.48': No astronomical object found :\n",
      "  (error.line, error.msg))\n",
      " 83% (17675 of 18168) |################# | Elapsed Time: 1:00:16 ETA:   0:13:18/Users/rcarvajal/.miniconda3/lib/python3.7/site-packages/astroquery/simbad/core.py:138: UserWarning: Warning: The script line number 3 raised an error (recorded in the `errors` attribute of the result table): '9:59:21.24 +2:49:48.36': No astronomical object found :\n",
      "  (error.line, error.msg))\n",
      " 83% (17680 of 18168) |################# | Elapsed Time: 1:00:24 ETA:   0:12:54/Users/rcarvajal/.miniconda3/lib/python3.7/site-packages/astroquery/simbad/core.py:138: UserWarning: Warning: The script line number 3 raised an error (recorded in the `errors` attribute of the result table): '9:58:42.744 +2:49:51.24': No astronomical object found :\n",
      "  (error.line, error.msg))\n",
      " 84% (17681 of 18168) |################# | Elapsed Time: 1:00:25 ETA:   0:12:08/Users/rcarvajal/.miniconda3/lib/python3.7/site-packages/astroquery/simbad/core.py:138: UserWarning: Warning: The script line number 3 raised an error (recorded in the `errors` attribute of the result table): '10:02:56.856 +2:49:51.96': No astronomical object found :\n",
      "  (error.line, error.msg))\n",
      " 84% (17697 of 18168) |################# | Elapsed Time: 1:00:50 ETA:   0:13:14/Users/rcarvajal/.miniconda3/lib/python3.7/site-packages/astroquery/simbad/core.py:138: UserWarning: Warning: The script line number 3 raised an error (recorded in the `errors` attribute of the result table): '9:59:03.96 +2:50:02.4': No astronomical object found :\n",
      "  (error.line, error.msg))\n",
      " 84% (17702 of 18168) |################# | Elapsed Time: 1:00:57 ETA:   0:09:48/Users/rcarvajal/.miniconda3/lib/python3.7/site-packages/astroquery/simbad/core.py:138: UserWarning: Warning: The script line number 3 raised an error (recorded in the `errors` attribute of the result table): '10:00:53.712 +2:50:07.8': No astronomical object found :\n",
      "  (error.line, error.msg))\n",
      " 85% (17711 of 18168) |################# | Elapsed Time: 1:01:11 ETA:   0:11:34/Users/rcarvajal/.miniconda3/lib/python3.7/site-packages/astroquery/simbad/core.py:138: UserWarning: Warning: The script line number 3 raised an error (recorded in the `errors` attribute of the result table): '10:02:43.92 +2:50:12.48': No astronomical object found :\n",
      "  (error.line, error.msg))\n",
      " 85% (17718 of 18168) |################# | Elapsed Time: 1:01:22 ETA:   0:12:10/Users/rcarvajal/.miniconda3/lib/python3.7/site-packages/astroquery/simbad/core.py:138: UserWarning: Warning: The script line number 3 raised an error (recorded in the `errors` attribute of the result table): '9:57:38.064 +2:50:16.44': No astronomical object found :\n",
      "  (error.line, error.msg))\n",
      " 85% (17719 of 18168) |################# | Elapsed Time: 1:01:23 ETA:   0:11:43/Users/rcarvajal/.miniconda3/lib/python3.7/site-packages/astroquery/simbad/core.py:138: UserWarning: Warning: The script line number 3 raised an error (recorded in the `errors` attribute of the result table): '9:58:32.616 +2:50:17.52': No astronomical object found :\n",
      "  (error.line, error.msg))\n",
      " 85% (17722 of 18168) |################# | Elapsed Time: 1:01:27 ETA:   0:09:38/Users/rcarvajal/.miniconda3/lib/python3.7/site-packages/astroquery/simbad/core.py:138: UserWarning: Warning: The script line number 3 raised an error (recorded in the `errors` attribute of the result table): '9:58:17.016 +2:50:19.68': No astronomical object found :\n",
      "  (error.line, error.msg))\n",
      " 85% (17724 of 18168) |################# | Elapsed Time: 1:01:30 ETA:   0:11:34/Users/rcarvajal/.miniconda3/lib/python3.7/site-packages/astroquery/simbad/core.py:138: UserWarning: Warning: The script line number 3 raised an error (recorded in the `errors` attribute of the result table): '10:03:11.808 +2:50:23.28': No astronomical object found :\n",
      "  (error.line, error.msg))\n",
      " 85% (17725 of 18168) |################# | Elapsed Time: 1:01:31 ETA:   0:09:54/Users/rcarvajal/.miniconda3/lib/python3.7/site-packages/astroquery/simbad/core.py:138: UserWarning: Warning: The script line number 3 raised an error (recorded in the `errors` attribute of the result table): '10:01:11.424 +2:50:24': No astronomical object found :\n",
      "  (error.line, error.msg))\n",
      " 85% (17732 of 18168) |################# | Elapsed Time: 1:01:41 ETA:   0:10:45/Users/rcarvajal/.miniconda3/lib/python3.7/site-packages/astroquery/simbad/core.py:138: UserWarning: Warning: The script line number 3 raised an error (recorded in the `errors` attribute of the result table): '9:57:27.984 +2:50:29.04': No astronomical object found :\n",
      "  (error.line, error.msg))\n",
      " 85% (17734 of 18168) |################# | Elapsed Time: 1:01:44 ETA:   0:10:25/Users/rcarvajal/.miniconda3/lib/python3.7/site-packages/astroquery/simbad/core.py:138: UserWarning: Warning: The script line number 3 raised an error (recorded in the `errors` attribute of the result table): '9:57:37.92 +2:50:29.76': No astronomical object found :\n",
      "  (error.line, error.msg))\n",
      " 85% (17738 of 18168) |################# | Elapsed Time: 1:01:50 ETA:   0:11:12/Users/rcarvajal/.miniconda3/lib/python3.7/site-packages/astroquery/simbad/core.py:138: UserWarning: Warning: The script line number 3 raised an error (recorded in the `errors` attribute of the result table): '9:59:49.656 +2:50:33.36': No astronomical object found :\n",
      "  (error.line, error.msg))\n",
      " 85% (17740 of 18168) |################# | Elapsed Time: 1:01:53 ETA:   0:08:56/Users/rcarvajal/.miniconda3/lib/python3.7/site-packages/astroquery/simbad/core.py:138: UserWarning: Warning: The script line number 3 raised an error (recorded in the `errors` attribute of the result table): '10:00:30.96 +2:50:35.88': No astronomical object found :\n",
      "  (error.line, error.msg))\n",
      " 86% (17756 of 18168) |################# | Elapsed Time: 1:02:18 ETA:   0:09:14/Users/rcarvajal/.miniconda3/lib/python3.7/site-packages/astroquery/simbad/core.py:138: UserWarning: Warning: The script line number 3 raised an error (recorded in the `errors` attribute of the result table): '10:01:52.224 +2:50:43.8': No astronomical object found :\n",
      "  (error.line, error.msg))\n",
      " 86% (17765 of 18168) |################# | Elapsed Time: 1:02:30 ETA:   0:07:49/Users/rcarvajal/.miniconda3/lib/python3.7/site-packages/astroquery/simbad/core.py:138: UserWarning: Warning: The script line number 3 raised an error (recorded in the `errors` attribute of the result table): '10:02:39.072 +2:51:00.36': No astronomical object found :\n",
      "  (error.line, error.msg))\n",
      " 86% (17769 of 18168) |################# | Elapsed Time: 1:02:35 ETA:   0:09:32/Users/rcarvajal/.miniconda3/lib/python3.7/site-packages/astroquery/simbad/core.py:138: UserWarning: Warning: The script line number 3 raised an error (recorded in the `errors` attribute of the result table): '10:03:19.56 +2:51:02.52': No astronomical object found :\n",
      "  (error.line, error.msg))\n",
      " 87% (17778 of 18168) |################# | Elapsed Time: 1:02:49 ETA:   0:10:24/Users/rcarvajal/.miniconda3/lib/python3.7/site-packages/astroquery/simbad/core.py:138: UserWarning: Warning: The script line number 3 raised an error (recorded in the `errors` attribute of the result table): '9:59:14.856 +2:51:10.08': No astronomical object found :\n",
      "  (error.line, error.msg))\n",
      " 87% (17787 of 18168) |################# | Elapsed Time: 1:03:02 ETA:   0:10:19/Users/rcarvajal/.miniconda3/lib/python3.7/site-packages/astroquery/simbad/core.py:138: UserWarning: Warning: The script line number 3 raised an error (recorded in the `errors` attribute of the result table): '9:59:56.16 +2:51:13.32': No astronomical object found :\n",
      "  (error.line, error.msg))\n",
      " 87% (17797 of 18168) |################# | Elapsed Time: 1:03:17 ETA:   0:10:08/Users/rcarvajal/.miniconda3/lib/python3.7/site-packages/astroquery/simbad/core.py:138: UserWarning: Warning: The script line number 3 raised an error (recorded in the `errors` attribute of the result table): '9:57:52.152 +2:51:21.6': No astronomical object found :\n",
      "  (error.line, error.msg))\n",
      " 87% (17800 of 18168) |################# | Elapsed Time: 1:03:22 ETA:   0:09:38/Users/rcarvajal/.miniconda3/lib/python3.7/site-packages/astroquery/simbad/core.py:138: UserWarning: Warning: The script line number 3 raised an error (recorded in the `errors` attribute of the result table): '10:00:47.112 +2:51:23.4': No astronomical object found :\n",
      "  (error.line, error.msg))\n",
      " 88% (17803 of 18168) |################# | Elapsed Time: 1:03:26 ETA:   0:07:33/Users/rcarvajal/.miniconda3/lib/python3.7/site-packages/astroquery/simbad/core.py:138: UserWarning: Warning: The script line number 3 raised an error (recorded in the `errors` attribute of the result table): '9:58:06.528 +2:51:27.72': No astronomical object found :\n",
      "  (error.line, error.msg))\n",
      " 88% (17828 of 18168) |################# | Elapsed Time: 1:04:03 ETA:   0:07:55/Users/rcarvajal/.miniconda3/lib/python3.7/site-packages/astroquery/simbad/core.py:138: UserWarning: Warning: The script line number 3 raised an error (recorded in the `errors` attribute of the result table): '10:01:44.4 +2:51:40.32': No astronomical object found :\n",
      "  (error.line, error.msg))\n",
      " 89% (17843 of 18168) |################# | Elapsed Time: 1:04:25 ETA:   0:09:06/Users/rcarvajal/.miniconda3/lib/python3.7/site-packages/astroquery/simbad/core.py:138: UserWarning: Warning: The script line number 3 raised an error (recorded in the `errors` attribute of the result table): '10:02:31.104 +2:51:47.88': No astronomical object found :\n",
      "  (error.line, error.msg))\n",
      " 89% (17844 of 18168) |################# | Elapsed Time: 1:04:26 ETA:   0:07:31/Users/rcarvajal/.miniconda3/lib/python3.7/site-packages/astroquery/simbad/core.py:138: UserWarning: Warning: The script line number 3 raised an error (recorded in the `errors` attribute of the result table): '10:01:08.616 +2:51:48.24': No astronomical object found :\n",
      "  (error.line, error.msg))\n",
      " 89% (17845 of 18168) |################# | Elapsed Time: 1:04:28 ETA:   0:06:17/Users/rcarvajal/.miniconda3/lib/python3.7/site-packages/astroquery/simbad/core.py:138: UserWarning: Warning: The script line number 3 raised an error (recorded in the `errors` attribute of the result table): '9:59:37.128 +2:51:48.96': No astronomical object found :\n",
      "  (error.line, error.msg))\n",
      " 89% (17851 of 18168) |################# | Elapsed Time: 1:04:37 ETA:   0:07:28/Users/rcarvajal/.miniconda3/lib/python3.7/site-packages/astroquery/simbad/core.py:138: UserWarning: Warning: The script line number 3 raised an error (recorded in the `errors` attribute of the result table): '9:57:37.224 +2:51:52.2': No astronomical object found :\n",
      "  (error.line, error.msg))\n",
      " 89% (17854 of 18168) |################# | Elapsed Time: 1:04:41 ETA:   0:07:35/Users/rcarvajal/.miniconda3/lib/python3.7/site-packages/astroquery/simbad/core.py:138: UserWarning: Warning: The script line number 3 raised an error (recorded in the `errors` attribute of the result table): '10:03:02.52 +2:51:54.36': No astronomical object found :\n",
      "  (error.line, error.msg))\n",
      " 89% (17862 of 18168) |################# | Elapsed Time: 1:04:53 ETA:   0:07:39/Users/rcarvajal/.miniconda3/lib/python3.7/site-packages/astroquery/simbad/core.py:138: UserWarning: Warning: The script line number 3 raised an error (recorded in the `errors` attribute of the result table): '10:00:55.824 +2:51:56.16': No astronomical object found :\n",
      "  (error.line, error.msg))\n",
      " 90% (17877 of 18168) |################# | Elapsed Time: 1:05:16 ETA:   0:07:56/Users/rcarvajal/.miniconda3/lib/python3.7/site-packages/astroquery/simbad/core.py:138: UserWarning: Warning: The script line number 3 raised an error (recorded in the `errors` attribute of the result table): '10:01:26.376 +2:52:03.36': No astronomical object found :\n",
      "  (error.line, error.msg))\n",
      " 90% (17879 of 18168) |################# | Elapsed Time: 1:05:19 ETA:   0:06:48/Users/rcarvajal/.miniconda3/lib/python3.7/site-packages/astroquery/simbad/core.py:138: UserWarning: Warning: The script line number 3 raised an error (recorded in the `errors` attribute of the result table): '9:58:36.264 +2:52:04.8': No astronomical object found :\n",
      "  (error.line, error.msg))\n",
      " 90% (17890 of 18168) |################# | Elapsed Time: 1:05:35 ETA:   0:06:21/Users/rcarvajal/.miniconda3/lib/python3.7/site-packages/astroquery/simbad/core.py:138: UserWarning: Warning: The script line number 3 raised an error (recorded in the `errors` attribute of the result table): '10:03:18.48 +2:52:18.48': No astronomical object found :\n",
      "  (error.line, error.msg))\n",
      " 91% (17907 of 18168) |################# | Elapsed Time: 1:06:02 ETA:   0:06:48/Users/rcarvajal/.miniconda3/lib/python3.7/site-packages/astroquery/simbad/core.py:138: UserWarning: Warning: The script line number 3 raised an error (recorded in the `errors` attribute of the result table): '9:58:20.64 +2:52:27.48': No astronomical object found :\n",
      "  (error.line, error.msg))\n",
      " 91% (17908 of 18168) |################# | Elapsed Time: 1:06:03 ETA:   0:06:03/Users/rcarvajal/.miniconda3/lib/python3.7/site-packages/astroquery/simbad/core.py:138: UserWarning: Warning: The script line number 3 raised an error (recorded in the `errors` attribute of the result table): '9:57:57.816 +2:52:28.2': No astronomical object found :\n",
      "  (error.line, error.msg))\n",
      " 91% (17911 of 18168) |################# | Elapsed Time: 1:06:08 ETA:   0:07:04/Users/rcarvajal/.miniconda3/lib/python3.7/site-packages/astroquery/simbad/core.py:138: UserWarning: Warning: The script line number 3 raised an error (recorded in the `errors` attribute of the result table): '9:59:41.952 +2:52:28.56': No astronomical object found :\n",
      "  (error.line, error.msg))\n",
      " 91% (17913 of 18168) |################# | Elapsed Time: 1:06:11 ETA:   0:06:14/Users/rcarvajal/.miniconda3/lib/python3.7/site-packages/astroquery/simbad/core.py:138: UserWarning: Warning: The script line number 3 raised an error (recorded in the `errors` attribute of the result table): '10:02:58.464 +2:52:29.64': No astronomical object found :\n",
      "  (error.line, error.msg))\n",
      " 91% (17922 of 18168) |################# | Elapsed Time: 1:06:23 ETA:   0:05:57/Users/rcarvajal/.miniconda3/lib/python3.7/site-packages/astroquery/simbad/core.py:138: UserWarning: Warning: The script line number 3 raised an error (recorded in the `errors` attribute of the result table): '10:03:18.528 +2:52:31.08': No astronomical object found :\n",
      "  (error.line, error.msg))\n",
      " 92% (17929 of 18168) |################# | Elapsed Time: 1:06:34 ETA:   0:06:21/Users/rcarvajal/.miniconda3/lib/python3.7/site-packages/astroquery/simbad/core.py:138: UserWarning: Warning: The script line number 3 raised an error (recorded in the `errors` attribute of the result table): '10:03:09.36 +2:52:36.48': No astronomical object found :\n",
      "  (error.line, error.msg))\n",
      " 92% (17935 of 18168) |################# | Elapsed Time: 1:06:43 ETA:   0:06:45/Users/rcarvajal/.miniconda3/lib/python3.7/site-packages/astroquery/simbad/core.py:138: UserWarning: Warning: The script line number 3 raised an error (recorded in the `errors` attribute of the result table): '10:01:49.056 +2:52:39.36': No astronomical object found :\n",
      "  (error.line, error.msg))\n",
      " 92% (17936 of 18168) |################# | Elapsed Time: 1:06:44 ETA:   0:06:05/Users/rcarvajal/.miniconda3/lib/python3.7/site-packages/astroquery/simbad/core.py:138: UserWarning: Warning: The script line number 3 raised an error (recorded in the `errors` attribute of the result table): '10:01:34.584 +2:52:40.44': No astronomical object found :\n",
      "  (error.line, error.msg))\n",
      " 92% (17938 of 18168) |################# | Elapsed Time: 1:06:47 ETA:   0:05:32/Users/rcarvajal/.miniconda3/lib/python3.7/site-packages/astroquery/simbad/core.py:138: UserWarning: Warning: The script line number 3 raised an error (recorded in the `errors` attribute of the result table): '9:59:21.432 +2:52:41.88': No astronomical object found :\n",
      "  (error.line, error.msg))\n",
      " 92% (17942 of 18168) |################# | Elapsed Time: 1:06:53 ETA:   0:06:03/Users/rcarvajal/.miniconda3/lib/python3.7/site-packages/astroquery/simbad/core.py:138: UserWarning: Warning: The script line number 3 raised an error (recorded in the `errors` attribute of the result table): '9:58:45.6 +2:52:45.84': No astronomical object found :\n",
      "  (error.line, error.msg))\n",
      " 92% (17945 of 18168) |################# | Elapsed Time: 1:06:57 ETA:   0:04:23/Users/rcarvajal/.miniconda3/lib/python3.7/site-packages/astroquery/simbad/core.py:138: UserWarning: Warning: The script line number 3 raised an error (recorded in the `errors` attribute of the result table): '9:58:35.28 +2:52:47.28': No astronomical object found :\n",
      "  (error.line, error.msg))\n",
      " 92% (17952 of 18168) |################# | Elapsed Time: 1:07:08 ETA:   0:05:47/Users/rcarvajal/.miniconda3/lib/python3.7/site-packages/astroquery/simbad/core.py:138: UserWarning: Warning: The script line number 3 raised an error (recorded in the `errors` attribute of the result table): '9:58:38.232 +2:52:50.88': No astronomical object found :\n",
      "  (error.line, error.msg))\n",
      " 93% (17956 of 18168) |################# | Elapsed Time: 1:07:15 ETA:   0:06:06/Users/rcarvajal/.miniconda3/lib/python3.7/site-packages/astroquery/simbad/core.py:138: UserWarning: Warning: The script line number 3 raised an error (recorded in the `errors` attribute of the result table): '10:00:35.64 +2:52:53.4': No astronomical object found :\n",
      "  (error.line, error.msg))\n",
      " 93% (17976 of 18168) |################# | Elapsed Time: 1:07:46 ETA:   0:04:44/Users/rcarvajal/.miniconda3/lib/python3.7/site-packages/astroquery/simbad/core.py:138: UserWarning: Warning: The script line number 3 raised an error (recorded in the `errors` attribute of the result table): '10:00:54.072 +2:53:13.2': No astronomical object found :\n",
      "  (error.line, error.msg))\n",
      " 94% (17993 of 18168) |################# | Elapsed Time: 1:08:12 ETA:   0:04:08/Users/rcarvajal/.miniconda3/lib/python3.7/site-packages/astroquery/simbad/core.py:138: UserWarning: Warning: The script line number 3 raised an error (recorded in the `errors` attribute of the result table): '10:00:45.12 +2:53:25.08': No astronomical object found :\n",
      "  (error.line, error.msg))\n",
      " 94% (17998 of 18168) |################# | Elapsed Time: 1:08:20 ETA:   0:04:19/Users/rcarvajal/.miniconda3/lib/python3.7/site-packages/astroquery/simbad/core.py:138: UserWarning: Warning: The script line number 3 raised an error (recorded in the `errors` attribute of the result table): '10:02:42.912 +2:53:29.4': No astronomical object found :\n",
      "  (error.line, error.msg))\n",
      " 94% (17999 of 18168) |################# | Elapsed Time: 1:08:21 ETA:   0:03:36/Users/rcarvajal/.miniconda3/lib/python3.7/site-packages/astroquery/simbad/core.py:138: UserWarning: Warning: The script line number 3 raised an error (recorded in the `errors` attribute of the result table): '10:00:18.888 +2:53:31.56': No astronomical object found :\n",
      "  (error.line, error.msg))\n",
      " 94% (18014 of 18168) |################# | Elapsed Time: 1:08:44 ETA:   0:03:58/Users/rcarvajal/.miniconda3/lib/python3.7/site-packages/astroquery/simbad/core.py:138: UserWarning: Warning: The script line number 3 raised an error (recorded in the `errors` attribute of the result table): '9:58:37.872 +2:53:44.88': No astronomical object found :\n",
      "  (error.line, error.msg))\n",
      " 95% (18032 of 18168) |################# | Elapsed Time: 1:09:11 ETA:   0:03:05/Users/rcarvajal/.miniconda3/lib/python3.7/site-packages/astroquery/simbad/core.py:138: UserWarning: Warning: The script line number 3 raised an error (recorded in the `errors` attribute of the result table): '10:01:04.152 +2:53:59.28': No astronomical object found :\n",
      "  (error.line, error.msg))\n",
      " 95% (18033 of 18168) |################# | Elapsed Time: 1:09:13 ETA:   0:03:11/Users/rcarvajal/.miniconda3/lib/python3.7/site-packages/astroquery/simbad/core.py:138: UserWarning: Warning: The script line number 3 raised an error (recorded in the `errors` attribute of the result table): '9:57:38.448 +2:54:00': No astronomical object found :\n",
      "  (error.line, error.msg))\n",
      " 95% (18034 of 18168) |################# | Elapsed Time: 1:09:14 ETA:   0:03:11/Users/rcarvajal/.miniconda3/lib/python3.7/site-packages/astroquery/simbad/core.py:138: UserWarning: Warning: The script line number 3 raised an error (recorded in the `errors` attribute of the result table): '10:02:38.64 +2:54:00': No astronomical object found :\n",
      "  (error.line, error.msg))\n",
      " 95% (18038 of 18168) |################# | Elapsed Time: 1:09:19 ETA:   0:03:32/Users/rcarvajal/.miniconda3/lib/python3.7/site-packages/astroquery/simbad/core.py:138: UserWarning: Warning: The script line number 3 raised an error (recorded in the `errors` attribute of the result table): '10:03:16.872 +2:54:05.4': No astronomical object found :\n",
      "  (error.line, error.msg))\n",
      " 95% (18044 of 18168) |################# | Elapsed Time: 1:09:28 ETA:   0:03:10/Users/rcarvajal/.miniconda3/lib/python3.7/site-packages/astroquery/simbad/core.py:138: UserWarning: Warning: The script line number 3 raised an error (recorded in the `errors` attribute of the result table): '9:59:19.488 +2:54:10.08': No astronomical object found :\n",
      "  (error.line, error.msg))\n",
      " 95% (18046 of 18168) |################# | Elapsed Time: 1:09:31 ETA:   0:02:56/Users/rcarvajal/.miniconda3/lib/python3.7/site-packages/astroquery/simbad/core.py:138: UserWarning: Warning: The script line number 3 raised an error (recorded in the `errors` attribute of the result table): '10:03:21.672 +2:54:11.16': No astronomical object found :\n",
      "  (error.line, error.msg))\n",
      " 96% (18047 of 18168) |################# | Elapsed Time: 1:09:32 ETA:   0:02:30/Users/rcarvajal/.miniconda3/lib/python3.7/site-packages/astroquery/simbad/core.py:138: UserWarning: Warning: The script line number 3 raised an error (recorded in the `errors` attribute of the result table): '10:02:43.32 +2:54:12.24': No astronomical object found :\n",
      "  (error.line, error.msg))\n",
      " 96% (18050 of 18168) |################# | Elapsed Time: 1:09:36 ETA:   0:03:01/Users/rcarvajal/.miniconda3/lib/python3.7/site-packages/astroquery/simbad/core.py:138: UserWarning: Warning: The script line number 3 raised an error (recorded in the `errors` attribute of the result table): '10:00:33.72 +2:54:14.76': No astronomical object found :\n",
      "  (error.line, error.msg))\n",
      " 96% (18052 of 18168) |################# | Elapsed Time: 1:09:38 ETA:   0:02:29/Users/rcarvajal/.miniconda3/lib/python3.7/site-packages/astroquery/simbad/core.py:138: UserWarning: Warning: The script line number 3 raised an error (recorded in the `errors` attribute of the result table): '10:02:43.44 +2:54:15.12': No astronomical object found :\n",
      "  (error.line, error.msg))\n",
      " 96% (18062 of 18168) |################# | Elapsed Time: 1:09:54 ETA:   0:02:36/Users/rcarvajal/.miniconda3/lib/python3.7/site-packages/astroquery/simbad/core.py:138: UserWarning: Warning: The script line number 3 raised an error (recorded in the `errors` attribute of the result table): '9:58:58.464 +2:54:32.04': No astronomical object found :\n",
      "  (error.line, error.msg))\n",
      " 96% (18063 of 18168) |################# | Elapsed Time: 1:09:55 ETA:   0:02:13/Users/rcarvajal/.miniconda3/lib/python3.7/site-packages/astroquery/simbad/core.py:138: UserWarning: Warning: The script line number 3 raised an error (recorded in the `errors` attribute of the result table): '10:02:38.256 +2:54:32.04': No astronomical object found :\n",
      "  (error.line, error.msg))\n",
      " 96% (18068 of 18168) |################# | Elapsed Time: 1:10:02 ETA:   0:02:40/Users/rcarvajal/.miniconda3/lib/python3.7/site-packages/astroquery/simbad/core.py:138: UserWarning: Warning: The script line number 3 raised an error (recorded in the `errors` attribute of the result table): '9:58:01.512 +2:54:39.24': No astronomical object found :\n",
      "  (error.line, error.msg))\n",
      " 96% (18069 of 18168) |################# | Elapsed Time: 1:10:03 ETA:   0:02:20/Users/rcarvajal/.miniconda3/lib/python3.7/site-packages/astroquery/simbad/core.py:138: UserWarning: Warning: The script line number 3 raised an error (recorded in the `errors` attribute of the result table): '9:59:36.168 +2:54:40.68': No astronomical object found :\n",
      "  (error.line, error.msg))\n",
      " 96% (18070 of 18168) |################# | Elapsed Time: 1:10:04 ETA:   0:02:14/Users/rcarvajal/.miniconda3/lib/python3.7/site-packages/astroquery/simbad/core.py:138: UserWarning: Warning: The script line number 3 raised an error (recorded in the `errors` attribute of the result table): '10:02:17.664 +2:54:41.4': No astronomical object found :\n",
      "  (error.line, error.msg))\n",
      " 97% (18077 of 18168) |################# | Elapsed Time: 1:10:15 ETA:   0:02:25/Users/rcarvajal/.miniconda3/lib/python3.7/site-packages/astroquery/simbad/core.py:138: UserWarning: Warning: The script line number 3 raised an error (recorded in the `errors` attribute of the result table): '9:59:46.776 +2:54:45.36': No astronomical object found :\n",
      "  (error.line, error.msg))\n",
      " 97% (18079 of 18168) |################# | Elapsed Time: 1:10:17 ETA:   0:01:50/Users/rcarvajal/.miniconda3/lib/python3.7/site-packages/astroquery/simbad/core.py:138: UserWarning: Warning: The script line number 3 raised an error (recorded in the `errors` attribute of the result table): '9:58:20.112 +2:54:45.36': No astronomical object found :\n",
      "  (error.line, error.msg))\n",
      " 97% (18080 of 18168) |################# | Elapsed Time: 1:10:19 ETA:   0:01:52/Users/rcarvajal/.miniconda3/lib/python3.7/site-packages/astroquery/simbad/core.py:138: UserWarning: Warning: The script line number 3 raised an error (recorded in the `errors` attribute of the result table): '10:01:40.056 +2:54:47.16': No astronomical object found :\n",
      "  (error.line, error.msg))\n",
      " 97% (18081 of 18168) |################# | Elapsed Time: 1:10:20 ETA:   0:02:02/Users/rcarvajal/.miniconda3/lib/python3.7/site-packages/astroquery/simbad/core.py:138: UserWarning: Warning: The script line number 3 raised an error (recorded in the `errors` attribute of the result table): '9:59:50.544 +2:54:48.24': No astronomical object found :\n",
      "  (error.line, error.msg))\n",
      " 97% (18082 of 18168) |################# | Elapsed Time: 1:10:21 ETA:   0:02:02/Users/rcarvajal/.miniconda3/lib/python3.7/site-packages/astroquery/simbad/core.py:138: UserWarning: Warning: The script line number 3 raised an error (recorded in the `errors` attribute of the result table): '10:01:11.688 +2:54:52.56': No astronomical object found :\n",
      "  (error.line, error.msg))\n",
      " 97% (18083 of 18168) |################# | Elapsed Time: 1:10:23 ETA:   0:01:57/Users/rcarvajal/.miniconda3/lib/python3.7/site-packages/astroquery/simbad/core.py:138: UserWarning: Warning: The script line number 3 raised an error (recorded in the `errors` attribute of the result table): '10:00:37.008 +2:54:54': No astronomical object found :\n",
      "  (error.line, error.msg))\n",
      " 97% (18084 of 18168) |################# | Elapsed Time: 1:10:24 ETA:   0:02:00/Users/rcarvajal/.miniconda3/lib/python3.7/site-packages/astroquery/simbad/core.py:138: UserWarning: Warning: The script line number 3 raised an error (recorded in the `errors` attribute of the result table): '10:00:38.28 +2:54:54.72': No astronomical object found :\n",
      "  (error.line, error.msg))\n",
      " 97% (18085 of 18168) |################# | Elapsed Time: 1:10:26 ETA:   0:01:59/Users/rcarvajal/.miniconda3/lib/python3.7/site-packages/astroquery/simbad/core.py:138: UserWarning: Warning: The script line number 3 raised an error (recorded in the `errors` attribute of the result table): '9:59:30.48 +2:54:55.08': No astronomical object found :\n",
      "  (error.line, error.msg))\n",
      " 97% (18086 of 18168) |################# | Elapsed Time: 1:10:27 ETA:   0:01:49/Users/rcarvajal/.miniconda3/lib/python3.7/site-packages/astroquery/simbad/core.py:138: UserWarning: Warning: The script line number 3 raised an error (recorded in the `errors` attribute of the result table): '10:00:01.488 +2:54:56.16': No astronomical object found :\n",
      "  (error.line, error.msg))\n",
      " 97% (18087 of 18168) |################# | Elapsed Time: 1:10:29 ETA:   0:02:00/Users/rcarvajal/.miniconda3/lib/python3.7/site-packages/astroquery/simbad/core.py:138: UserWarning: Warning: The script line number 3 raised an error (recorded in the `errors` attribute of the result table): '9:59:19.968 +2:55:00.12': No astronomical object found :\n",
      "  (error.line, error.msg))\n",
      " 97% (18088 of 18168) |################# | Elapsed Time: 1:10:30 ETA:   0:02:07/Users/rcarvajal/.miniconda3/lib/python3.7/site-packages/astroquery/simbad/core.py:138: UserWarning: Warning: The script line number 3 raised an error (recorded in the `errors` attribute of the result table): '10:01:27.552 +2:55:02.64': No astronomical object found :\n",
      "  (error.line, error.msg))\n",
      " 97% (18090 of 18168) |################# | Elapsed Time: 1:10:33 ETA:   0:01:36/Users/rcarvajal/.miniconda3/lib/python3.7/site-packages/astroquery/simbad/core.py:138: UserWarning: Warning: The script line number 3 raised an error (recorded in the `errors` attribute of the result table): '9:59:02.328 +2:55:06.96': No astronomical object found :\n",
      "  (error.line, error.msg))\n",
      " 97% (18092 of 18168) |################# | Elapsed Time: 1:10:35 ETA:   0:01:45/Users/rcarvajal/.miniconda3/lib/python3.7/site-packages/astroquery/simbad/core.py:138: UserWarning: Warning: The script line number 3 raised an error (recorded in the `errors` attribute of the result table): '9:59:44.64 +2:55:08.76': No astronomical object found :\n",
      "  (error.line, error.msg))\n",
      " 97% (18093 of 18168) |################# | Elapsed Time: 1:10:37 ETA:   0:01:59/Users/rcarvajal/.miniconda3/lib/python3.7/site-packages/astroquery/simbad/core.py:138: UserWarning: Warning: The script line number 3 raised an error (recorded in the `errors` attribute of the result table): '9:59:19.68 +2:55:09.12': No astronomical object found :\n",
      "  (error.line, error.msg))\n",
      " 97% (18094 of 18168) |################# | Elapsed Time: 1:10:39 ETA:   0:01:58/Users/rcarvajal/.miniconda3/lib/python3.7/site-packages/astroquery/simbad/core.py:138: UserWarning: Warning: The script line number 3 raised an error (recorded in the `errors` attribute of the result table): '9:57:33.648 +2:55:09.84': No astronomical object found :\n",
      "  (error.line, error.msg))\n",
      " 97% (18095 of 18168) |################# | Elapsed Time: 1:10:40 ETA:   0:01:40/Users/rcarvajal/.miniconda3/lib/python3.7/site-packages/astroquery/simbad/core.py:138: UserWarning: Warning: The script line number 3 raised an error (recorded in the `errors` attribute of the result table): '9:58:36.072 +2:55:09.84': No astronomical object found :\n",
      "  (error.line, error.msg))\n",
      " 97% (18096 of 18168) |################# | Elapsed Time: 1:10:41 ETA:   0:01:32/Users/rcarvajal/.miniconda3/lib/python3.7/site-packages/astroquery/simbad/core.py:138: UserWarning: Warning: The script line number 3 raised an error (recorded in the `errors` attribute of the result table): '10:01:37.368 +2:55:10.2': No astronomical object found :\n",
      "  (error.line, error.msg))\n",
      " 97% (18097 of 18168) |################# | Elapsed Time: 1:10:43 ETA:   0:01:36/Users/rcarvajal/.miniconda3/lib/python3.7/site-packages/astroquery/simbad/core.py:138: UserWarning: Warning: The script line number 3 raised an error (recorded in the `errors` attribute of the result table): '10:02:32.376 +2:55:11.64': No astronomical object found :\n",
      "  (error.line, error.msg))\n",
      " 97% (18098 of 18168) |################# | Elapsed Time: 1:10:44 ETA:   0:01:28/Users/rcarvajal/.miniconda3/lib/python3.7/site-packages/astroquery/simbad/core.py:138: UserWarning: Warning: The script line number 3 raised an error (recorded in the `errors` attribute of the result table): '10:02:20.016 +2:55:12.36': No astronomical object found :\n",
      "  (error.line, error.msg))\n",
      " 97% (18099 of 18168) |################# | Elapsed Time: 1:10:45 ETA:   0:01:13/Users/rcarvajal/.miniconda3/lib/python3.7/site-packages/astroquery/simbad/core.py:138: UserWarning: Warning: The script line number 3 raised an error (recorded in the `errors` attribute of the result table): '10:02:22.632 +2:55:12.72': No astronomical object found :\n",
      "  (error.line, error.msg))\n",
      " 97% (18100 of 18168) |################# | Elapsed Time: 1:10:46 ETA:   0:01:10/Users/rcarvajal/.miniconda3/lib/python3.7/site-packages/astroquery/simbad/core.py:138: UserWarning: Warning: The script line number 3 raised an error (recorded in the `errors` attribute of the result table): '9:58:52.08 +2:55:15.6': No astronomical object found :\n",
      "  (error.line, error.msg))\n",
      " 97% (18101 of 18168) |################# | Elapsed Time: 1:10:47 ETA:   0:01:17/Users/rcarvajal/.miniconda3/lib/python3.7/site-packages/astroquery/simbad/core.py:138: UserWarning: Warning: The script line number 3 raised an error (recorded in the `errors` attribute of the result table): '10:00:34.8 +2:55:15.6': No astronomical object found :\n",
      "  (error.line, error.msg))\n",
      " 97% (18103 of 18168) |################# | Elapsed Time: 1:10:50 ETA:   0:01:46/Users/rcarvajal/.miniconda3/lib/python3.7/site-packages/astroquery/simbad/core.py:138: UserWarning: Warning: The script line number 3 raised an error (recorded in the `errors` attribute of the result table): '10:00:13.776 +2:55:17.4': No astronomical object found :\n",
      "  (error.line, error.msg))\n",
      " 97% (18104 of 18168) |################# | Elapsed Time: 1:10:52 ETA:   0:01:39/Users/rcarvajal/.miniconda3/lib/python3.7/site-packages/astroquery/simbad/core.py:138: UserWarning: Warning: The script line number 3 raised an error (recorded in the `errors` attribute of the result table): '9:58:30.096 +2:55:19.2': No astronomical object found :\n",
      "  (error.line, error.msg))\n",
      " 97% (18105 of 18168) |################# | Elapsed Time: 1:10:53 ETA:   0:01:27/Users/rcarvajal/.miniconda3/lib/python3.7/site-packages/astroquery/simbad/core.py:138: UserWarning: Warning: The script line number 3 raised an error (recorded in the `errors` attribute of the result table): '10:00:18.6 +2:55:19.92': No astronomical object found :\n",
      "  (error.line, error.msg))\n",
      " 97% (18106 of 18168) |################# | Elapsed Time: 1:10:55 ETA:   0:01:39/Users/rcarvajal/.miniconda3/lib/python3.7/site-packages/astroquery/simbad/core.py:138: UserWarning: Warning: The script line number 3 raised an error (recorded in the `errors` attribute of the result table): '10:02:49.176 +2:55:22.08': No astronomical object found :\n",
      "  (error.line, error.msg))\n",
      " 97% (18107 of 18168) |################# | Elapsed Time: 1:10:56 ETA:   0:01:22/Users/rcarvajal/.miniconda3/lib/python3.7/site-packages/astroquery/simbad/core.py:138: UserWarning: Warning: The script line number 3 raised an error (recorded in the `errors` attribute of the result table): '9:59:59.184 +2:55:22.44': No astronomical object found :\n",
      "  (error.line, error.msg))\n",
      " 98% (18108 of 18168) |################# | Elapsed Time: 1:10:57 ETA:   0:01:11/Users/rcarvajal/.miniconda3/lib/python3.7/site-packages/astroquery/simbad/core.py:138: UserWarning: Warning: The script line number 3 raised an error (recorded in the `errors` attribute of the result table): '10:00:09.264 +2:55:24.24': No astronomical object found :\n",
      "  (error.line, error.msg))\n",
      " 98% (18110 of 18168) |################# | Elapsed Time: 1:11:00 ETA:   0:01:30/Users/rcarvajal/.miniconda3/lib/python3.7/site-packages/astroquery/simbad/core.py:138: UserWarning: Warning: The script line number 3 raised an error (recorded in the `errors` attribute of the result table): '9:59:02.352 +2:55:26.04': No astronomical object found :\n",
      "  (error.line, error.msg))\n",
      " 98% (18111 of 18168) |################# | Elapsed Time: 1:11:02 ETA:   0:01:27/Users/rcarvajal/.miniconda3/lib/python3.7/site-packages/astroquery/simbad/core.py:138: UserWarning: Warning: The script line number 3 raised an error (recorded in the `errors` attribute of the result table): '10:02:39.24 +2:55:27.48': No astronomical object found :\n",
      "  (error.line, error.msg))\n",
      " 98% (18112 of 18168) |################# | Elapsed Time: 1:11:03 ETA:   0:01:05/Users/rcarvajal/.miniconda3/lib/python3.7/site-packages/astroquery/simbad/core.py:138: UserWarning: Warning: The script line number 3 raised an error (recorded in the `errors` attribute of the result table): '10:01:20.208 +2:55:30': No astronomical object found :\n",
      "  (error.line, error.msg))\n",
      " 98% (18113 of 18168) |################# | Elapsed Time: 1:11:04 ETA:   0:01:04/Users/rcarvajal/.miniconda3/lib/python3.7/site-packages/astroquery/simbad/core.py:138: UserWarning: Warning: The script line number 3 raised an error (recorded in the `errors` attribute of the result table): '10:00:05.832 +2:55:31.08': No astronomical object found :\n",
      "  (error.line, error.msg))\n",
      " 98% (18114 of 18168) |################# | Elapsed Time: 1:11:05 ETA:   0:01:13/Users/rcarvajal/.miniconda3/lib/python3.7/site-packages/astroquery/simbad/core.py:138: UserWarning: Warning: The script line number 3 raised an error (recorded in the `errors` attribute of the result table): '10:01:38.496 +2:55:31.8': No astronomical object found :\n",
      "  (error.line, error.msg))\n",
      " 98% (18115 of 18168) |################# | Elapsed Time: 1:11:07 ETA:   0:01:18/Users/rcarvajal/.miniconda3/lib/python3.7/site-packages/astroquery/simbad/core.py:138: UserWarning: Warning: The script line number 3 raised an error (recorded in the `errors` attribute of the result table): '10:02:42.528 +2:55:32.88': No astronomical object found :\n",
      "  (error.line, error.msg))\n",
      " 98% (18116 of 18168) |################# | Elapsed Time: 1:11:08 ETA:   0:01:10/Users/rcarvajal/.miniconda3/lib/python3.7/site-packages/astroquery/simbad/core.py:138: UserWarning: Warning: The script line number 3 raised an error (recorded in the `errors` attribute of the result table): '10:00:08.76 +2:55:33.96': No astronomical object found :\n",
      "  (error.line, error.msg))\n",
      " 98% (18117 of 18168) |################# | Elapsed Time: 1:11:10 ETA:   0:01:07/Users/rcarvajal/.miniconda3/lib/python3.7/site-packages/astroquery/simbad/core.py:138: UserWarning: Warning: The script line number 3 raised an error (recorded in the `errors` attribute of the result table): '10:00:35.136 +2:55:34.68': No astronomical object found :\n",
      "  (error.line, error.msg))\n",
      " 98% (18118 of 18168) |################# | Elapsed Time: 1:11:11 ETA:   0:01:15/Users/rcarvajal/.miniconda3/lib/python3.7/site-packages/astroquery/simbad/core.py:138: UserWarning: Warning: The script line number 3 raised an error (recorded in the `errors` attribute of the result table): '10:01:09.672 +2:55:34.68': No astronomical object found :\n",
      "  (error.line, error.msg))\n",
      " 98% (18119 of 18168) |################# | Elapsed Time: 1:11:13 ETA:   0:01:15/Users/rcarvajal/.miniconda3/lib/python3.7/site-packages/astroquery/simbad/core.py:138: UserWarning: Warning: The script line number 3 raised an error (recorded in the `errors` attribute of the result table): '10:00:17.52 +2:55:37.2': No astronomical object found :\n",
      "  (error.line, error.msg))\n",
      " 98% (18120 of 18168) |################# | Elapsed Time: 1:11:14 ETA:   0:01:12/Users/rcarvajal/.miniconda3/lib/python3.7/site-packages/astroquery/simbad/core.py:138: UserWarning: Warning: The script line number 3 raised an error (recorded in the `errors` attribute of the result table): '10:02:47.064 +2:55:44.4': No astronomical object found :\n",
      "  (error.line, error.msg))\n",
      " 98% (18122 of 18168) |################# | Elapsed Time: 1:11:17 ETA:   0:01:03/Users/rcarvajal/.miniconda3/lib/python3.7/site-packages/astroquery/simbad/core.py:138: UserWarning: Warning: The script line number 3 raised an error (recorded in the `errors` attribute of the result table): '10:01:37.368 +2:55:46.2': No astronomical object found :\n",
      "  (error.line, error.msg))\n",
      " 98% (18123 of 18168) |################# | Elapsed Time: 1:11:18 ETA:   0:01:05/Users/rcarvajal/.miniconda3/lib/python3.7/site-packages/astroquery/simbad/core.py:138: UserWarning: Warning: The script line number 3 raised an error (recorded in the `errors` attribute of the result table): '9:58:23.856 +2:55:48.36': No astronomical object found :\n",
      "  (error.line, error.msg))\n",
      " 98% (18124 of 18168) |################# | Elapsed Time: 1:11:19 ETA:   0:00:57/Users/rcarvajal/.miniconda3/lib/python3.7/site-packages/astroquery/simbad/core.py:138: UserWarning: Warning: The script line number 3 raised an error (recorded in the `errors` attribute of the result table): '9:57:49.08 +2:55:49.44': No astronomical object found :\n",
      "  (error.line, error.msg))\n",
      " 98% (18126 of 18168) |################# | Elapsed Time: 1:11:22 ETA:   0:01:02/Users/rcarvajal/.miniconda3/lib/python3.7/site-packages/astroquery/simbad/core.py:138: UserWarning: Warning: The script line number 3 raised an error (recorded in the `errors` attribute of the result table): '10:01:33.024 +2:55:53.4': No astronomical object found :\n",
      "  (error.line, error.msg))\n",
      " 98% (18127 of 18168) |################# | Elapsed Time: 1:11:24 ETA:   0:01:01/Users/rcarvajal/.miniconda3/lib/python3.7/site-packages/astroquery/simbad/core.py:138: UserWarning: Warning: The script line number 3 raised an error (recorded in the `errors` attribute of the result table): '10:00:41.952 +2:55:54.12': No astronomical object found :\n",
      "  (error.line, error.msg))\n",
      " 98% (18128 of 18168) |################# | Elapsed Time: 1:11:25 ETA:   0:00:56/Users/rcarvajal/.miniconda3/lib/python3.7/site-packages/astroquery/simbad/core.py:138: UserWarning: Warning: The script line number 3 raised an error (recorded in the `errors` attribute of the result table): '10:01:12.24 +2:55:57.36': No astronomical object found :\n",
      "  (error.line, error.msg))\n",
      " 98% (18129 of 18168) |################# | Elapsed Time: 1:11:27 ETA:   0:00:54/Users/rcarvajal/.miniconda3/lib/python3.7/site-packages/astroquery/simbad/core.py:138: UserWarning: Warning: The script line number 3 raised an error (recorded in the `errors` attribute of the result table): '9:59:23.568 +2:55:58.44': No astronomical object found :\n",
      "  (error.line, error.msg))\n",
      " 98% (18130 of 18168) |################# | Elapsed Time: 1:11:28 ETA:   0:00:51/Users/rcarvajal/.miniconda3/lib/python3.7/site-packages/astroquery/simbad/core.py:138: UserWarning: Warning: The script line number 3 raised an error (recorded in the `errors` attribute of the result table): '10:01:43.56 +2:55:58.8': No astronomical object found :\n",
      "  (error.line, error.msg))\n",
      " 98% (18131 of 18168) |################# | Elapsed Time: 1:11:30 ETA:   0:00:54/Users/rcarvajal/.miniconda3/lib/python3.7/site-packages/astroquery/simbad/core.py:138: UserWarning: Warning: The script line number 3 raised an error (recorded in the `errors` attribute of the result table): '9:58:13.128 +2:55:59.16': No astronomical object found :\n",
      "  (error.line, error.msg))\n",
      " 98% (18133 of 18168) |################# | Elapsed Time: 1:11:32 ETA:   0:00:37/Users/rcarvajal/.miniconda3/lib/python3.7/site-packages/astroquery/simbad/core.py:138: UserWarning: Warning: The script line number 3 raised an error (recorded in the `errors` attribute of the result table): '10:00:58.872 +2:56:00.6': No astronomical object found :\n",
      "  (error.line, error.msg))\n",
      " 98% (18134 of 18168) |################# | Elapsed Time: 1:11:33 ETA:   0:00:39/Users/rcarvajal/.miniconda3/lib/python3.7/site-packages/astroquery/simbad/core.py:138: UserWarning: Warning: The script line number 3 raised an error (recorded in the `errors` attribute of the result table): '9:59:38.568 +2:56:04.56': No astronomical object found :\n",
      "  (error.line, error.msg))\n",
      " 98% (18135 of 18168) |################# | Elapsed Time: 1:11:35 ETA:   0:00:46/Users/rcarvajal/.miniconda3/lib/python3.7/site-packages/astroquery/simbad/core.py:138: UserWarning: Warning: The script line number 3 raised an error (recorded in the `errors` attribute of the result table): '10:02:12.768 +2:56:06.72': No astronomical object found :\n",
      "  (error.line, error.msg))\n",
      " 98% (18136 of 18168) |################# | Elapsed Time: 1:11:36 ETA:   0:00:39/Users/rcarvajal/.miniconda3/lib/python3.7/site-packages/astroquery/simbad/core.py:138: UserWarning: Warning: The script line number 3 raised an error (recorded in the `errors` attribute of the result table): '9:59:33.36 +2:56:10.32': No astronomical object found :\n",
      "  (error.line, error.msg))\n",
      " 98% (18137 of 18168) |################# | Elapsed Time: 1:11:37 ETA:   0:00:38/Users/rcarvajal/.miniconda3/lib/python3.7/site-packages/astroquery/simbad/core.py:138: UserWarning: Warning: The script line number 3 raised an error (recorded in the `errors` attribute of the result table): '10:02:18.384 +2:56:13.2': No astronomical object found :\n",
      "  (error.line, error.msg))\n",
      " 99% (18138 of 18168) |################# | Elapsed Time: 1:11:38 ETA:   0:00:36/Users/rcarvajal/.miniconda3/lib/python3.7/site-packages/astroquery/simbad/core.py:138: UserWarning: Warning: The script line number 3 raised an error (recorded in the `errors` attribute of the result table): '9:58:44.112 +2:56:13.92': No astronomical object found :\n",
      "  (error.line, error.msg))\n",
      " 99% (18139 of 18168) |################# | Elapsed Time: 1:11:40 ETA:   0:00:34/Users/rcarvajal/.miniconda3/lib/python3.7/site-packages/astroquery/simbad/core.py:138: UserWarning: Warning: The script line number 3 raised an error (recorded in the `errors` attribute of the result table): '9:59:06.72 +2:56:14.28': No astronomical object found :\n",
      "  (error.line, error.msg))\n",
      " 99% (18140 of 18168) |################# | Elapsed Time: 1:11:41 ETA:   0:00:39/Users/rcarvajal/.miniconda3/lib/python3.7/site-packages/astroquery/simbad/core.py:138: UserWarning: Warning: The script line number 3 raised an error (recorded in the `errors` attribute of the result table): '9:59:47.856 +2:56:14.28': No astronomical object found :\n",
      "  (error.line, error.msg))\n",
      " 99% (18141 of 18168) |################# | Elapsed Time: 1:11:43 ETA:   0:00:39/Users/rcarvajal/.miniconda3/lib/python3.7/site-packages/astroquery/simbad/core.py:138: UserWarning: Warning: The script line number 3 raised an error (recorded in the `errors` attribute of the result table): '10:02:20.112 +2:56:14.64': No astronomical object found :\n",
      "  (error.line, error.msg))\n",
      " 99% (18144 of 18168) |################# | Elapsed Time: 1:11:47 ETA:   0:00:42/Users/rcarvajal/.miniconda3/lib/python3.7/site-packages/astroquery/simbad/core.py:138: UserWarning: Warning: The script line number 3 raised an error (recorded in the `errors` attribute of the result table): '9:58:09.24 +2:56:18.96': No astronomical object found :\n",
      "  (error.line, error.msg))\n",
      " 99% (18145 of 18168) |################# | Elapsed Time: 1:11:49 ETA:   0:00:37/Users/rcarvajal/.miniconda3/lib/python3.7/site-packages/astroquery/simbad/core.py:138: UserWarning: Warning: The script line number 3 raised an error (recorded in the `errors` attribute of the result table): '9:58:58.896 +2:56:19.68': No astronomical object found :\n",
      "  (error.line, error.msg))\n",
      " 99% (18146 of 18168) |################# | Elapsed Time: 1:11:50 ETA:   0:00:32/Users/rcarvajal/.miniconda3/lib/python3.7/site-packages/astroquery/simbad/core.py:138: UserWarning: Warning: The script line number 3 raised an error (recorded in the `errors` attribute of the result table): '10:01:57.264 +2:56:21.12': No astronomical object found :\n",
      "  (error.line, error.msg))\n",
      " 99% (18148 of 18168) |################# | Elapsed Time: 1:11:53 ETA:   0:00:27/Users/rcarvajal/.miniconda3/lib/python3.7/site-packages/astroquery/simbad/core.py:138: UserWarning: Warning: The script line number 3 raised an error (recorded in the `errors` attribute of the result table): '10:03:14.184 +2:56:23.64': No astronomical object found :\n",
      "  (error.line, error.msg))\n",
      " 99% (18149 of 18168) |################# | Elapsed Time: 1:11:54 ETA:   0:00:25/Users/rcarvajal/.miniconda3/lib/python3.7/site-packages/astroquery/simbad/core.py:138: UserWarning: Warning: The script line number 3 raised an error (recorded in the `errors` attribute of the result table): '10:01:35.568 +2:56:24.36': No astronomical object found :\n",
      "  (error.line, error.msg))\n",
      " 99% (18150 of 18168) |################# | Elapsed Time: 1:11:55 ETA:   0:00:22/Users/rcarvajal/.miniconda3/lib/python3.7/site-packages/astroquery/simbad/core.py:138: UserWarning: Warning: The script line number 3 raised an error (recorded in the `errors` attribute of the result table): '10:00:20.352 +2:56:24.36': No astronomical object found :\n",
      "  (error.line, error.msg))\n",
      " 99% (18151 of 18168) |################# | Elapsed Time: 1:11:56 ETA:   0:00:23/Users/rcarvajal/.miniconda3/lib/python3.7/site-packages/astroquery/simbad/core.py:138: UserWarning: Warning: The script line number 3 raised an error (recorded in the `errors` attribute of the result table): '9:58:09.144 +2:56:27.6': No astronomical object found :\n",
      "  (error.line, error.msg))\n",
      " 99% (18152 of 18168) |################# | Elapsed Time: 1:11:58 ETA:   0:00:21/Users/rcarvajal/.miniconda3/lib/python3.7/site-packages/astroquery/simbad/core.py:138: UserWarning: Warning: The script line number 3 raised an error (recorded in the `errors` attribute of the result table): '10:02:14.424 +2:56:31.2': No astronomical object found :\n",
      "  (error.line, error.msg))\n",
      " 99% (18153 of 18168) |################# | Elapsed Time: 1:11:59 ETA:   0:00:18/Users/rcarvajal/.miniconda3/lib/python3.7/site-packages/astroquery/simbad/core.py:138: UserWarning: Warning: The script line number 3 raised an error (recorded in the `errors` attribute of the result table): '9:58:47.472 +2:56:33': No astronomical object found :\n",
      "  (error.line, error.msg))\n",
      " 99% (18155 of 18168) |################# | Elapsed Time: 1:12:02 ETA:   0:00:21/Users/rcarvajal/.miniconda3/lib/python3.7/site-packages/astroquery/simbad/core.py:138: UserWarning: Warning: The script line number 3 raised an error (recorded in the `errors` attribute of the result table): '9:58:41.544 +2:56:33': No astronomical object found :\n",
      "  (error.line, error.msg))\n",
      " 99% (18156 of 18168) |################# | Elapsed Time: 1:12:04 ETA:   0:00:19/Users/rcarvajal/.miniconda3/lib/python3.7/site-packages/astroquery/simbad/core.py:138: UserWarning: Warning: The script line number 3 raised an error (recorded in the `errors` attribute of the result table): '10:02:45.888 +2:56:34.08': No astronomical object found :\n",
      "  (error.line, error.msg))\n",
      " 99% (18157 of 18168) |################# | Elapsed Time: 1:12:05 ETA:   0:00:12/Users/rcarvajal/.miniconda3/lib/python3.7/site-packages/astroquery/simbad/core.py:138: UserWarning: Warning: The script line number 3 raised an error (recorded in the `errors` attribute of the result table): '10:02:38.928 +2:56:34.44': No astronomical object found :\n",
      "  (error.line, error.msg))\n",
      " 99% (18158 of 18168) |################# | Elapsed Time: 1:12:06 ETA:   0:00:10/Users/rcarvajal/.miniconda3/lib/python3.7/site-packages/astroquery/simbad/core.py:138: UserWarning: Warning: The script line number 3 raised an error (recorded in the `errors` attribute of the result table): '10:00:06.12 +2:56:38.04': No astronomical object found :\n",
      "  (error.line, error.msg))\n",
      " 99% (18159 of 18168) |################# | Elapsed Time: 1:12:07 ETA:   0:00:11/Users/rcarvajal/.miniconda3/lib/python3.7/site-packages/astroquery/simbad/core.py:138: UserWarning: Warning: The script line number 3 raised an error (recorded in the `errors` attribute of the result table): '9:59:32.52 +2:56:39.12': No astronomical object found :\n",
      "  (error.line, error.msg))\n",
      " 99% (18161 of 18168) |################# | Elapsed Time: 1:12:10 ETA:   0:00:10/Users/rcarvajal/.miniconda3/lib/python3.7/site-packages/astroquery/simbad/core.py:138: UserWarning: Warning: The script line number 3 raised an error (recorded in the `errors` attribute of the result table): '9:59:38.496 +2:56:40.2': No astronomical object found :\n",
      "  (error.line, error.msg))\n",
      " 99% (18162 of 18168) |################# | Elapsed Time: 1:12:12 ETA:   0:00:08/Users/rcarvajal/.miniconda3/lib/python3.7/site-packages/astroquery/simbad/core.py:138: UserWarning: Warning: The script line number 3 raised an error (recorded in the `errors` attribute of the result table): '10:00:46.896 +2:56:40.2': No astronomical object found :\n",
      "  (error.line, error.msg))\n",
      " 99% (18165 of 18168) |################# | Elapsed Time: 1:12:16 ETA:   0:00:04/Users/rcarvajal/.miniconda3/lib/python3.7/site-packages/astroquery/simbad/core.py:138: UserWarning: Warning: The script line number 3 raised an error (recorded in the `errors` attribute of the result table): '9:59:45.816 +2:59:24.36': No astronomical object found :\n",
      "  (error.line, error.msg))\n",
      " 99% (18166 of 18168) |################# | Elapsed Time: 1:12:18 ETA:   0:00:03/Users/rcarvajal/.miniconda3/lib/python3.7/site-packages/astroquery/simbad/core.py:138: UserWarning: Warning: The script line number 3 raised an error (recorded in the `errors` attribute of the result table): '10:01:38.544 +3:01:05.88': No astronomical object found :\n",
      "  (error.line, error.msg))\n",
      "100% (18168 of 18168) |##################| Elapsed Time: 1:12:19 Time:  1:12:19\n"
     ]
    }
   ],
   "source": [
    "if query_simbad_flag:\n",
    "    with progressbar.ProgressBar(min_value=(limit_set*3 + 1 + limit_set_cosmos*2), max_value=np.shape(large_sample_coords)[0]) as bar:\n",
    "        for index, coord in enumerate(large_sample_coords[(limit_set*3 + 1 + limit_set_cosmos*2):]):\n",
    "            temp_table      = Table()\n",
    "            try:\n",
    "                temp_table      = customSimbad.query_region(coord, radius=2.5*u.arcsec)\n",
    "                if len(temp_table) == 0:\n",
    "                    temp_table      = Table(names=('RA_d', 'DEC_d'), dtype=(result_table_simbad['RA_d'].info.dtype, result_table_simbad['DEC_d'].info.dtype))\n",
    "                    temp_table.add_row((coord.ra.deg, coord.dec.deg))\n",
    "                temp_table.meta['description'] = 'Simbad_q'\n",
    "            except:\n",
    "                temp_table      = Table(names=('RA_d', 'DEC_d'), dtype=(result_table_simbad['RA_d'].info.dtype, result_table_simbad['DEC_d'].info.dtype))\n",
    "                temp_table.add_row((coord.ra.deg, coord.dec.deg))\n",
    "                temp_table.meta['description'] = 'Simbad_q'\n",
    "                # print(f'Error with element {(index + limit_set*3 + 1 + limit_set_cosmos*2)} of the sample')\n",
    "                query_error += 1\n",
    "            try:\n",
    "                if temp_table['RA_d'].unit != 'deg':\n",
    "                    replacement_col     = MaskedColumn(temp_table['RA_d'].data, dtype=result_table_simbad['RA_d'].dtype, unit=result_table_simbad['RA_d'].unit, format=result_table_simbad['RA_d'].format, description=result_table_simbad['RA_d'].description)\n",
    "                    temp_table['RA_d']  = replacement_col\n",
    "                if temp_table['DEC_d'].unit != 'deg':\n",
    "                    replacement_col     = MaskedColumn(temp_table['DEC_d'].data, dtype=result_table_simbad['DEC_d'].dtype, unit=result_table_simbad['DEC_d'].unit, format=result_table_simbad['DEC_d'].format, description=result_table_simbad['DEC_d'].description)\n",
    "                    temp_table['DEC_d']  = replacement_col\n",
    "                result_table_simbad = vstack([result_table_simbad, temp_table[0]])\n",
    "            except:\n",
    "                print(f'Error with element {(index + limit_set*3 + 1 + limit_set_cosmos*2)} of the sample')\n",
    "                temp_table      = Table(names=('RA_d', 'DEC_d'), dtype=(result_table_simbad['RA_d'].info.dtype, result_table_simbad['DEC_d'].info.dtype))\n",
    "                temp_table.add_row((coord.ra.deg, coord.dec.deg))\n",
    "                temp_table.meta['description'] = 'Simbad_q'\n",
    "                result_table_simbad = vstack([result_table_simbad, temp_table[0]])\n",
    "                final_error += 1\n",
    "            bar.update(index + limit_set*3 + 1 + limit_set_cosmos*2)"
   ]
  },
  {
   "cell_type": "markdown",
   "metadata": {},
   "source": [
    "Query remaining sources"
   ]
  },
  {
   "cell_type": "markdown",
   "metadata": {},
   "source": [
    "We save the query to a file for future executions."
   ]
  },
  {
   "cell_type": "code",
   "execution_count": 52,
   "metadata": {},
   "outputs": [],
   "source": [
    "if query_simbad_flag:\n",
    "    result_table_simbad.info"
   ]
  },
  {
   "cell_type": "code",
   "execution_count": 53,
   "metadata": {},
   "outputs": [],
   "source": [
    "if query_simbad_flag:\n",
    "    result_table_simbad.write(cat_path + 'large_cat_simbad_query_jun2020.csv', format='ascii.csv', overwrite=True, serialize_method='data_mask')"
   ]
  },
  {
   "cell_type": "markdown",
   "metadata": {},
   "source": [
    "Steps to create a copy of table to save it as `fits` file."
   ]
  },
  {
   "cell_type": "code",
   "execution_count": 54,
   "metadata": {},
   "outputs": [],
   "source": [
    "if query_simbad_flag:\n",
    "    copy_simbad_to_write = result_table_simbad\n",
    "    str_id = copy_simbad_to_write['MAIN_ID'].astype('str')\n",
    "    copy_simbad_to_write.replace_column('MAIN_ID', str_id)"
   ]
  },
  {
   "cell_type": "code",
   "execution_count": 55,
   "metadata": {},
   "outputs": [],
   "source": [
    "if query_simbad_flag:\n",
    "    copy_simbad_to_write.info"
   ]
  },
  {
   "cell_type": "code",
   "execution_count": 56,
   "metadata": {},
   "outputs": [
    {
     "name": "stderr",
     "output_type": "stream",
     "text": [
      "WARNING: VerifyWarning: Keyword name 'description' is greater than 8 characters or contains characters not allowed by the FITS standard; a HIERARCH card will be created. [astropy.io.fits.card]\n"
     ]
    }
   ],
   "source": [
    "if query_simbad_flag:\n",
    "    copy_simbad_to_write.write(cat_path + 'large_cat_simbad_query_jun2020.fits', format='fits', overwrite=True, serialize_method='data_mask')"
   ]
  },
  {
   "cell_type": "markdown",
   "metadata": {},
   "source": [
    "To save running time, we can load the data from a file."
   ]
  },
  {
   "cell_type": "code",
   "execution_count": 57,
   "metadata": {},
   "outputs": [],
   "source": [
    "#if load_simbad_flag:\n",
    "#    result_table_simbad = Table.read(cat_path + 'large_cat_simbad_query.csv', format='ascii.csv')"
   ]
  },
  {
   "cell_type": "code",
   "execution_count": 115,
   "metadata": {},
   "outputs": [],
   "source": [
    "if load_simbad_flag:\n",
    "    result_table_simbad     = Table.read(cat_path + 'large_cat_simbad_query_jun2020.fits');"
   ]
  },
  {
   "cell_type": "code",
   "execution_count": 76,
   "metadata": {},
   "outputs": [
    {
     "data": {
      "text/plain": [
       "<Table length=18168>\n",
       "    name      dtype  unit  format           description          n_bad\n",
       "------------ ------- ---- -------- ----------------------------- -----\n",
       "     MAIN_ID bytes41               Main identifier for an object   825\n",
       "        RA_d float64  deg {:11.8f}               Right ascension     0\n",
       "       DEC_d float64  deg {:12.8f}                   Declination     0\n",
       "     Z_VALUE float64      {:16.7f}                      Redshift  1812\n",
       "      FLUX_B float32  mag                            Magnitude B  9196\n",
       "FLUX_ERROR_B float32      {:12.3f}                    flux error 11536\n",
       "      FLUX_V float32  mag                            Magnitude V  9089\n",
       "FLUX_ERROR_V float32      {:12.3f}                    flux error 11492\n",
       "      FLUX_R float32  mag                            Magnitude R 12738\n",
       "FLUX_ERROR_R float32      {:12.3f}                    flux error 13050\n",
       "      FLUX_I float32  mag                            Magnitude I 12416\n",
       "FLUX_ERROR_I float32      {:12.3f}                    flux error 13134\n",
       "      FLUX_J float32  mag                            Magnitude J 11641\n",
       "FLUX_ERROR_J float32      {:12.3f}                    flux error 11696\n",
       "      FLUX_K float32  mag                            Magnitude K 10148\n",
       "FLUX_ERROR_K float32      {:12.3f}                    flux error 10260"
      ]
     },
     "execution_count": 76,
     "metadata": {},
     "output_type": "execute_result"
    }
   ],
   "source": [
    "# result_table_simbad.info"
   ]
  },
  {
   "cell_type": "markdown",
   "metadata": {},
   "source": [
    "From this point, we merge the data from the query to `simbad` with the  \n",
    "values from this notebook (**Inayoshi et al., 2020** and **SDSS+FIRST**).  \n",
    "In order to do this, we convert the data into `astropy` columns, and then  \n",
    "into `astropy` tables. They will be ready to be exported."
   ]
  },
  {
   "cell_type": "code",
   "execution_count": 77,
   "metadata": {},
   "outputs": [],
   "source": [
    "if create_simbad_inayoshi_flag:\n",
    "    coords_simbad_inayoshi = SkyCoord(result_table_simbad['RA_d'], result_table_simbad['DEC_d'], unit=u.deg)"
   ]
  },
  {
   "cell_type": "code",
   "execution_count": 110,
   "metadata": {},
   "outputs": [],
   "source": [
    "if create_simbad_inayoshi_flag:\n",
    "    column_cat_index    = MaskedColumn(np.arange(np.shape(large_sample_z)[0]), name='INDEX', dtype='int',\\\n",
    "                                       description='Index number')\n",
    "    # column_cat_name     = MaskedColumn(large_sample_names, name='CAT_NAME', dtype='str', description='Name in this catalog',\\\n",
    "    #                                    mask=np.array(large_sample_names == ''))\n",
    "    column_cat_coords   = MaskedColumn(coords_simbad_inayoshi.to_string('decimal', precision=8), name='COORD',\\\n",
    "                                       dtype='str', description='Merged Coordinates',\\\n",
    "                                       mask=np.array(coords_simbad_inayoshi.to_string('decimal', precision=8) == ''))\n",
    "    column_z_own        = MaskedColumn(large_sample_z, name='Z_OWN', unit='', description='z - Inayoshi+2020 or SDSS+FIRST',\\\n",
    "                                       fill_value=np.nan, mask=np.array(large_sample_z == 0))\n",
    "    column_z_own_err    = MaskedColumn(large_sample_z_e, name='Z_OWN_ERR', unit='',\\\n",
    "                                       description='z err - Inayoshi+2020 or SDSS+FIRST', fill_value=np.nan,\\\n",
    "                                       mask=np.array(large_sample_z_e == 0))\n",
    "    # column_L_14GHz      = MaskedColumn(large_sample_L, name='L_20CM', unit='W/Hz', description='1.4 GHz lum',\\\n",
    "    #                                     fill_value=np.nan, mask=np.array(large_sample_L == 0))\n",
    "    # column_L_14GHz_err  = MaskedColumn(large_sample_L_e, name='L_20CM_ERR', unit='W/Hz', description='1.4 GHz lum err',\\\n",
    "    #                                    fill_value=np.nan, mask=np.array(large_sample_L_e == 0))\n",
    "    column_L_14GHz_up   = MaskedColumn(large_sample_u_lim, name='L_20CM_UP_LIM', dtype='bool', description='True if L_20CM upper limit')\n",
    "    # column_L_250GHz     = MaskedColumn(large_sample_L_250, name='L_250GHZ', unit='W/Hz', description='250 GHz lum',\\\n",
    "    #                                    fill_value=np.nan, mask=np.array(large_sample_L_250 == 0))\n",
    "    # column_L_250GHz_err = MaskedColumn(large_sample_L_250_e, name='L_250GHZ_ERR', unit='W/Hz', description='250 GHz lum err',\\\n",
    "    #.                                   fill_value=np.nan, mask=np.array(large_sample_L_250_e == 0))\n",
    "    column_f_20cm       = MaskedColumn(large_sample_f20cm, name='F_20CM', unit='mJy', description='20 cm flx',\\\n",
    "                                       fill_value=np.nan, mask=np.array(large_sample_f20cm == 0))\n",
    "    column_f_20cm_err   = MaskedColumn(large_sample_f20cm_e, name='F_20CM_ERR', unit='mJy', description='20 cm flx err',\\\n",
    "                                       fill_value=np.nan, mask=np.array(large_sample_f20cm_e == 0))\n",
    "    column_f_6cm        = MaskedColumn(large_sample_f_6cm, name='F_6CM', unit='mJy', description='6 cm flx',\\\n",
    "                                       fill_value=np.nan, mask=np.array(large_sample_f_6cm == 0))\n",
    "    column_f_6cm_err    = MaskedColumn(large_sample_f_6cm_e, name='F_6CM_ERR', unit='mJy', description='6 cm flx err',\\\n",
    "                                       fill_value=np.nan, mask=np.array(large_sample_f_6cm_e == 0))\n",
    "    column_f_3GHz       = MaskedColumn(large_sample_f_3GHz, name='F_3GHZ', unit='mJy', description='3 GHz flx',\\\n",
    "                                       fill_value=np.nan, mask=np.array(large_sample_f_3GHz == 0))\n",
    "    column_f_3GHz_err   = MaskedColumn(large_sample_f_3GHz_e, name='F_3GHZ_ERR', unit='mJy', description='3 GHz flx err',\\\n",
    "                                       fill_value=np.nan, mask=np.array(large_sample_f_3GHz_e == 0))\n",
    "    column_f_15GHz      = MaskedColumn(large_sample_f_15GHz, name='F_1.5GHZ', unit='mJy', description='1.5 GHz flx',\\\n",
    "                                       fill_value=np.nan, mask=np.array(large_sample_f_15GHz == 0))\n",
    "    column_f_15GHz_err  = MaskedColumn(large_sample_f_15GHz_e, name='F_1.5GHZ_ERR', unit='mJy', description='1.5 GHz flx err',\\\n",
    "                                       fill_value=np.nan, mask=np.array(large_sample_f_15GHz_e == 0))\n",
    "    column_f_xmm        = MaskedColumn(large_sample_xmm_flux, name='F_XMM', unit='mJy', description='0.2-12 keV flx',\\\n",
    "                                       fill_value=np.nan, mask=np.array(large_sample_xmm_flux == 0))\n",
    "    column_f_xmm_err    = MaskedColumn(large_sample_xmm_flux_e, name='F_XMM_ERR', unit='mJy', description='0.2-12 keV flx e',\\\n",
    "                                       fill_value=np.nan, mask=np.array(large_sample_xmm_flux_e == 0))\n",
    "    column_f_250GHz     = MaskedColumn(large_sample_f250GHz, name='F_250GHZ', unit='mJy', description='250 GHz flx',\\\n",
    "                                       fill_value=np.nan, mask=np.array(large_sample_f250GHz == 0))\n",
    "    column_f_250GHz_err = MaskedColumn(large_sample_f250GHz_e, name='F_250GHZ_ERR', unit='mJy', description='250 GHz flx err',\\\n",
    "                                       fill_value=np.nan, mask=np.array(large_sample_f250GHz_e == 0))\n",
    "    column_mass_1450    = MaskedColumn(large_sample_mass_1450, name='MASS_1450', unit='Msun', description='mag_1450 (UV) mass',\\\n",
    "                                       fill_value=np.nan, mask=np.array(large_sample_mass_1450 == 0))\n",
    "    column_origin       = MaskedColumn(large_sample_origin_flg, name='ORIGIN', unit='', description='survey origin',\\\n",
    "                                       dtype='str', fill_value=np.nan, mask=~np.isfinite(large_sample_origin_flg))"
   ]
  },
  {
   "cell_type": "code",
   "execution_count": 79,
   "metadata": {},
   "outputs": [],
   "source": [
    "if create_simbad_inayoshi_flag:\n",
    "    np.shape(result_table_simbad)"
   ]
  },
  {
   "cell_type": "code",
   "execution_count": 116,
   "metadata": {},
   "outputs": [],
   "source": [
    "if create_simbad_inayoshi_flag:\n",
    "    result_table_simbad.add_columns([column_cat_index, column_cat_coords, column_z_own, column_z_own_err,\\\n",
    "                                     column_L_14GHz_up, column_f_20cm, column_f_20cm_err, column_f_6cm, column_f_6cm_err,\\\n",
    "                                     column_f_3GHz, column_f_3GHz_err, column_f_15GHz, column_f_15GHz_err, column_f_xmm,\\\n",
    "                                     column_f_xmm_err, column_f_250GHz, column_f_250GHz_err, column_mass_1450, column_origin])"
   ]
  },
  {
   "cell_type": "code",
   "execution_count": 117,
   "metadata": {},
   "outputs": [],
   "source": [
    "if create_simbad_inayoshi_flag:\n",
    "    str_id = result_table_simbad['MAIN_ID'].astype('str')\n",
    "    result_table_simbad.replace_column('MAIN_ID', str_id)"
   ]
  },
  {
   "cell_type": "code",
   "execution_count": 118,
   "metadata": {},
   "outputs": [],
   "source": [
    "# copy_table = result_table_simbad.filled(fill_value=np.nan)"
   ]
  },
  {
   "cell_type": "markdown",
   "metadata": {},
   "source": [
    "We write the table into a file. It can be `.fits`, `.votable`, etc."
   ]
  },
  {
   "cell_type": "code",
   "execution_count": 119,
   "metadata": {},
   "outputs": [],
   "source": [
    "#copy_table.write('high_z_qsos.ecsv', format='ascii.ecsv', overwrite=True, serialize_method='data_mask')"
   ]
  },
  {
   "cell_type": "code",
   "execution_count": 120,
   "metadata": {},
   "outputs": [
    {
     "name": "stderr",
     "output_type": "stream",
     "text": [
      "WARNING: VerifyWarning: Keyword name 'description' is greater than 8 characters or contains characters not allowed by the FITS standard; a HIERARCH card will be created. [astropy.io.fits.card]\n"
     ]
    }
   ],
   "source": [
    "if create_simbad_inayoshi_flag:\n",
    "    result_table_simbad.write(cat_path + 'large_cat_simbad_query_inayoshi_jun2020.fits', format='fits', overwrite=True, serialize_method='data_mask')"
   ]
  },
  {
   "cell_type": "code",
   "execution_count": 121,
   "metadata": {},
   "outputs": [],
   "source": [
    "if create_simbad_inayoshi_flag:\n",
    "    result_table_simbad.write(cat_path + 'large_cat_simbad_query_inayoshi_jun2020.csv', format='ascii.csv', overwrite=True, serialize_method='data_mask')"
   ]
  },
  {
   "cell_type": "markdown",
   "metadata": {},
   "source": [
    "To save running time, we can load the data from a file."
   ]
  },
  {
   "cell_type": "code",
   "execution_count": 122,
   "metadata": {},
   "outputs": [],
   "source": [
    "#if read_simbad_inayoshi_flag:\n",
    "#    result_table_simbad = Table.read(cat_path + 'large_cat_simbad_query_inayoshi.csv', format='ascii.csv')"
   ]
  },
  {
   "cell_type": "code",
   "execution_count": 123,
   "metadata": {},
   "outputs": [],
   "source": [
    "if read_simbad_inayoshi_flag:\n",
    "    result_table_simbad = Table.read(cat_path + 'large_cat_simbad_query_inayoshi_jun2020.fits');"
   ]
  },
  {
   "cell_type": "code",
   "execution_count": 124,
   "metadata": {},
   "outputs": [
    {
     "data": {
      "text/plain": [
       "<Table length=18168>\n",
       "     name      dtype    unit   format              description             n_bad\n",
       "------------- ------- ------- -------- ----------------------------------- -----\n",
       "      MAIN_ID   str41                        Main identifier for an object   825\n",
       "         RA_d float64     deg {:11.8f}                     Right ascension     0\n",
       "        DEC_d float64     deg {:12.8f}                         Declination     0\n",
       "      Z_VALUE float64         {:16.7f}                            Redshift  1812\n",
       "       FLUX_B float32     mag                                  Magnitude B  9196\n",
       " FLUX_ERROR_B float32         {:12.3f}                          flux error 11536\n",
       "       FLUX_V float32     mag                                  Magnitude V  9089\n",
       " FLUX_ERROR_V float32         {:12.3f}                          flux error 11492\n",
       "       FLUX_R float32     mag                                  Magnitude R 12738\n",
       " FLUX_ERROR_R float32         {:12.3f}                          flux error 13050\n",
       "       FLUX_I float32     mag                                  Magnitude I 12416\n",
       " FLUX_ERROR_I float32         {:12.3f}                          flux error 13134\n",
       "       FLUX_J float32     mag                                  Magnitude J 11641\n",
       " FLUX_ERROR_J float32         {:12.3f}                          flux error 11696\n",
       "       FLUX_K float32     mag                                  Magnitude K 10148\n",
       " FLUX_ERROR_K float32         {:12.3f}                          flux error 10260\n",
       "        INDEX   int64                                         Index number     0\n",
       " F_250GHZ_ERR float64     mJy                              250 GHz flx err 18155\n",
       "     F_250GHZ float64     mJy                                  250 GHz flx 18155\n",
       "    F_XMM_ERR float64     mJy                             0.2-12 keV flx e 18168\n",
       "        F_XMM float64     mJy                               0.2-12 keV flx 18168\n",
       " F_1.5GHZ_ERR float64     mJy                              1.5 GHz flx err 18168\n",
       "     F_1.5GHZ float64     mJy                                  1.5 GHz flx 18168\n",
       "   F_3GHZ_ERR float64     mJy                                3 GHz flx err  9239\n",
       "    MASS_1450 float64 solMass                           mag_1450 (UV) mass 18152\n",
       "       F_3GHZ float64     mJy                                    3 GHz flx  9173\n",
       "        F_6CM float64     mJy                                     6 cm flx 17766\n",
       "   F_20CM_ERR float64     mJy                                20 cm flx err    66\n",
       "       F_20CM float64     mJy                                    20 cm flx    66\n",
       "L_20CM_UP_LIM    bool                           True if L_20CM upper limit     0\n",
       "    Z_OWN_ERR float64                  z err - Inayoshi+2020 or SDSS+FIRST  9380\n",
       "        Z_OWN float64                      z - Inayoshi+2020 or SDSS+FIRST     0\n",
       "        COORD   str25                                   Merged Coordinates     0\n",
       "    F_6CM_ERR float64     mJy                                 6 cm flx err 17766\n",
       "       ORIGIN   str21                                        survey origin     0"
      ]
     },
     "execution_count": 124,
     "metadata": {},
     "output_type": "execute_result"
    }
   ],
   "source": [
    "if read_simbad_inayoshi_flag or create_simbad_inayoshi_flag:\n",
    "    result_table_simbad.info"
   ]
  },
  {
   "cell_type": "markdown",
   "metadata": {},
   "source": [
    "Query the objects of the table in other catalogs and services."
   ]
  },
  {
   "cell_type": "code",
   "execution_count": 125,
   "metadata": {},
   "outputs": [],
   "source": [
    "#from astroquery.heasarc import Heasarc\n",
    "#Heasarc.query_mission_cols(mission='radio')\n",
    "#tabb = Heasarc.query(large_sample_names, mission='radio', timeout=90)"
   ]
  },
  {
   "cell_type": "code",
   "execution_count": 126,
   "metadata": {},
   "outputs": [],
   "source": [
    "customNed        = Ned()\n",
    "fields_to_remove = ['No.', 'Photometry Measurement', 'Uncertainty', 'Units', 'Significance', 'Published frequency', 'Frequency Mode', 'Coordinates Targeted', 'Spatial Mode', 'Qualifiers', 'Comments']"
   ]
  },
  {
   "cell_type": "markdown",
   "metadata": {},
   "source": [
    "Querying sources with name in `Ned`."
   ]
  },
  {
   "cell_type": "code",
   "execution_count": 127,
   "metadata": {},
   "outputs": [],
   "source": [
    "# empty_counter = 0\n",
    "# res_tab       = {}\n",
    "# for name in large_sample_names:\n",
    "#     try:\n",
    "#         res_tab[name] = customNed.get_table(name, output_table_format=1)\n",
    "#         res_tab[name].remove_columns(fields_to_remove)\n",
    "#     except:\n",
    "#         res_tab[name] = Table()\n",
    "#         empty_counter += 1"
   ]
  },
  {
   "cell_type": "markdown",
   "metadata": {},
   "source": [
    "As before, we can do it with coordinates.  \n",
    "\n",
    "First, we query the coordinates. If we found something,  \n",
    "we use the name of the source to obtain it photometry."
   ]
  },
  {
   "cell_type": "code",
   "execution_count": 128,
   "metadata": {},
   "outputs": [],
   "source": [
    "if read_simbad_inayoshi_flag or create_simbad_inayoshi_flag:\n",
    "    coords_simbad_inayoshi = SkyCoord(result_table_simbad['RA_d'], result_table_simbad['DEC_d'], unit=u.deg)"
   ]
  },
  {
   "cell_type": "code",
   "execution_count": 129,
   "metadata": {},
   "outputs": [],
   "source": [
    "empty_tab_name_counter  = 0\n",
    "empty_tab_photo_counter = 0\n",
    "error_tab_name_counter  = 0\n",
    "error_tab_photo_counter = 0\n",
    "ned_tables              = {}\n",
    "ned_info                = {}\n",
    "ned_names               = []\n",
    "#ned_names               = np.array([''  for x in np.arange(np.shape(large_sample_names)[0])])"
   ]
  },
  {
   "cell_type": "code",
   "execution_count": 130,
   "metadata": {},
   "outputs": [
    {
     "name": "stderr",
     "output_type": "stream",
     "text": [
      "100% (18168 of 18168) |##################| Elapsed Time: 0:17:24 Time:  0:17:24\n"
     ]
    }
   ],
   "source": [
    "if query_ned_names_flag:\n",
    "    with progressbar.ProgressBar(min_value=0, max_value=np.shape(coords_simbad_inayoshi)[0]) as bar:\n",
    "        for index, coord in enumerate(coords_simbad_inayoshi):\n",
    "            try:\n",
    "                init_table            = customNed.query_region(coords_simbad_inayoshi[index], radius=2.5*u.arcsec)\n",
    "                if len(init_table) == 0:\n",
    "                    # init_table        = Table(names=('Object Name', 'RA', 'DEC'), dtype=('str', 'float', 'float'), masked=True)\n",
    "                    # init_table.add_row(('No Name', coords_simbad_inayoshi[index].ra.deg, coords_simbad_inayoshi[index].dec.deg), mask=[True, False, False])\n",
    "                    first_row         = [['No Name'], [coords_simbad_inayoshi[index].ra.deg], [coords_simbad_inayoshi[index].dec.deg]]\n",
    "                    init_table        = Table(first_row, names=('Object Name', 'RA', 'DEC'), dtype=('str', 'float', 'float'), masked=True)\n",
    "                    ned_info[index]   = init_table\n",
    "                    ned_names.append('No Name')\n",
    "                    empty_tab_name_counter += 1\n",
    "                    bar.update(index)\n",
    "                    continue\n",
    "                # init_table.remove_columns(['Magnitude and Filter', 'Positions', 'Diameter Points'])\n",
    "                used_source_idx   = np.nanargmin(init_table['Separation'])  # Index of element with lowest separation from coords\n",
    "                ned_info[index]   = Table(init_table[used_source_idx])\n",
    "                init_name         = init_table['Object Name'][used_source_idx]\n",
    "                # ned_names[index]  = init_name\n",
    "                ned_names.append(init_name)\n",
    "            except:\n",
    "                # init_table        = Table(names=('Object Name', 'RA', 'DEC'), dtype=('str', 'float', 'float'), masked=True)\n",
    "                # init_table.add_row(('No Name', coords_simbad_inayoshi[index].ra.deg, coords_simbad_inayoshi[index].dec.deg), mask=[True, False, False])\n",
    "                first_row         = [['No Name'], [coords_simbad_inayoshi[index].ra.deg], [coords_simbad_inayoshi[index].dec.deg]]\n",
    "                init_table        = Table(first_row, names=('Object Name', 'RA', 'DEC'), dtype=('str', 'float', 'float'), masked=True)\n",
    "                ned_info[index]   = init_table\n",
    "                ned_names.append('No Name')\n",
    "                error_tab_name_counter += 1\n",
    "            bar.update(index)"
   ]
  },
  {
   "cell_type": "code",
   "execution_count": 131,
   "metadata": {},
   "outputs": [],
   "source": [
    "# init_table            = customNed.query_region(coords_simbad_inayoshi[18022], radius=4.0*u.arcsec)"
   ]
  },
  {
   "cell_type": "code",
   "execution_count": 132,
   "metadata": {},
   "outputs": [],
   "source": [
    "if query_ned_names_flag:\n",
    "    ned_names = np.array(ned_names)"
   ]
  },
  {
   "cell_type": "code",
   "execution_count": 133,
   "metadata": {},
   "outputs": [
    {
     "name": "stderr",
     "output_type": "stream",
     "text": [
      "100% (18168 of 18168) |##################| Elapsed Time: 0:00:00 Time:  0:00:00\n"
     ]
    }
   ],
   "source": [
    "ned_redshifts = []\n",
    "with progressbar.ProgressBar(min_value=0, max_value=np.shape(ned_names)[0]) as bar:\n",
    "    for key in ned_info:\n",
    "        if np.shape(ned_info[key].colnames)[0] < 4:\n",
    "            ned_redshifts.append(np.nan)\n",
    "            bar.update(key)\n",
    "            continue\n",
    "        ned_redshifts.append(ned_info[key]['Redshift'])\n",
    "        bar.update(key)\n",
    "ned_redshifts = np.array(ned_redshifts)"
   ]
  },
  {
   "cell_type": "code",
   "execution_count": 134,
   "metadata": {},
   "outputs": [],
   "source": [
    "counter_count = 0\n",
    "indices_non   = []\n",
    "for index, name in enumerate(ned_names):\n",
    "    if name != 'No Name':\n",
    "        counter_count += 1\n",
    "for index, name in enumerate(ned_names):\n",
    "    if name == 'No Name':\n",
    "        indices_non.append(index)"
   ]
  },
  {
   "cell_type": "code",
   "execution_count": 135,
   "metadata": {},
   "outputs": [
    {
     "data": {
      "text/plain": [
       "'WISEA J113850.82+042839.4'"
      ]
     },
     "execution_count": 135,
     "metadata": {},
     "output_type": "execute_result"
    }
   ],
   "source": [
    "if query_ned_names_flag:\n",
    "    ned_names[1234]"
   ]
  },
  {
   "cell_type": "code",
   "execution_count": 136,
   "metadata": {},
   "outputs": [],
   "source": [
    "# name_tab_temp   = customNed.get_table(str(ned_names[1]))"
   ]
  },
  {
   "cell_type": "code",
   "execution_count": 137,
   "metadata": {},
   "outputs": [
    {
     "name": "stderr",
     "output_type": "stream",
     "text": [
      "100% (18168 of 18168) |##################| Elapsed Time: 0:08:41 Time:  0:08:41\n"
     ]
    }
   ],
   "source": [
    "if query_ned_photometry_flag:\n",
    "    with progressbar.ProgressBar(min_value=0, max_value=np.shape(ned_names)[0]) as bar:\n",
    "        for index, name in enumerate(ned_names):\n",
    "            try:\n",
    "                if name == 'No Name':\n",
    "                    # phot_table        = Table(names=('Observed Passband',), dtype=('str',), masked=True)\n",
    "                    # phot_table.add_row(('No Passband',), mask=(True,))\n",
    "                    first_row         = [[0], ['No Passband']]\n",
    "                    phot_table        = Table(first_row, names=('No.', 'Observed Passband'), dtype=('int', 'str'), masked=True)\n",
    "                    ned_tables[index] = phot_table\n",
    "                    empty_tab_photo_counter += 1\n",
    "                    bar.update(index)\n",
    "                    continue\n",
    "                phot_table            = customNed.get_table(name, table='photometry', output_table_format=3)\n",
    "                # phot_table.remove_columns(fields_to_remove)\n",
    "                ned_tables[index]     = phot_table\n",
    "            except:\n",
    "                # phot_table            = Table(names=('Observed Passband',), dtype=('str',), masked=True)\n",
    "                # phot_table.add_row(('No Passband',), mask=(True,))\n",
    "                first_row             = [[0], ['No Passband']]\n",
    "                phot_table            = Table(first_row, names=('No.', 'Observed Passband'), dtype=('int', 'str'), masked=True)\n",
    "                ned_tables[index]     = phot_table\n",
    "                error_tab_photo_counter += 1\n",
    "            bar.update(index)"
   ]
  },
  {
   "cell_type": "code",
   "execution_count": 138,
   "metadata": {},
   "outputs": [],
   "source": [
    "# name_tab_temp   = customNed.get_table('Himiko', table='photometry')"
   ]
  },
  {
   "cell_type": "markdown",
   "metadata": {},
   "source": [
    "Save multiple data tables into one file with `pandas`"
   ]
  },
  {
   "cell_type": "code",
   "execution_count": 139,
   "metadata": {},
   "outputs": [],
   "source": [
    "if create_simbad_inayoshi_ned_flag:\n",
    "    pass_band_name = ned_tables[key]['Observed Passband'].astype('str')\n",
    "    ned_tables[key].replace_column('Observed Passband', pass_band_name)"
   ]
  },
  {
   "cell_type": "markdown",
   "metadata": {},
   "source": [
    "We gather the names and frequencies of all columns present in tables from `Ned`."
   ]
  },
  {
   "cell_type": "code",
   "execution_count": 140,
   "metadata": {},
   "outputs": [
    {
     "name": "stderr",
     "output_type": "stream",
     "text": [
      "100% (18168 of 18168) |##################| Elapsed Time: 0:00:29 Time:  0:00:29\n"
     ]
    }
   ],
   "source": [
    "if create_phot_bands_list_flag:\n",
    "    band_names_array = []\n",
    "    \n",
    "    n_t_str          = '\\t'\n",
    "    \n",
    "    with progressbar.ProgressBar(min_value=0, max_value=np.shape(ned_names)[0]) as bar:\n",
    "        for key in ned_tables:\n",
    "            if ned_tables[key]['Observed Passband'][0] == 'No Passband':\n",
    "                bar.update(key)\n",
    "                continue\n",
    "            pass_band_name = ned_tables[key]['Observed Passband'].astype('str')\n",
    "            ned_tables[key].replace_column('Observed Passband', pass_band_name)\n",
    "            temp_table    = ned_tables[key]['Observed Passband', 'Frequency'].as_array().data\n",
    "            for temp_pair in temp_table:\n",
    "                band_names_array.append([str(temp_pair[0]), f'{temp_pair[1]:.4e}'])\n",
    "            bar.update(key)"
   ]
  },
  {
   "cell_type": "markdown",
   "metadata": {},
   "source": [
    "Unique rows (name + frequency pair) are retrieved from the previous list."
   ]
  },
  {
   "cell_type": "code",
   "execution_count": 141,
   "metadata": {},
   "outputs": [
    {
     "name": "stdout",
     "output_type": "stream",
     "text": [
      "17579\n"
     ]
    }
   ],
   "source": [
    "useful_number = 0\n",
    "for key in ned_tables:\n",
    "    if np.shape(ned_tables[key].colnames)[0] >= 3:\n",
    "        useful_number += 1\n",
    "print(useful_number)"
   ]
  },
  {
   "cell_type": "code",
   "execution_count": 142,
   "metadata": {},
   "outputs": [],
   "source": [
    "if create_phot_bands_list_flag:\n",
    "    unique_rows_band_names_array = np.unique(band_names_array, axis=0)\n",
    "    unique_rows_band_names_array = unique_rows_band_names_array[unique_rows_band_names_array[:, 1].astype(np.float).argsort()]  # Order by frequency"
   ]
  },
  {
   "cell_type": "markdown",
   "metadata": {},
   "source": [
    "We obtain the size of this new array. It represents the number of  \n",
    "unique passband configurations gathered from querying `Ned`."
   ]
  },
  {
   "cell_type": "code",
   "execution_count": 143,
   "metadata": {},
   "outputs": [
    {
     "name": "stdout",
     "output_type": "stream",
     "text": [
      "(998, 2)\n"
     ]
    }
   ],
   "source": [
    "if create_phot_bands_list_flag:\n",
    "    print(np.shape(unique_rows_band_names_array))"
   ]
  },
  {
   "cell_type": "code",
   "execution_count": 144,
   "metadata": {},
   "outputs": [],
   "source": [
    "# unique_rows_band_names_array"
   ]
  },
  {
   "cell_type": "markdown",
   "metadata": {},
   "source": [
    "Saving this list into a plain text file."
   ]
  },
  {
   "cell_type": "code",
   "execution_count": 145,
   "metadata": {},
   "outputs": [],
   "source": [
    "if create_phot_bands_list_flag:\n",
    "    # np.savetxt(cat_path + 'all_ned_band_names.txt', unique_rows_band_names_array, fmt='%s %s', delimiter='\\t')\n",
    "    # np.savetxt(cat_path + 'all_ned_band_names_2_5arcsec.txt', unique_rows_band_names_array, fmt='%s %s', delimiter='\\t')\n",
    "    np.savetxt(cat_path + 'all_ned_band_names_jun2020.txt', unique_rows_band_names_array, fmt='%s %s', delimiter='\\t')"
   ]
  },
  {
   "cell_type": "markdown",
   "metadata": {},
   "source": [
    "This new file can also be loaded."
   ]
  },
  {
   "cell_type": "code",
   "execution_count": 146,
   "metadata": {},
   "outputs": [],
   "source": [
    "if load_phot_bands_list_flag:\n",
    "    unique_rows_band_names_array = np.genfromtxt(cat_path + 'all_ned_band_names_jun2020.txt', delimiter='\\t', dtype=str)"
   ]
  },
  {
   "cell_type": "markdown",
   "metadata": {},
   "source": [
    "Now, we create a unique table from all the individual photometry tables obtained after  \n",
    "querying `Ned`. We discard measurements which have already been reported (for each individual source)."
   ]
  },
  {
   "cell_type": "markdown",
   "metadata": {},
   "source": [
    "We leave uncertainty values as string to retain information about possible upper/lower limits."
   ]
  },
  {
   "cell_type": "code",
   "execution_count": 147,
   "metadata": {},
   "outputs": [],
   "source": [
    "if order_ned_photometry_flag:\n",
    "    limit_set_ned = int(np.floor(np.shape(ned_names)[0]/4))"
   ]
  },
  {
   "cell_type": "code",
   "execution_count": 148,
   "metadata": {},
   "outputs": [],
   "source": [
    "# order_ned_photometry_flag = True"
   ]
  },
  {
   "cell_type": "code",
   "execution_count": 149,
   "metadata": {},
   "outputs": [
    {
     "name": "stderr",
     "output_type": "stream",
     "text": [
      "100% (18168 of 18168) |##################| Elapsed Time: 0:53:16 Time:  0:53:16\n"
     ]
    }
   ],
   "source": [
    "if order_ned_photometry_flag:\n",
    "    temp_table_ned_photo             = Table()\n",
    "    chunk_size                       = 300  # Number of elements to calculate before dumping results to external table\n",
    "    with progressbar.ProgressBar(min_value=0, max_value=np.shape(ned_names)[0]) as bar:\n",
    "        for index, source_name in enumerate(ned_names):  # Some names will be 'No Name'\n",
    "            band_names_str           = []\n",
    "            column_names_str         = []\n",
    "            band_frequencies         = []\n",
    "            measure_names            = ned_tables[index].colnames[1:]\n",
    "            # init_table = Table(names=('MAIN_ID',), dtype=('str',), masked=True)\n",
    "            cord_str                 = coords_simbad_inayoshi[index].to_string('decimal')\n",
    "            init_table               = Table(data=np.array([index, cord_str, source_name]), names=('INDEX', 'COORD', 'MAIN_ID'), dtype=('int', 'str', 'str'), masked=True)\n",
    "            if source_name == 'No Name':\n",
    "                # init_table = Table(('No Name',), names=('MAIN_ID',), dtype=('str',), masked=True)\n",
    "                # init_table.add_row(('No Name',), mask=(True,)) # Mask values in the last step instead\n",
    "                if index == 0 or (index % chunk_size == 1 and index > 1):\n",
    "                    init_table_large     = Table(init_table)\n",
    "                    bar.update(index)\n",
    "                    continue\n",
    "                init_table_large     = vstack([init_table_large, init_table])\n",
    "                if index % chunk_size == 0 and index > 0:\n",
    "                    temp_table_ned_photo = vstack([temp_table_ned_photo, init_table_large])\n",
    "                    # result_table_simbad_copy = join(result_table_simbad_copy, init_table_large, keys='COORD', join_type='outer')\n",
    "                bar.update(index)\n",
    "                continue\n",
    "            if len(measure_names) == 0 or len(measure_names) == 1:\n",
    "                # init_table = Table(('No Name',), names=('MAIN_ID',), dtype=('str',), masked=True)\n",
    "                # init_table.add_row((source_name,), mask=(True,))\n",
    "                if index == 0 or (index % chunk_size == 1 and index > 1):\n",
    "                    init_table_large     = Table(init_table)\n",
    "                    bar.update(index)\n",
    "                    continue\n",
    "                init_table_large     = vstack([init_table_large, init_table])\n",
    "                if index % chunk_size == 0 and index > 0:\n",
    "                    temp_table_ned_photo = vstack([temp_table_ned_photo, init_table_large])\n",
    "                    # result_table_simbad_copy = join(result_table_simbad_copy, init_table_large, keys='COORD', join_type='outer')\n",
    "                bar.update(index)\n",
    "                continue\n",
    "            # init_table = Table((str(source_name),), names=('MAIN_ID',), dtype=('str',), masked=True)\n",
    "            # init_table.add_row((str(source_name),))\n",
    "            for row in ned_tables[index]:\n",
    "                # band_name_str        = re.sub(r' \\(.*', '', str(row['Observed Passband'].decode('utf-8')))  # Eliminate differences\n",
    "                # band_name_str        = str(row['Observed Passband'].decode('utf-8'))  # Eliminate differences\n",
    "                if type(row['Observed Passband']) != bytes:\n",
    "                    band_name_str        = str(row['Observed Passband'])  # Eliminate differences\n",
    "                if type(row['Observed Passband']) == bytes:\n",
    "                    band_name_str        = str(row['Observed Passband'].decode('utf-8'))  # Eliminate differences\n",
    "                # if str(band_name_str) not in band_names_str and row['Frequency'] not in band_frequencies:\n",
    "                if str(band_name_str) not in band_names_str:\n",
    "                    band_frequencies.append(row['Frequency'])\n",
    "                    band_names_str.append(str(band_name_str))\n",
    "                    column_name_flux = 'Flux Density ' + band_name_str\n",
    "                    column_name_err  = 'NED Uncertainty ' + band_name_str\n",
    "                    if column_name_flux not in column_names_str:\n",
    "                        column_names_str.append(column_name_flux)\n",
    "                        column_flux  = MaskedColumn(row['Flux Density'], name=column_name_flux, unit=ned_tables[index]['Flux Density'].unit, dtype='float')\n",
    "                        column_err   = MaskedColumn(row['NED Uncertainty'], name=column_name_err, dtype='str')\n",
    "                        init_table.add_columns((column_flux, column_err))\n",
    "            #init_table.remove_column('MAIN_ID')\n",
    "            if index == 0 or (index % chunk_size == 1 and index > 1):\n",
    "                init_table_large     = Table(init_table)\n",
    "                bar.update(index)\n",
    "                continue\n",
    "            init_table_large         = vstack([init_table_large, init_table])\n",
    "            if index % chunk_size == 0 and index > 0:\n",
    "                temp_table_ned_photo = vstack([temp_table_ned_photo, init_table_large])\n",
    "                # result_table_simbad_copy = join(result_table_simbad_copy, init_table_large, keys='COORD', join_type='outer')\n",
    "            bar.update(index)\n",
    "    temp_table_ned_photo = vstack([temp_table_ned_photo, init_table_large])\n",
    "    # result_table_simbad_copy = join(result_table_simbad_copy, init_table_large, keys='COORD', join_type='outer')\n",
    "    #result_table_simbad_copy         = Table(result_table_simbad)\n",
    "    #result_table_simbad_copy.add_column(coords_simbad_inayoshi.to_string('decimal'), name='COORD')"
   ]
  },
  {
   "cell_type": "code",
   "execution_count": 150,
   "metadata": {},
   "outputs": [],
   "source": [
    "if order_ned_photometry_flag:\n",
    "    len(measure_names)"
   ]
  },
  {
   "cell_type": "markdown",
   "metadata": {},
   "source": [
    "This new merged column shows measurements for the following number of bands."
   ]
  },
  {
   "cell_type": "code",
   "execution_count": 151,
   "metadata": {},
   "outputs": [],
   "source": [
    "if order_ned_photometry_flag:\n",
    "    len(temp_table_ned_photo.colnames)"
   ]
  },
  {
   "cell_type": "markdown",
   "metadata": {},
   "source": [
    "For data completeness, we mask entries for `MAIN_ID` and `COORD` columns."
   ]
  },
  {
   "cell_type": "code",
   "execution_count": 152,
   "metadata": {},
   "outputs": [],
   "source": [
    "if create_simbad_inayoshi_ned_flag:\n",
    "    column_coord = MaskedColumn(temp_table_ned_photo['COORD'], name='COORD', mask=np.array(temp_table_ned_photo['COORD'] == ''))\n",
    "    column_id    = MaskedColumn(temp_table_ned_photo['MAIN_ID'], name='MAIN_ID', description='identify object', mask=np.array(temp_table_ned_photo['MAIN_ID'] == 'No Name'))"
   ]
  },
  {
   "cell_type": "code",
   "execution_count": 153,
   "metadata": {},
   "outputs": [],
   "source": [
    "if create_simbad_inayoshi_ned_flag:\n",
    "    temp_table_ned_photo.replace_column('COORD', column_coord)\n",
    "    temp_table_ned_photo.replace_column('MAIN_ID', column_id)"
   ]
  },
  {
   "cell_type": "markdown",
   "metadata": {},
   "source": [
    "We transform `astropy` tables into `pandas` data frames for further calculations."
   ]
  },
  {
   "cell_type": "code",
   "execution_count": 154,
   "metadata": {},
   "outputs": [],
   "source": [
    "if create_simbad_inayoshi_ned_flag:\n",
    "    df_ned    = temp_table_ned_photo.to_pandas()"
   ]
  },
  {
   "cell_type": "code",
   "execution_count": 155,
   "metadata": {},
   "outputs": [],
   "source": [
    "if create_simbad_inayoshi_ned_flag:\n",
    "    df_simbad = result_table_simbad.to_pandas()"
   ]
  },
  {
   "cell_type": "markdown",
   "metadata": {},
   "source": [
    "In this point, we can merge both `simbad` and `Ned` tables into a larger one."
   ]
  },
  {
   "cell_type": "code",
   "execution_count": 156,
   "metadata": {},
   "outputs": [],
   "source": [
    "if create_simbad_inayoshi_ned_flag:\n",
    "    merged_ned_simbad = pd.merge(df_simbad, df_ned, on='INDEX')"
   ]
  },
  {
   "cell_type": "code",
   "execution_count": 157,
   "metadata": {},
   "outputs": [],
   "source": [
    "# merged_ned_simbad.columns[0:40]"
   ]
  },
  {
   "cell_type": "markdown",
   "metadata": {},
   "source": [
    "We save this new table into a `HDF5`-format file for future access."
   ]
  },
  {
   "cell_type": "code",
   "execution_count": 158,
   "metadata": {},
   "outputs": [
    {
     "name": "stderr",
     "output_type": "stream",
     "text": [
      "/Users/rcarvajal/.miniconda3/lib/python3.7/site-packages/pandas/core/generic.py:2505: PerformanceWarning: \n",
      "your performance may suffer as PyTables will pickle object types that it cannot\n",
      "map directly to c-types [inferred_type->mixed,key->block4_values] [items->Index(['MAIN_ID_x', 'COORD_x', 'ORIGIN', 'COORD_y', 'MAIN_ID_y',\n",
      "       'NED Uncertainty u (SDSS PSF) AB', 'NED Uncertainty g (SDSS PSF) AB',\n",
      "       'NED Uncertainty r (SDSS PSF) AB', 'NED Uncertainty i (SDSS PSF) AB',\n",
      "       'NED Uncertainty z (SDSS PSF) AB',\n",
      "       ...\n",
      "       'NED Uncertainty r (Subaru) AB', 'NED Uncertainty H (KPNO) AB',\n",
      "       'NED Uncertainty K (KPNO) AB', 'NED Uncertainty [OIII] 5007 VIRUS-P',\n",
      "       'NED Uncertainty 1.1 mm (JCMT)', 'NED Uncertainty 890 microns (SMA)',\n",
      "       'NED Uncertainty 350 microns (CSO)', 'NED Uncertainty 3 mm (CARMA)',\n",
      "       'NED Uncertainty 345 GHz (SMA)', 'NED Uncertainty 830 A (Palomar)'],\n",
      "      dtype='object', length=929)]\n",
      "\n",
      "  encoding=encoding,\n"
     ]
    }
   ],
   "source": [
    "if create_simbad_inayoshi_ned_flag:\n",
    "    merged_ned_simbad.to_hdf(cat_path + 'large_cat_simbad_inayoshi_ned_jun2020.h5', 'df')\n",
    "    # merged_ned_simbad.to_hdf(cat_path + 'large_cat_simbad_inayoshi_ned_all_cols.h5', 'df')"
   ]
  },
  {
   "cell_type": "markdown",
   "metadata": {},
   "source": [
    "If needed, we can read the table from an external file to avoid extra running time."
   ]
  },
  {
   "cell_type": "code",
   "execution_count": 159,
   "metadata": {},
   "outputs": [],
   "source": [
    "if read_simbad_inayoshi_ned_flag:\n",
    "    power_test = pd.read_hdf(cat_path + 'large_cat_simbad_inayoshi_ned_jun2020.h5', 'df')"
   ]
  },
  {
   "cell_type": "markdown",
   "metadata": {},
   "source": [
    "And this `pandas` data frame can be transformed into an `astropy` table."
   ]
  },
  {
   "cell_type": "code",
   "execution_count": 160,
   "metadata": {},
   "outputs": [],
   "source": [
    "# power_table = Table.from_pandas(power_test)"
   ]
  },
  {
   "cell_type": "code",
   "execution_count": null,
   "metadata": {},
   "outputs": [],
   "source": []
  }
 ],
 "metadata": {
  "kernelspec": {
   "display_name": "Python 3",
   "language": "python",
   "name": "python3"
  },
  "language_info": {
   "codemirror_mode": {
    "name": "ipython",
    "version": 3
   },
   "file_extension": ".py",
   "mimetype": "text/x-python",
   "name": "python",
   "nbconvert_exporter": "python",
   "pygments_lexer": "ipython3",
   "version": "3.7.6"
  }
 },
 "nbformat": 4,
 "nbformat_minor": 4
}
