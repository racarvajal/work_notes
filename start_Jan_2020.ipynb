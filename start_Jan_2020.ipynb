import numpy as np
import matplotlib.pyplot as plt
import matplotlib.patheffects as mpe
from astropy import units as u
from astropy.coordinates import SkyCoord
from astropy.io import fits
from astropy.wcs import WCS
from astropy.table import Table

