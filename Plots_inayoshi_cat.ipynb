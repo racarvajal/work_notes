{
 "cells": [
  {
   "cell_type": "markdown",
   "metadata": {},
   "source": [
    "# Plot possible relations among elements from Inayoshi's catalog"
   ]
  },
  {
   "cell_type": "markdown",
   "metadata": {},
   "source": [
    "We want to analyze multiwavelength data from several AGNs.  \n",
    "They have been retrieved from the review from **Inayoshi et al., 2020**,  \n",
    "combined with the cross-matching between `SDSS QUASAR DR12` catalog and `FIRST` observations.  \n",
    "Additional observations were also added from the `radio` database catalog,  \n",
    "compiled by NASA's `HEASARC` team."
   ]
  },
  {
   "cell_type": "markdown",
   "metadata": {},
   "source": [
    "In this way, we select sources with observations in radio frequencies."
   ]
  },
  {
   "cell_type": "markdown",
   "metadata": {},
   "source": [
    "Previously, we have selected features which can add the most information  \n",
    "to the analysis. Now, we want to find ways to mixture the features to obtain  \n",
    "possible correlations among our data."
   ]
  },
  {
   "cell_type": "markdown",
   "metadata": {},
   "source": [
    "---"
   ]
  },
  {
   "cell_type": "markdown",
   "metadata": {},
   "source": [
    "## Python setup"
   ]
  },
  {
   "cell_type": "markdown",
   "metadata": {},
   "source": [
    "First, we import the packages to be used"
   ]
  },
  {
   "cell_type": "markdown",
   "metadata": {},
   "source": [
    "To get the first line working, you need  \n",
    "to run the following lines:\n",
    "\n",
    "```bash\n",
    " conda install nodejs\n",
    " pip install ipympl\n",
    " pip install --upgrade jupyterlab\n",
    " jupyter labextension install @jupyter-widgets/jupyterlab-manager\n",
    " jupyter labextension install jupyter-matplotlib\n",
    " jupyter nbextension enable --py widgetsnbextension\n",
    " ```"
   ]
  },
  {
   "cell_type": "code",
   "execution_count": 1,
   "metadata": {},
   "outputs": [],
   "source": [
    "%matplotlib inline\n",
    "# Static plots\n",
    "#%matplotlib ipympl\n",
    "# Interactive plots\n",
    "import numpy as np\n",
    "import matplotlib.cm as cm\n",
    "import matplotlib.pyplot as plt\n",
    "import matplotlib.colors as mcolors\n",
    "import matplotlib.patheffects as mpe\n",
    "from matplotlib.ticker import FuncFormatter\n",
    "from mpl_toolkits.axes_grid1.inset_locator import inset_axes\n",
    "# from matplotlib.ticker import FormatStrFormatter\n",
    "# from matplotlib.patches import Polygon\n",
    "# from astropy.wcs import WCS\n",
    "from astropy import units as u\n",
    "from astropy.visualization import hist\n",
    "from astropy.coordinates import SkyCoord\n",
    "from astropy.cosmology import FlatLambdaCDM\n",
    "# from astroquery.simbad import Simbad\n",
    "# from astroquery.ned import Ned\n",
    "from scipy.cluster import hierarchy as hc\n",
    "from scipy.spatial import distance\n",
    "from sklearn.impute import SimpleImputer\n",
    "from sklearn.cluster import AgglomerativeClustering\n",
    "from sklearn.decomposition import PCA\n",
    "from sklearn.manifold import TSNE\n",
    "from sklearn import preprocessing\n",
    "import getpass\n",
    "import progressbar\n",
    "import pandas as pd\n",
    "import re\n",
    "import missingno as msno\n",
    "import itertools"
   ]
  },
  {
   "cell_type": "markdown",
   "metadata": {},
   "source": [
    "Define the spectral index $\\alpha$ from different sources  \n",
    "to be used in the luminosity calculations (K-correction)"
   ]
  },
  {
   "cell_type": "code",
   "execution_count": 2,
   "metadata": {},
   "outputs": [],
   "source": [
    "alpha_first = 0.5  # From FIRST data (Bornancini+2010)\n",
    "alpha_RG    = 1.0  # For radio galaxies (Verkhodanov & Khabibullina, 2010)\n",
    "alpha_alex  = 0.8  # Star-forming galaxies (Alexander+2003)\n",
    "alpha_smol  = 0.7  # Mean value from VLA-COSMOS 3GHz sample (Smolčić et al. 2017)\n",
    "alpha_butl  = 0.75  # From Butler et al., 2018"
   ]
  },
  {
   "cell_type": "markdown",
   "metadata": {},
   "source": [
    "Choose one of the spectral indexes"
   ]
  },
  {
   "cell_type": "code",
   "execution_count": 3,
   "metadata": {},
   "outputs": [],
   "source": [
    "alpha_used  = alpha_butl"
   ]
  },
  {
   "cell_type": "markdown",
   "metadata": {},
   "source": [
    "We define the cosmological properties to calculate luminosity distances and other quantities."
   ]
  },
  {
   "cell_type": "code",
   "execution_count": 4,
   "metadata": {},
   "outputs": [],
   "source": [
    "cosmo       = FlatLambdaCDM(H0=70, Om0=0.3)"
   ]
  },
  {
   "cell_type": "code",
   "execution_count": 5,
   "metadata": {},
   "outputs": [],
   "source": [
    "def lum_from_flux_radio(flux, redshift):  # Flux in mJy\n",
    "    lum_distance = cosmo.luminosity_distance(redshift).to(u.m).value  # in m\n",
    "    luminosity   = 4 * np.pi * lum_distance**2 * flux * 1e-3  * 1e-26 * (1 + redshift)**(alpha_used - 1)  # in W/Hz\n",
    "    return luminosity"
   ]
  },
  {
   "cell_type": "code",
   "execution_count": 6,
   "metadata": {},
   "outputs": [],
   "source": [
    "def lum_from_flux(flux, redshift):  # Flux in mJy, general version, without K-correction\n",
    "    lum_distance = cosmo.luminosity_distance(redshift).to(u.m).value  # in m\n",
    "    luminosity   = 4 * np.pi * lum_distance**2 * flux * 1e-3  * 1e-26  # in W/Hz\n",
    "    return luminosity"
   ]
  },
  {
   "cell_type": "markdown",
   "metadata": {},
   "source": [
    "Create class to normalize asymmetric colorscales  \n",
    "(from [http://chris35wills.github.io/matplotlib_diverging_colorbar/](http://chris35wills.github.io/matplotlib_diverging_colorbar/))."
   ]
  },
  {
   "cell_type": "code",
   "execution_count": 7,
   "metadata": {},
   "outputs": [],
   "source": [
    "class MidpointNormalize(mcolors.Normalize):\n",
    "    \"\"\"\n",
    "    Normalise the colorbar so that diverging bars work there way either side from a prescribed midpoint value)\n",
    "\n",
    "    e.g. im=ax1.imshow(array, norm=MidpointNormalize(midpoint=0.,vmin=-100, vmax=100))\n",
    "    \"\"\"\n",
    "    def __init__(self, vmin=None, vmax=None, midpoint=None, clip=False):\n",
    "        self.midpoint = midpoint\n",
    "        mcolors.Normalize.__init__(self, vmin, vmax, clip)\n",
    "\n",
    "    def __call__(self, value, clip=None):\n",
    "        # I'm ignoring masked values and all kinds of edge cases to make a\n",
    "        # simple example...\n",
    "        x, y = [self.vmin, self.midpoint, self.vmax], [0, 0.5, 1]\n",
    "        return np.ma.masked_array(np.interp(value, x, y), np.isnan(value))"
   ]
  },
  {
   "cell_type": "markdown",
   "metadata": {},
   "source": [
    "For future plots, we can configure their aspect too."
   ]
  },
  {
   "cell_type": "code",
   "execution_count": 8,
   "metadata": {},
   "outputs": [],
   "source": [
    "cmap            = cm.get_cmap('inferno')\n",
    "dark_color      = cmap(0.4)  # RGBA color code\n",
    "light_color     = cmap(0.6)  # RGBA color code\n",
    "colors          = [cmap(0.15), cmap(0.30), cmap(0.45), cmap(0.60), cmap(0.75), cmap(0.90)]\n",
    "colors_8        = [cmap(0.12), cmap(0.24), cmap(0.35), cmap(0.48), cmap(0.6), cmap(0.72), cmap(0.84), cmap(0.96)]"
   ]
  },
  {
   "cell_type": "code",
   "execution_count": 9,
   "metadata": {},
   "outputs": [],
   "source": [
    "cmap_alt        = cm.get_cmap('summer')\n",
    "dark_color_alt  = cmap_alt(0.4)  # RGBA color code\n",
    "light_color_alt = cmap_alt(0.6)  # RGBA color code\n",
    "colors_alt      = [cmap_alt(0.15), cmap_alt(0.30), cmap_alt(0.45), cmap_alt(0.60), cmap_alt(0.75), cmap_alt(0.90)]\n",
    "colors_8_alt    = [cmap_alt(0.12), cmap_alt(0.24), cmap_alt(0.35), cmap_alt(0.48), cmap_alt(0.60), cmap_alt(0.72),\\\n",
    "                   cmap_alt(0.84), cmap_alt(0.96)]"
   ]
  },
  {
   "cell_type": "code",
   "execution_count": 10,
   "metadata": {},
   "outputs": [],
   "source": [
    "pe1            = [mpe.Stroke(linewidth=5.0, foreground='black'),\n",
    "                  mpe.Stroke(foreground='white', alpha=1),\n",
    "                  mpe.Normal()]\n",
    "pe2            = [mpe.Stroke(linewidth=3.0, foreground='white'),\n",
    "                  mpe.Stroke(foreground='white', alpha=1),\n",
    "                  mpe.Normal()]\n",
    "\n",
    "alp_str        = r'$\\alpha$'"
   ]
  },
  {
   "cell_type": "markdown",
   "metadata": {},
   "source": [
    "---"
   ]
  },
  {
   "cell_type": "markdown",
   "metadata": {},
   "source": [
    "## Reading data"
   ]
  },
  {
   "cell_type": "code",
   "execution_count": 11,
   "metadata": {},
   "outputs": [],
   "source": [
    "machine  = getpass.getuser()\n",
    "# cat_path = '/home/' + machine + '/Documentos/Data/'\n",
    "cat_path = ''  # relative path to the same directory"
   ]
  },
  {
   "cell_type": "markdown",
   "metadata": {},
   "source": [
    "We import our data using the `pandas` package.  \n",
    "\n",
    "It is important to keep in mind that columns with keys starting with `Flux Density...` are in `Jy`.  \n",
    "All the other values, are expressed in `mJy`.\n",
    "\n",
    "Columns with uncertainties (`NED Uncertainty...`) have been saved as strings, to preserve possible upper limits."
   ]
  },
  {
   "cell_type": "code",
   "execution_count": 12,
   "metadata": {},
   "outputs": [],
   "source": [
    "inayoshi_merged_catalog_df = pd.read_hdf(cat_path + 'inayoshi_sources_merged_cat_jun2020.h5', 'df')"
   ]
  },
  {
   "cell_type": "code",
   "execution_count": 13,
   "metadata": {},
   "outputs": [
    {
     "data": {
      "text/plain": [
       "(20, 24)"
      ]
     },
     "execution_count": 13,
     "metadata": {},
     "output_type": "execute_result"
    }
   ],
   "source": [
    "np.shape(inayoshi_merged_catalog_df)"
   ]
  },
  {
   "cell_type": "markdown",
   "metadata": {},
   "source": [
    "---"
   ]
  },
  {
   "cell_type": "code",
   "execution_count": 14,
   "metadata": {},
   "outputs": [
    {
     "data": {
      "text/plain": [
       "Index(['Flux K', 'Flux H', 'Flux J', 'Flux I', 'Flux i', 'Flux r', 'Flux V',\n",
       "       'Flux B', 'Flux NUV', 'Flux FUV', 'Flux Ly alpha', 'Flux 230-468 MHz',\n",
       "       'Flux 1.4-1.7 GHz', 'Flux 2.2-5.5 GHz', 'Flux 20-44 GHz',\n",
       "       'Flux 203-375 GHz', 'Flux 150-500 microns', 'Flux 10-30 microns',\n",
       "       'Flux 3-8 microns', 'Flux 0.1-12 keV', 'z_val', 'z_val_e',\n",
       "       'f_10cm_up_l', 'origin'],\n",
       "      dtype='object')"
      ]
     },
     "execution_count": 14,
     "metadata": {},
     "output_type": "execute_result"
    }
   ],
   "source": [
    "inayoshi_merged_catalog_df.columns"
   ]
  },
  {
   "cell_type": "markdown",
   "metadata": {},
   "source": [
    "## Organize data"
   ]
  },
  {
   "cell_type": "markdown",
   "metadata": {},
   "source": [
    "Separate data into different arrays for calculations"
   ]
  },
  {
   "cell_type": "markdown",
   "metadata": {},
   "source": [
    "The following redshift column comes from `SDSS` with the highest quality flag selected."
   ]
  },
  {
   "cell_type": "code",
   "execution_count": 15,
   "metadata": {},
   "outputs": [],
   "source": [
    "redshift    = inayoshi_merged_catalog_df['z_val']\n",
    "redshift_e  = inayoshi_merged_catalog_df['z_val_e']\n",
    "F_20cm_up_l = inayoshi_merged_catalog_df['f_10cm_up_l']\n",
    "origin_flag = inayoshi_merged_catalog_df['f_10cm_up_l'].astype(int)         # 0:SDSS+FIRST, 1:COSMOS, 2:RADIO, 3:Stripe82, 3:Inayoshi"
   ]
  },
  {
   "cell_type": "markdown",
   "metadata": {},
   "source": [
    "We can calculate luminosities from fluxes.\n",
    "\n",
    "In this case, we first select the columns with fluxes in a numerical format  \n",
    "(with this all error columns are discarded for the moment)."
   ]
  },
  {
   "cell_type": "code",
   "execution_count": 16,
   "metadata": {},
   "outputs": [],
   "source": [
    "# numeric_col_names = large_catalog_df.select_dtypes('number').columns.drop(['INDEX', 'RA_d', 'DEC_d', 'Z_VALUE', 'FLUX_ERROR_B',\\\n",
    "#                                                                            'Z_OWN_ERR', 'L_20CM', 'L_20CM_ERR', 'L_250GHZ', 'L_250GHZ_ERR',\\\n",
    "#                                                                            'F_20CM_ERR', 'F_250GHZ_ERR', 'MASS_1450', 'FLUX_ERROR_V',\\\n",
    "#                                                                            'FLUX_ERROR_R', 'FLUX_ERROR_I','FLUX_ERROR_J',\\\n",
    "#                                                                            'FLUX_ERROR_K', 'Z_OWN'])\n",
    "# numeric_col_names = inayoshi_merged_catalog_df.select_dtypes('number').columns.drop(['INDEX', 'RA_d', 'DEC_d', 'Z_VALUE', 'FLUX_ERROR_B',\\\n",
    "#                                                                            'FLUX_ERROR_V', 'FLUX_ERROR_R', 'FLUX_ERROR_I', 'FLUX_ERROR_J',\\\n",
    "#                                                                            'FLUX_ERROR_K','F_250GHZ_ERR', 'F_XMM_ERR','F_1.5GHZ_ERR',\\\n",
    "#                                                                            'F_3GHZ_ERR', 'MASS_1450', 'F_20CM_ERR', 'Z_OWN_ERR', 'Z_OWN',\\\n",
    "#                                                                            'F_6CM_ERR'])"
   ]
  },
  {
   "cell_type": "markdown",
   "metadata": {},
   "source": [
    "---"
   ]
  },
  {
   "cell_type": "markdown",
   "metadata": {},
   "source": [
    "## Plot elements"
   ]
  },
  {
   "cell_type": "code",
   "execution_count": 17,
   "metadata": {},
   "outputs": [],
   "source": [
    "flux_values_df = inayoshi_merged_catalog_df.drop(['z_val', 'z_val_e', 'origin', 'f_10cm_up_l'], axis='columns')"
   ]
  },
  {
   "cell_type": "code",
   "execution_count": 18,
   "metadata": {},
   "outputs": [
    {
     "data": {
      "text/plain": [
       "array(['Flux K', 'Flux H', 'Flux J', 'Flux I', 'Flux i', 'Flux r',\n",
       "       'Flux V', 'Flux B', 'Flux NUV', 'Flux FUV', 'Flux Ly alpha',\n",
       "       'Flux 230-468 MHz', 'Flux 1.4-1.7 GHz', 'Flux 2.2-5.5 GHz',\n",
       "       'Flux 20-44 GHz', 'Flux 203-375 GHz', 'Flux 150-500 microns',\n",
       "       'Flux 10-30 microns', 'Flux 3-8 microns', 'Flux 0.1-12 keV'],\n",
       "      dtype=object)"
      ]
     },
     "execution_count": 18,
     "metadata": {},
     "output_type": "execute_result"
    }
   ],
   "source": [
    "flux_values_df.columns.to_numpy()"
   ]
  },
  {
   "cell_type": "code",
   "execution_count": 19,
   "metadata": {},
   "outputs": [],
   "source": [
    "imputer       = SimpleImputer(missing_values=np.nan, strategy='constant', fill_value=0.00)\n",
    "imputed_array = imputer.fit_transform(flux_values_df, flux_values_df)"
   ]
  },
  {
   "cell_type": "code",
   "execution_count": 20,
   "metadata": {},
   "outputs": [],
   "source": [
    "filled_flux_cat_df = pd.DataFrame(imputed_array, columns=flux_values_df.columns)"
   ]
  },
  {
   "cell_type": "code",
   "execution_count": 45,
   "metadata": {},
   "outputs": [],
   "source": [
    "min_vals = np.heaviside(np.nanmin(flux_values_df), 0) + 0.01\n",
    "max_vals = np.nanmax(flux_values_df)\n",
    "bin_vals = np.logspace(start=np.log10(min_vals), stop=np.log10(max_vals), num=40)"
   ]
  },
  {
   "cell_type": "code",
   "execution_count": 46,
   "metadata": {},
   "outputs": [
    {
     "data": {
      "text/plain": [
       "0.01"
      ]
     },
     "execution_count": 46,
     "metadata": {},
     "output_type": "execute_result"
    }
   ],
   "source": [
    "min_vals"
   ]
  },
  {
   "cell_type": "code",
   "execution_count": 47,
   "metadata": {},
   "outputs": [
    {
     "data": {
      "text/plain": [
       "array([1.00000000e-02, 2.23094486e-02, 4.97711496e-02, 1.11036690e-01,\n",
       "       2.47716733e-01, 5.52642373e-01, 1.23291466e+00, 2.75056462e+00,\n",
       "       6.13635800e+00, 1.36898763e+01, 3.05413592e+01, 6.81360883e+01,\n",
       "       1.52007856e+02, 3.39121144e+02, 7.56560573e+02, 1.68784492e+03,\n",
       "       3.76548895e+03, 8.40059821e+03, 1.87412714e+04, 4.18107430e+04,\n",
       "       9.32774622e+04, 2.08096875e+05, 4.64252652e+05, 1.03572207e+06,\n",
       "       2.31063882e+06, 5.15490780e+06, 1.15003151e+07, 2.56565687e+07,\n",
       "       5.72383901e+07, 1.27695692e+08, 2.84882048e+08, 6.35556140e+08,\n",
       "       1.41789070e+09, 3.16323597e+09, 7.05700502e+09, 1.57437891e+10,\n",
       "       3.51235253e+10, 7.83586481e+10, 1.74813823e+11, 3.90000000e+11])"
      ]
     },
     "execution_count": 47,
     "metadata": {},
     "output_type": "execute_result"
    }
   ],
   "source": [
    "bin_vals"
   ]
  },
  {
   "cell_type": "code",
   "execution_count": 48,
   "metadata": {},
   "outputs": [
    {
     "name": "stderr",
     "output_type": "stream",
     "text": [
      "/home/rcarvajal/.miniconda3/lib/python3.7/site-packages/ipykernel_launcher.py:5: UserWarning: Data has no positive values, and therefore cannot be log-scaled.\n",
      "  \"\"\"\n"
     ]
    },
    {
     "data": {
      "image/png": "[encoded data removed]",
      "text/plain": [
       "<Figure size 1152x1008 with 20 Axes>"
      ]
     },
     "metadata": {
      "needs_background": "light"
     },
     "output_type": "display_data"
    }
   ],
   "source": [
    "ax1 = flux_values_df.hist(bins=bin_vals, histtype='stepfilled', alpha=0.5, figsize=(16, 14))\n",
    "for subax in ax1:\n",
    "    for subb in subax:\n",
    "        subb.set_xscale('log')\n",
    "        subb.set_yscale('log')\n",
    "# ax1.set_xscale('log')\n",
    "# ax1.set_yscale('log')"
   ]
  },
  {
   "cell_type": "code",
   "execution_count": null,
   "metadata": {},
   "outputs": [],
   "source": [
    "ax2 = flux_values_df.plot.hist(bins=75, histtype='stepfilled', alpha=0.5, loglog=True, figsize=(11, 11))"
   ]
  },
  {
   "cell_type": "code",
   "execution_count": null,
   "metadata": {},
   "outputs": [],
   "source": []
  }
 ],
 "metadata": {
  "kernelspec": {
   "display_name": "Python 3",
   "language": "python",
   "name": "python3"
  },
  "language_info": {
   "codemirror_mode": {
    "name": "ipython",
    "version": 3
   },
   "file_extension": ".py",
   "mimetype": "text/x-python",
   "name": "python",
   "nbconvert_exporter": "python",
   "pygments_lexer": "ipython3",
   "version": "3.7.6"
  }
 },
 "nbformat": 4,
 "nbformat_minor": 4
}
