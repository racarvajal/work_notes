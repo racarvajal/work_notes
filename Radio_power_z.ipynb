{
 "cells": [
  {
   "cell_type": "markdown",
   "metadata": {},
   "source": [
    "# Code to show a plot of Radio Power vs redshift.\n",
    "\n",
    "We want to compare data from several surveys and catalogs in order to  \n",
    "place them in the Radio Power ($L_{1.4}$) - redshift ($z$) plane."
   ]
  },
  {
   "cell_type": "markdown",
   "metadata": {},
   "source": [
    "First, we import the packages to be used"
   ]
  },
  {
   "cell_type": "markdown",
   "metadata": {},
   "source": [
    "To get the first line working, you need  \n",
    "to run the following lines:\n",
    "\n",
    "```bash\n",
    " conda install nodejs\n",
    " pip install ipympl\n",
    " pip install --upgrade jupyterlab\n",
    " jupyter labextension install @jupyter-widgets/jupyterlab-manager\n",
    " jupyter labextension install jupyter-matplotlib\n",
    " jupyter nbextension enable --py widgetsnbextension\n",
    " ```\n"
   ]
  },
  {
   "cell_type": "code",
   "execution_count": 1,
   "metadata": {},
   "outputs": [],
   "source": [
    "#%matplotlib inline\n",
    "# Static plots\n",
    "%matplotlib notebook\n",
    "# Interactive plots\n",
    "import numpy as np\n",
    "import matplotlib.cm as cm\n",
    "import matplotlib.pyplot as plt\n",
    "import matplotlib.colors as mcolors\n",
    "import matplotlib.patheffects as mpe\n",
    "import matplotlib.patheffects as path_effects\n",
    "from matplotlib.ticker import FormatStrFormatter\n",
    "from matplotlib.patches import Polygon\n",
    "from astropy.io import fits\n",
    "from astropy.wcs import WCS\n",
    "from astropy import units as u\n",
    "from astropy.table import Table\n",
    "from astropy.visualization import hist\n",
    "from astropy.coordinates import SkyCoord\n",
    "import getpass"
   ]
  },
  {
   "cell_type": "markdown",
   "metadata": {},
   "source": [
    "Now, we define some functions to be used for calculations."
   ]
  },
  {
   "cell_type": "markdown",
   "metadata": {},
   "source": [
    "One function, to derive luminosity distances"
   ]
  },
  {
   "cell_type": "code",
   "execution_count": 2,
   "metadata": {},
   "outputs": [],
   "source": [
    "def luminosity_distance(z_i, H0=70., WM=0.3, WV=0.7):\n",
    "    z_i   = np.array([z_i], dtype='float64').flatten()\n",
    "    c     = 299792.458 # velocity of light in km/sec\n",
    "    h     = H0 / 100.\n",
    "    WR    = 4.165E-5 / (h * h)   # includes 3 massless neutrino species, T0 = 2.72528\n",
    "    WK    = 1 - WM - WR - WV\n",
    "    azs   = 1.0 / (1 + z_i)\n",
    "    DTT   = 0.0\n",
    "    DCMR  = 0.0\n",
    "    # do integral over a=1/(1+z) from az to 1 in n steps, midpoint rule\n",
    "    n     = 1000  # number of points in integrals\n",
    "    DL_Mpcs = np.zeros_like(z_i)\n",
    "    for count, az in enumerate(azs):\n",
    "        a     = az + (1 - az) * (np.arange(0, n) + 0.5) / n\n",
    "        adot  = np.sqrt(WK + (WM / a) + (WR / (a * a)) + (WV * a * a))\n",
    "        for i in range(n):\n",
    "            # a    = az + (1 - az) * (i + 0.5) / n\n",
    "            # adot = math.sqrt(WK + (WM / a) + (WR / (a * a)) + (WV * a * a))\n",
    "            DTT  = DTT + 1. / adot[i]\n",
    "            DCMR = DCMR + 1. / (a[i] * adot[i])\n",
    "        DTT   = (1. - az) * DTT / n\n",
    "        DCMR  = (1. - az) * DCMR / n\n",
    "        # tangential comoving distance\n",
    "        ratio = 1.00\n",
    "        x     = np.sqrt(abs(WK)) * DCMR\n",
    "        if x > 0.1:\n",
    "            if WK > 0:\n",
    "                ratio =  0.5 * (np.exp(x) - np.exp(-x)) / x \n",
    "            else:\n",
    "                ratio = np.sin(x) / x\n",
    "        else:\n",
    "            y = x * x\n",
    "        if WK < 0: y = -y\n",
    "        ratio  = 1. + y / 6. + y * y / 120.\n",
    "        DCMT   = ratio * DCMR\n",
    "        DA     = az * DCMT\n",
    "        DL     = DA / (az * az)\n",
    "        DL_Mpc = (c / H0) * DL\n",
    "        DL_Mpcs[count] = DL_Mpc\n",
    "    return DL_Mpcs"
   ]
  },
  {
   "cell_type": "markdown",
   "metadata": {},
   "source": [
    "Now, a function to create some gradients in the plots"
   ]
  },
  {
   "cell_type": "code",
   "execution_count": 3,
   "metadata": {},
   "outputs": [],
   "source": [
    "def gradient_fill(x, y, fill_color=None, ax=None, **kwargs):\n",
    "    \"\"\"\n",
    "    Plot a line with a linear alpha gradient filled beneath it.\n",
    "\n",
    "    Parameters\n",
    "    ----------\n",
    "    x, y : array-like\n",
    "        The data values of the line.\n",
    "    fill_color : a matplotlib color specifier (string, tuple) or None\n",
    "        The color for the fill. If None, the color of the line will be used.\n",
    "    ax : a matplotlib Axes instance\n",
    "        The axes to plot on. If None, the current pyplot axes will be used.\n",
    "    Additional arguments are passed on to matplotlib's ``plot`` function.\n",
    "\n",
    "    Returns\n",
    "    -------\n",
    "    line : a Line2D instance\n",
    "        The line plotted.\n",
    "    im : an AxesImage instance\n",
    "        The transparent gradient clipped to just the area beneath the curve.\n",
    "    \"\"\"\n",
    "    if ax is None:\n",
    "        ax = plt.gca()\n",
    "\n",
    "    line, = ax.plot(x, y, **kwargs)\n",
    "    if fill_color is None:\n",
    "        fill_color = line.get_color()\n",
    "\n",
    "    zorder = line.get_zorder()\n",
    "    alpha = line.get_alpha()\n",
    "    alpha = 1.0 if alpha is None else alpha\n",
    "\n",
    "    z = np.empty((100, 1, 4), dtype=float)\n",
    "    rgb = mcolors.colorConverter.to_rgb(fill_color)\n",
    "    z[:,:,:3] = rgb\n",
    "    z[:,:,-1] = np.linspace(0, alpha, 100)[:,None]\n",
    "\n",
    "    xmin, xmax, ymin, ymax = x.min(), x.max(), y.min(), y.max()\n",
    "    im = ax.imshow(z, aspect='auto', extent=[xmin, xmax, ymin, ymax],\n",
    "                   origin='lower', zorder=zorder)\n",
    "\n",
    "    xy = np.column_stack([x, y])\n",
    "    xy = np.vstack([[xmin, ymin], xy, [xmax, ymin], [xmin, ymin]])\n",
    "    clip_path = Polygon(xy, facecolor='none', edgecolor='none', closed=True)\n",
    "    ax.add_patch(clip_path)\n",
    "    im.set_clip_path(clip_path)\n",
    "\n",
    "    ax.autoscale(True)\n",
    "    return line, im"
   ]
  },
  {
   "cell_type": "markdown",
   "metadata": {},
   "source": [
    "Define the spectral index $\\alpha$ from different sources  \n",
    "to be used in the luminosity calculations (K-correction)"
   ]
  },
  {
   "cell_type": "code",
   "execution_count": 4,
   "metadata": {},
   "outputs": [],
   "source": [
    "alpha_first = 0.5  # From FIRST data (Bornancini+2010)\n",
    "alpha_RG    = 1.0  # For radio galaxies (Verkhodanov & Khabibullina, 2010)\n",
    "alpha_alex  = 0.8  # Star-forming galaxies (Alexander+2003)\n",
    "alpha_smol  = 0.7  # Mean value from VLA-COSMOS 3GHz sample (Smolčić et al. 2017)\n",
    "alpha_butl  = 0.75  # From Butler et al., 2018"
   ]
  },
  {
   "cell_type": "markdown",
   "metadata": {},
   "source": [
    "Choose one of the spectral indexes"
   ]
  },
  {
   "cell_type": "code",
   "execution_count": 5,
   "metadata": {},
   "outputs": [],
   "source": [
    "alpha_used  = alpha_butl"
   ]
  },
  {
   "cell_type": "markdown",
   "metadata": {},
   "source": [
    "---"
   ]
  },
  {
   "cell_type": "markdown",
   "metadata": {},
   "source": [
    "### Reading data"
   ]
  },
  {
   "cell_type": "markdown",
   "metadata": {},
   "source": [
    "Next step, reading our data.\n",
    "Most of the data files have been created using Topcat"
   ]
  },
  {
   "cell_type": "code",
   "execution_count": 6,
   "metadata": {},
   "outputs": [],
   "source": [
    "machine  = getpass.getuser()\n",
    "# cat_path = '/home/' + machine + '/Documentos/Data/'\n",
    "cat_path = ''  # relative path to the same directory"
   ]
  },
  {
   "cell_type": "markdown",
   "metadata": {},
   "source": [
    "Read data from WISE+FIRST+MILLIQUAS catalogs cross-matched.  \n",
    "It is a full fits file with three combinations."
   ]
  },
  {
   "cell_type": "markdown",
   "metadata": {},
   "source": [
    "MILLIQUAS + WISEAGN  \n",
    "**MILLIQUAS + FIRST (SDSS)**  \n",
    "MILLIQUAS + FIRST + WISE  "
   ]
  },
  {
   "cell_type": "code",
   "execution_count": 7,
   "metadata": {},
   "outputs": [
    {
     "name": "stderr",
     "output_type": "stream",
     "text": [
      "/home/rcarvajal/.anaconda3/lib/python3.7/site-packages/astropy/table/column.py:1020: RuntimeWarning: invalid value encountered in greater\n",
      "  result = getattr(super(), op)(other)\n"
     ]
    }
   ],
   "source": [
    "hdu_list = fits.open(cat_path + 'tables_matches_milli_sdss_feb.fits');\n",
    "\n",
    "# wise_milli  = Table(hdu_list[1].data);\n",
    "sdss_milli  = Table(hdu_list[1].data);\n",
    "# match_table = Table(hdu_list[3].data);  # Three tables cross-matched\n",
    "hdu_list.close();\n",
    "\n",
    "L_14GHz_filter = np.array(sdss_milli['L_14GHz'] > 0.0);  # sdss + milliquasar"
   ]
  },
  {
   "cell_type": "markdown",
   "metadata": {},
   "source": [
    "Read data from **Wold+2012** VLA observations + redshifts  \n",
    "199 sources used from A370 and A2390  \n",
    "Only those from A370 have spectroscopic redshift values"
   ]
  },
  {
   "cell_type": "code",
   "execution_count": 8,
   "metadata": {},
   "outputs": [],
   "source": [
    "#hdu_wold    = fits.open(cat_path + 'J_ApJS_202_2_table2.dat.fits')\n",
    "hdu_wold    = fits.open(cat_path + 'table2.fits')\n",
    "\n",
    "wold_data   = Table(hdu_wold[1].data)\n",
    "\n",
    "redshift_wold   = wold_data['z'][(wold_data['z'] > 0) * (wold_data['ACO'] == 370)]\n",
    "peak_14GHz_wold = wold_data['Stot'][(wold_data['z'] > 0) * (wold_data['ACO'] == 370)]\n",
    "lum_dist_wold   = luminosity_distance(redshift_wold) * 3.086e22\n",
    "hdu_wold.close()"
   ]
  },
  {
   "cell_type": "markdown",
   "metadata": {},
   "source": [
    "Read data from **Owen+ 2018**, JVLA observations + redshifts  \n",
    "GOODS-N field --- 734 sources used --- scpectroscopic z only"
   ]
  },
  {
   "cell_type": "code",
   "execution_count": 9,
   "metadata": {},
   "outputs": [
    {
     "name": "stderr",
     "output_type": "stream",
     "text": [
      "WARNING: VerifyWarning: It is strongly recommended that column names contain only upper and lower-case ASCII letters, digits, or underscores for maximum compatibility with other software (got '[O2018]'). [astropy.io.fits.column]\n"
     ]
    }
   ],
   "source": [
    "hdu_owen    = fits.open(cat_path + 'J_ApJS_235_34_table1.dat.fits');\n",
    "\n",
    "owen_data   = Table(hdu_owen[1].data);\n",
    "\n",
    "redshift_owen   = owen_data['z'][(owen_data['z'] > 0) * (owen_data['f_z'] == 's')];\n",
    "peak_14GHz_owen = owen_data['Total'][(owen_data['z'] > 0) * (owen_data['f_z'] == 's')];\n",
    "lum_dist_owen   = luminosity_distance(redshift_owen) * 3.086e22;\n",
    "\n",
    "hdu_owen.close();"
   ]
  },
  {
   "cell_type": "markdown",
   "metadata": {},
   "source": [
    "Read data from **Cooper+2007** VLA observations  \n",
    "which have been selected from VLBI 2cm observations"
   ]
  },
  {
   "cell_type": "code",
   "execution_count": 10,
   "metadata": {},
   "outputs": [],
   "source": [
    "hdu_cooper = fits.open(cat_path + 'J_ApJS_171_376_table2.dat.fits')\n",
    "\n",
    "cooper_data   = Table(hdu_cooper[1].data)\n",
    "\n",
    "redshift_cooper   = cooper_data['z'][cooper_data['z'] > 0]\n",
    "peak_14GHz_cooper = cooper_data['Score'][cooper_data['z'] > 0]  # in Jy\n",
    "lum_dist_cooper   = luminosity_distance(redshift_cooper) * 3.086e22\n",
    "\n",
    "hdu_cooper.close()"
   ]
  },
  {
   "cell_type": "markdown",
   "metadata": {},
   "source": [
    "Read data from the cross-matching between VLA, XMM and COSMOS  \n",
    "This data has been obtained from the VLA-COSMOS 3 GHz Large Project  \n",
    "**Smolčić et al. 2017**\n",
    "\n",
    "We can, also, separate sources which have an AGN X-ray counterpart  \n",
    "with the flag 'xray_flag'"
   ]
  },
  {
   "cell_type": "code",
   "execution_count": 11,
   "metadata": {},
   "outputs": [],
   "source": [
    "hdu_cosmos         = fits.open(cat_path + 'vla_xmmcosmos_smolcic.fits')\n",
    "\n",
    "cosmos_data        = Table(hdu_cosmos[1].data)\n",
    "\n",
    "x_ray_flag         = cosmos_data['xray_flag']\n",
    "redshift_cosmos    = cosmos_data['z'][(cosmos_data['z'] > 0) * (cosmos_data['xray_flag'] == 'F')]\n",
    "int_14GHz_cosmos   = 10**cosmos_data['log_lum_20cm'][(cosmos_data['z'] > 0) * (cosmos_data['xray_flag'] == 'F')]\n",
    "# lum_dist_cosmos  = cosmos_data['lum_dist'][(cosmos_data['spec_z'] > 0)]  # in m\n",
    "\n",
    "redshift_cosmos_x  = cosmos_data['z'][(cosmos_data['z'] > 0) * (cosmos_data['xray_flag'] == 'T')]\n",
    "int_14GHz_cosmos_x = 10**cosmos_data['log_lum_20cm'][(cosmos_data['z'] > 0) * (cosmos_data['xray_flag'] == 'T')]\n",
    "\n",
    "hdu_wold.close()"
   ]
  },
  {
   "cell_type": "markdown",
   "metadata": {},
   "source": [
    "Add data from different and individual sources  \n",
    "In that same order;\n",
    "\n",
    "- **Aztec-1**\n",
    "- **M82**\n",
    "- **Himiko**\n",
    "- **Arp 220**\n",
    "- **J1342+0928 (Bañados+2018)**\n",
    "- **TGSS J1530+1049 (Saxena+2018)**\n",
    "- **J0100+2802 (Wang+2017)**\n",
    "- **J0439+1634 (Yang+2019)**"
   ]
  },
  {
   "cell_type": "code",
   "execution_count": 12,
   "metadata": {},
   "outputs": [],
   "source": [
    "indiv_zs     = np.array([4.3415, 0.00068, 6.595, 0.01813, 7.5413, 5.72, 6.327, 6.5])\n",
    "indiv_flx    = np.array([48, 7.386e6, 100, 3.2e5, 432, 7500, 104.5 * (3/1.4)**alpha_used, 28.9 * (3/1.4)**alpha_used])  # uJy (always converted to 1.4GHz)\n",
    "indiv_flx_e  = np.array([12, 0.0, 50, 0.0, 216, 0.0, 3.1, 4.5])  # From literature, or 25% of value for upper limits\n",
    "indiv_lum_d  = luminosity_distance(indiv_zs) * 3.086e22  # in m\n",
    "indiv_names  = np.array(['AzTEC-1', 'M82', 'Himiko', 'Arp 220', 'J1342+0928', 'TGSS J1530+1049', 'J0100+2802', 'J0439+1634'])\n",
    "indiv_up_lim = np.array([False, False, True, False, True, False, False, False])"
   ]
  },
  {
   "cell_type": "markdown",
   "metadata": {},
   "source": [
    "We want, also, to add $z > 6$ QSOs from the list in  \n",
    "Table 3 in the review of **Inayoshi, Visbal, and Haiman, 2020**.  \n",
    "Six of them have $z > 7$\n",
    "\n",
    "Not all of them have $1.4$ GHz measurements. Others have  \n",
    "measurements in different frequencies which can be translated  \n",
    "into the desired frequency using, for instance, the relation  \n",
    "from Butler et al., 2018:\n",
    "\n",
    "$$S_{a} = S_{b} \\times (\\frac{\\nu_{b}}{\\nu_{a}})^{\\alpha}$$\n"
   ]
  },
  {
   "cell_type": "markdown",
   "metadata": {},
   "source": [
    "We load the data from these sources. Fluxes from different frequencies than $1.4$ GHz are translated to the needed value."
   ]
  },
  {
   "cell_type": "code",
   "execution_count": 13,
   "metadata": {},
   "outputs": [],
   "source": [
    "high_z_zs       = np.char.replace(np.loadtxt(cat_path + 'high_z_qso_props.csv', usecols=[3],  dtype='str', delimiter='\\t'), ',', '.').astype(np.float)\n",
    "high_z_zs_e     = np.char.replace(np.loadtxt(cat_path + 'high_z_qso_props.csv', usecols=[4],  dtype='str', delimiter='\\t'), ',', '.').astype(np.float)\n",
    "high_z_14GHz    = np.char.replace(np.loadtxt(cat_path + 'high_z_qso_props.csv', usecols=[6],  dtype='str', delimiter='\\t'), ',', '.').astype(np.float)\n",
    "high_z_14GHz_e  = np.char.replace(np.loadtxt(cat_path + 'high_z_qso_props.csv', usecols=[7],  dtype='str', delimiter='\\t'), ',', '.').astype(np.float)\n",
    "high_z_3GHz     = np.char.replace(np.loadtxt(cat_path + 'high_z_qso_props.csv', usecols=[8],  dtype='str', delimiter='\\t'), ',', '.').astype(np.float) * (3/1.4)**alpha_used\n",
    "high_z_3GHz_e   = np.char.replace(np.loadtxt(cat_path + 'high_z_qso_props.csv', usecols=[9],  dtype='str', delimiter='\\t'), ',', '.').astype(np.float) * (3/1.4)**alpha_used\n",
    "high_z_15GHz    = np.char.replace(np.loadtxt(cat_path + 'high_z_qso_props.csv', usecols=[10], dtype='str', delimiter='\\t'), ',', '.').astype(np.float) * (1.5/1.4)**alpha_used\n",
    "high_z_15GHz_e  = np.char.replace(np.loadtxt(cat_path + 'high_z_qso_props.csv', usecols=[11], dtype='str', delimiter='\\t'), ',', '.').astype(np.float) * (1.5/1.4)**alpha_used\n",
    "high_z_250GHz   = np.char.replace(np.loadtxt(cat_path + 'high_z_qso_props.csv', usecols=[12], dtype='str', delimiter='\\t'), ',', '.').astype(np.float) * (250/1.4)**alpha_used\n",
    "high_z_250GHz_e = np.char.replace(np.loadtxt(cat_path + 'high_z_qso_props.csv', usecols=[13], dtype='str', delimiter='\\t'), ',', '.').astype(np.float) * (250/1.4)**alpha_used\n",
    "high_z_names    = np.loadtxt('high_z_qso_props.csv', usecols=[0], dtype='str', delimiter='\\t')\n",
    "high_z_lum_d    = luminosity_distance(high_z_zs) * 3.086e22  # in m\n",
    "high_z_up_lim   = np.array([val == '<' for val in np.loadtxt('high_z_qso_props.csv', usecols=[5], dtype='str', delimiter='\\t')])"
   ]
  },
  {
   "cell_type": "markdown",
   "metadata": {},
   "source": [
    "Accumulate values into one array except 250GHz data.  \n",
    "Millimetre luminosities will be used separately since we cannot be completely  \n",
    "sure that they represent, fully, non-thermal emission (from AGN) and not dust."
   ]
  },
  {
   "cell_type": "code",
   "execution_count": 14,
   "metadata": {},
   "outputs": [],
   "source": [
    "high_z_14   = high_z_14GHz + high_z_3GHz + high_z_15GHz\n",
    "high_z_14_e = high_z_14GHz_e + high_z_3GHz_e + high_z_15GHz_e"
   ]
  },
  {
   "cell_type": "markdown",
   "metadata": {},
   "source": [
    "---"
   ]
  },
  {
   "cell_type": "markdown",
   "metadata": {},
   "source": [
    "### Calculate luminosities"
   ]
  },
  {
   "cell_type": "markdown",
   "metadata": {},
   "source": [
    "Obtain luminosity distances from a fixed  \n",
    "set of redshift values to calculated  \n",
    "specific luminosities"
   ]
  },
  {
   "cell_type": "code",
   "execution_count": 15,
   "metadata": {},
   "outputs": [],
   "source": [
    "z_range        = np.arange(0, 10.2, 0.25)  # array to be used in other instances\n",
    "lum_dist_range = luminosity_distance(z_range)* 3.086e22  # in m"
   ]
  },
  {
   "cell_type": "markdown",
   "metadata": {},
   "source": [
    "Calculate luminosities (in W/Hz) for different datasets  \n",
    "using the expression\n",
    "\n",
    "$$L_{1.4\\mathrm{GHz}} = 4 \\pi \\mathrm{d}^{2}_{L} f_{1.4\\mathrm{GHz}} (1 + z)^{\\alpha - 1}$$\n",
    "\n",
    "which comes from Alexander et al. 2003\n",
    "\n",
    "We can also obtain that luminosity from the flux in $3$ GHz as\n",
    "\n",
    "$$L_{1.4\\mathrm{GHz}} = 4 \\pi \\mathrm{d}^{2}_{L} {(\\frac{3}{1.4})}^{\\alpha} f_{3\\mathrm{GHz}} (1 + z)^{\\alpha - 1}$$\n",
    "\n",
    "This expression comes from Delhaize et al. 2017."
   ]
  },
  {
   "cell_type": "code",
   "execution_count": 16,
   "metadata": {},
   "outputs": [],
   "source": [
    "L_21cm      = 4 * np.pi * (sdss_milli['D_lum'][L_14GHz_filter])**2 * sdss_milli['flux_20_cm'][L_14GHz_filter] * 1e-3 * 1e-26 * (1 + sdss_milli['pipeline_redshift'][L_14GHz_filter])**(alpha_used - 1)\n",
    "lum_wold    = 4 * np.pi * lum_dist_wold**2  * peak_14GHz_wold * 1e-6 * 1e-26 * (1 + redshift_wold)**(alpha_used - 1)\n",
    "lum_owen    = 4 * np.pi * lum_dist_owen**2  * peak_14GHz_owen * 1e-6 * 1e-26 * (1 + redshift_owen)**(alpha_used - 1)\n",
    "lum_cooper  = 4 * np.pi * lum_dist_cooper**2  * peak_14GHz_cooper * 1e-26 * (1 + redshift_cooper)**(alpha_used - 1)\n",
    "indiv_lum   = 4 * np.pi * indiv_lum_d**2  * indiv_flx * 1e-6 * 1e-26 * (1 + indiv_zs)**(alpha_used - 1)"
   ]
  },
  {
   "cell_type": "markdown",
   "metadata": {},
   "source": [
    "Calculate error values for individual points.  \n",
    "For upper limits, a simple 10% has been considered as error value."
   ]
  },
  {
   "cell_type": "code",
   "execution_count": 17,
   "metadata": {},
   "outputs": [],
   "source": [
    "indiv_lum_e = np.abs(indiv_lum) * (indiv_flx_e / indiv_flx)"
   ]
  },
  {
   "cell_type": "markdown",
   "metadata": {},
   "source": [
    "Obtain luminosities for high-z sources"
   ]
  },
  {
   "cell_type": "code",
   "execution_count": 18,
   "metadata": {},
   "outputs": [],
   "source": [
    "high_z_lum_14    = 4 * np.pi * high_z_lum_d**2 * high_z_14GHz  * 1e-6 * 1e-26 * (1 + high_z_zs)**(alpha_used - 1)\n",
    "high_z_lum_3     = 4 * np.pi * high_z_lum_d**2 * high_z_3GHz   * 1e-6 * 1e-26 * (1 + high_z_zs)**(alpha_used - 1)\n",
    "high_z_lum_15    = 4 * np.pi * high_z_lum_d**2 * high_z_15GHz  * 1e-6 * 1e-26 * (1 + high_z_zs)**(alpha_used - 1)\n",
    "high_z_lum_250   = 4 * np.pi * high_z_lum_d**2 * high_z_250GHz * 1e-6 * 1e-26 * (1 + high_z_zs)**(alpha_used - 1)"
   ]
  },
  {
   "cell_type": "markdown",
   "metadata": {},
   "source": [
    "Mix all luminosities (different bands) to obtain single value (adding zeroes).  \n",
    "Millimetre luminosities will be used separately since we cannot be completely  \n",
    "sure that they represent, fully, non-thermal emission (from AGN) and not dust."
   ]
  },
  {
   "cell_type": "code",
   "execution_count": 19,
   "metadata": {},
   "outputs": [],
   "source": [
    "high_z_lum_14GHz   = high_z_lum_14 + high_z_lum_3 + high_z_lum_15"
   ]
  },
  {
   "cell_type": "markdown",
   "metadata": {},
   "source": [
    "We can also determine error values for these luminosities"
   ]
  },
  {
   "cell_type": "code",
   "execution_count": 20,
   "metadata": {},
   "outputs": [],
   "source": [
    "high_z_lum_14GHz_e  = np.zeros_like(high_z_lum_14GHz)\n",
    "high_z_lum_250GHz_e = np.zeros_like(high_z_lum_250)\n",
    "for counter, element in enumerate(high_z_lum_14GHz):\n",
    "    if element == 0: continue\n",
    "    high_z_lum_14GHz_e[counter] = np.abs(element) * high_z_14_e[counter] / high_z_14[counter]\n",
    "for counter, element in enumerate(high_z_lum_250):\n",
    "    if element == 0: continue\n",
    "    high_z_lum_250GHz_e[counter] = np.abs(element) * high_z_250GHz_e[counter] / high_z_250GHz[counter]"
   ]
  },
  {
   "cell_type": "markdown",
   "metadata": {},
   "source": [
    "Also, including some fixed flux values which might  \n",
    "represent observational limits for some instruments.  \n",
    "That is the case of the 1 mJy limit for FIRST."
   ]
  },
  {
   "cell_type": "code",
   "execution_count": 21,
   "metadata": {},
   "outputs": [],
   "source": [
    "lum_FIRST   = 4 * np.pi * lum_dist_range**2 * 1e-3  * 1e-26 * (1 + z_range)**(alpha_used - 1)\n",
    "lum_50uJy   = 4 * np.pi * lum_dist_range**2 * 50e-6 * 1e-26 * (1 + z_range)**(alpha_used - 1)\n",
    "lum_10uJy   = 4 * np.pi * lum_dist_range**2 * 10e-6 * 1e-26 * (1 + z_range)**(alpha_used - 1)\n",
    "lum_1uJy    = 4 * np.pi * lum_dist_range**2 * 1e-6  * 1e-26 * (1 + z_range)**(alpha_used - 1)"
   ]
  },
  {
   "cell_type": "markdown",
   "metadata": {},
   "source": [
    "Now, we can obtain luminosity limits for different constraints  \n",
    "on Star Formation Rates (SFRs), which can be converted into  \n",
    "luminosities using\n",
    "\n",
    "$$\\mathrm{SFR}_\\mathrm{radio} = (5.9 \\pm 1.8) \\times 10^{-22} P_{1.4 \\mathrm{GHz}}$$\n",
    "\n",
    "which comes from Bonzini et al., 2015. This expression considers a recent star formation  \n",
    "and significant contribution from synchrotron SNR."
   ]
  },
  {
   "cell_type": "markdown",
   "metadata": {},
   "source": [
    "One value corresponds to a SFR of $3000 \\mathrm{M}_{\\odot} \\mathrm{yr}^{-1}$,\\\n",
    "a standar value to differenciate between Radio Loud and Radio Quiet galaxies."
   ]
  },
  {
   "cell_type": "code",
   "execution_count": 22,
   "metadata": {},
   "outputs": [],
   "source": [
    "SFR_3000    = 1e22 * 3000 / 5.9 * np.ones_like(lum_FIRST)\n",
    "SFR_3000_e  = SFR_3000 * (1.8 / 5.9)"
   ]
  },
  {
   "cell_type": "markdown",
   "metadata": {},
   "source": [
    "Another option is setting the maximum contribution that star formation  \n",
    "can add to the radio power in a galaxy. That is, without any AGN addition.  \n",
    "\n",
    "In order to obtain this, we incorporate the following expression from  \n",
    "Bonzini et al., 2015\n",
    "\n",
    "$$\\log{(\\mathrm{SFR}(\\mathrm{M}_{\\bigstar}, z) / \\mathrm{M}_{\\odot} \\mathrm{yr}^{-1})} = -7.77 + 0.79 \\log{(\\mathrm{M}_{\\bigstar} / \\mathrm{M}_{\\odot})} + 2.8 \\log{(1 + z)}$$\n",
    "\n",
    "This expression includes slope and redshift evolution which are based on  \n",
    "the $1.5 < z < 2.5$ results of Rodighiero et al. (2011).\n",
    "\n",
    "Then, we need to incorporate a value for the stellar mass in a galaxy.  \n",
    "One option is to have one fixed value for all redshifts. Even though this is  \n",
    "not completely realistic (there is some stellar mass evolution as a function  \n",
    "of redshift), it can give some constraints on the maximum values for the  \n",
    "radio power of a star-forming galaxy.\n",
    "\n",
    "From this, and in line with the works of Niino (2012), Papovich et al. (2002),  \n",
    "Glazenbrook et al. (2004), Drory et al. (2005/2006), we choose the value\n",
    "\n",
    "$$\\mathrm{M}_{\\bigstar} \\sim 10^{11} \\mathrm{M}_{\\odot}$$"
   ]
  },
  {
   "cell_type": "markdown",
   "metadata": {},
   "source": [
    "Now, the calculate the SFR and radio power for this limit"
   ]
  },
  {
   "cell_type": "code",
   "execution_count": 23,
   "metadata": {},
   "outputs": [],
   "source": [
    "max_mass          = 1e11  # Maximum value for stellar mass in a galaxy\n",
    "SFR_r_fix         = 10**(-7.77 + 0.79 * np.log10(max_mass) + 2.8 * np.log10(1 + z_range))\n",
    "max_pow_sfr_fix   = (1 / 5.9) * 1e22 * SFR_r_fix\n",
    "max_pow_sfr_fix_e = 1.8 / 5.9 * 1e22 * SFR_r_fix"
   ]
  },
  {
   "cell_type": "markdown",
   "metadata": {},
   "source": [
    "A second option is to include some evolution of the amount of stellar mass  \n",
    "in a galaxy. We choose a simple linear evolution between $\\mathrm{M}_{\\bigstar} \\sim 10^{11} \\mathrm{M}_{\\odot}$ and $\\mathrm{M}_{\\bigstar} \\sim 10^{10} \\mathrm{M}_{\\odot}$ for our studied  \n",
    "redshift range ($0 < z < 10$).\n",
    "\n",
    "This limits are, roughly, in line with the results from Behroozi and Silk, 2016."
   ]
  },
  {
   "cell_type": "code",
   "execution_count": 24,
   "metadata": {},
   "outputs": [],
   "source": [
    "mass_range        = np.linspace(1e11, 1e10, np.shape(z_range)[0])  # Following, roughly, Behroozi and Silk, 2016\n",
    "SFR_r             = 10**(-7.77 + 0.79 * np.log10(mass_range) + 2.8 * np.log10(1 + z_range))\n",
    "max_pow_sfr       = (1 / 5.9) * 1e22 * SFR_r\n",
    "max_pow_sfr_e     = 1.8 / 5.9 * 1e22 * SFR_r"
   ]
  },
  {
   "cell_type": "markdown",
   "metadata": {},
   "source": [
    "---"
   ]
  },
  {
   "cell_type": "markdown",
   "metadata": {},
   "source": [
    "### Plot the results"
   ]
  },
  {
   "cell_type": "markdown",
   "metadata": {},
   "source": [
    "Having all the needed data, we can plot our results."
   ]
  },
  {
   "cell_type": "markdown",
   "metadata": {},
   "source": [
    "First, define the colors and colormaps to use"
   ]
  },
  {
   "cell_type": "code",
   "execution_count": 25,
   "metadata": {},
   "outputs": [],
   "source": [
    "cmap        = cm.get_cmap('inferno')\n",
    "dark_color  = cmap(0.4)  # RGBA color code\n",
    "light_color = cmap(0.6)  # RGBA color code\n",
    "colors      = [cmap(0.15), cmap(0.30), cmap(0.45), cmap(0.60), cmap(0.75), cmap(0.90)]\n",
    "colors_8    = [cmap(0.12), cmap(0.24), cmap(0.35), cmap(0.48), cmap(0.6), cmap(0.72), cmap(0.84), cmap(0.96)]"
   ]
  },
  {
   "cell_type": "markdown",
   "metadata": {},
   "source": [
    "Now, defining the style to plot lines and other figures"
   ]
  },
  {
   "cell_type": "code",
   "execution_count": 26,
   "metadata": {},
   "outputs": [],
   "source": [
    "pe1 = [mpe.Stroke(linewidth=3, foreground='black'),\n",
    "       mpe.Stroke(foreground='white', alpha=1),\n",
    "       mpe.Normal()]"
   ]
  },
  {
   "cell_type": "markdown",
   "metadata": {},
   "source": [
    "Some flags in order to save figures from plots"
   ]
  },
  {
   "cell_type": "code",
   "execution_count": 27,
   "metadata": {},
   "outputs": [],
   "source": [
    "save_flag = False\n",
    "show_flag = True"
   ]
  },
  {
   "cell_type": "code",
   "execution_count": 28,
   "metadata": {},
   "outputs": [],
   "source": [
    "alp_str     = r'$\\alpha$'"
   ]
  },
  {
   "cell_type": "markdown",
   "metadata": {},
   "source": [
    "First, plot only the limits from surveys or SFRs"
   ]
  },
  {
   "cell_type": "code",
   "execution_count": 29,
   "metadata": {},
   "outputs": [
    {
     "data": {
      "application/vnd.jupyter.widget-view+json": {
       "model_id": "067ecc4685a749218ba985d15eb22a8c",
       "version_major": 2,
       "version_minor": 0
      },
      "text/plain": [
       "Canvas(toolbar=Toolbar(toolitems=[('Home', 'Reset original view', 'home', 'home'), ('Back', 'Back to previous …"
      ]
     },
     "metadata": {},
     "output_type": "display_data"
    }
   ],
   "source": [
    "fig = plt.figure(figsize=(8,5))\n",
    "ax1 = plt.subplot2grid((1,6), (0,0), colspan=5)\n",
    "ax2 = plt.subplot2grid((1,6), (0,5), sharey=ax1)\n",
    "\n",
    "\n",
    "ax1.plot(z_range, lum_1uJy, label='1 $\\mu$Jy', color=colors[0], path_effects=pe1)\n",
    "ax1.plot(z_range, lum_10uJy, label='10 $\\mu$Jy', color=colors[1], path_effects=pe1)\n",
    "ax1.plot(z_range, lum_50uJy, label='50 $\\mu$Jy', color=colors[3], path_effects=pe1)\n",
    "ax1.plot(z_range, lum_FIRST, label='FIRST', color=colors[5], path_effects=pe1)\n",
    "ax1.plot(z_range, SFR_3000, label='3000M_sun/yr', color=colors[2], path_effects=pe1)\n",
    "ax1.fill_between(z_range, SFR_3000 - SFR_3000_e, SFR_3000 + SFR_3000_e, color=colors[2], fc=colors[2], alpha=0.3, zorder=6)\n",
    "gradient_fill(z_range, max_pow_sfr_fix + 3 * max_pow_sfr_fix_e, fill_color=colors[4], color=colors[4], label='SFR - fixed M', zorder=5, ax=ax1)\n",
    "ax1.plot(z_range, max_pow_sfr_fix, '-', color=colors[4], alpha=0.45)\n",
    "gradient_fill(z_range, max_pow_sfr + 3 * max_pow_sfr_e, fill_color=colors[3], color=colors[3], label='SFR - evolv. M', zorder=5, ax=ax1)\n",
    "ax1.plot(z_range, max_pow_sfr, '-', color=colors[3], alpha=0.45)\n",
    "ax1.set_xlabel('$z$', size=14, fontweight='bold')\n",
    "ax1.set_ylabel('$\\mathrm{L}_{1.4 \\mathrm{GHz}} [\\mathrm{W/Hz}]$', size=14, fontweight='bold')\n",
    "ax1.set_yscale('log')\n",
    "ax1.set_ylim((1e23, 1e29))\n",
    "ax1.set_xlim(left=-0.001, right=10)\n",
    "ax1.legend(loc=1, title=f'{alp_str}={alpha_used}', ncol=2, labelspacing=0.5, borderpad=0.5, columnspacing=0.5, handletextpad=0.5)\n",
    "\n",
    "vmin = np.log10(L_21cm.min())\n",
    "vmax = np.log10(L_21cm.max())\n",
    "bins = np.logspace(vmin, vmax, 75)\n",
    "#hist(L_21cm, bins=bins, orientation='horizontal', ax=ax2, histtype='stepfilled', alpha=0.9, color=dark_color, ec='k', lw=1.5, hatch='')\n",
    "#hist(int_14GHz_cosmos, bins=bins, orientation='horizontal', ax=ax2, histtype='stepfilled', alpha=0.6, color='C4', ec='k', lw=1.5, hatch='\\\\')\n",
    "#hist(int_14GHz_cosmos_x, bins=bins, orientation='horizontal', ax=ax2, histtype='stepfilled', alpha=0.6, color='C5', ec='k', lw=1.5, hatch='/')\n",
    "#hist(lum_cooper, bins=bins, orientation='horizontal', ax=ax2, histtype='stepfilled', alpha=0.6, color='C1', ec='k', lw=1.5, hatch='|')\n",
    "#hist(lum_owen, bins=bins, orientation='horizontal', ax=ax2, histtype='stepfilled', alpha=0.6, color='C3', ec='k', lw=1.5, hatch='|')\n",
    "#hist(lum_wold, bins=bins, orientation='horizontal', ax=ax2, histtype='stepfilled', alpha=0.6, color='C2', ec='k', lw=1.5, hatch='\\\\')\n",
    "ax2.set_yscale('log')\n",
    "ax2.set_xscale('log')\n",
    "ax2.set_xlabel('N', size=14)\n",
    "plt.setp(ax2.get_yticklabels(), visible=False)\n",
    "ax1.tick_params(which='both',top=True, right=True, direction='in')\n",
    "ax2.tick_params(which='both',top=True, right=True, direction='in', labelright=True)\n",
    "\n",
    "ax1.tick_params(axis='both', which='major', labelsize=14)\n",
    "ax2.tick_params(axis='both', which='major', labelsize=14)\n",
    "fig.tight_layout(w_pad=0.01)"
   ]
  },
  {
   "cell_type": "markdown",
   "metadata": {},
   "source": [
    "Now, only draw individual points from surveys or individual studies"
   ]
  },
  {
   "cell_type": "code",
   "execution_count": 30,
   "metadata": {},
   "outputs": [
    {
     "data": {
      "application/vnd.jupyter.widget-view+json": {
       "model_id": "3e871de609314db699e6a6d403c966d6",
       "version_major": 2,
       "version_minor": 0
      },
      "text/plain": [
       "Canvas(toolbar=Toolbar(toolitems=[('Home', 'Reset original view', 'home', 'home'), ('Back', 'Back to previous …"
      ]
     },
     "metadata": {},
     "output_type": "display_data"
    }
   ],
   "source": [
    "fig = plt.figure(figsize=(14,9))\n",
    "ax1 = plt.subplot2grid((1,6), (0,0), colspan=5)\n",
    "ax2 = plt.subplot2grid((1,6), (0,5), sharey=ax1)\n",
    "\n",
    "#ax1.scatter(sdss_milli['pipeline_redshift'][L_14GHz_filter], L_21cm, c=np.log10(sdss_milli['flux_20_cm'][L_14GHz_filter]), cmap='inferno_r', s=30, alpha=0.75, edgecolor='black', zorder=2)\n",
    "#cb = plt.colorbar()\n",
    "#cb.set_label('$\\log{(\\mathrm{F}_{1.4 \\mathrm{GHz}} / \\, \\mathrm{mJy})}$')\n",
    "ax1.plot(sdss_milli['pipeline_redshift'][L_14GHz_filter], L_21cm, color=dark_color, markeredgecolor='k', ms=10, zorder=2, marker='.', mew=0.65, ls='', alpha=0.6, label='FIRST+VLA')\n",
    "ax1.plot(redshift_cosmos, int_14GHz_cosmos, 'D', color='C4', label='COSMOS', markeredgecolor='k', ms=7, alpha=0.75)\n",
    "ax1.plot(redshift_cosmos_x, int_14GHz_cosmos_x, 's', color='C5', label='COSMOS+Xray', markeredgecolor='k', ms=6.75, alpha=0.75)\n",
    "ax1.plot(redshift_wold, lum_wold, '.', color='C2', label='Wold+2012', markeredgecolor='k', ms=15, alpha=0.75)\n",
    "ax1.plot(redshift_owen, lum_owen, '.', color='C3', label='Owen+2018', markeredgecolor='k', ms=15, alpha=0.75)\n",
    "ax1.plot(redshift_cooper, lum_cooper, 'h', color='C1', label='Cooper+2007', markeredgecolor='k', ms=8, alpha=0.75)\n",
    "#ax1.plot(high_z_zs, high_z_lum_14GHz, 'P', color=colors[3], markeredgecolor='k', ms=10, alpha=0.75, zorder=7)\n",
    "ax1.errorbar(high_z_zs, high_z_lum_14GHz, yerr=high_z_lum_14GHz_e, marker='P', ls='', color=colors[3], markersize=10, zorder=7, alpha=0.75, uplims=high_z_up_lim, elinewidth=2, mec='k', label='Radio QSO')\n",
    "for zs, lum, name in zip(high_z_zs, high_z_lum_14GHz, high_z_names):\n",
    "    if lum < 1e23: continue\n",
    "    elif lum == 0: continue\n",
    "    text_str = ax1.text(zs + 0.1, lum, name, fontsize=11, fontweight='roman', zorder=6)\n",
    "    text_str.set_path_effects([path_effects.Stroke(linewidth=4., foreground='white'), path_effects.Normal()])\n",
    "#ax1.plot(high_z_zs, high_z_lum_250, 'P', color=colors[4], markeredgecolor='k', ms=10, alpha=0.75, zorder=7)\n",
    "ax1.errorbar(high_z_zs, high_z_lum_250, yerr=high_z_lum_250GHz_e, marker='P', ls='', color=colors[4], markersize=10, zorder=7, alpha=0.75, uplims=high_z_up_lim, elinewidth=2, mec='k', label='mm QSO')\n",
    "for zs, lum, name in zip(high_z_zs, high_z_lum_250, high_z_names):\n",
    "    if lum < 1e23: continue\n",
    "    elif lum == 0: continue\n",
    "    text_str = ax1.text(zs + 0.1, lum, name, fontsize=11, fontweight='roman', zorder=6)\n",
    "    text_str.set_path_effects([path_effects.Stroke(linewidth=4., foreground='white'), path_effects.Normal()])\n",
    "#ax1.errorbar(indiv_zs, indiv_lum, yerr=indiv_lum_e, marker='*', ls='', color='C0', path_effects=pe1, markersize=15, zorder=7, alpha=0.75, uplims=indiv_up_lim, elinewidth=3)\n",
    "#for zs, lum, name in zip(indiv_zs, indiv_lum, indiv_names):\n",
    "#    if lum < 1e23: continue\n",
    "#    text_str = ax1.text(zs + 0.15, lum, name, fontsize=13, fontweight='roman', zorder=7)\n",
    "#    text_str.set_path_effects([path_effects.Stroke(linewidth=4., foreground='white'), path_effects.Normal()])\n",
    "ax1.set_xlabel('$z$', size=14)\n",
    "ax1.set_ylabel('$\\mathrm{L}_{1.4 \\mathrm{GHz}} [\\mathrm{W/Hz}]$', size=14)\n",
    "ax1.set_yscale('log')\n",
    "ax1.set_ylim((1e23, 1e29))\n",
    "ax1.set_xlim(left=-0.001, right=10)\n",
    "ax1.legend(loc=1, title=f'{alp_str}={alpha_used}', ncol=2, labelspacing=0.5, borderpad=0.5, columnspacing=0.5, handletextpad=0.5)\n",
    "\n",
    "vmin = np.log10(L_21cm.min())\n",
    "vmax = np.log10(L_21cm.max())\n",
    "bins = np.logspace(vmin, vmax, 75)\n",
    "hist(L_21cm, bins=bins, orientation='horizontal', ax=ax2, histtype='stepfilled', alpha=0.9, color=dark_color, ec='k', lw=1.5, hatch='')\n",
    "hist(int_14GHz_cosmos, bins=bins, orientation='horizontal', ax=ax2, histtype='stepfilled', alpha=0.6, color='C4', ec='k', lw=1.5, hatch='\\\\')\n",
    "hist(int_14GHz_cosmos_x, bins=bins, orientation='horizontal', ax=ax2, histtype='stepfilled', alpha=0.6, color='C5', ec='k', lw=1.5, hatch='/')\n",
    "hist(lum_cooper, bins=bins, orientation='horizontal', ax=ax2, histtype='stepfilled', alpha=0.6, color='C1', ec='k', lw=1.5, hatch='|')\n",
    "hist(lum_owen, bins=bins, orientation='horizontal', ax=ax2, histtype='stepfilled', alpha=0.6, color='C3', ec='k', lw=1.5, hatch='|')\n",
    "hist(lum_wold, bins=bins, orientation='horizontal', ax=ax2, histtype='stepfilled', alpha=0.6, color='C2', ec='k', lw=1.5, hatch='\\\\')\n",
    "ax2.set_yscale('log')\n",
    "ax2.set_xscale('log')\n",
    "ax2.set_xlabel('N', size=14)\n",
    "plt.setp(ax2.get_yticklabels(), visible=False)\n",
    "ax1.tick_params(which='both',top=True, right=True, direction='in')\n",
    "ax2.tick_params(which='both',top=True, right=True, direction='in', labelright=True)\n",
    "\n",
    "ax1.tick_params(axis='both', which='major', labelsize=14)\n",
    "ax2.tick_params(axis='both', which='major', labelsize=14)\n",
    "fig.tight_layout(w_pad=0.01)"
   ]
  },
  {
   "cell_type": "markdown",
   "metadata": {},
   "source": [
    "Finally, plot all information together"
   ]
  },
  {
   "cell_type": "code",
   "execution_count": 31,
   "metadata": {},
   "outputs": [
    {
     "data": {
      "application/vnd.jupyter.widget-view+json": {
       "model_id": "2b5ca3032dbd48ecaa935e525f7c9614",
       "version_major": 2,
       "version_minor": 0
      },
      "text/plain": [
       "Canvas(toolbar=Toolbar(toolitems=[('Home', 'Reset original view', 'home', 'home'), ('Back', 'Back to previous …"
      ]
     },
     "metadata": {},
     "output_type": "display_data"
    }
   ],
   "source": [
    "fig = plt.figure(figsize=(14,9))\n",
    "ax1 = plt.subplot2grid((1,6), (0,0), colspan=5)\n",
    "ax2 = plt.subplot2grid((1,6), (0,5), sharey=ax1)\n",
    "\n",
    "#ax1.scatter(sdss_milli['pipeline_redshift'][L_14GHz_filter], L_21cm, c=np.log10(sdss_milli['flux_20_cm'][L_14GHz_filter]), cmap='inferno_r', s=30, alpha=0.75, edgecolor='black', zorder=2)\n",
    "#cb = plt.colorbar()\n",
    "#cb.set_label('$\\log{(\\mathrm{F}_{1.4 \\mathrm{GHz}} / \\, \\mathrm{mJy})}$')\n",
    "ax1.plot(sdss_milli['pipeline_redshift'][L_14GHz_filter], L_21cm, color=dark_color, markeredgecolor='k', ms=10, zorder=2, marker='.', mew=0.65, ls='', alpha=0.6, label='FIRST+VLA')\n",
    "ax1.plot(redshift_cosmos, int_14GHz_cosmos, 'D', color='C4', label='COSMOS', markeredgecolor='k', ms=7, alpha=0.75)\n",
    "ax1.plot(redshift_cosmos_x, int_14GHz_cosmos_x, 's', color='C5', label='COSMOS+Xray', markeredgecolor='k', ms=6.75, alpha=0.75)\n",
    "ax1.plot(redshift_wold, lum_wold, '.', color='C2', label='Wold+2012', markeredgecolor='k', ms=15, alpha=0.75)\n",
    "ax1.plot(redshift_owen, lum_owen, '.', color='C3', label='Owen+2018', markeredgecolor='k', ms=15, alpha=0.75)\n",
    "ax1.plot(redshift_cooper, lum_cooper, 'h', color='C1', label='Cooper+2007', markeredgecolor='k', ms=8, alpha=0.75)\n",
    "#ax1.plot(high_z_zs, high_z_lum_14GHz, 'P', color=colors[3], markeredgecolor='k', ms=10, alpha=0.75, zorder=7)\n",
    "ax1.errorbar(high_z_zs, high_z_lum_14GHz, yerr=high_z_lum_14GHz_e, marker='P', ls='', color=colors[3], markersize=10, zorder=7, alpha=0.75, uplims=high_z_up_lim, elinewidth=2, mec='k', label='Radio QSO')\n",
    "#for zs, lum, name in zip(high_z_zs, high_z_lum_14GHz, high_z_names):\n",
    "#    if lum < 1e23: continue\n",
    "#    elif lum == 0: continue\n",
    "#    text_str = ax1.text(zs + 0.1, lum, name, fontsize=11, fontweight='roman', zorder=6)\n",
    "#    text_str.set_path_effects([path_effects.Stroke(linewidth=4., foreground='white'), path_effects.Normal()])\n",
    "#ax1.plot(high_z_zs, high_z_lum_250, 'P', color=colors[4], markeredgecolor='k', ms=10, alpha=0.75, zorder=7)\n",
    "ax1.errorbar(high_z_zs, high_z_lum_250, yerr=high_z_lum_250GHz_e, marker='P', ls='', color=colors[4], markersize=10, zorder=7, alpha=0.75, uplims=high_z_up_lim, elinewidth=2, mec='k', label='mm QSO')\n",
    "#for zs, lum, name in zip(high_z_zs, high_z_lum_250, high_z_names):\n",
    "#    if lum < 1e23: continue\n",
    "#    elif lum == 0: continue\n",
    "#    text_str = ax1.text(zs + 0.1, lum, name, fontsize=11, fontweight='roman', zorder=6)\n",
    "#    text_str.set_path_effects([path_effects.Stroke(linewidth=4., foreground='white'), path_effects.Normal()])\n",
    "ax1.plot(z_range, lum_1uJy, label='1 $\\mu$Jy', color=colors[0], path_effects=pe1)\n",
    "ax1.plot(z_range, lum_10uJy, label='10 $\\mu$Jy', color=colors[1], path_effects=pe1)\n",
    "ax1.plot(z_range, lum_50uJy, label='50 $\\mu$Jy', color=colors[3], path_effects=pe1)\n",
    "ax1.plot(z_range, lum_FIRST, label='FIRST', color=colors[5], path_effects=pe1)\n",
    "ax1.plot(z_range, SFR_3000, label='3000M_sun/yr', color=colors[2], path_effects=pe1)\n",
    "ax1.fill_between(z_range, SFR_3000 - SFR_3000_e, SFR_3000 + SFR_3000_e, color=colors[2], fc=colors[2], alpha=0.3, zorder=6)\n",
    "gradient_fill(z_range, max_pow_sfr_fix + 3 * max_pow_sfr_fix_e, fill_color=colors[4], color=colors[4], label='SFR - fixed M', zorder=5, ax=ax1)\n",
    "ax1.plot(z_range, max_pow_sfr_fix, '-', color=colors[4], alpha=0.45)\n",
    "gradient_fill(z_range, max_pow_sfr + 3 * max_pow_sfr_e, fill_color=colors[3], color=colors[3], label='SFR - evolv. M', zorder=5, ax=ax1)\n",
    "ax1.plot(z_range, max_pow_sfr, '-', color=colors[3], alpha=0.45)\n",
    "ax1.set_xlabel('$z$', size=14)\n",
    "ax1.set_ylabel('$\\mathrm{L}_{1.4 \\mathrm{GHz}} [\\mathrm{W/Hz}]$', size=14)\n",
    "ax1.set_yscale('log')\n",
    "ax1.set_ylim((1e23, 1e29))\n",
    "ax1.set_xlim(left=-0.001, right=10)\n",
    "ax1.legend(loc=1, title=f'{alp_str}={alpha_used}', ncol=2, labelspacing=0.5, borderpad=0.5, columnspacing=0.5, handletextpad=0.5)\n",
    "vmin = np.log10(L_21cm.min())\n",
    "vmax = np.log10(L_21cm.max())\n",
    "bins = np.logspace(vmin, vmax, 75)\n",
    "hist(L_21cm, bins=bins, orientation='horizontal', ax=ax2, histtype='stepfilled', alpha=0.9, color=dark_color, ec='k', lw=1.5, hatch='')\n",
    "hist(int_14GHz_cosmos, bins=bins, orientation='horizontal', ax=ax2, histtype='stepfilled', alpha=0.6, color='C4', ec='k', lw=1.5, hatch='\\\\')\n",
    "hist(int_14GHz_cosmos_x, bins=bins, orientation='horizontal', ax=ax2, histtype='stepfilled', alpha=0.6, color='C5', ec='k', lw=1.5, hatch='/')\n",
    "hist(lum_cooper, bins=bins, orientation='horizontal', ax=ax2, histtype='stepfilled', alpha=0.6, color='C1', ec='k', lw=1.5, hatch='|')\n",
    "hist(lum_owen, bins=bins, orientation='horizontal', ax=ax2, histtype='stepfilled', alpha=0.6, color='C3', ec='k', lw=1.5, hatch='|')\n",
    "hist(lum_wold, bins=bins, orientation='horizontal', ax=ax2, histtype='stepfilled', alpha=0.6, color='C2', ec='k', lw=1.5, hatch='\\\\')\n",
    "ax2.set_yscale('log')\n",
    "ax2.set_xscale('log')\n",
    "ax2.set_xlabel('N', size=14)\n",
    "plt.setp(ax2.get_yticklabels(), visible=False)\n",
    "ax1.tick_params(which='both',top=True, right=True, direction='in')\n",
    "ax2.tick_params(which='both',top=True, right=True, direction='in', labelright=True)\n",
    "\n",
    "ax1.tick_params(axis='both', which='major', labelsize=14)\n",
    "ax2.tick_params(axis='both', which='major', labelsize=14)\n",
    "fig.tight_layout(w_pad=0.01)"
   ]
  },
  {
   "cell_type": "markdown",
   "metadata": {},
   "source": [
    "Create a plot showing, in addition, the SFR values."
   ]
  },
  {
   "cell_type": "code",
   "execution_count": 32,
   "metadata": {},
   "outputs": [
    {
     "data": {
      "application/vnd.jupyter.widget-view+json": {
       "model_id": "901d05ef79fc4e34b1628ad21ee07886",
       "version_major": 2,
       "version_minor": 0
      },
      "text/plain": [
       "Canvas(toolbar=Toolbar(toolitems=[('Home', 'Reset original view', 'home', 'home'), ('Back', 'Back to previous …"
      ]
     },
     "metadata": {},
     "output_type": "display_data"
    }
   ],
   "source": [
    "fig = plt.figure(figsize=(14,9))\n",
    "ax1 = fig.add_subplot(111)\n",
    "\n",
    "\n",
    "ax1.plot(sdss_milli['pipeline_redshift'][L_14GHz_filter], L_21cm, color=dark_color, markeredgecolor='k', ms=10, zorder=2, marker='.', mew=0.65, ls='', alpha=0.6, label='FIRST+VLA')\n",
    "ax1.plot(redshift_cosmos, int_14GHz_cosmos, 'D', color='C4', label='COSMOS', markeredgecolor='k', ms=7, alpha=0.75)\n",
    "ax1.plot(redshift_cosmos_x, int_14GHz_cosmos_x, 's', color='C5', label='COSMOS+Xray', markeredgecolor='k', ms=6.75, alpha=0.75)\n",
    "ax1.plot(redshift_wold, lum_wold, '.', color='C2', label='Wold+2012', markeredgecolor='k', ms=15, alpha=0.75)\n",
    "ax1.plot(redshift_owen, lum_owen, '.', color='C3', label='Owen+2018', markeredgecolor='k', ms=15, alpha=0.75)\n",
    "ax1.plot(redshift_cooper, lum_cooper, 'h', color='C1', label='Cooper+2007', markeredgecolor='k', ms=8, alpha=0.75)\n",
    "#ax1.plot(high_z_zs, high_z_lum_14GHz, 'P', color=colors[3], markeredgecolor='k', ms=10, alpha=0.75, zorder=7)\n",
    "ax1.errorbar(high_z_zs, high_z_lum_14GHz, yerr=high_z_lum_14GHz_e, marker='P', ls='', color=colors[3], markersize=10, zorder=7, alpha=0.75, uplims=high_z_up_lim, elinewidth=2, mec='k', label='Radio QSO')\n",
    "#for zs, lum, name in zip(high_z_zs, high_z_lum_14GHz, high_z_names):\n",
    "#    if lum < 1e23: continue\n",
    "#    elif lum == 0: continue\n",
    "#    text_str = ax1.text(zs + 0.1, lum, name, fontsize=11, fontweight='roman', zorder=6)\n",
    "#    text_str.set_path_effects([path_effects.Stroke(linewidth=4., foreground='white'), path_effects.Normal()])\n",
    "#ax1.plot(high_z_zs, high_z_lum_250, 'P', color=colors[4], markeredgecolor='k', ms=10, alpha=0.75, zorder=7)\n",
    "ax1.errorbar(high_z_zs, high_z_lum_250, yerr=high_z_lum_250GHz_e, marker='P', ls='', color=colors[4], markersize=10, zorder=7, alpha=0.75, uplims=high_z_up_lim, elinewidth=2, mec='k', label='mm QSO')\n",
    "#for zs, lum, name in zip(high_z_zs, high_z_lum_250, high_z_names):\n",
    "#    if lum < 1e23: continue\n",
    "#    elif lum == 0: continue\n",
    "#    text_str = ax1.text(zs + 0.1, lum, name, fontsize=11, fontweight='roman', zorder=6)\n",
    "#    text_str.set_path_effects([path_effects.Stroke(linewidth=4., foreground='white'), path_effects.Normal()])\n",
    "ax1.plot(z_range, lum_1uJy, label='1 $\\mu$Jy', color=colors[0], path_effects=pe1)\n",
    "ax1.plot(z_range, lum_10uJy, label='10 $\\mu$Jy', color=colors[1], path_effects=pe1)\n",
    "ax1.plot(z_range, lum_50uJy, label='50 $\\mu$Jy', color=colors[3], path_effects=pe1)\n",
    "ax1.plot(z_range, lum_FIRST, label='FIRST', color=colors[5], path_effects=pe1)\n",
    "ax1.plot(z_range, SFR_3000, label='3000M_sun/yr', color=colors[2], path_effects=pe1)\n",
    "ax1.fill_between(z_range, SFR_3000 - SFR_3000_e, SFR_3000 + SFR_3000_e, color=colors[2], fc=colors[2], alpha=0.3, zorder=6)\n",
    "gradient_fill(z_range, max_pow_sfr_fix + 3 * max_pow_sfr_fix_e, fill_color=colors[4], color=colors[4], label='SFR - fixed M', zorder=5, ax=ax1)\n",
    "ax1.plot(z_range, max_pow_sfr_fix, '-', color=colors[4], alpha=0.45)\n",
    "gradient_fill(z_range, max_pow_sfr + 3 * max_pow_sfr_e, fill_color=colors[3], color=colors[3], label='SFR - evolv. M', zorder=5, ax=ax1)\n",
    "ax1.plot(z_range, max_pow_sfr, '-', color=colors[3], alpha=0.45)\n",
    "ax1.set_xlabel('$z$', size=14)\n",
    "ax1.set_ylabel('$\\mathrm{L}_{1.4 \\mathrm{GHz}} [\\mathrm{W/Hz}]$', size=14)\n",
    "ax1.set_yscale('log')\n",
    "ax1.set_ylim((1e23, 1e29))\n",
    "ax1.set_xlim(left=-0.001, right=10)\n",
    "ax1.legend(loc=1, title=f'{alp_str}={alpha_used}', ncol=2, labelspacing=0.5, borderpad=0.5, columnspacing=0.5, handletextpad=0.5)\n",
    "vmin = np.log10(L_21cm.min())\n",
    "vmax = np.log10(L_21cm.max())\n",
    "bins = np.logspace(vmin, vmax, 75)\n",
    "hist(L_21cm, bins=bins, orientation='horizontal', ax=ax2, histtype='stepfilled', alpha=0.9, color=dark_color, ec='k', lw=1.5, hatch='')\n",
    "hist(int_14GHz_cosmos, bins=bins, orientation='horizontal', ax=ax2, histtype='stepfilled', alpha=0.6, color='C4', ec='k', lw=1.5, hatch='\\\\')\n",
    "hist(int_14GHz_cosmos_x, bins=bins, orientation='horizontal', ax=ax2, histtype='stepfilled', alpha=0.6, color='C5', ec='k', lw=1.5, hatch='/')\n",
    "hist(lum_cooper, bins=bins, orientation='horizontal', ax=ax2, histtype='stepfilled', alpha=0.6, color='C1', ec='k', lw=1.5, hatch='|')\n",
    "hist(lum_owen, bins=bins, orientation='horizontal', ax=ax2, histtype='stepfilled', alpha=0.6, color='C3', ec='k', lw=1.5, hatch='|')\n",
    "hist(lum_wold, bins=bins, orientation='horizontal', ax=ax2, histtype='stepfilled', alpha=0.6, color='C2', ec='k', lw=1.5, hatch='\\\\')\n",
    "\n",
    "ax2 = ax1.twinx()\n",
    "ax2.set_ylabel('$\\mathrm{SFR}\\, [\\mathrm{M}_{\\odot} \\mathrm{yr}^{-1}]$', size=14)\n",
    "ax2.set_ylim((1e23 * 5.9e-22, 1e29 * 5.9e-22))\n",
    "ax2.set_yscale('log')\n",
    "ax2.figure.canvas.draw()\n",
    "\n",
    "#plt.setp(ax2.get_yticklabels(), visible=False)\n",
    "ax1.tick_params(which='both',top=True, right=False, direction='in')\n",
    "ax2.tick_params(which='both',top=True, right=True, direction='in', labelright=True)\n",
    "\n",
    "ax1.tick_params(axis='both', which='major', labelsize=14)\n",
    "ax2.tick_params(axis='both', which='major', labelsize=14)\n",
    "fig.tight_layout(w_pad=0.01)"
   ]
  },
  {
   "cell_type": "code",
   "execution_count": null,
   "metadata": {},
   "outputs": [],
   "source": []
  }
 ],
 "metadata": {
  "kernelspec": {
   "display_name": "Python 3",
   "language": "python",
   "name": "python3"
  },
  "language_info": {
   "codemirror_mode": {
    "name": "ipython",
    "version": 3
   },
   "file_extension": ".py",
   "mimetype": "text/x-python",
   "name": "python",
   "nbconvert_exporter": "python",
   "pygments_lexer": "ipython3",
   "version": "3.7.6"
  }
 },
 "nbformat": 4,
 "nbformat_minor": 4
}
